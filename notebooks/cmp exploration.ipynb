{
 "cells": [
  {
   "cell_type": "markdown",
   "metadata": {},
   "source": [
    "# Spatial Coincidental Match Probability Exploration"
   ]
  },
  {
   "cell_type": "code",
   "execution_count": 1,
   "metadata": {},
   "outputs": [],
   "source": [
    "import numpy as np\n",
    "import pandas as pd\n",
    "import os\n",
    "import sys\n",
    "import pickle as pkl\n",
    "import matplotlib.pyplot as plt\n",
    "\n",
    "sys.path.append('/Users/cmg/dev/spatial-assocr/kde')\n",
    "from location_project import kde_2d  # adaptive bw KDE \n",
    "%load_ext autoreload\n",
    "%autoreload 2 # auto reload changes to kde code for faster prototyping\n",
    "\n",
    "%matplotlib inline\n",
    "sys.setrecursionlimit(10000)"
   ]
  },
  {
   "cell_type": "markdown",
   "metadata": {},
   "source": [
    "## Load & format filtered data"
   ]
  },
  {
   "cell_type": "code",
   "execution_count": 2,
   "metadata": {},
   "outputs": [
    {
     "data": {
      "text/html": [
       "<div>\n",
       "<style scoped>\n",
       "    .dataframe tbody tr th:only-of-type {\n",
       "        vertical-align: middle;\n",
       "    }\n",
       "\n",
       "    .dataframe tbody tr th {\n",
       "        vertical-align: top;\n",
       "    }\n",
       "\n",
       "    .dataframe thead th {\n",
       "        text-align: right;\n",
       "    }\n",
       "</style>\n",
       "<table border=\"1\" class=\"dataframe\">\n",
       "  <thead>\n",
       "    <tr style=\"text-align: right;\">\n",
       "      <th></th>\n",
       "      <th>id</th>\n",
       "      <th>m</th>\n",
       "      <th>lon</th>\n",
       "      <th>lat</th>\n",
       "    </tr>\n",
       "  </thead>\n",
       "  <tbody>\n",
       "    <tr>\n",
       "      <th>0</th>\n",
       "      <td>11.0</td>\n",
       "      <td>a</td>\n",
       "      <td>-117.92895</td>\n",
       "      <td>33.61891</td>\n",
       "    </tr>\n",
       "    <tr>\n",
       "      <th>1</th>\n",
       "      <td>11.0</td>\n",
       "      <td>a</td>\n",
       "      <td>-117.67199</td>\n",
       "      <td>33.60002</td>\n",
       "    </tr>\n",
       "    <tr>\n",
       "      <th>2</th>\n",
       "      <td>11.0</td>\n",
       "      <td>a</td>\n",
       "      <td>-117.92895</td>\n",
       "      <td>33.61891</td>\n",
       "    </tr>\n",
       "    <tr>\n",
       "      <th>3</th>\n",
       "      <td>11.0</td>\n",
       "      <td>a</td>\n",
       "      <td>-117.67199</td>\n",
       "      <td>33.60002</td>\n",
       "    </tr>\n",
       "    <tr>\n",
       "      <th>4</th>\n",
       "      <td>11.0</td>\n",
       "      <td>a</td>\n",
       "      <td>-117.67199</td>\n",
       "      <td>33.60002</td>\n",
       "    </tr>\n",
       "  </tbody>\n",
       "</table>\n",
       "</div>"
      ],
      "text/plain": [
       "     id  m        lon       lat\n",
       "0  11.0  a -117.92895  33.61891\n",
       "1  11.0  a -117.67199  33.60002\n",
       "2  11.0  a -117.92895  33.61891\n",
       "3  11.0  a -117.67199  33.60002\n",
       "4  11.0  a -117.67199  33.60002"
      ]
     },
     "execution_count": 2,
     "metadata": {},
     "output_type": "execute_result"
    }
   ],
   "source": [
    "# read in the filtered data\n",
    "filepath = os.path.join(\"..\", \"data\", \"mpp_month0a_month1b_n50.csv\")\n",
    "mpp = pd.read_csv(filepath)\n",
    "mpp.head()"
   ]
  },
  {
   "cell_type": "code",
   "execution_count": 3,
   "metadata": {},
   "outputs": [
    {
     "data": {
      "text/html": [
       "<div>\n",
       "<style scoped>\n",
       "    .dataframe tbody tr th:only-of-type {\n",
       "        vertical-align: middle;\n",
       "    }\n",
       "\n",
       "    .dataframe tbody tr th {\n",
       "        vertical-align: top;\n",
       "    }\n",
       "\n",
       "    .dataframe thead th {\n",
       "        text-align: right;\n",
       "    }\n",
       "</style>\n",
       "<table border=\"1\" class=\"dataframe\">\n",
       "  <thead>\n",
       "    <tr style=\"text-align: right;\">\n",
       "      <th></th>\n",
       "      <th>id</th>\n",
       "      <th>lon</th>\n",
       "      <th>lat</th>\n",
       "    </tr>\n",
       "  </thead>\n",
       "  <tbody>\n",
       "    <tr>\n",
       "      <th>0</th>\n",
       "      <td>11.0</td>\n",
       "      <td>-117.92895</td>\n",
       "      <td>33.61891</td>\n",
       "    </tr>\n",
       "    <tr>\n",
       "      <th>1</th>\n",
       "      <td>11.0</td>\n",
       "      <td>-117.67199</td>\n",
       "      <td>33.60002</td>\n",
       "    </tr>\n",
       "    <tr>\n",
       "      <th>2</th>\n",
       "      <td>11.0</td>\n",
       "      <td>-117.92895</td>\n",
       "      <td>33.61891</td>\n",
       "    </tr>\n",
       "    <tr>\n",
       "      <th>3</th>\n",
       "      <td>11.0</td>\n",
       "      <td>-117.67199</td>\n",
       "      <td>33.60002</td>\n",
       "    </tr>\n",
       "    <tr>\n",
       "      <th>4</th>\n",
       "      <td>11.0</td>\n",
       "      <td>-117.67199</td>\n",
       "      <td>33.60002</td>\n",
       "    </tr>\n",
       "  </tbody>\n",
       "</table>\n",
       "</div>"
      ],
      "text/plain": [
       "     id        lon       lat\n",
       "0  11.0 -117.92895  33.61891\n",
       "1  11.0 -117.67199  33.60002\n",
       "2  11.0 -117.92895  33.61891\n",
       "3  11.0 -117.67199  33.60002\n",
       "4  11.0 -117.67199  33.60002"
      ]
     },
     "execution_count": 3,
     "metadata": {},
     "output_type": "execute_result"
    }
   ],
   "source": [
    "# reorder the columns... kde_2d expects [id, lon, lat]\n",
    "data = mpp[['id', 'lon', 'lat']]\n",
    "data.head()"
   ]
  },
  {
   "cell_type": "code",
   "execution_count": 4,
   "metadata": {},
   "outputs": [
    {
     "data": {
      "text/plain": [
       "array([[ 1.1000000e+01, -1.1792895e+02,  3.3618910e+01],\n",
       "       [ 1.1000000e+01, -1.1767199e+02,  3.3600020e+01],\n",
       "       [ 1.1000000e+01, -1.1792895e+02,  3.3618910e+01],\n",
       "       ...,\n",
       "       [ 1.7282000e+04, -1.1795213e+02,  3.3684750e+01],\n",
       "       [ 1.7282000e+04, -1.1795213e+02,  3.3684750e+01],\n",
       "       [ 1.7282000e+04, -1.1795197e+02,  3.3684750e+01]])"
      ]
     },
     "execution_count": 4,
     "metadata": {},
     "output_type": "execute_result"
    }
   ],
   "source": [
    "# convert the pandas data frame to array of arrays\n",
    "# i.e., <np.array [[user_id, lon, lat], ... ] >\n",
    "df = data.values\n",
    "df"
   ]
  },
  {
   "cell_type": "markdown",
   "metadata": {},
   "source": [
    "## Fit an adaptive bandwidth KDE to the data\n",
    "Do this for the entire sample (i.e., a population model). "
   ]
  },
  {
   "cell_type": "code",
   "execution_count": 5,
   "metadata": {},
   "outputs": [],
   "source": [
    "# learn the bandwidth for each point & save to file (it's expensive)\n",
    "filepath = os.path.join(\"..\", \"data\", \"bw_pop_k10_month0a_month1b_n50.npy\")\n",
    "# KM_TO_LON = 0.010615\n",
    "# KM_TO_LAT = 0.008989\n",
    "# bw_pop = kde_2d._learn_nearest_neighbors_bandwidth(\n",
    "#     df[:, 1:3], k=10, lon_to_km=KM_TO_LON, lat_to_km=KM_TO_LAT\n",
    "# )\n",
    "# np.save(filepath, bw_pop)\n",
    "bw_pop = np.load(filepath)"
   ]
  },
  {
   "cell_type": "code",
   "execution_count": 6,
   "metadata": {},
   "outputs": [
    {
     "data": {
      "text/plain": [
       "array([[ 1.10000000e+01, -1.17928950e+02,  3.36189100e+01,\n",
       "         1.00000000e-03,  1.00000000e+00],\n",
       "       [ 1.10000000e+01, -1.17671990e+02,  3.36000200e+01,\n",
       "         1.00000000e-03,  1.00000000e+00],\n",
       "       [ 1.10000000e+01, -1.17928950e+02,  3.36189100e+01,\n",
       "         1.00000000e-03,  1.00000000e+00],\n",
       "       ...,\n",
       "       [ 1.72820000e+04, -1.17952130e+02,  3.36847500e+01,\n",
       "         2.18804089e-03,  1.00000000e+00],\n",
       "       [ 1.72820000e+04, -1.17952130e+02,  3.36847500e+01,\n",
       "         2.18804089e-03,  1.00000000e+00],\n",
       "       [ 1.72820000e+04, -1.17951970e+02,  3.36847500e+01,\n",
       "         6.56412268e-03,  1.00000000e+00]])"
      ]
     },
     "execution_count": 6,
     "metadata": {},
     "output_type": "execute_result"
    }
   ],
   "source": [
    "# format the data for the KDE class; equally weight points\n",
    "# <np.array [[user_id, lon, lat, bw, weight], ... ] >\n",
    "pop = np.append(df, np.reshape(bw_pop, (len(df), 1)), 1)\n",
    "pop = np.append(pop, np.ones((len(df), 1)), 1)\n",
    "\n",
    "# create the KDE\n",
    "kde_pop = kde_2d.KDE(pop)"
   ]
  },
  {
   "cell_type": "code",
   "execution_count": 8,
   "metadata": {},
   "outputs": [
    {
     "data": {
      "text/plain": [
       "18.806669724706385"
      ]
     },
     "execution_count": 8,
     "metadata": {},
     "output_type": "execute_result"
    }
   ],
   "source": [
    "# compute the log pdf for a given point\n",
    "# < np.array [lon, lat] >\n",
    "kde_pop.log_pdf(df[0][1:])"
   ]
  },
  {
   "cell_type": "code",
   "execution_count": 11,
   "metadata": {},
   "outputs": [
    {
     "data": {
      "text/plain": [
       "[-117.8870705441304, 33.69372231153212]"
      ]
     },
     "execution_count": 11,
     "metadata": {},
     "output_type": "execute_result"
    }
   ],
   "source": [
    "# sample from the KDE\n",
    "# must pass in the data to do so b/c its a nonparametric model\n",
    "kde_pop.sample_from_kde(pop)"
   ]
  },
  {
   "cell_type": "code",
   "execution_count": null,
   "metadata": {},
   "outputs": [],
   "source": []
  }
 ],
 "metadata": {
  "kernelspec": {
   "display_name": "Python 2",
   "language": "python",
   "name": "python2"
  },
  "language_info": {
   "codemirror_mode": {
    "name": "ipython",
    "version": 2
   },
   "file_extension": ".py",
   "mimetype": "text/x-python",
   "name": "python",
   "nbconvert_exporter": "python",
   "pygments_lexer": "ipython2",
   "version": "2.7.15"
  }
 },
 "nbformat": 4,
 "nbformat_minor": 2
}
