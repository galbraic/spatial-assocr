{
 "cells": [
  {
   "cell_type": "markdown",
   "metadata": {},
   "source": [
    "### Setup notebook paramaters"
   ]
  },
  {
   "cell_type": "code",
   "execution_count": 1,
   "metadata": {},
   "outputs": [
    {
     "data": {
      "text/html": [
       "        <script type=\"text/javascript\">\n",
       "        window.PlotlyConfig = {MathJaxConfig: 'local'};\n",
       "        if (window.MathJax) {MathJax.Hub.Config({SVG: {font: \"STIX-Web\"}});}\n",
       "        if (typeof require !== 'undefined') {\n",
       "        require.undef(\"plotly\");\n",
       "        requirejs.config({\n",
       "            paths: {\n",
       "                'plotly': ['https://cdn.plot.ly/plotly-latest.min']\n",
       "            }\n",
       "        });\n",
       "        require(['plotly'], function(Plotly) {\n",
       "            window._Plotly = Plotly;\n",
       "        });\n",
       "        }\n",
       "        </script>\n",
       "        "
      ]
     },
     "metadata": {},
     "output_type": "display_data"
    }
   ],
   "source": [
    "import numpy as np\n",
    "import pandas as pd\n",
    "import os\n",
    "import sys\n",
    "\n",
    "from kde.location_project.kde_2d import (\n",
    "    kdnearest, \n",
    "    learn_nearest_neighbors_bandwidth, \n",
    "    plot_kde,\n",
    "    sample_from_kde\n",
    ")\n",
    "from kde.location_project.cmp import (\n",
    "    calc_cmp,\n",
    "    plot_scatter\n",
    ")\n",
    "from emd import emd\n",
    "\n",
    "import matplotlib.pyplot as plt\n",
    "import plotly\n",
    "from plotly.offline import (\n",
    "    download_plotlyjs, init_notebook_mode, plot, iplot\n",
    ")\n",
    "import plotly.graph_objs as go\n",
    "import seaborn as sns\n",
    "%matplotlib inline\n",
    "init_notebook_mode(connected=True)\n",
    "\n",
    "sys.setrecursionlimit(10000)\n",
    "# # turn off SettingWithCopyWarning\n",
    "# pd.options.mode.chained_assignment = None \n",
    "\n",
    "%load_ext autoreload\n",
    "%autoreload 2\n",
    "\n",
    "np.random.seed(1234)\n",
    "directory = os.path.join(\"..\", \"data\") "
   ]
  },
  {
   "cell_type": "markdown",
   "metadata": {},
   "source": [
    "# Earth Mover's Distance\n",
    "\n",
    "## Explore on simulated data"
   ]
  },
  {
   "cell_type": "code",
   "execution_count": 2,
   "metadata": {
    "scrolled": true
   },
   "outputs": [
    {
     "data": {
      "image/png": "[encoded data removed]",
      "text/plain": [
       "<Figure size 432x288 with 1 Axes>"
      ]
     },
     "metadata": {
      "needs_background": "light"
     },
     "output_type": "display_data"
    }
   ],
   "source": [
    "from emd import emd\n",
    "\n",
    "X = np.array([[1,2], [1,4], [2,3]])\n",
    "X_wts = np.atleast_2d(np.array([0.2, 0.3, 0.5])).T\n",
    "Y = np.array([[1,3], [2,2], [2,4]])\n",
    "Y_wts = np.atleast_2d(np.array([0.3, 0.6, 0.1])).T\n",
    "\n",
    "# EMD is symmetric\n",
    "assert(emd(X, Y, X_weights=X_wts, Y_weights=Y_wts) \\\n",
    "    == emd(Y, X, X_weights=Y_wts, Y_weights=X_wts))\n",
    "\n",
    "# plot it\n",
    "plt.scatter(X[:,0], X[:,1], s=X_wts*1000, c='red')\n",
    "plt.scatter(Y[:,0], Y[:,1], s=Y_wts*1000, c='blue')\n",
    "plt.title(\"EMD: {}\".format(emd(X, Y, X_weights=X_wts, Y_weights=Y_wts)))\n",
    "plt.show()"
   ]
  },
  {
   "cell_type": "markdown",
   "metadata": {},
   "source": [
    "### Simulate from a 2d normal & add noise for second point pattern\n",
    "\n",
    "EMD scales linearly as the distance between points increases."
   ]
  },
  {
   "cell_type": "code",
   "execution_count": 3,
   "metadata": {},
   "outputs": [
    {
     "data": {
      "image/png": "[encoded data removed]",
      "text/plain": [
       "<Figure size 432x288 with 1 Axes>"
      ]
     },
     "metadata": {
      "needs_background": "light"
     },
     "output_type": "display_data"
    }
   ],
   "source": [
    "X = np.random.multivariate_normal(\n",
    "    mean=[0, 0],\n",
    "    cov=[[1, 0], [0, 1]],\n",
    "    size=20\n",
    ")\n",
    "eps = 0.001\n",
    "Y = X + np.random.multivariate_normal(\n",
    "    mean=[0, 0],\n",
    "    cov=[[eps, 0], [0, eps]],\n",
    "    size=20\n",
    ")\n",
    "plt.scatter(X[:,0], X[:,1], c='red')\n",
    "plt.scatter(Y[:,0], Y[:,1], c='blue')\n",
    "plt.title(\"$\\epsilon$={}, EMD={}\".format(eps, round(emd(X, Y),5)))\n",
    "plt.show()"
   ]
  },
  {
   "cell_type": "code",
   "execution_count": 4,
   "metadata": {
    "scrolled": true
   },
   "outputs": [
    {
     "data": {
      "image/png": "[encoded data removed]",
      "text/plain": [
       "<Figure size 432x288 with 1 Axes>"
      ]
     },
     "metadata": {
      "needs_background": "light"
     },
     "output_type": "display_data"
    }
   ],
   "source": [
    "eps = 0.1\n",
    "Y = X + np.random.multivariate_normal(\n",
    "    mean=[0, 0],\n",
    "    cov=[[eps, 0], [0, eps]],\n",
    "    size=20\n",
    ")\n",
    "plt.scatter(X[:,0], X[:,1], c='red')\n",
    "plt.scatter(Y[:,0], Y[:,1], c='blue')\n",
    "plt.title(\"$\\epsilon$={}, EMD={}\".format(\n",
    "    eps, \n",
    "    round(emd(X, Y),5))\n",
    ")\n",
    "plt.show()"
   ]
  },
  {
   "cell_type": "code",
   "execution_count": 5,
   "metadata": {
    "scrolled": true
   },
   "outputs": [
    {
     "data": {
      "image/png": "[encoded data removed]",
      "text/plain": [
       "<Figure size 432x288 with 1 Axes>"
      ]
     },
     "metadata": {
      "needs_background": "light"
     },
     "output_type": "display_data"
    }
   ],
   "source": [
    "eps = 10\n",
    "Y = X + np.random.multivariate_normal(\n",
    "    mean=[0, 0],\n",
    "    cov=[[eps, 0], [0, eps]],\n",
    "    size=20\n",
    ")\n",
    "plt.scatter(X[:,0], X[:,1], c='red')\n",
    "plt.scatter(Y[:,0], Y[:,1], c='blue')\n",
    "plt.title(\"$\\epsilon$={}, EMD={}\".format(\n",
    "    eps, \n",
    "    round(emd(X, Y),5))\n",
    ")\n",
    "plt.show()"
   ]
  },
  {
   "cell_type": "markdown",
   "metadata": {},
   "source": [
    "### Unequal number of points\n",
    "\n",
    "Appears to only have an impact when $\\epsilon$ is small, which could result in larger distances for same-source pairs."
   ]
  },
  {
   "cell_type": "code",
   "execution_count": 6,
   "metadata": {},
   "outputs": [
    {
     "data": {
      "image/png": "[encoded data removed]",
      "text/plain": [
       "<Figure size 432x288 with 1 Axes>"
      ]
     },
     "metadata": {
      "needs_background": "light"
     },
     "output_type": "display_data"
    }
   ],
   "source": [
    "X = np.random.multivariate_normal(\n",
    "    mean=[0, 0],\n",
    "    cov=[[1, 0], [0, 1]],\n",
    "    size=50\n",
    ")\n",
    "eps = 0.001\n",
    "Y = X + np.random.multivariate_normal(\n",
    "    mean=[0, 0],\n",
    "    cov=[[eps, 0], [0, eps]],\n",
    "    size=50\n",
    ")\n",
    "Y = Y[np.random.randint(0,len(X),25), :]\n",
    "plt.scatter(X[:,0], X[:,1], c='red')\n",
    "plt.scatter(Y[:,0], Y[:,1], c='blue')\n",
    "plt.title(\"$\\epsilon$={}, EMD={}\".format(eps, round(emd(X, Y),5)))\n",
    "plt.show()"
   ]
  },
  {
   "cell_type": "code",
   "execution_count": 7,
   "metadata": {},
   "outputs": [
    {
     "data": {
      "image/png": "[encoded data removed]",
      "text/plain": [
       "<Figure size 432x288 with 1 Axes>"
      ]
     },
     "metadata": {
      "needs_background": "light"
     },
     "output_type": "display_data"
    }
   ],
   "source": [
    "eps = 0.1\n",
    "Y = X + np.random.multivariate_normal(\n",
    "    mean=[0, 0],\n",
    "    cov=[[eps, 0], [0, eps]],\n",
    "    size=50\n",
    ")\n",
    "Y = Y[np.random.randint(0,len(X),25), :]\n",
    "plt.scatter(X[:,0], X[:,1], c='red')\n",
    "plt.scatter(Y[:,0], Y[:,1], c='blue')\n",
    "plt.title(\"$\\epsilon$={}, EMD={}\".format(eps, round(emd(X, Y),5)))\n",
    "plt.show()"
   ]
  },
  {
   "cell_type": "code",
   "execution_count": 8,
   "metadata": {},
   "outputs": [
    {
     "data": {
      "image/png": "[encoded data removed]",
      "text/plain": [
       "<Figure size 432x288 with 1 Axes>"
      ]
     },
     "metadata": {
      "needs_background": "light"
     },
     "output_type": "display_data"
    }
   ],
   "source": [
    "eps = 10\n",
    "Y = X + np.random.multivariate_normal(\n",
    "    mean=[0, 0],\n",
    "    cov=[[eps, 0], [0, eps]],\n",
    "    size=50\n",
    ")\n",
    "Y = Y[np.random.randint(0,len(X),25), :]\n",
    "plt.scatter(X[:,0], X[:,1], c='red')\n",
    "plt.scatter(Y[:,0], Y[:,1], c='blue')\n",
    "plt.title(\"$\\epsilon$={}, EMD={}\".format(eps, round(emd(X, Y),5)))\n",
    "plt.show()"
   ]
  },
  {
   "cell_type": "markdown",
   "metadata": {},
   "source": [
    "### Incorporating weights\n",
    "\n",
    "Similar effect as unequal numbers of points, but higher variability across simulated point sets when $\\epsilon$ is low (not shown in this notebook)."
   ]
  },
  {
   "cell_type": "code",
   "execution_count": 9,
   "metadata": {},
   "outputs": [
    {
     "data": {
      "image/png": "[encoded data removed]",
      "text/plain": [
       "<Figure size 432x288 with 1 Axes>"
      ]
     },
     "metadata": {
      "needs_background": "light"
     },
     "output_type": "display_data"
    }
   ],
   "source": [
    "X = np.random.multivariate_normal(\n",
    "    mean=[0, 0],\n",
    "    cov=[[1, 0], [0, 1]],\n",
    "    size=20\n",
    ")\n",
    "X_wts = np.random.uniform(0,1,20)\n",
    "X_wts /= sum(X_wts)\n",
    "eps = 0.001\n",
    "Y = X + np.random.multivariate_normal(\n",
    "    mean=[0, 0],\n",
    "    cov=[[eps, 0], [0, eps]],\n",
    "    size=20\n",
    ")\n",
    "Y_wts = np.random.uniform(0,1,20)\n",
    "Y_wts /= sum(Y_wts)\n",
    "plt.scatter(X[:,0], X[:,1], s=X_wts*1000, c='red')\n",
    "plt.scatter(Y[:,0], Y[:,1], s=Y_wts*1000, c='blue')\n",
    "plt.title(\"$\\epsilon$={}, EMD={}\".format(\n",
    "    eps, \n",
    "    round(emd(X, Y, X_weights=X_wts, Y_weights=Y_wts),5))\n",
    ")\n",
    "plt.show()"
   ]
  },
  {
   "cell_type": "code",
   "execution_count": 10,
   "metadata": {},
   "outputs": [
    {
     "data": {
      "image/png": "[encoded data removed]",
      "text/plain": [
       "<Figure size 432x288 with 1 Axes>"
      ]
     },
     "metadata": {
      "needs_background": "light"
     },
     "output_type": "display_data"
    }
   ],
   "source": [
    "X = np.random.multivariate_normal(\n",
    "    mean=[0, 0],\n",
    "    cov=[[1, 0], [0, 1]],\n",
    "    size=20\n",
    ")\n",
    "X_wts = np.random.uniform(0,1,20)\n",
    "X_wts /= sum(X_wts)\n",
    "eps = 0.1\n",
    "Y = X + np.random.multivariate_normal(\n",
    "    mean=[0, 0],\n",
    "    cov=[[eps, 0], [0, eps]],\n",
    "    size=20\n",
    ")\n",
    "Y_wts = np.random.uniform(0,1,20)\n",
    "Y_wts /= sum(Y_wts)\n",
    "plt.scatter(X[:,0], X[:,1], s=X_wts*1000, c='red')\n",
    "plt.scatter(Y[:,0], Y[:,1], s=Y_wts*1000, c='blue')\n",
    "plt.title(\"$\\epsilon$={}, EMD={}\".format(\n",
    "    eps, \n",
    "    round(emd(X, Y, X_weights=X_wts, Y_weights=Y_wts),5))\n",
    ")\n",
    "plt.show()"
   ]
  },
  {
   "cell_type": "code",
   "execution_count": 11,
   "metadata": {},
   "outputs": [
    {
     "data": {
      "image/png": "[encoded data removed]",
      "text/plain": [
       "<Figure size 432x288 with 1 Axes>"
      ]
     },
     "metadata": {
      "needs_background": "light"
     },
     "output_type": "display_data"
    }
   ],
   "source": [
    "X = np.random.multivariate_normal(\n",
    "    mean=[0, 0],\n",
    "    cov=[[1, 0], [0, 1]],\n",
    "    size=20\n",
    ")\n",
    "X_wts = np.random.uniform(0,1,20)\n",
    "X_wts /= sum(X_wts)\n",
    "eps = 10\n",
    "Y = X + np.random.multivariate_normal(\n",
    "    mean=[0, 0],\n",
    "    cov=[[eps, 0], [0, eps]],\n",
    "    size=20\n",
    ")\n",
    "Y_wts = np.random.uniform(0,1,20)\n",
    "Y_wts /= sum(Y_wts)\n",
    "plt.scatter(X[:,0], X[:,1], s=X_wts*1000, c='red')\n",
    "plt.scatter(Y[:,0], Y[:,1], s=Y_wts*1000, c='blue')\n",
    "plt.title(\"$\\epsilon$={}, EMD={}\".format(\n",
    "    eps, \n",
    "    round(emd(X, Y, X_weights=X_wts, Y_weights=Y_wts),5))\n",
    ")\n",
    "plt.show()"
   ]
  },
  {
   "cell_type": "markdown",
   "metadata": {},
   "source": [
    "# CMP with EMD"
   ]
  },
  {
   "cell_type": "markdown",
   "metadata": {},
   "source": [
    "### Load the visits data & test integrity"
   ]
  },
  {
   "cell_type": "code",
   "execution_count": 12,
   "metadata": {},
   "outputs": [],
   "source": [
    "mpp = pd.read_csv(os.path.join(directory, \"mpp_visits_month0a_month1b_n20.csv\"))\n",
    "mpp = mpp.loc[mpp.uid != 55]\n",
    "\n",
    "pop_deduped = pd.read_csv(os.path.join(directory, \"parcel_ass-oc-visits-ass_events_deduped_bw.csv\"))\n",
    "pop_kde_data = np.array(pop_deduped[['uid', 'lon', 'lat', 'bw']])\n"
   ]
  },
  {
   "cell_type": "code",
   "execution_count": 13,
   "metadata": {},
   "outputs": [],
   "source": [
    "# plot_scatter(mpp=mpp, df=pop_deduped, uid=1)"
   ]
  },
  {
   "cell_type": "code",
   "execution_count": 14,
   "metadata": {},
   "outputs": [
    {
     "name": "stdout",
     "output_type": "stream",
     "text": [
      "USERS {1}\n",
      "Number of unique locations (across A & B): 31\n",
      "Number of locations in common (in both A & B): 5\n",
      "Number of matched users: 11\n",
      "Number of sample points: 1253\n",
      "Sum of weights: 1.0\n",
      "\n",
      "{'cmp_emd': 0.0,\n",
      " 'cmp_mean': 0.0,\n",
      " 'cmp_median': 0.4,\n",
      " 'obs_emd': 2.850063343599591,\n",
      " 'obs_mean': 1.418316904988363,\n",
      " 'obs_med': 0.21305388248339802}\n",
      "\n",
      "Time: 1.85 s\n"
     ]
    }
   ],
   "source": [
    "import time\n",
    "from pprint import pprint\n",
    "\n",
    "start = time.clock()\n",
    "pprint(calc_cmp(mpp, pop_kde_data, userA=1, n_sim=10, k=1, prnt=True))\n",
    "end = time.clock()\n",
    "print(\"\\nTime:\", round(end - start, 2), \"s\")"
   ]
  },
  {
   "cell_type": "code",
   "execution_count": 15,
   "metadata": {
    "scrolled": true
   },
   "outputs": [
    {
     "name": "stdout",
     "output_type": "stream",
     "text": [
      "USERS {1, 4}\n",
      "Number of unique locations (across A & B): 27\n",
      "Number of locations in common (in both A & B): 0\n",
      "Number of matched users: 21\n",
      "Number of sample points: 2463\n",
      "Sum of weights: 1.0\n",
      "\n",
      "{'cmp_emd': 1.0,\n",
      " 'cmp_mean': 1.0,\n",
      " 'cmp_median': 1.0,\n",
      " 'obs_emd': 21.760652812939888,\n",
      " 'obs_mean': 17.873691478407267,\n",
      " 'obs_med': 13.960645286040574}\n",
      "\n",
      "Time: 7.1 s\n"
     ]
    }
   ],
   "source": [
    "start = time.clock()\n",
    "pprint(calc_cmp(mpp, pop_kde_data, userA=1, userB=4, n_sim=100, k=1, prnt=True))\n",
    "end = time.clock()\n",
    "print(\"\\nTime:\", round(end - start, 2), \"s\")"
   ]
  },
  {
   "cell_type": "markdown",
   "metadata": {},
   "source": [
    "### Same-source pairs"
   ]
  },
  {
   "cell_type": "code",
   "execution_count": 16,
   "metadata": {},
   "outputs": [
    {
     "name": "stdout",
     "output_type": "stream",
     "text": [
      "User 1\n",
      "User 2\n",
      "User 3\n",
      "User 4\n",
      "User 5\n",
      "User 6\n",
      "User 7\n",
      "User 8\n",
      "User 9\n",
      "User 10\n",
      "User 11\n",
      "User 12\n",
      "User 13\n",
      "User 14\n",
      "User 15\n",
      "No other visits overlap with this pattern, using population only.\n",
      "User 16\n",
      "User 17\n",
      "User 18\n",
      "User 19\n",
      "User 20\n",
      "User 21\n",
      "User 22\n",
      "User 23\n",
      "User 24\n",
      "User 25\n",
      "User 26\n",
      "User 27\n",
      "User 28\n",
      "User 29\n",
      "User 30\n",
      "User 31\n",
      "User 32\n",
      "User 33\n",
      "User 34\n",
      "User 35\n",
      "User 36\n",
      "User 37\n",
      "User 38\n",
      "User 39\n",
      "User 40\n",
      "User 41\n",
      "User 42\n",
      "User 43\n",
      "User 44\n",
      "User 45\n",
      "User 46\n",
      "User 47\n",
      "User 48\n",
      "User 49\n",
      "User 50\n",
      "User 51\n",
      "User 52\n",
      "User 53\n",
      "User 54\n",
      "User 56\n",
      "User 57\n",
      "User 58\n",
      "User 59\n",
      "User 60\n",
      "User 61\n",
      "User 62\n",
      "User 63\n",
      "No other visits overlap with this pattern, using population only.\n",
      "User 64\n",
      "User 65\n",
      "User 66\n",
      "User 67\n",
      "User 68\n",
      "User 69\n",
      "User 70\n",
      "User 71\n",
      "User 72\n",
      "User 73\n",
      "User 74\n",
      "User 75\n",
      "User 76\n",
      "User 77\n",
      "User 78\n",
      "User 79\n",
      "User 80\n",
      "User 81\n",
      "User 82\n",
      "User 83\n",
      "User 84\n",
      "User 85\n",
      "User 86\n",
      "User 87\n",
      "No other visits overlap with this pattern, using population only.\n",
      "User 88\n",
      "User 89\n",
      "User 90\n",
      "User 91\n",
      "User 92\n",
      "User 93\n",
      "User 94\n",
      "User 95\n",
      "User 96\n",
      "User 97\n",
      "User 98\n",
      "No other visits overlap with this pattern, using population only.\n",
      "User 99\n",
      "User 100\n",
      "User 101\n",
      "User 102\n",
      "User 103\n",
      "User 104\n",
      "User 105\n",
      "User 106\n",
      "User 107\n",
      "User 108\n",
      "User 109\n",
      "User 110\n",
      "User 111\n",
      "User 112\n",
      "User 113\n",
      "User 114\n",
      "User 115\n",
      "User 116\n",
      "User 117\n",
      "User 118\n",
      "User 119\n",
      "User 120\n",
      "User 121\n",
      "User 122\n",
      "User 123\n",
      "User 124\n",
      "User 125\n",
      "User 126\n",
      "User 127\n",
      "User 128\n",
      "User 129\n",
      "User 130\n",
      "User 131\n",
      "User 132\n",
      "User 133\n",
      "User 134\n",
      "User 135\n",
      "User 136\n",
      "User 137\n",
      "User 138\n",
      "User 139\n",
      "User 140\n",
      "User 141\n",
      "User 142\n",
      "User 143\n",
      "User 144\n",
      "User 145\n",
      "User 146\n",
      "User 147\n",
      "User 148\n",
      "User 149\n",
      "User 150\n",
      "No other visits overlap with this pattern, using population only.\n",
      "User 151\n",
      "User 152\n",
      "User 153\n",
      "User 154\n",
      "User 155\n",
      "User 156\n",
      "User 157\n",
      "User 158\n",
      "User 159\n",
      "No other visits overlap with this pattern, using population only.\n",
      "User 160\n",
      "User 161\n",
      "User 162\n",
      "User 163\n",
      "User 164\n",
      "User 165\n",
      "User 166\n",
      "User 167\n",
      "User 168\n",
      "User 169\n",
      "User 170\n",
      "User 171\n",
      "User 172\n",
      "User 173\n",
      "User 174\n",
      "User 175\n",
      "User 176\n",
      "No other visits overlap with this pattern, using population only.\n",
      "User 177\n",
      "User 178\n",
      "No other visits overlap with this pattern, using population only.\n",
      "User 179\n",
      "User 180\n",
      "No other visits overlap with this pattern, using population only.\n",
      "User 181\n",
      "User 182\n",
      "User 183\n",
      "No other visits overlap with this pattern, using population only.\n",
      "User 184\n",
      "User 185\n",
      "User 186\n",
      "User 187\n",
      "User 188\n",
      "User 189\n",
      "No other visits overlap with this pattern, using population only.\n",
      "User 190\n",
      "User 191\n",
      "User 192\n",
      "User 193\n",
      "No other visits overlap with this pattern, using population only.\n",
      "User 194\n",
      "User 195\n",
      "User 196\n",
      "No other visits overlap with this pattern, using population only.\n",
      "User 197\n",
      "User 198\n",
      "User 199\n",
      "User 200\n",
      "User 201\n",
      "User 202\n",
      "User 203\n",
      "User 204\n",
      "No other visits overlap with this pattern, using population only.\n",
      "User 205\n",
      "User 206\n",
      "User 207\n",
      "User 208\n",
      "User 209\n",
      "No other visits overlap with this pattern, using population only.\n",
      "User 210\n",
      "User 211\n",
      "User 212\n",
      "User 213\n",
      "User 214\n",
      "User 215\n",
      "User 216\n",
      "No other visits overlap with this pattern, using population only.\n",
      "User 217\n",
      "User 218\n",
      "User 219\n",
      "User 220\n",
      "User 221\n",
      "User 222\n",
      "No other visits overlap with this pattern, using population only.\n",
      "User 223\n"
     ]
    }
   ],
   "source": [
    "np.random.seed(1234)\n",
    "\n",
    "# PARAMETERS\n",
    "n_sim = 1000\n",
    "k = 1  # which nearest neighbor to use in distance computation\n",
    "users = mpp['uid'].unique()\n",
    "same_src = []\n",
    "\n",
    "for u in users:\n",
    "    print(\"User\", u)\n",
    "    tmp = calc_cmp(\n",
    "        mpp, pop_kde_data, userA=u, n_sim=n_sim, k=k\n",
    "    )\n",
    "    tmp['a'] = u\n",
    "    tmp['b'] = u\n",
    "    same_src.append(tmp)\n",
    "        \n",
    "same = pd.DataFrame.from_dict(same_src)\n",
    "same.to_csv(os.path.join(directory, \"cmp_visits_emd_month0a_month1b_n20_same-src.csv\"), index=False)"
   ]
  },
  {
   "cell_type": "markdown",
   "metadata": {},
   "source": [
    "### Different-source pairs (random sample)"
   ]
  },
  {
   "cell_type": "code",
   "execution_count": 17,
   "metadata": {},
   "outputs": [
    {
     "name": "stdout",
     "output_type": "stream",
     "text": [
      "0\n",
      "1\n",
      "2\n",
      "3\n",
      "4\n",
      "5\n",
      "6\n",
      "7\n",
      "8\n",
      "9\n",
      "10\n",
      "11\n",
      "12\n",
      "13\n",
      "14\n",
      "15\n",
      "16\n",
      "17\n",
      "18\n",
      "19\n",
      "20\n",
      "21\n",
      "22\n",
      "23\n",
      "24\n",
      "25\n",
      "26\n",
      "27\n",
      "28\n",
      "29\n",
      "30\n",
      "31\n",
      "32\n",
      "33\n",
      "34\n",
      "35\n",
      "36\n",
      "37\n",
      "38\n",
      "39\n",
      "40\n",
      "41\n",
      "42\n",
      "43\n",
      "44\n",
      "45\n",
      "46\n",
      "47\n",
      "48\n",
      "No other visits overlap with this pattern, using population only.\n",
      "49\n",
      "50\n",
      "51\n",
      "52\n",
      "53\n",
      "54\n",
      "55\n",
      "56\n",
      "57\n",
      "58\n",
      "59\n",
      "60\n",
      "61\n",
      "62\n",
      "No other visits overlap with this pattern, using population only.\n",
      "63\n",
      "64\n",
      "65\n",
      "66\n",
      "67\n",
      "68\n",
      "69\n",
      "70\n",
      "71\n",
      "72\n",
      "73\n",
      "74\n",
      "75\n",
      "No other visits overlap with this pattern, using population only.\n",
      "76\n",
      "77\n",
      "78\n",
      "79\n",
      "80\n",
      "81\n",
      "82\n",
      "83\n",
      "84\n",
      "85\n",
      "86\n",
      "87\n",
      "88\n",
      "89\n",
      "90\n",
      "No other visits overlap with this pattern, using population only.\n",
      "91\n",
      "92\n",
      "93\n",
      "94\n",
      "95\n",
      "96\n",
      "97\n",
      "98\n",
      "99\n",
      "100\n",
      "101\n",
      "102\n",
      "103\n",
      "104\n",
      "No other visits overlap with this pattern, using population only.\n",
      "105\n",
      "106\n",
      "107\n",
      "108\n",
      "109\n",
      "110\n",
      "111\n",
      "112\n",
      "113\n",
      "114\n",
      "115\n",
      "116\n",
      "117\n",
      "118\n",
      "119\n",
      "120\n",
      "121\n",
      "122\n",
      "123\n",
      "124\n",
      "125\n",
      "126\n",
      "127\n",
      "128\n",
      "129\n",
      "130\n",
      "131\n",
      "132\n",
      "133\n",
      "134\n",
      "135\n",
      "136\n",
      "137\n",
      "138\n",
      "139\n",
      "140\n",
      "141\n",
      "142\n",
      "143\n",
      "144\n",
      "145\n",
      "No other visits overlap with this pattern, using population only.\n",
      "146\n",
      "147\n",
      "148\n",
      "149\n",
      "150\n",
      "151\n",
      "152\n",
      "153\n",
      "154\n",
      "155\n",
      "156\n",
      "157\n",
      "158\n",
      "159\n",
      "160\n",
      "161\n",
      "162\n",
      "163\n",
      "164\n",
      "165\n",
      "166\n",
      "167\n",
      "168\n",
      "169\n",
      "170\n",
      "171\n",
      "172\n",
      "173\n",
      "174\n",
      "175\n",
      "176\n",
      "177\n",
      "178\n",
      "179\n",
      "180\n",
      "181\n",
      "182\n",
      "183\n",
      "184\n",
      "185\n",
      "186\n",
      "187\n",
      "188\n",
      "189\n",
      "190\n",
      "191\n",
      "192\n",
      "193\n",
      "194\n",
      "195\n",
      "196\n",
      "197\n",
      "198\n",
      "199\n",
      "200\n",
      "201\n",
      "202\n",
      "203\n",
      "204\n",
      "205\n",
      "206\n",
      "207\n",
      "208\n",
      "209\n",
      "210\n",
      "211\n",
      "212\n",
      "213\n",
      "214\n",
      "215\n",
      "216\n",
      "217\n",
      "218\n",
      "219\n",
      "220\n",
      "221\n",
      "222\n",
      "223\n",
      "224\n",
      "225\n",
      "226\n",
      "227\n",
      "228\n",
      "229\n",
      "230\n",
      "231\n",
      "232\n",
      "233\n",
      "234\n",
      "235\n",
      "236\n",
      "237\n",
      "238\n",
      "239\n",
      "240\n",
      "241\n",
      "242\n",
      "243\n",
      "244\n",
      "245\n",
      "246\n",
      "247\n",
      "248\n",
      "249\n"
     ]
    }
   ],
   "source": [
    "usr_sample1 = np.random.choice(users, 300, replace=True)  \n",
    "usr_sample2 = np.random.choice(users, 300, replace=True) \n",
    "samp = np.hstack([np.atleast_2d(usr_sample1).T, np.atleast_2d(usr_sample2).T])\n",
    "samp[~(samp[:,0] == samp[:,1]), :][:250,:]\n",
    "\n",
    "diff_src = []\n",
    "for i in range(250):\n",
    "    print(i)\n",
    "    tmp = calc_cmp(\n",
    "        mpp, pop_kde_data, userA=samp[i,0], userB=samp[i,1], n_sim=n_sim, k=k\n",
    "    )\n",
    "    tmp['a'] = samp[i,0]\n",
    "    tmp['b'] = samp[i,1]\n",
    "    diff_src.append(tmp)\n",
    "\n",
    "diff = pd.DataFrame.from_dict(diff_src)\n",
    "diff.to_csv(os.path.join(directory, \"cmp_visits_emd_month0a_month1b_n20_diff-src.csv\"), index=False)"
   ]
  },
  {
   "cell_type": "markdown",
   "metadata": {},
   "source": [
    "### Visualize Results"
   ]
  },
  {
   "cell_type": "code",
   "execution_count": 27,
   "metadata": {},
   "outputs": [
    {
     "data": {
      "image/png": "[encoded data removed]",
      "text/plain": [
       "<Figure size 432x288 with 1 Axes>"
      ]
     },
     "metadata": {
      "needs_background": "light"
     },
     "output_type": "display_data"
    }
   ],
   "source": [
    "sns.distplot(\n",
    "    same['obs_emd'], \n",
    "    hist=True, \n",
    "    kde=True, \n",
    "    bins=int(180/5), \n",
    "    color = 'darkblue', \n",
    "    hist_kws={'edgecolor':'black'},\n",
    "    kde_kws={'linewidth': 2}\n",
    ").set_title('Same-Source Pairs')\n",
    "plt.show()"
   ]
  },
  {
   "cell_type": "code",
   "execution_count": 28,
   "metadata": {},
   "outputs": [
    {
     "data": {
      "image/png": "[encoded data removed]",
      "text/plain": [
       "<Figure size 432x288 with 1 Axes>"
      ]
     },
     "metadata": {
      "needs_background": "light"
     },
     "output_type": "display_data"
    }
   ],
   "source": [
    "sns.distplot(\n",
    "    diff['obs_emd'], \n",
    "    hist=True, \n",
    "    kde=True, \n",
    "    bins=int(180/5), \n",
    "    color = 'darkblue', \n",
    "    hist_kws={'edgecolor':'black'},\n",
    "    kde_kws={'linewidth': 2}\n",
    ").set_title('Random Sample of Diff-Source Pairs')\n",
    "plt.show()"
   ]
  },
  {
   "cell_type": "code",
   "execution_count": 23,
   "metadata": {},
   "outputs": [
    {
     "data": {
      "text/html": [
       "<div>\n",
       "<style scoped>\n",
       "    .dataframe tbody tr th:only-of-type {\n",
       "        vertical-align: middle;\n",
       "    }\n",
       "\n",
       "    .dataframe tbody tr th {\n",
       "        vertical-align: top;\n",
       "    }\n",
       "\n",
       "    .dataframe thead th {\n",
       "        text-align: right;\n",
       "    }\n",
       "</style>\n",
       "<table border=\"1\" class=\"dataframe\">\n",
       "  <thead>\n",
       "    <tr style=\"text-align: right;\">\n",
       "      <th></th>\n",
       "      <th>a</th>\n",
       "      <th>b</th>\n",
       "      <th>cmp_emd</th>\n",
       "      <th>cmp_mean</th>\n",
       "      <th>cmp_median</th>\n",
       "      <th>obs_emd</th>\n",
       "      <th>obs_mean</th>\n",
       "      <th>obs_med</th>\n",
       "    </tr>\n",
       "  </thead>\n",
       "  <tbody>\n",
       "    <tr>\n",
       "      <th>count</th>\n",
       "      <td>222.000000</td>\n",
       "      <td>222.000000</td>\n",
       "      <td>222.000000</td>\n",
       "      <td>222.000000</td>\n",
       "      <td>222.000000</td>\n",
       "      <td>222.000000</td>\n",
       "      <td>222.000000</td>\n",
       "      <td>222.000000</td>\n",
       "    </tr>\n",
       "    <tr>\n",
       "      <th>mean</th>\n",
       "      <td>112.256757</td>\n",
       "      <td>112.256757</td>\n",
       "      <td>0.092045</td>\n",
       "      <td>0.235986</td>\n",
       "      <td>0.478032</td>\n",
       "      <td>3.545435</td>\n",
       "      <td>1.652923</td>\n",
       "      <td>0.739222</td>\n",
       "    </tr>\n",
       "    <tr>\n",
       "      <th>std</th>\n",
       "      <td>64.550249</td>\n",
       "      <td>64.550249</td>\n",
       "      <td>0.208077</td>\n",
       "      <td>0.303858</td>\n",
       "      <td>0.363569</td>\n",
       "      <td>3.209412</td>\n",
       "      <td>1.974184</td>\n",
       "      <td>1.819549</td>\n",
       "    </tr>\n",
       "    <tr>\n",
       "      <th>min</th>\n",
       "      <td>1.000000</td>\n",
       "      <td>1.000000</td>\n",
       "      <td>0.000000</td>\n",
       "      <td>0.000000</td>\n",
       "      <td>0.000000</td>\n",
       "      <td>0.000000</td>\n",
       "      <td>0.000000</td>\n",
       "      <td>0.000000</td>\n",
       "    </tr>\n",
       "    <tr>\n",
       "      <th>25%</th>\n",
       "      <td>57.250000</td>\n",
       "      <td>57.250000</td>\n",
       "      <td>0.000000</td>\n",
       "      <td>0.001000</td>\n",
       "      <td>0.071250</td>\n",
       "      <td>1.736532</td>\n",
       "      <td>0.366168</td>\n",
       "      <td>0.018107</td>\n",
       "    </tr>\n",
       "    <tr>\n",
       "      <th>50%</th>\n",
       "      <td>112.500000</td>\n",
       "      <td>112.500000</td>\n",
       "      <td>0.005000</td>\n",
       "      <td>0.083500</td>\n",
       "      <td>0.503000</td>\n",
       "      <td>3.031516</td>\n",
       "      <td>1.222961</td>\n",
       "      <td>0.156372</td>\n",
       "    </tr>\n",
       "    <tr>\n",
       "      <th>75%</th>\n",
       "      <td>167.750000</td>\n",
       "      <td>167.750000</td>\n",
       "      <td>0.057500</td>\n",
       "      <td>0.375000</td>\n",
       "      <td>0.817500</td>\n",
       "      <td>4.491452</td>\n",
       "      <td>2.259666</td>\n",
       "      <td>0.585886</td>\n",
       "    </tr>\n",
       "    <tr>\n",
       "      <th>max</th>\n",
       "      <td>223.000000</td>\n",
       "      <td>223.000000</td>\n",
       "      <td>0.999000</td>\n",
       "      <td>1.000000</td>\n",
       "      <td>1.000000</td>\n",
       "      <td>26.269803</td>\n",
       "      <td>14.829311</td>\n",
       "      <td>14.829311</td>\n",
       "    </tr>\n",
       "  </tbody>\n",
       "</table>\n",
       "</div>"
      ],
      "text/plain": [
       "                a           b     cmp_emd    cmp_mean  cmp_median     obs_emd  \\\n",
       "count  222.000000  222.000000  222.000000  222.000000  222.000000  222.000000   \n",
       "mean   112.256757  112.256757    0.092045    0.235986    0.478032    3.545435   \n",
       "std     64.550249   64.550249    0.208077    0.303858    0.363569    3.209412   \n",
       "min      1.000000    1.000000    0.000000    0.000000    0.000000    0.000000   \n",
       "25%     57.250000   57.250000    0.000000    0.001000    0.071250    1.736532   \n",
       "50%    112.500000  112.500000    0.005000    0.083500    0.503000    3.031516   \n",
       "75%    167.750000  167.750000    0.057500    0.375000    0.817500    4.491452   \n",
       "max    223.000000  223.000000    0.999000    1.000000    1.000000   26.269803   \n",
       "\n",
       "         obs_mean     obs_med  \n",
       "count  222.000000  222.000000  \n",
       "mean     1.652923    0.739222  \n",
       "std      1.974184    1.819549  \n",
       "min      0.000000    0.000000  \n",
       "25%      0.366168    0.018107  \n",
       "50%      1.222961    0.156372  \n",
       "75%      2.259666    0.585886  \n",
       "max     14.829311   14.829311  "
      ]
     },
     "execution_count": 23,
     "metadata": {},
     "output_type": "execute_result"
    }
   ],
   "source": [
    "same.describe()"
   ]
  },
  {
   "cell_type": "code",
   "execution_count": 24,
   "metadata": {
    "scrolled": true
   },
   "outputs": [
    {
     "data": {
      "text/html": [
       "<div>\n",
       "<style scoped>\n",
       "    .dataframe tbody tr th:only-of-type {\n",
       "        vertical-align: middle;\n",
       "    }\n",
       "\n",
       "    .dataframe tbody tr th {\n",
       "        vertical-align: top;\n",
       "    }\n",
       "\n",
       "    .dataframe thead th {\n",
       "        text-align: right;\n",
       "    }\n",
       "</style>\n",
       "<table border=\"1\" class=\"dataframe\">\n",
       "  <thead>\n",
       "    <tr style=\"text-align: right;\">\n",
       "      <th></th>\n",
       "      <th>a</th>\n",
       "      <th>b</th>\n",
       "      <th>cmp_emd</th>\n",
       "      <th>cmp_mean</th>\n",
       "      <th>cmp_median</th>\n",
       "      <th>obs_emd</th>\n",
       "      <th>obs_mean</th>\n",
       "      <th>obs_med</th>\n",
       "    </tr>\n",
       "  </thead>\n",
       "  <tbody>\n",
       "    <tr>\n",
       "      <th>count</th>\n",
       "      <td>250.000000</td>\n",
       "      <td>250.00000</td>\n",
       "      <td>250.000000</td>\n",
       "      <td>250.000000</td>\n",
       "      <td>250.000000</td>\n",
       "      <td>250.000000</td>\n",
       "      <td>250.000000</td>\n",
       "      <td>250.000000</td>\n",
       "    </tr>\n",
       "    <tr>\n",
       "      <th>mean</th>\n",
       "      <td>110.912000</td>\n",
       "      <td>111.78400</td>\n",
       "      <td>0.747576</td>\n",
       "      <td>0.856004</td>\n",
       "      <td>0.862076</td>\n",
       "      <td>17.423419</td>\n",
       "      <td>11.783057</td>\n",
       "      <td>11.600763</td>\n",
       "    </tr>\n",
       "    <tr>\n",
       "      <th>std</th>\n",
       "      <td>63.822988</td>\n",
       "      <td>65.90916</td>\n",
       "      <td>0.303603</td>\n",
       "      <td>0.225908</td>\n",
       "      <td>0.213023</td>\n",
       "      <td>8.720940</td>\n",
       "      <td>8.042528</td>\n",
       "      <td>8.440361</td>\n",
       "    </tr>\n",
       "    <tr>\n",
       "      <th>min</th>\n",
       "      <td>1.000000</td>\n",
       "      <td>1.00000</td>\n",
       "      <td>0.000000</td>\n",
       "      <td>0.000000</td>\n",
       "      <td>0.000000</td>\n",
       "      <td>2.984629</td>\n",
       "      <td>0.000000</td>\n",
       "      <td>0.000000</td>\n",
       "    </tr>\n",
       "    <tr>\n",
       "      <th>25%</th>\n",
       "      <td>57.500000</td>\n",
       "      <td>56.00000</td>\n",
       "      <td>0.606250</td>\n",
       "      <td>0.819250</td>\n",
       "      <td>0.809000</td>\n",
       "      <td>11.032312</td>\n",
       "      <td>5.529258</td>\n",
       "      <td>5.224457</td>\n",
       "    </tr>\n",
       "    <tr>\n",
       "      <th>50%</th>\n",
       "      <td>108.000000</td>\n",
       "      <td>110.00000</td>\n",
       "      <td>0.890000</td>\n",
       "      <td>0.968000</td>\n",
       "      <td>0.965000</td>\n",
       "      <td>15.855059</td>\n",
       "      <td>10.438992</td>\n",
       "      <td>10.069126</td>\n",
       "    </tr>\n",
       "    <tr>\n",
       "      <th>75%</th>\n",
       "      <td>163.000000</td>\n",
       "      <td>169.75000</td>\n",
       "      <td>0.997000</td>\n",
       "      <td>1.000000</td>\n",
       "      <td>1.000000</td>\n",
       "      <td>22.250375</td>\n",
       "      <td>15.339248</td>\n",
       "      <td>15.382731</td>\n",
       "    </tr>\n",
       "    <tr>\n",
       "      <th>max</th>\n",
       "      <td>223.000000</td>\n",
       "      <td>221.00000</td>\n",
       "      <td>1.000000</td>\n",
       "      <td>1.000000</td>\n",
       "      <td>1.000000</td>\n",
       "      <td>47.543492</td>\n",
       "      <td>42.916974</td>\n",
       "      <td>44.164748</td>\n",
       "    </tr>\n",
       "  </tbody>\n",
       "</table>\n",
       "</div>"
      ],
      "text/plain": [
       "                a          b     cmp_emd    cmp_mean  cmp_median     obs_emd  \\\n",
       "count  250.000000  250.00000  250.000000  250.000000  250.000000  250.000000   \n",
       "mean   110.912000  111.78400    0.747576    0.856004    0.862076   17.423419   \n",
       "std     63.822988   65.90916    0.303603    0.225908    0.213023    8.720940   \n",
       "min      1.000000    1.00000    0.000000    0.000000    0.000000    2.984629   \n",
       "25%     57.500000   56.00000    0.606250    0.819250    0.809000   11.032312   \n",
       "50%    108.000000  110.00000    0.890000    0.968000    0.965000   15.855059   \n",
       "75%    163.000000  169.75000    0.997000    1.000000    1.000000   22.250375   \n",
       "max    223.000000  221.00000    1.000000    1.000000    1.000000   47.543492   \n",
       "\n",
       "         obs_mean     obs_med  \n",
       "count  250.000000  250.000000  \n",
       "mean    11.783057   11.600763  \n",
       "std      8.042528    8.440361  \n",
       "min      0.000000    0.000000  \n",
       "25%      5.529258    5.224457  \n",
       "50%     10.438992   10.069126  \n",
       "75%     15.339248   15.382731  \n",
       "max     42.916974   44.164748  "
      ]
     },
     "execution_count": 24,
     "metadata": {},
     "output_type": "execute_result"
    }
   ],
   "source": [
    "diff.describe()"
   ]
  },
  {
   "cell_type": "code",
   "execution_count": 80,
   "metadata": {},
   "outputs": [
    {
     "name": "stdout",
     "output_type": "stream",
     "text": [
      "EMD: 0.9475\n",
      "Mean IET: 0.9314\n",
      "Median IET: 0.8217\n"
     ]
    }
   ],
   "source": [
    "from sklearn.metrics import roc_auc_score\n",
    "\n",
    "# label the points to compute the AUC... same-src has smaller cmp\n",
    "same['inv_label'] = False\n",
    "diff['inv_label'] = True\n",
    "rslt = pd.concat([same, diff])\n",
    "\n",
    "# compute AUC\n",
    "print(\"EMD:\", round(roc_auc_score(rslt['inv_label'], rslt['cmp_emd']),4))\n",
    "print(\"Mean IET:\", round(roc_auc_score(rslt['inv_label'], rslt['cmp_mean']),4))\n",
    "print(\"Median IET:\", round(roc_auc_score(rslt['inv_label'], rslt['cmp_median']),4))"
   ]
  },
  {
   "cell_type": "code",
   "execution_count": 86,
   "metadata": {},
   "outputs": [],
   "source": [
    "def perf_measure(y_actual, y_hat):\n",
    "    y_actual = list(y_actual)\n",
    "    y_hat = list(y_hat)\n",
    "\n",
    "    TP = 0\n",
    "    FP = 0\n",
    "    TN = 0\n",
    "    FN = 0\n",
    "\n",
    "    for i in range(len(y_hat)): \n",
    "        if y_actual[i]==y_hat[i]==1:\n",
    "           TP += 1\n",
    "        if y_hat[i]==1 and y_actual[i]!=y_hat[i]:\n",
    "           FP += 1\n",
    "        if y_actual[i]==y_hat[i]==0:\n",
    "           TN += 1\n",
    "        if y_hat[i]==0 and y_actual[i]!=y_hat[i]:\n",
    "           FN += 1\n",
    "    \n",
    "    tpr = TP / (TP + FN)\n",
    "    fpr = FP / (FP + TN)\n",
    "    \n",
    "    return (round(tpr, 3), round(fpr, 3))"
   ]
  },
  {
   "cell_type": "code",
   "execution_count": 87,
   "metadata": {},
   "outputs": [
    {
     "name": "stdout",
     "output_type": "stream",
     "text": [
      "EMD\n",
      "0.05: (0.734, 0.028)\n",
      "0.001: (0.423, 0.004)\n"
     ]
    }
   ],
   "source": [
    "print(\"EMD\")\n",
    "print(\"0.05:\", perf_measure(rslt.match, rslt.cmp_emd <= 0.05))\n",
    "print(\"0.001:\", perf_measure(rslt.match, rslt.cmp_emd <= 0.001))"
   ]
  },
  {
   "cell_type": "code",
   "execution_count": 88,
   "metadata": {},
   "outputs": [
    {
     "name": "stdout",
     "output_type": "stream",
     "text": [
      "MEAN IED\n",
      "0.05: (0.441, 0.008)\n",
      "0.001: (0.257, 0.004)\n"
     ]
    }
   ],
   "source": [
    "print(\"MEAN IED\")\n",
    "print(\"0.05:\", perf_measure(rslt.match, rslt.cmp_mean <= 0.05))\n",
    "print(\"0.001:\", perf_measure(rslt.match, rslt.cmp_mean <= 0.001))"
   ]
  },
  {
   "cell_type": "code",
   "execution_count": 89,
   "metadata": {},
   "outputs": [
    {
     "name": "stdout",
     "output_type": "stream",
     "text": [
      "MEDIAN IED\n",
      "0.05: (0.23, 0.004)\n",
      "0.001: (0.153, 0.004)\n"
     ]
    }
   ],
   "source": [
    "print(\"MEDIAN IED\")\n",
    "print(\"0.05:\", perf_measure(rslt.match, rslt.cmp_median <= 0.05))\n",
    "print(\"0.001:\", perf_measure(rslt.match, rslt.cmp_median <= 0.001))"
   ]
  },
  {
   "cell_type": "code",
   "execution_count": null,
   "metadata": {},
   "outputs": [],
   "source": []
  }
 ],
 "metadata": {
  "kernelspec": {
   "display_name": "spatial-assocr",
   "language": "python",
   "name": "spatial-assocr"
  },
  "language_info": {
   "codemirror_mode": {
    "name": "ipython",
    "version": 3
   },
   "file_extension": ".py",
   "mimetype": "text/x-python",
   "name": "python",
   "nbconvert_exporter": "python",
   "pygments_lexer": "ipython3",
   "version": "3.6.6"
  }
 },
 "nbformat": 4,
 "nbformat_minor": 2
}
