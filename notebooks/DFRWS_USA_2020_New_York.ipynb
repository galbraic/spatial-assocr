{
 "cells": [
  {
   "cell_type": "code",
   "execution_count": 1,
   "metadata": {},
   "outputs": [
    {
     "data": {
      "text/html": [
       "        <script type=\"text/javascript\">\n",
       "        window.PlotlyConfig = {MathJaxConfig: 'local'};\n",
       "        if (window.MathJax) {MathJax.Hub.Config({SVG: {font: \"STIX-Web\"}});}\n",
       "        if (typeof require !== 'undefined') {\n",
       "        require.undef(\"plotly\");\n",
       "        requirejs.config({\n",
       "            paths: {\n",
       "                'plotly': ['https://cdn.plot.ly/plotly-latest.min']\n",
       "            }\n",
       "        });\n",
       "        require(['plotly'], function(Plotly) {\n",
       "            window._Plotly = Plotly;\n",
       "        });\n",
       "        }\n",
       "        </script>\n",
       "        "
      ]
     },
     "metadata": {},
     "output_type": "display_data"
    }
   ],
   "source": [
    "import numpy as np\n",
    "import pandas as pd\n",
    "import os\n",
    "import sys\n",
    "import matplotlib.pyplot as plt\n",
    "import plotly\n",
    "from plotly.offline import download_plotlyjs, init_notebook_mode, plot, iplot\n",
    "import plotly.graph_objs as go\n",
    "import seaborn as sns\n",
    "import time\n",
    "\n",
    "from emd import emd\n",
    "from kde.location_project.cmp import geodesic_dist\n",
    "# from kde.location_project.kde_2d import kdnearest\n",
    "\n",
    "sys.setrecursionlimit(10000)\n",
    "\n",
    "%matplotlib inline\n",
    "init_notebook_mode(connected=True)\n",
    "\n",
    "%load_ext autoreload\n",
    "%autoreload 2\n",
    "\n",
    "pd.options.mode.chained_assignment = None # turn off SettingWithCopyWarning\n",
    "\n",
    "np.random.seed(1234)\n",
    "time_span = 'month'\n",
    "n_visits = 1"
   ]
  },
  {
   "cell_type": "markdown",
   "metadata": {},
   "source": [
    "# Geolocation Data - Twitter\n",
    "\n",
    "NOTE: all of the results in the paper discussed B as fixed, but in this analysis A is fixed."
   ]
  },
  {
   "cell_type": "code",
   "execution_count": 2,
   "metadata": {},
   "outputs": [
    {
     "name": "stdout",
     "output_type": "stream",
     "text": [
      "Days: 239\n",
      "Accounts: 194224\n",
      "Events: 1162871 (6.0)\n",
      "Visits: 989494 (5.1)\n",
      "\n",
      "MPP DATA (at least 1 visits in each of the first two months)\n",
      "Users: 13523\n",
      "Visits: 138651 (10.3)\n",
      "n_A: 72799 (5.4)\n",
      "n_B: 65852 (4.9)\n"
     ]
    }
   ],
   "source": [
    "### NY\n",
    "ny_directory = os.path.join(\"..\", \"data\", \"ny\") \n",
    "ny = pd.read_csv(os.path.join(ny_directory, \"visits_no_filter.csv\"))\n",
    "ny_deduped = pd.read_csv(os.path.join(ny_directory, \"visits_deduped.csv\"))\n",
    "mpp = pd.read_csv(os.path.join(ny_directory, \"mpp_visits_month0a_month1b_n1.csv\"))\n",
    "\n",
    "print(\"Days:\", ny['day_id'].nunique())\n",
    "print(\"Accounts:\", ny['user_id'].nunique())\n",
    "print(\"Events: \", ny.shape[0], \" (\", round(ny.shape[0] / ny['user_id'].nunique(), 1), \")\",sep=\"\")\n",
    "print(\"Visits: \", ny_deduped.shape[0], \" (\", round(ny_deduped.shape[0] / ny['user_id'].nunique(), 1), \")\",sep=\"\")\n",
    "print(\"\")\n",
    "print(\"MPP DATA (at least {} visits in each of the first two {}s)\".format(n_visits, time_span))\n",
    "print(\"Users:\", mpp['uid'].nunique())\n",
    "print(\"Visits: \", len(mpp), \" (\", round(len(mpp) / mpp['uid'].nunique(), 1), \")\",sep=\"\")\n",
    "ind_A = mpp.m == 'a'\n",
    "print(\"n_A: \", len(mpp.loc[ind_A]), \" (\", round(len(mpp.loc[ind_A]) / mpp['uid'].nunique(), 1), \")\",sep=\"\")\n",
    "ind_B = mpp.m == 'b'\n",
    "print(\"n_B: \", len(mpp.loc[ind_B]), \" (\", round(len(mpp.loc[ind_B]) / mpp['uid'].nunique(), 1), \")\",sep=\"\")\n"
   ]
  },
  {
   "cell_type": "code",
   "execution_count": 3,
   "metadata": {},
   "outputs": [
    {
     "data": {
      "text/html": [
       "<div>\n",
       "<style scoped>\n",
       "    .dataframe tbody tr th:only-of-type {\n",
       "        vertical-align: middle;\n",
       "    }\n",
       "\n",
       "    .dataframe tbody tr th {\n",
       "        vertical-align: top;\n",
       "    }\n",
       "\n",
       "    .dataframe thead th {\n",
       "        text-align: right;\n",
       "    }\n",
       "</style>\n",
       "<table border=\"1\" class=\"dataframe\">\n",
       "  <thead>\n",
       "    <tr style=\"text-align: right;\">\n",
       "      <th></th>\n",
       "      <th>old_uid</th>\n",
       "      <th>uid</th>\n",
       "      <th>lon</th>\n",
       "      <th>lat</th>\n",
       "      <th>location_id</th>\n",
       "      <th>visit</th>\n",
       "      <th>month</th>\n",
       "      <th>event_id</th>\n",
       "      <th>weight_event</th>\n",
       "      <th>weight_user</th>\n",
       "    </tr>\n",
       "  </thead>\n",
       "  <tbody>\n",
       "    <tr>\n",
       "      <th>0</th>\n",
       "      <td>22.0</td>\n",
       "      <td>-1.0</td>\n",
       "      <td>-73.99706</td>\n",
       "      <td>40.73597</td>\n",
       "      <td>23615.0</td>\n",
       "      <td>0</td>\n",
       "      <td>6</td>\n",
       "      <td>6101502.0</td>\n",
       "      <td>0.003378</td>\n",
       "      <td>0.004587</td>\n",
       "    </tr>\n",
       "    <tr>\n",
       "      <th>1</th>\n",
       "      <td>8881.0</td>\n",
       "      <td>-1.0</td>\n",
       "      <td>-73.99706</td>\n",
       "      <td>40.73597</td>\n",
       "      <td>23615.0</td>\n",
       "      <td>0</td>\n",
       "      <td>4</td>\n",
       "      <td>2173506.0</td>\n",
       "      <td>0.003378</td>\n",
       "      <td>0.004587</td>\n",
       "    </tr>\n",
       "    <tr>\n",
       "      <th>2</th>\n",
       "      <td>705663.0</td>\n",
       "      <td>-1.0</td>\n",
       "      <td>-73.99706</td>\n",
       "      <td>40.73597</td>\n",
       "      <td>23615.0</td>\n",
       "      <td>0</td>\n",
       "      <td>0</td>\n",
       "      <td>11273583.0</td>\n",
       "      <td>0.003378</td>\n",
       "      <td>0.004587</td>\n",
       "    </tr>\n",
       "    <tr>\n",
       "      <th>3</th>\n",
       "      <td>754812.0</td>\n",
       "      <td>-1.0</td>\n",
       "      <td>-73.99706</td>\n",
       "      <td>40.73597</td>\n",
       "      <td>23615.0</td>\n",
       "      <td>0</td>\n",
       "      <td>4</td>\n",
       "      <td>5511985.0</td>\n",
       "      <td>0.003378</td>\n",
       "      <td>0.004587</td>\n",
       "    </tr>\n",
       "    <tr>\n",
       "      <th>4</th>\n",
       "      <td>1938691.0</td>\n",
       "      <td>-1.0</td>\n",
       "      <td>-73.99706</td>\n",
       "      <td>40.73597</td>\n",
       "      <td>23615.0</td>\n",
       "      <td>26</td>\n",
       "      <td>5</td>\n",
       "      <td>7998685.0</td>\n",
       "      <td>0.003378</td>\n",
       "      <td>0.004587</td>\n",
       "    </tr>\n",
       "  </tbody>\n",
       "</table>\n",
       "</div>"
      ],
      "text/plain": [
       "     old_uid  uid       lon       lat  location_id  visit  month    event_id  \\\n",
       "0       22.0 -1.0 -73.99706  40.73597      23615.0      0      6   6101502.0   \n",
       "1     8881.0 -1.0 -73.99706  40.73597      23615.0      0      4   2173506.0   \n",
       "2   705663.0 -1.0 -73.99706  40.73597      23615.0      0      0  11273583.0   \n",
       "3   754812.0 -1.0 -73.99706  40.73597      23615.0      0      4   5511985.0   \n",
       "4  1938691.0 -1.0 -73.99706  40.73597      23615.0     26      5   7998685.0   \n",
       "\n",
       "   weight_event  weight_user  \n",
       "0      0.003378     0.004587  \n",
       "1      0.003378     0.004587  \n",
       "2      0.003378     0.004587  \n",
       "3      0.003378     0.004587  \n",
       "4      0.003378     0.004587  "
      ]
     },
     "execution_count": 3,
     "metadata": {},
     "output_type": "execute_result"
    }
   ],
   "source": [
    "# location weights based on number of visits\n",
    "ny_locs = ny_deduped.groupby('location_id')['event_id'].count()\n",
    "ny_wt_e = pd.DataFrame(ny_locs).reset_index().rename(columns={'event_id': 'weight'})\n",
    "ny_wt_e['weight'] = 1 / ny_wt_e['weight']\n",
    "\n",
    "# location weights based on number of unique users at lnyation\n",
    "ny_locs_users = ny_deduped.groupby(['location_id'])['old_uid'].nunique()\n",
    "ny_wt_u = pd.DataFrame(ny_locs_users).reset_index().rename(columns={'old_uid': 'weight'})\n",
    "ny_wt_u['weight'] = 1 / ny_wt_u['weight']\n",
    "\n",
    "# merge weights in to the point pattern data\n",
    "ny_deduped = pd.merge(ny_deduped, ny_wt_e, on='location_id')\n",
    "ny_deduped = pd.merge(ny_deduped, ny_wt_u, on='location_id', suffixes=('_event', '_user'))\n",
    "ny_deduped.head()"
   ]
  },
  {
   "cell_type": "code",
   "execution_count": 4,
   "metadata": {},
   "outputs": [
    {
     "data": {
      "text/html": [
       "<div>\n",
       "<style scoped>\n",
       "    .dataframe tbody tr th:only-of-type {\n",
       "        vertical-align: middle;\n",
       "    }\n",
       "\n",
       "    .dataframe tbody tr th {\n",
       "        vertical-align: top;\n",
       "    }\n",
       "\n",
       "    .dataframe thead th {\n",
       "        text-align: right;\n",
       "    }\n",
       "</style>\n",
       "<table border=\"1\" class=\"dataframe\">\n",
       "  <thead>\n",
       "    <tr style=\"text-align: right;\">\n",
       "      <th></th>\n",
       "      <th>old_uid</th>\n",
       "      <th>uid</th>\n",
       "      <th>m</th>\n",
       "      <th>lon</th>\n",
       "      <th>lat</th>\n",
       "      <th>location_id</th>\n",
       "      <th>weight_event</th>\n",
       "      <th>weight_user</th>\n",
       "    </tr>\n",
       "  </thead>\n",
       "  <tbody>\n",
       "    <tr>\n",
       "      <th>0</th>\n",
       "      <td>418.0</td>\n",
       "      <td>1</td>\n",
       "      <td>a</td>\n",
       "      <td>-73.99384</td>\n",
       "      <td>40.72405</td>\n",
       "      <td>4962.0</td>\n",
       "      <td>0.003774</td>\n",
       "      <td>0.004237</td>\n",
       "    </tr>\n",
       "    <tr>\n",
       "      <th>1</th>\n",
       "      <td>418.0</td>\n",
       "      <td>1</td>\n",
       "      <td>a</td>\n",
       "      <td>-73.99384</td>\n",
       "      <td>40.72405</td>\n",
       "      <td>4962.0</td>\n",
       "      <td>0.003774</td>\n",
       "      <td>0.004237</td>\n",
       "    </tr>\n",
       "    <tr>\n",
       "      <th>2</th>\n",
       "      <td>418.0</td>\n",
       "      <td>1</td>\n",
       "      <td>b</td>\n",
       "      <td>-73.99384</td>\n",
       "      <td>40.72405</td>\n",
       "      <td>4962.0</td>\n",
       "      <td>0.003774</td>\n",
       "      <td>0.004237</td>\n",
       "    </tr>\n",
       "    <tr>\n",
       "      <th>3</th>\n",
       "      <td>418.0</td>\n",
       "      <td>1</td>\n",
       "      <td>b</td>\n",
       "      <td>-73.99384</td>\n",
       "      <td>40.72405</td>\n",
       "      <td>4962.0</td>\n",
       "      <td>0.003774</td>\n",
       "      <td>0.004237</td>\n",
       "    </tr>\n",
       "    <tr>\n",
       "      <th>4</th>\n",
       "      <td>15455345.0</td>\n",
       "      <td>754</td>\n",
       "      <td>b</td>\n",
       "      <td>-73.99383</td>\n",
       "      <td>40.72408</td>\n",
       "      <td>4962.0</td>\n",
       "      <td>0.003774</td>\n",
       "      <td>0.004237</td>\n",
       "    </tr>\n",
       "  </tbody>\n",
       "</table>\n",
       "</div>"
      ],
      "text/plain": [
       "      old_uid  uid  m       lon       lat  location_id  weight_event  \\\n",
       "0       418.0    1  a -73.99384  40.72405       4962.0      0.003774   \n",
       "1       418.0    1  a -73.99384  40.72405       4962.0      0.003774   \n",
       "2       418.0    1  b -73.99384  40.72405       4962.0      0.003774   \n",
       "3       418.0    1  b -73.99384  40.72405       4962.0      0.003774   \n",
       "4  15455345.0  754  b -73.99383  40.72408       4962.0      0.003774   \n",
       "\n",
       "   weight_user  \n",
       "0     0.004237  \n",
       "1     0.004237  \n",
       "2     0.004237  \n",
       "3     0.004237  \n",
       "4     0.004237  "
      ]
     },
     "execution_count": 4,
     "metadata": {},
     "output_type": "execute_result"
    }
   ],
   "source": [
    "# merge weights in to the point pattern data\n",
    "mpp = pd.merge(mpp, ny_wt_e, on='location_id')\n",
    "mpp = pd.merge(mpp, ny_wt_u, on='location_id', suffixes=('_event', '_user'))\n",
    "mpp.head()"
   ]
  },
  {
   "cell_type": "markdown",
   "metadata": {},
   "source": [
    "# Create necessary data for experiments\n",
    "\n",
    "## Population KDE"
   ]
  },
  {
   "cell_type": "code",
   "execution_count": 5,
   "metadata": {},
   "outputs": [
    {
     "data": {
      "text/plain": [
       "(989494, 4)"
      ]
     },
     "execution_count": 5,
     "metadata": {},
     "output_type": "execute_result"
    }
   ],
   "source": [
    "from kde.location_project.kde_2d import (\n",
    "    KDE,\n",
    "    MixtureKDE,\n",
    "    create_individual_component_data,\n",
    "    learn_nearest_neighbors_bandwidth\n",
    ")\n",
    "\n",
    "# learn the bandwidth for each point & save to file (it's expensive)\n",
    "filepath = os.path.join(\"..\", \"data\", \"DFRWS_USA\", \"ny\", \"population_visits_kde_data.npy\")\n",
    "\n",
    "# points = ny_deduped.loc[:, ['lon', 'lat']].values\n",
    "# bw_pop = learn_nearest_neighbors_bandwidth(points, k=5, min_bw=0.05)\n",
    "# kde_data = np.hstack([points, np.atleast_2d(bw_pop).T])  # adaptive bandwidth\n",
    "# kde_data = np.append(kde_data, np.ones((len(kde_data), 1)), 1)  # equal weights by default\n",
    "# np.save(filepath, kde_data)\n",
    "\n",
    "pop_kde_data = np.load(filepath)\n",
    "pop_kde_data.shape"
   ]
  },
  {
   "cell_type": "markdown",
   "metadata": {},
   "source": [
    "## Stratified Sample"
   ]
  },
  {
   "cell_type": "code",
   "execution_count": 6,
   "metadata": {},
   "outputs": [
    {
     "data": {
      "text/plain": [
       "bin_a        bin_b      \n",
       "[1.0, 2.0)   [1.0, 2.0)     3421\n",
       "             [2.0, 20.0)    3060\n",
       "             [20.0, inf)    1013\n",
       "[2.0, 20.0)  [1.0, 2.0)     3567\n",
       "             [2.0, 20.0)    6816\n",
       "             [20.0, inf)    1156\n",
       "[20.0, inf)  [1.0, 2.0)     1021\n",
       "             [2.0, 20.0)    1218\n",
       "             [20.0, inf)    1251\n",
       "Name: a, dtype: int64"
      ]
     },
     "execution_count": 6,
     "metadata": {},
     "output_type": "execute_result"
    }
   ],
   "source": [
    "import itertools \n",
    "np.random.seed(1234)\n",
    "splits = [1, 2, 20, float(\"inf\")]\n",
    "\n",
    "# create all pairwise combinations\n",
    "ids = mpp.uid.unique()\n",
    "samp_space = pd.DataFrame(itertools.product(ids, ids), columns=[\"a\", \"b\"])\n",
    "\n",
    "# merge in counts of events in A\n",
    "cts = mpp.groupby(['uid', 'm']).count().reset_index()\n",
    "cts = cts.loc[cts.m == 'a', ]\n",
    "cts = cts.rename(columns={\"old_uid\": \"n_a\"})\n",
    "cts.n_a.describe()\n",
    "samp_space = pd.merge(samp_space, cts[['uid', 'n_a']], left_on='a', right_on='uid').drop(columns=\"uid\")\n",
    "\n",
    "# merge in counts of events in B\n",
    "cts = mpp.groupby(['uid', 'm']).count().reset_index()\n",
    "cts = cts.loc[cts.m == 'b', ]\n",
    "cts = cts.rename(columns={\"old_uid\": \"n_b\"})\n",
    "cts.n_b.describe()\n",
    "samp_space = pd.merge(samp_space, cts[['uid', 'n_b']], left_on='b', right_on='uid').drop(columns=\"uid\")\n",
    "\n",
    "# bin the number of events in A and B for stratified sampling\n",
    "samp_space['bin_a'] = pd.cut(samp_space.n_a, bins=splits, right=False)\n",
    "samp_space['bin_b'] = pd.cut(samp_space.n_b, bins=splits, right=False)\n",
    "\n",
    "# sample 1000 pairs per combination of bins\n",
    "sample = samp_space.loc[samp_space.a != samp_space.b,].groupby(['bin_a', 'bin_b']).apply(lambda x: x.sample(1000))\n",
    "sample.index = sample.index.droplevel(0)\n",
    "sample.index = sample.index.droplevel(0)\n",
    "\n",
    "# add in same-source pairs\n",
    "sample = pd.concat([samp_space.loc[samp_space.a == samp_space.b,], sample], sort=True).reset_index(drop=True)\n",
    "\n",
    "# sample properties\n",
    "sample.groupby(['bin_a', 'bin_b'])['a'].count()\n"
   ]
  },
  {
   "cell_type": "markdown",
   "metadata": {},
   "source": [
    "## Score function values for the sample"
   ]
  },
  {
   "cell_type": "code",
   "execution_count": 7,
   "metadata": {},
   "outputs": [],
   "source": [
    "# from emd import emd\n",
    "# from kde.location_project.cmp import geodesic_dist\n",
    "\n",
    "\n",
    "# def get_user(mpp, uid, mark):\n",
    "#     out = mpp.copy()\n",
    "#     # out = out.drop_duplicates(subset=[\"location_id\", \"m\"])\n",
    "#     return out.loc[(out.uid == uid) & (out.m == mark)].reset_index(drop=True)\n",
    "\n",
    "\n",
    "# def population_scores(mpp, keeps):\n",
    "#     rslt = []    \n",
    "#     for index, row in keeps.iterrows():\n",
    "#         user_A = row[\"a\"]\n",
    "#         user_B = row[\"b\"]\n",
    "#         tmp = {}\n",
    "#         try:\n",
    "#             ### get the data for the pair in question\n",
    "#             tmp['a'] = user_A\n",
    "#             tmp['b'] = user_B\n",
    "#             uA = get_user(mpp, user_A, 'a')\n",
    "#             uB = get_user(mpp, user_B, 'b')\n",
    "\n",
    "#             ### compute weights\n",
    "#             uA_wt_e = (uA['weight_event'] / sum(uA['weight_event'])).to_numpy()\n",
    "#             uA_wt_u = (uA['weight_user'] / sum(uA['weight_user'])).to_numpy()\n",
    "#             uB_wt_e = (uB['weight_event'] / sum(uB['weight_event'])).to_numpy()\n",
    "#             uB_wt_u = (uB['weight_user'] / sum(uB['weight_user'])).to_numpy()\n",
    "\n",
    "#             ### compute the distance matrix & IED scores\n",
    "#             dist = geodesic_dist(uA[['lat', 'lon']], uB[['lat', 'lon']])\n",
    "#             ied = dist.min(1)\n",
    "#             tmp['ied_med'] = np.median(ied)\n",
    "#             tmp['ied_mn'] = np.average(ied)\n",
    "#             tmp['ied_mn_wt_event'] = np.average(ied, weights=uA_wt_e)\n",
    "#             tmp['ied_mn_wt_user'] = np.average(ied, weights=uA_wt_u)\n",
    "\n",
    "#             ### compute variants of EMD\n",
    "#             tmp['emd'] = emd(distance=\"precomputed\", D=dist)\n",
    "#             tmp['emd_wt_event'] = emd(\n",
    "#                 X_weights=uA_wt_e, Y_weights=uB_wt_e, distance=\"precomputed\", D=dist\n",
    "#             )\n",
    "#             tmp['emd_wt_user'] = emd(\n",
    "#                 X_weights=uA_wt_u, Y_weights=uB_wt_u, distance=\"precomputed\", D=dist\n",
    "#             )\n",
    "\n",
    "#             ### store it\n",
    "#             rslt.append(tmp)\n",
    "#         except:\n",
    "#             print(f\"Error! A = {user_A}, B = {user_B}\")\n",
    "#             continue\n",
    "#     return pd.DataFrame(rslt)\n",
    "\n",
    "# directory = os.path.join(\"..\", \"data\", \"DFRWS_USA\", \"ny\")\n",
    "# ny_rslt = population_scores(mpp, sample)\n",
    "# ny_rslt.to_csv(os.path.join(directory, \"score_func_vals.csv\"), index=False)"
   ]
  },
  {
   "cell_type": "code",
   "execution_count": 10,
   "metadata": {},
   "outputs": [
    {
     "data": {
      "text/html": [
       "<div>\n",
       "<style scoped>\n",
       "    .dataframe tbody tr th:only-of-type {\n",
       "        vertical-align: middle;\n",
       "    }\n",
       "\n",
       "    .dataframe tbody tr th {\n",
       "        vertical-align: top;\n",
       "    }\n",
       "\n",
       "    .dataframe thead th {\n",
       "        text-align: right;\n",
       "    }\n",
       "</style>\n",
       "<table border=\"1\" class=\"dataframe\">\n",
       "  <thead>\n",
       "    <tr style=\"text-align: right;\">\n",
       "      <th></th>\n",
       "      <th>a</th>\n",
       "      <th>b</th>\n",
       "      <th>ied_med</th>\n",
       "      <th>ied_mn</th>\n",
       "      <th>ied_mn_wt_event</th>\n",
       "      <th>ied_mn_wt_user</th>\n",
       "      <th>emd</th>\n",
       "      <th>emd_wt_event</th>\n",
       "      <th>emd_wt_user</th>\n",
       "    </tr>\n",
       "  </thead>\n",
       "  <tbody>\n",
       "    <tr>\n",
       "      <th>0</th>\n",
       "      <td>1</td>\n",
       "      <td>1</td>\n",
       "      <td>1.073439</td>\n",
       "      <td>3.514420</td>\n",
       "      <td>2.282388</td>\n",
       "      <td>1.890170</td>\n",
       "      <td>3.639262</td>\n",
       "      <td>2.511669</td>\n",
       "      <td>2.309186</td>\n",
       "    </tr>\n",
       "    <tr>\n",
       "      <th>1</th>\n",
       "      <td>754</td>\n",
       "      <td>754</td>\n",
       "      <td>0.000000</td>\n",
       "      <td>0.082594</td>\n",
       "      <td>0.012435</td>\n",
       "      <td>0.001714</td>\n",
       "      <td>10.621138</td>\n",
       "      <td>2.701960</td>\n",
       "      <td>0.217977</td>\n",
       "    </tr>\n",
       "    <tr>\n",
       "      <th>2</th>\n",
       "      <td>914</td>\n",
       "      <td>914</td>\n",
       "      <td>1.285994</td>\n",
       "      <td>1.170474</td>\n",
       "      <td>1.296949</td>\n",
       "      <td>1.307994</td>\n",
       "      <td>1.894247</td>\n",
       "      <td>4.340711</td>\n",
       "      <td>4.323836</td>\n",
       "    </tr>\n",
       "    <tr>\n",
       "      <th>3</th>\n",
       "      <td>963</td>\n",
       "      <td>963</td>\n",
       "      <td>0.304149</td>\n",
       "      <td>0.457392</td>\n",
       "      <td>0.664379</td>\n",
       "      <td>0.690030</td>\n",
       "      <td>1.756811</td>\n",
       "      <td>1.373963</td>\n",
       "      <td>1.453024</td>\n",
       "    </tr>\n",
       "    <tr>\n",
       "      <th>4</th>\n",
       "      <td>1398</td>\n",
       "      <td>1398</td>\n",
       "      <td>0.001395</td>\n",
       "      <td>0.294026</td>\n",
       "      <td>0.083932</td>\n",
       "      <td>0.069981</td>\n",
       "      <td>0.294026</td>\n",
       "      <td>0.083932</td>\n",
       "      <td>0.069981</td>\n",
       "    </tr>\n",
       "    <tr>\n",
       "      <th>...</th>\n",
       "      <td>...</td>\n",
       "      <td>...</td>\n",
       "      <td>...</td>\n",
       "      <td>...</td>\n",
       "      <td>...</td>\n",
       "      <td>...</td>\n",
       "      <td>...</td>\n",
       "      <td>...</td>\n",
       "      <td>...</td>\n",
       "    </tr>\n",
       "    <tr>\n",
       "      <th>22518</th>\n",
       "      <td>4060</td>\n",
       "      <td>9441</td>\n",
       "      <td>1.161314</td>\n",
       "      <td>0.959781</td>\n",
       "      <td>1.088293</td>\n",
       "      <td>1.115413</td>\n",
       "      <td>3.246198</td>\n",
       "      <td>2.830677</td>\n",
       "      <td>2.978483</td>\n",
       "    </tr>\n",
       "    <tr>\n",
       "      <th>22519</th>\n",
       "      <td>7534</td>\n",
       "      <td>11463</td>\n",
       "      <td>15.644413</td>\n",
       "      <td>12.690486</td>\n",
       "      <td>12.911996</td>\n",
       "      <td>14.391071</td>\n",
       "      <td>15.195952</td>\n",
       "      <td>16.323192</td>\n",
       "      <td>17.836107</td>\n",
       "    </tr>\n",
       "    <tr>\n",
       "      <th>22520</th>\n",
       "      <td>10051</td>\n",
       "      <td>2784</td>\n",
       "      <td>3.571658</td>\n",
       "      <td>2.659750</td>\n",
       "      <td>2.241595</td>\n",
       "      <td>2.339622</td>\n",
       "      <td>3.095235</td>\n",
       "      <td>2.742689</td>\n",
       "      <td>2.757518</td>\n",
       "    </tr>\n",
       "    <tr>\n",
       "      <th>22521</th>\n",
       "      <td>13401</td>\n",
       "      <td>6021</td>\n",
       "      <td>1.342960</td>\n",
       "      <td>1.293657</td>\n",
       "      <td>1.182785</td>\n",
       "      <td>1.233621</td>\n",
       "      <td>3.147209</td>\n",
       "      <td>2.573242</td>\n",
       "      <td>3.251477</td>\n",
       "    </tr>\n",
       "    <tr>\n",
       "      <th>22522</th>\n",
       "      <td>1432</td>\n",
       "      <td>8194</td>\n",
       "      <td>1.990377</td>\n",
       "      <td>1.905592</td>\n",
       "      <td>2.330570</td>\n",
       "      <td>2.266461</td>\n",
       "      <td>2.732725</td>\n",
       "      <td>3.284364</td>\n",
       "      <td>3.025431</td>\n",
       "    </tr>\n",
       "  </tbody>\n",
       "</table>\n",
       "<p>22523 rows × 9 columns</p>\n",
       "</div>"
      ],
      "text/plain": [
       "           a      b    ied_med     ied_mn  ied_mn_wt_event  ied_mn_wt_user  \\\n",
       "0          1      1   1.073439   3.514420         2.282388        1.890170   \n",
       "1        754    754   0.000000   0.082594         0.012435        0.001714   \n",
       "2        914    914   1.285994   1.170474         1.296949        1.307994   \n",
       "3        963    963   0.304149   0.457392         0.664379        0.690030   \n",
       "4       1398   1398   0.001395   0.294026         0.083932        0.069981   \n",
       "...      ...    ...        ...        ...              ...             ...   \n",
       "22518   4060   9441   1.161314   0.959781         1.088293        1.115413   \n",
       "22519   7534  11463  15.644413  12.690486        12.911996       14.391071   \n",
       "22520  10051   2784   3.571658   2.659750         2.241595        2.339622   \n",
       "22521  13401   6021   1.342960   1.293657         1.182785        1.233621   \n",
       "22522   1432   8194   1.990377   1.905592         2.330570        2.266461   \n",
       "\n",
       "             emd  emd_wt_event  emd_wt_user  \n",
       "0       3.639262      2.511669     2.309186  \n",
       "1      10.621138      2.701960     0.217977  \n",
       "2       1.894247      4.340711     4.323836  \n",
       "3       1.756811      1.373963     1.453024  \n",
       "4       0.294026      0.083932     0.069981  \n",
       "...          ...           ...          ...  \n",
       "22518   3.246198      2.830677     2.978483  \n",
       "22519  15.195952     16.323192    17.836107  \n",
       "22520   3.095235      2.742689     2.757518  \n",
       "22521   3.147209      2.573242     3.251477  \n",
       "22522   2.732725      3.284364     3.025431  \n",
       "\n",
       "[22523 rows x 9 columns]"
      ]
     },
     "execution_count": 10,
     "metadata": {},
     "output_type": "execute_result"
    }
   ],
   "source": [
    "directory = os.path.join(\"..\", \"data\", \"DFRWS_USA\", \"ny\")\n",
    "ny_rslt = pd.read_csv(os.path.join(directory, \"score_func_vals.csv\"))\n",
    "ny_rslt"
   ]
  },
  {
   "cell_type": "markdown",
   "metadata": {},
   "source": [
    "# Analyze Results"
   ]
  },
  {
   "cell_type": "code",
   "execution_count": 9,
   "metadata": {},
   "outputs": [],
   "source": [
    "from sklearn.metrics import roc_auc_score\n",
    "\n",
    "def perf_measure(y_actual, y_hat):\n",
    "    y_actual = list(y_actual)\n",
    "    y_hat = list(y_hat)\n",
    "\n",
    "    TP = 0\n",
    "    FP = 0\n",
    "    TN = 0\n",
    "    FN = 0\n",
    "\n",
    "    for i in range(len(y_hat)): \n",
    "        if y_actual[i]==y_hat[i]==1:\n",
    "           TP += 1\n",
    "        if y_hat[i]==1 and y_actual[i]!=y_hat[i]:\n",
    "           FP += 1\n",
    "        if y_actual[i]==y_hat[i]==0:\n",
    "           TN += 1\n",
    "        if y_hat[i]==0 and y_actual[i]!=y_hat[i]:\n",
    "           FN += 1\n",
    "    \n",
    "    tpr = TP / (TP + FN)\n",
    "    fpr = FP / (FP + TN)\n",
    "    \n",
    "    return (format(round(tpr, 3), '.3f'), format(round(fpr, 3), '.3f'))\n",
    "\n",
    "\n",
    "def calc_auc(rslt, score, column='label'):\n",
    "    return format(round(roc_auc_score(rslt[column], rslt[score]), 3), '.3f')\n",
    "\n",
    "\n",
    "def slr_classifier_performance_for_tex(rslt):\n",
    "    print(\"& Weights & $\\Delta$ &  TP@1  & FP@1  & AUC \\\\\\\\\")\n",
    "    print(\"\\\\hline\")\n",
    "    print(\n",
    "        \"& Account & $\\mean{D}_{min}$ & \",\n",
    "        \"{0[0]} & {0[1]}\".format(perf_measure(rslt['label'], rslt['ied_mn_wt_user'] > 1)), \"&\", \n",
    "        calc_auc(rslt,'ied_mn_wt_user'), \"\\\\\\\\\"\n",
    "    )\n",
    "    print(\n",
    "        \"& Account & EMD    & \", \n",
    "        \"{0[0]} & {0[1]}\".format(perf_measure(rslt['label'], rslt['emd_wt_user'] > 1)), \"&\", \n",
    "        calc_auc(rslt,'emd_wt_user'), \"\\\\\\\\\"\n",
    "    )\n",
    "    print(\n",
    "        \"& Uniform & $\\mean{D}_{min}$ & \", \n",
    "        \"{0[0]} & {0[1]}\".format(perf_measure(rslt['label'], rslt['ied_mn'] > 1)), \"&\", \n",
    "        calc_auc(rslt,'ied_mn'), \"\\\\\\\\\"\n",
    "    ) \n",
    "    print(\n",
    "        \"& Uniform & EMD     & \", \n",
    "        \"{0[0]} & {0[1]}\".format(perf_measure(rslt['label'], rslt['emd'] > 1)), \"&\", \n",
    "        calc_auc(rslt,'emd'), \"\\\\\\\\\"\n",
    "    )\n",
    "    print(\n",
    "        \"& Visit   & $\\mean{D}_{min}$ & \", \n",
    "        \"{0[0]} & {0[1]}\".format(perf_measure(rslt['label'], rslt['ied_mn_wt_event'] > 1)), \"&\", \n",
    "        calc_auc(rslt,'ied_mn_wt_event'), \"\\\\\\\\\"\n",
    "    )\n",
    "    print(\n",
    "        \"& Visit   & EMD      & \", \n",
    "        \"{0[0]} & {0[1]}\".format(perf_measure(rslt['label'], rslt['emd_wt_event'] > 1)), \"&\", \n",
    "        calc_auc(rslt,'emd_wt_event'), \"\\\\\\\\\"\n",
    "    )\n",
    "\n",
    "\n",
    "def cmp_classifier_performance_for_tex(rslt):\n",
    "    print(\"& $\\Delta$ & Weights & TP@0.05  & TP@0.01 & AUC    \")\n",
    "    print(\"\\\\hline\")\n",
    "    print(\n",
    "        \"& Account & $\\mean{D}_{min}$ & \",\n",
    "        perf_measure(~rslt['label'], rslt['ied_mn_wt_user'] < 0.05)[0], \"  &\",\n",
    "        perf_measure(~rslt['label'], rslt['ied_mn_wt_user'] < 0.01)[0], \"  &\",\n",
    "        calc_auc(rslt,'ied_mn_wt_user'), \"\\\\\\\\\"\n",
    "    )\n",
    "    print(\n",
    "        \"& Account & EMD & \",\n",
    "        perf_measure(~rslt['label'], rslt['emd_wt_user'] < 0.05)[0], \"  &\",\n",
    "        perf_measure(~rslt['label'], rslt['emd_wt_user'] < 0.01)[0], \"  &\",\n",
    "        calc_auc(rslt,'emd_wt_user'), \"\\\\\\\\\"\n",
    "    )\n",
    "    print(\n",
    "        \"& Uniform & $\\mean{D}_{min}$ & \", \n",
    "        perf_measure(~rslt['label'], rslt['ied_mn'] < 0.05)[0], \"  &\",\n",
    "        perf_measure(~rslt['label'], rslt['ied_mn'] < 0.01)[0], \"  &\",\n",
    "        calc_auc(rslt,'ied_mn'), \"\\\\\\\\\"\n",
    "    ) \n",
    "    print(\n",
    "        \"& Uniform & EMD & \", \n",
    "        perf_measure(~rslt['label'], rslt['emd'] < 0.05)[0], \"  &\",\n",
    "        perf_measure(~rslt['label'], rslt['emd'] < 0.01)[0], \"  &\",\n",
    "        calc_auc(rslt,'emd'), \"\\\\\\\\\"\n",
    "    )\n",
    "    print(\n",
    "        \"& Visit   & $\\mean{D}_{min}$ & \", \n",
    "        perf_measure(~rslt['label'], rslt['ied_mn_wt_event'] < 0.05)[0], \"  &\",\n",
    "        perf_measure(~rslt['label'], rslt['ied_mn_wt_event'] < 0.01)[0], \"  &\",\n",
    "        calc_auc(rslt,'ied_mn_wt_event'), \"\\\\\\\\\"\n",
    "    )\n",
    "    print(\n",
    "        \"& Visit   & EMD & \", \n",
    "        perf_measure(~rslt['label'], rslt['emd_wt_event'] < 0.05)[0], \"  &\",\n",
    "        perf_measure(~rslt['label'], rslt['emd_wt_event'] < 0.01)[0], \"  &\",\n",
    "        calc_auc(rslt,'emd_wt_event'), \"\\\\\\\\\"\n",
    "    )"
   ]
  },
  {
   "cell_type": "code",
   "execution_count": 29,
   "metadata": {},
   "outputs": [],
   "source": [
    "directory = os.path.join(\"..\", \"data\", \"DFRWS_USA\", \"ny\")\n",
    "slr = pd.read_csv(os.path.join(directory, \"slr.csv\"))\n",
    "cmp = pd.read_csv(os.path.join(directory, \"cmp.csv\"))\n",
    "lr = pd.read_csv(os.path.join(directory, \"lr.csv\"))\n",
    "\n",
    "slr[\"same-src\"] = (slr.a == slr.b).astype(bool)\n",
    "cmp[\"same-src\"] = (cmp.a == cmp.b).astype(bool)\n",
    "lr[\"same-src\"] = (lr.a == lr.b).astype(bool)"
   ]
  },
  {
   "cell_type": "code",
   "execution_count": 30,
   "metadata": {},
   "outputs": [
    {
     "name": "stdout",
     "output_type": "stream",
     "text": [
      "TP/FP@1 ('0.380', '0.038')\n",
      "AUC 0.845\n"
     ]
    }
   ],
   "source": [
    "print(\"TP/FP@1\", perf_measure(lr['same-src'], lr['lr_alpha_vary'] >= 0))\n",
    "print(\"AUC\", calc_auc(lr, 'lr_alpha_vary', 'same-src'))"
   ]
  },
  {
   "cell_type": "code",
   "execution_count": 31,
   "metadata": {},
   "outputs": [
    {
     "name": "stdout",
     "output_type": "stream",
     "text": [
      "TP/FP@1 ('0.340', '0.026')\n",
      "AUC 0.787\n"
     ]
    }
   ],
   "source": [
    "print(\"TP/FP@1\", perf_measure(lr['same-src'], lr['lr_alpha_80'] >= 0))\n",
    "print(\"AUC\", calc_auc(lr, 'lr_alpha_80', 'same-src'))"
   ]
  },
  {
   "cell_type": "code",
   "execution_count": 32,
   "metadata": {},
   "outputs": [
    {
     "name": "stdout",
     "output_type": "stream",
     "text": [
      "& Weights & $\\Delta$ &  TP@1  & FP@1  & AUC \\\\\n",
      "\\hline\n",
      "& Account & $\\mean{D}_{min}$ &  0.610 & 0.171 & 0.774 \\\\\n",
      "& Account & EMD    &  0.614 & 0.162 & 0.783 \\\\\n",
      "& Uniform & $\\mean{D}_{min}$ &  0.628 & 0.202 & 0.768 \\\\\n",
      "& Uniform & EMD     &  0.654 & 0.197 & 0.790 \\\\\n",
      "& Visit   & $\\mean{D}_{min}$ &  0.611 & 0.180 & 0.768 \\\\\n",
      "& Visit   & EMD      &  0.602 & 0.169 & 0.774 \\\\\n"
     ]
    }
   ],
   "source": [
    "slr['label'] = (slr.a == slr.b).astype(bool)  # same-src has larger slr\n",
    "slr_classifier_performance_for_tex(slr)"
   ]
  },
  {
   "cell_type": "code",
   "execution_count": 33,
   "metadata": {},
   "outputs": [
    {
     "name": "stdout",
     "output_type": "stream",
     "text": [
      "& $\\Delta$ & Weights & TP@0.05  & TP@0.01 & AUC    \n",
      "\\hline\n",
      "& Account & $\\mean{D}_{min}$ &  0.441   & 0.236   & 0.776 \\\\\n",
      "& Account & EMD &  0.448   & 0.208   & 0.784 \\\\\n",
      "& Uniform & $\\mean{D}_{min}$ &  0.389   & 0.187   & 0.771 \\\\\n",
      "& Uniform & EMD &  0.397   & 0.154   & 0.791 \\\\\n",
      "& Visit   & $\\mean{D}_{min}$ &  0.415   & 0.209   & 0.771 \\\\\n",
      "& Visit   & EMD &  0.425   & 0.182   & 0.775 \\\\\n"
     ]
    }
   ],
   "source": [
    "cmp['label'] = (cmp.a != cmp.b).astype(bool)  # same-src has larger slr\n",
    "cmp_classifier_performance_for_tex(cmp)"
   ]
  },
  {
   "cell_type": "markdown",
   "metadata": {},
   "source": [
    "## Accuracy by bin"
   ]
  },
  {
   "cell_type": "code",
   "execution_count": 34,
   "metadata": {},
   "outputs": [],
   "source": [
    "# get counts of events in A & B\n",
    "cts = mpp.groupby(['uid', 'm']).count().reset_index()\n",
    "\n",
    "cts_a = cts.loc[cts.m == 'a', ]\n",
    "cts_a = cts_a.rename(columns={\"old_uid\": \"n_a\"})\n",
    "cts_a = cts_a[['uid', 'n_a']]\n",
    "\n",
    "cts_b = cts.loc[cts.m == 'b', ]\n",
    "cts_b = cts_b.rename(columns={\"old_uid\": \"n_b\"})\n",
    "cts_b = cts_b[['uid', 'n_b']]"
   ]
  },
  {
   "cell_type": "markdown",
   "metadata": {},
   "source": [
    "### LR Methods"
   ]
  },
  {
   "cell_type": "code",
   "execution_count": 35,
   "metadata": {},
   "outputs": [],
   "source": [
    "# merge & bin counts\n",
    "lr = pd.merge(lr, cts_a, left_on=\"a\", right_on=\"uid\").drop(columns=\"uid\")\n",
    "lr = pd.merge(lr, cts_b, left_on=\"b\", right_on=\"uid\").drop(columns=\"uid\")\n",
    "\n",
    "splits = [1, 2, 20, float(\"inf\")]\n",
    "lr['bin_a'] = pd.cut(lr.n_a, bins=splits, right=False)\n",
    "lr['bin_b'] = pd.cut(lr.n_b, bins=splits, right=False)"
   ]
  },
  {
   "cell_type": "code",
   "execution_count": 36,
   "metadata": {},
   "outputs": [
    {
     "data": {
      "text/plain": [
       "bin_a        bin_b      \n",
       "[1.0, 2.0)   [1.0, 2.0)     2206\n",
       "             [2.0, 20.0)    1933\n",
       "             [20.0, inf)    1003\n",
       "[2.0, 20.0)  [1.0, 2.0)     2224\n",
       "             [2.0, 20.0)    3869\n",
       "             [20.0, inf)    1086\n",
       "[20.0, inf)  [1.0, 2.0)     1016\n",
       "             [2.0, 20.0)    1154\n",
       "             [20.0, inf)    1223\n",
       "Name: a, dtype: int64"
      ]
     },
     "execution_count": 36,
     "metadata": {},
     "output_type": "execute_result"
    }
   ],
   "source": [
    "lr.groupby(['bin_a', 'bin_b'])['a'].count()"
   ]
  },
  {
   "cell_type": "code",
   "execution_count": 48,
   "metadata": {},
   "outputs": [
    {
     "data": {
      "text/plain": [
       "bin_a        bin_b      \n",
       "[1.0, 2.0)   [1.0, 2.0)     0.676\n",
       "             [2.0, 20.0)    0.793\n",
       "             [20.0, inf)    0.736\n",
       "[2.0, 20.0)  [1.0, 2.0)     0.723\n",
       "             [2.0, 20.0)    0.746\n",
       "             [20.0, inf)    0.865\n",
       "[20.0, inf)  [1.0, 2.0)     0.830\n",
       "             [2.0, 20.0)    0.920\n",
       "             [20.0, inf)    0.977\n",
       "dtype: object"
      ]
     },
     "execution_count": 48,
     "metadata": {},
     "output_type": "execute_result"
    }
   ],
   "source": [
    "score_func = \"lr_alpha_vary\"\n",
    "lr.groupby(['bin_a', 'bin_b']).apply(lambda x: calc_auc(x, score_func, 'same-src'))"
   ]
  },
  {
   "cell_type": "code",
   "execution_count": 49,
   "metadata": {},
   "outputs": [
    {
     "data": {
      "text/plain": [
       "bin_a        bin_b      \n",
       "[1.0, 2.0)   [1.0, 2.0)     (0.187, 0.018)\n",
       "             [2.0, 20.0)    (0.294, 0.030)\n",
       "             [20.0, inf)    (0.333, 0.041)\n",
       "[2.0, 20.0)  [1.0, 2.0)     (0.272, 0.064)\n",
       "             [2.0, 20.0)    (0.453, 0.063)\n",
       "             [20.0, inf)    (0.791, 0.039)\n",
       "[20.0, inf)  [1.0, 2.0)     (0.625, 0.043)\n",
       "             [2.0, 20.0)    (0.851, 0.035)\n",
       "             [20.0, inf)    (0.933, 0.012)\n",
       "dtype: object"
      ]
     },
     "execution_count": 49,
     "metadata": {},
     "output_type": "execute_result"
    }
   ],
   "source": [
    "lr.groupby(['bin_a', 'bin_b']).apply(lambda x: perf_measure(x['same-src'], x[score_func] > 0))"
   ]
  },
  {
   "cell_type": "code",
   "execution_count": 50,
   "metadata": {},
   "outputs": [
    {
     "data": {
      "image/png": "[encoded data removed]",
      "text/plain": [
       "<Figure size 1080x720 with 2 Axes>"
      ]
     },
     "metadata": {
      "needs_background": "light"
     },
     "output_type": "display_data"
    }
   ],
   "source": [
    "f, axes = plt.subplots(1, 2, figsize=(15,10))\n",
    "sns.boxplot(y=score_func, x=\"bin_a\", data=lr.loc[lr[\"same-src\"] == True], hue=\"bin_b\", ax=axes[0]).set_title(\"Same-Source\")\n",
    "sns.boxplot(y=score_func, x=\"bin_a\", data=lr.loc[lr[\"same-src\"] == False], hue=\"bin_b\", ax=axes[1]).set_title(\"Diff-Source\")\n",
    "plt.show()\n"
   ]
  },
  {
   "cell_type": "markdown",
   "metadata": {},
   "source": [
    "### SLR Methods"
   ]
  },
  {
   "cell_type": "code",
   "execution_count": 40,
   "metadata": {},
   "outputs": [
    {
     "data": {
      "text/html": [
       "<div>\n",
       "<style scoped>\n",
       "    .dataframe tbody tr th:only-of-type {\n",
       "        vertical-align: middle;\n",
       "    }\n",
       "\n",
       "    .dataframe tbody tr th {\n",
       "        vertical-align: top;\n",
       "    }\n",
       "\n",
       "    .dataframe thead th {\n",
       "        text-align: right;\n",
       "    }\n",
       "</style>\n",
       "<table border=\"1\" class=\"dataframe\">\n",
       "  <thead>\n",
       "    <tr style=\"text-align: right;\">\n",
       "      <th></th>\n",
       "      <th>a</th>\n",
       "      <th>b</th>\n",
       "      <th>ied_med</th>\n",
       "      <th>ied_mn</th>\n",
       "      <th>ied_mn_wt_event</th>\n",
       "      <th>ied_mn_wt_user</th>\n",
       "      <th>emd</th>\n",
       "      <th>emd_wt_event</th>\n",
       "      <th>emd_wt_user</th>\n",
       "      <th>same-src</th>\n",
       "      <th>label</th>\n",
       "      <th>n_a</th>\n",
       "      <th>n_b</th>\n",
       "      <th>bin_a</th>\n",
       "      <th>bin_b</th>\n",
       "    </tr>\n",
       "  </thead>\n",
       "  <tbody>\n",
       "    <tr>\n",
       "      <th>0</th>\n",
       "      <td>1.0</td>\n",
       "      <td>1.0</td>\n",
       "      <td>0.357808</td>\n",
       "      <td>0.348943</td>\n",
       "      <td>0.351755</td>\n",
       "      <td>0.357431</td>\n",
       "      <td>0.300935</td>\n",
       "      <td>0.390402</td>\n",
       "      <td>0.398849</td>\n",
       "      <td>True</td>\n",
       "      <td>True</td>\n",
       "      <td>1</td>\n",
       "      <td>2</td>\n",
       "      <td>[1.0, 2.0)</td>\n",
       "      <td>[2.0, 20.0)</td>\n",
       "    </tr>\n",
       "    <tr>\n",
       "      <th>1</th>\n",
       "      <td>2310.0</td>\n",
       "      <td>1.0</td>\n",
       "      <td>0.248014</td>\n",
       "      <td>0.232466</td>\n",
       "      <td>0.223155</td>\n",
       "      <td>0.207772</td>\n",
       "      <td>0.169987</td>\n",
       "      <td>0.249149</td>\n",
       "      <td>0.235155</td>\n",
       "      <td>False</td>\n",
       "      <td>False</td>\n",
       "      <td>42</td>\n",
       "      <td>2</td>\n",
       "      <td>[20.0, inf)</td>\n",
       "      <td>[2.0, 20.0)</td>\n",
       "    </tr>\n",
       "    <tr>\n",
       "      <th>2</th>\n",
       "      <td>1.0</td>\n",
       "      <td>5679.0</td>\n",
       "      <td>0.582882</td>\n",
       "      <td>0.630841</td>\n",
       "      <td>0.608088</td>\n",
       "      <td>0.586331</td>\n",
       "      <td>0.987651</td>\n",
       "      <td>0.891648</td>\n",
       "      <td>0.846269</td>\n",
       "      <td>False</td>\n",
       "      <td>False</td>\n",
       "      <td>1</td>\n",
       "      <td>1</td>\n",
       "      <td>[1.0, 2.0)</td>\n",
       "      <td>[1.0, 2.0)</td>\n",
       "    </tr>\n",
       "    <tr>\n",
       "      <th>3</th>\n",
       "      <td>806.0</td>\n",
       "      <td>5679.0</td>\n",
       "      <td>0.400286</td>\n",
       "      <td>0.381784</td>\n",
       "      <td>0.399066</td>\n",
       "      <td>0.393618</td>\n",
       "      <td>0.379129</td>\n",
       "      <td>0.442828</td>\n",
       "      <td>0.432398</td>\n",
       "      <td>False</td>\n",
       "      <td>False</td>\n",
       "      <td>1</td>\n",
       "      <td>1</td>\n",
       "      <td>[1.0, 2.0)</td>\n",
       "      <td>[1.0, 2.0)</td>\n",
       "    </tr>\n",
       "    <tr>\n",
       "      <th>4</th>\n",
       "      <td>5679.0</td>\n",
       "      <td>5679.0</td>\n",
       "      <td>3.608145</td>\n",
       "      <td>4.000391</td>\n",
       "      <td>4.044515</td>\n",
       "      <td>4.015830</td>\n",
       "      <td>7.829822</td>\n",
       "      <td>8.272461</td>\n",
       "      <td>8.420063</td>\n",
       "      <td>True</td>\n",
       "      <td>True</td>\n",
       "      <td>1</td>\n",
       "      <td>1</td>\n",
       "      <td>[1.0, 2.0)</td>\n",
       "      <td>[1.0, 2.0)</td>\n",
       "    </tr>\n",
       "  </tbody>\n",
       "</table>\n",
       "</div>"
      ],
      "text/plain": [
       "        a       b   ied_med    ied_mn  ied_mn_wt_event  ied_mn_wt_user  \\\n",
       "0     1.0     1.0  0.357808  0.348943         0.351755        0.357431   \n",
       "1  2310.0     1.0  0.248014  0.232466         0.223155        0.207772   \n",
       "2     1.0  5679.0  0.582882  0.630841         0.608088        0.586331   \n",
       "3   806.0  5679.0  0.400286  0.381784         0.399066        0.393618   \n",
       "4  5679.0  5679.0  3.608145  4.000391         4.044515        4.015830   \n",
       "\n",
       "        emd  emd_wt_event  emd_wt_user  same-src  label  n_a  n_b  \\\n",
       "0  0.300935      0.390402     0.398849      True   True    1    2   \n",
       "1  0.169987      0.249149     0.235155     False  False   42    2   \n",
       "2  0.987651      0.891648     0.846269     False  False    1    1   \n",
       "3  0.379129      0.442828     0.432398     False  False    1    1   \n",
       "4  7.829822      8.272461     8.420063      True   True    1    1   \n",
       "\n",
       "         bin_a        bin_b  \n",
       "0   [1.0, 2.0)  [2.0, 20.0)  \n",
       "1  [20.0, inf)  [2.0, 20.0)  \n",
       "2   [1.0, 2.0)   [1.0, 2.0)  \n",
       "3   [1.0, 2.0)   [1.0, 2.0)  \n",
       "4   [1.0, 2.0)   [1.0, 2.0)  "
      ]
     },
     "execution_count": 40,
     "metadata": {},
     "output_type": "execute_result"
    }
   ],
   "source": [
    "# merge & bin counts\n",
    "slr = pd.merge(slr, cts_a, left_on=\"a\", right_on=\"uid\").drop(columns=\"uid\")\n",
    "slr = pd.merge(slr, cts_b, left_on=\"b\", right_on=\"uid\").drop(columns=\"uid\")\n",
    "\n",
    "splits = [1, 2, 20, float(\"inf\")]\n",
    "slr['bin_a'] = pd.cut(slr.n_a, bins=splits, right=False)\n",
    "slr['bin_b'] = pd.cut(slr.n_b, bins=splits, right=False)\n",
    "\n",
    "slr.head()"
   ]
  },
  {
   "cell_type": "code",
   "execution_count": 41,
   "metadata": {},
   "outputs": [
    {
     "data": {
      "text/plain": [
       "bin_a        bin_b      \n",
       "[1.0, 2.0)   [1.0, 2.0)     0.686\n",
       "             [2.0, 20.0)    0.742\n",
       "             [20.0, inf)    0.523\n",
       "[2.0, 20.0)  [1.0, 2.0)     0.733\n",
       "             [2.0, 20.0)    0.842\n",
       "             [20.0, inf)    0.938\n",
       "[20.0, inf)  [1.0, 2.0)     0.808\n",
       "             [2.0, 20.0)    0.957\n",
       "             [20.0, inf)    0.981\n",
       "dtype: object"
      ]
     },
     "execution_count": 41,
     "metadata": {},
     "output_type": "execute_result"
    }
   ],
   "source": [
    "score_func = 'ied_mn'\n",
    "slr.groupby(['bin_a', 'bin_b']).apply(lambda x: calc_auc(x, score_func, 'same-src'))"
   ]
  },
  {
   "cell_type": "code",
   "execution_count": 42,
   "metadata": {},
   "outputs": [
    {
     "data": {
      "text/plain": [
       "bin_a        bin_b      \n",
       "[1.0, 2.0)   [1.0, 2.0)     (0.461, 0.176)\n",
       "             [2.0, 20.0)    (0.626, 0.236)\n",
       "             [20.0, inf)    (0.333, 0.366)\n",
       "[2.0, 20.0)  [1.0, 2.0)     (0.446, 0.114)\n",
       "             [2.0, 20.0)    (0.723, 0.183)\n",
       "             [20.0, inf)    (0.942, 0.269)\n",
       "[20.0, inf)  [1.0, 2.0)     (0.562, 0.093)\n",
       "             [2.0, 20.0)    (0.929, 0.128)\n",
       "             [20.0, inf)    (0.996, 0.256)\n",
       "dtype: object"
      ]
     },
     "execution_count": 42,
     "metadata": {},
     "output_type": "execute_result"
    }
   ],
   "source": [
    "slr.groupby(['bin_a', 'bin_b']).apply(lambda x: perf_measure(x['same-src'], x[score_func] > 1))"
   ]
  },
  {
   "cell_type": "code",
   "execution_count": 43,
   "metadata": {},
   "outputs": [
    {
     "data": {
      "image/png": "[encoded data removed]",
      "text/plain": [
       "<Figure size 1080x720 with 2 Axes>"
      ]
     },
     "metadata": {
      "needs_background": "light"
     },
     "output_type": "display_data"
    }
   ],
   "source": [
    "f, axes = plt.subplots(1, 2, figsize=(15,10))\n",
    "sns.boxplot(y=score_func, x=\"bin_a\", data=slr.loc[slr[\"same-src\"] == True], hue=\"bin_b\", ax=axes[0]).set_title(\"Same-Source\")\n",
    "sns.boxplot(y=score_func, x=\"bin_a\", data=slr.loc[slr[\"same-src\"] == False], hue=\"bin_b\", ax=axes[1]).set_title(\"Diff-Source\")\n",
    "plt.show()"
   ]
  },
  {
   "cell_type": "markdown",
   "metadata": {},
   "source": [
    "### CMP Methods"
   ]
  },
  {
   "cell_type": "code",
   "execution_count": 44,
   "metadata": {},
   "outputs": [
    {
     "data": {
      "text/html": [
       "<div>\n",
       "<style scoped>\n",
       "    .dataframe tbody tr th:only-of-type {\n",
       "        vertical-align: middle;\n",
       "    }\n",
       "\n",
       "    .dataframe tbody tr th {\n",
       "        vertical-align: top;\n",
       "    }\n",
       "\n",
       "    .dataframe thead th {\n",
       "        text-align: right;\n",
       "    }\n",
       "</style>\n",
       "<table border=\"1\" class=\"dataframe\">\n",
       "  <thead>\n",
       "    <tr style=\"text-align: right;\">\n",
       "      <th></th>\n",
       "      <th>a</th>\n",
       "      <th>b</th>\n",
       "      <th>ied_med</th>\n",
       "      <th>ied_mn</th>\n",
       "      <th>ied_mn_wt_event</th>\n",
       "      <th>ied_mn_wt_user</th>\n",
       "      <th>emd</th>\n",
       "      <th>emd_wt_event</th>\n",
       "      <th>emd_wt_user</th>\n",
       "      <th>same-src</th>\n",
       "      <th>label</th>\n",
       "      <th>n_a</th>\n",
       "      <th>n_b</th>\n",
       "      <th>bin_a</th>\n",
       "      <th>bin_b</th>\n",
       "    </tr>\n",
       "  </thead>\n",
       "  <tbody>\n",
       "    <tr>\n",
       "      <th>0</th>\n",
       "      <td>1.0</td>\n",
       "      <td>1.0</td>\n",
       "      <td>0.801511</td>\n",
       "      <td>0.804401</td>\n",
       "      <td>0.789398</td>\n",
       "      <td>0.786953</td>\n",
       "      <td>0.783841</td>\n",
       "      <td>0.726384</td>\n",
       "      <td>0.714826</td>\n",
       "      <td>True</td>\n",
       "      <td>False</td>\n",
       "      <td>1</td>\n",
       "      <td>2</td>\n",
       "      <td>[1.0, 2.0)</td>\n",
       "      <td>[2.0, 20.0)</td>\n",
       "    </tr>\n",
       "    <tr>\n",
       "      <th>1</th>\n",
       "      <td>2310.0</td>\n",
       "      <td>1.0</td>\n",
       "      <td>0.973189</td>\n",
       "      <td>0.967182</td>\n",
       "      <td>0.967405</td>\n",
       "      <td>0.968517</td>\n",
       "      <td>0.971966</td>\n",
       "      <td>0.959951</td>\n",
       "      <td>0.958060</td>\n",
       "      <td>False</td>\n",
       "      <td>True</td>\n",
       "      <td>42</td>\n",
       "      <td>2</td>\n",
       "      <td>[20.0, inf)</td>\n",
       "      <td>[2.0, 20.0)</td>\n",
       "    </tr>\n",
       "    <tr>\n",
       "      <th>2</th>\n",
       "      <td>1.0</td>\n",
       "      <td>5679.0</td>\n",
       "      <td>0.374097</td>\n",
       "      <td>0.360645</td>\n",
       "      <td>0.353974</td>\n",
       "      <td>0.354530</td>\n",
       "      <td>0.200556</td>\n",
       "      <td>0.197999</td>\n",
       "      <td>0.195553</td>\n",
       "      <td>False</td>\n",
       "      <td>True</td>\n",
       "      <td>1</td>\n",
       "      <td>1</td>\n",
       "      <td>[1.0, 2.0)</td>\n",
       "      <td>[1.0, 2.0)</td>\n",
       "    </tr>\n",
       "    <tr>\n",
       "      <th>3</th>\n",
       "      <td>806.0</td>\n",
       "      <td>5679.0</td>\n",
       "      <td>0.746581</td>\n",
       "      <td>0.749805</td>\n",
       "      <td>0.731903</td>\n",
       "      <td>0.732792</td>\n",
       "      <td>0.647059</td>\n",
       "      <td>0.613588</td>\n",
       "      <td>0.615145</td>\n",
       "      <td>False</td>\n",
       "      <td>True</td>\n",
       "      <td>1</td>\n",
       "      <td>1</td>\n",
       "      <td>[1.0, 2.0)</td>\n",
       "      <td>[1.0, 2.0)</td>\n",
       "    </tr>\n",
       "    <tr>\n",
       "      <th>4</th>\n",
       "      <td>5679.0</td>\n",
       "      <td>5679.0</td>\n",
       "      <td>0.061583</td>\n",
       "      <td>0.052357</td>\n",
       "      <td>0.050578</td>\n",
       "      <td>0.051356</td>\n",
       "      <td>0.023010</td>\n",
       "      <td>0.019453</td>\n",
       "      <td>0.019564</td>\n",
       "      <td>True</td>\n",
       "      <td>False</td>\n",
       "      <td>1</td>\n",
       "      <td>1</td>\n",
       "      <td>[1.0, 2.0)</td>\n",
       "      <td>[1.0, 2.0)</td>\n",
       "    </tr>\n",
       "  </tbody>\n",
       "</table>\n",
       "</div>"
      ],
      "text/plain": [
       "        a       b   ied_med    ied_mn  ied_mn_wt_event  ied_mn_wt_user  \\\n",
       "0     1.0     1.0  0.801511  0.804401         0.789398        0.786953   \n",
       "1  2310.0     1.0  0.973189  0.967182         0.967405        0.968517   \n",
       "2     1.0  5679.0  0.374097  0.360645         0.353974        0.354530   \n",
       "3   806.0  5679.0  0.746581  0.749805         0.731903        0.732792   \n",
       "4  5679.0  5679.0  0.061583  0.052357         0.050578        0.051356   \n",
       "\n",
       "        emd  emd_wt_event  emd_wt_user  same-src  label  n_a  n_b  \\\n",
       "0  0.783841      0.726384     0.714826      True  False    1    2   \n",
       "1  0.971966      0.959951     0.958060     False   True   42    2   \n",
       "2  0.200556      0.197999     0.195553     False   True    1    1   \n",
       "3  0.647059      0.613588     0.615145     False   True    1    1   \n",
       "4  0.023010      0.019453     0.019564      True  False    1    1   \n",
       "\n",
       "         bin_a        bin_b  \n",
       "0   [1.0, 2.0)  [2.0, 20.0)  \n",
       "1  [20.0, inf)  [2.0, 20.0)  \n",
       "2   [1.0, 2.0)   [1.0, 2.0)  \n",
       "3   [1.0, 2.0)   [1.0, 2.0)  \n",
       "4   [1.0, 2.0)   [1.0, 2.0)  "
      ]
     },
     "execution_count": 44,
     "metadata": {},
     "output_type": "execute_result"
    }
   ],
   "source": [
    "# merge & bin counts\n",
    "cmp = pd.merge(cmp, cts_a, left_on=\"a\", right_on=\"uid\").drop(columns=\"uid\")\n",
    "cmp = pd.merge(cmp, cts_b, left_on=\"b\", right_on=\"uid\").drop(columns=\"uid\")\n",
    "\n",
    "splits = [1, 2, 20, float(\"inf\")]\n",
    "cmp['bin_a'] = pd.cut(cmp.n_a, bins=splits, right=False)\n",
    "cmp['bin_b'] = pd.cut(cmp.n_b, bins=splits, right=False)\n",
    "\n",
    "cmp.head()"
   ]
  },
  {
   "cell_type": "code",
   "execution_count": 45,
   "metadata": {},
   "outputs": [
    {
     "data": {
      "text/plain": [
       "bin_a        bin_b      \n",
       "[1.0, 2.0)   [1.0, 2.0)     0.692\n",
       "             [2.0, 20.0)    0.719\n",
       "             [20.0, inf)    0.566\n",
       "[2.0, 20.0)  [1.0, 2.0)     0.751\n",
       "             [2.0, 20.0)    0.818\n",
       "             [20.0, inf)    0.920\n",
       "[20.0, inf)  [1.0, 2.0)     0.806\n",
       "             [2.0, 20.0)    0.946\n",
       "             [20.0, inf)    0.970\n",
       "dtype: object"
      ]
     },
     "execution_count": 45,
     "metadata": {},
     "output_type": "execute_result"
    }
   ],
   "source": [
    "score_func = 'emd_wt_user'\n",
    "cmp.groupby(['bin_a', 'bin_b']).apply(lambda x: calc_auc(x, score_func, 'label'))"
   ]
  },
  {
   "cell_type": "code",
   "execution_count": 46,
   "metadata": {},
   "outputs": [
    {
     "data": {
      "text/plain": [
       "bin_a        bin_b      \n",
       "[1.0, 2.0)   [1.0, 2.0)     (0.404, 0.132)\n",
       "             [2.0, 20.0)    (0.362, 0.063)\n",
       "             [20.0, inf)    (0.333, 0.038)\n",
       "[2.0, 20.0)  [1.0, 2.0)     (0.421, 0.074)\n",
       "             [2.0, 20.0)    (0.460, 0.040)\n",
       "             [20.0, inf)    (0.674, 0.025)\n",
       "[20.0, inf)  [1.0, 2.0)     (0.562, 0.046)\n",
       "             [2.0, 20.0)    (0.695, 0.016)\n",
       "             [20.0, inf)    (0.780, 0.017)\n",
       "dtype: object"
      ]
     },
     "execution_count": 46,
     "metadata": {},
     "output_type": "execute_result"
    }
   ],
   "source": [
    "cmp.groupby(['bin_a', 'bin_b']).apply(lambda x: perf_measure(x['same-src'], x[score_func] < 0.05))"
   ]
  },
  {
   "cell_type": "code",
   "execution_count": 47,
   "metadata": {},
   "outputs": [
    {
     "data": {
      "image/png": "[encoded data removed]",
      "text/plain": [
       "<Figure size 1080x720 with 2 Axes>"
      ]
     },
     "metadata": {
      "needs_background": "light"
     },
     "output_type": "display_data"
    }
   ],
   "source": [
    "f, axes = plt.subplots(1, 2, figsize=(15,10))\n",
    "sns.boxplot(y=score_func, x=\"bin_a\", data=cmp.loc[cmp[\"same-src\"] == True], hue=\"bin_b\", ax=axes[0]).set_title(\"Same-Source\")\n",
    "sns.boxplot(y=score_func, x=\"bin_a\", data=cmp.loc[cmp[\"same-src\"] == False], hue=\"bin_b\", ax=axes[1]).set_title(\"Diff-Source\")\n",
    "plt.show()"
   ]
  },
  {
   "cell_type": "code",
   "execution_count": null,
   "metadata": {},
   "outputs": [],
   "source": []
  }
 ],
 "metadata": {
  "kernelspec": {
   "display_name": "spatial-assocr",
   "language": "python",
   "name": "spatial-assocr"
  },
  "language_info": {
   "codemirror_mode": {
    "name": "ipython",
    "version": 3
   },
   "file_extension": ".py",
   "mimetype": "text/x-python",
   "name": "python",
   "nbconvert_exporter": "python",
   "pygments_lexer": "ipython3",
   "version": "3.6.6"
  }
 },
 "nbformat": 4,
 "nbformat_minor": 2
}
