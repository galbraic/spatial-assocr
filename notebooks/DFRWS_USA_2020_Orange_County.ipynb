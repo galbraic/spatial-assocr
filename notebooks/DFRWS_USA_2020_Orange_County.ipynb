{
 "cells": [
  {
   "cell_type": "code",
   "execution_count": 1,
   "metadata": {},
   "outputs": [
    {
     "data": {
      "text/html": [
       "        <script type=\"text/javascript\">\n",
       "        window.PlotlyConfig = {MathJaxConfig: 'local'};\n",
       "        if (window.MathJax) {MathJax.Hub.Config({SVG: {font: \"STIX-Web\"}});}\n",
       "        if (typeof require !== 'undefined') {\n",
       "        require.undef(\"plotly\");\n",
       "        requirejs.config({\n",
       "            paths: {\n",
       "                'plotly': ['https://cdn.plot.ly/plotly-latest.min']\n",
       "            }\n",
       "        });\n",
       "        require(['plotly'], function(Plotly) {\n",
       "            window._Plotly = Plotly;\n",
       "        });\n",
       "        }\n",
       "        </script>\n",
       "        "
      ]
     },
     "metadata": {},
     "output_type": "display_data"
    }
   ],
   "source": [
    "import numpy as np\n",
    "import pandas as pd\n",
    "import os\n",
    "import sys\n",
    "import matplotlib.pyplot as plt\n",
    "import plotly\n",
    "from plotly.offline import download_plotlyjs, init_notebook_mode, plot, iplot\n",
    "import plotly.graph_objs as go\n",
    "import seaborn as sns\n",
    "import time\n",
    "\n",
    "from emd import emd\n",
    "from kde.location_project.cmp import geodesic_dist\n",
    "# from kde.location_project.kde_2d import kdnearest\n",
    "\n",
    "sys.setrecursionlimit(10000)\n",
    "\n",
    "%matplotlib inline\n",
    "init_notebook_mode(connected=True)\n",
    "\n",
    "%load_ext autoreload\n",
    "%autoreload 2\n",
    "\n",
    "pd.options.mode.chained_assignment = None # turn off SettingWithCopyWarning\n",
    "\n",
    "np.random.seed(1234)\n",
    "time_span = 'month'\n",
    "n_visits = 20"
   ]
  },
  {
   "cell_type": "markdown",
   "metadata": {},
   "source": [
    "# Geolocation Data - Twitter\n",
    "\n",
    "NOTE: all of the results in the paper discussed B as fixed, but in this analysis A is fixed."
   ]
  },
  {
   "cell_type": "code",
   "execution_count": 2,
   "metadata": {},
   "outputs": [
    {
     "name": "stdout",
     "output_type": "stream",
     "text": [
      "Days: 240\n",
      "Accounts: 103271\n",
      "Events: 655917 (6.4)\n",
      "Visits: 545697 (5.3)\n",
      "\n",
      "MPP DATA (at least 20 visits in each of the first two months)\n",
      "Users: 223\n",
      "Visits: 28052 (125.8)\n"
     ]
    }
   ],
   "source": [
    "### OC\n",
    "oc_directory = os.path.join(\"..\", \"data\", \"oc\") \n",
    "oc = pd.read_csv(os.path.join(oc_directory, \"visits_no_filter.csv\"))\n",
    "oc_deduped = pd.read_csv(os.path.join(oc_directory, \"visits_deduped.csv\"))\n",
    "oc_mpp = pd.read_csv(os.path.join(oc_directory, \"mpp_visits_month0a_month1b_n20.csv\"))\n",
    "\n",
    "print(\"Days:\", oc['day_id'].nunique())\n",
    "print(\"Accounts:\", oc['user_id'].nunique())\n",
    "print(\"Events: \", oc.shape[0], \" (\", round(oc.shape[0] / oc['user_id'].nunique(), 1), \")\",sep=\"\")\n",
    "print(\"Visits: \", oc_deduped.shape[0], \" (\", round(oc_deduped.shape[0] / oc['user_id'].nunique(), 1), \")\",sep=\"\")\n",
    "print(\"\")\n",
    "print(\"MPP DATA (at least {} visits in each of the first two {}s)\".format(n_visits, time_span))\n",
    "print(\"Users:\", oc_mpp['uid'].nunique())\n",
    "print(\"Visits: \", len(oc_mpp), \" (\", round(len(oc_mpp) / oc_mpp['uid'].nunique(), 1), \")\",sep=\"\")"
   ]
  },
  {
   "cell_type": "code",
   "execution_count": 3,
   "metadata": {},
   "outputs": [
    {
     "data": {
      "text/html": [
       "<div>\n",
       "<style scoped>\n",
       "    .dataframe tbody tr th:only-of-type {\n",
       "        vertical-align: middle;\n",
       "    }\n",
       "\n",
       "    .dataframe tbody tr th {\n",
       "        vertical-align: top;\n",
       "    }\n",
       "\n",
       "    .dataframe thead th {\n",
       "        text-align: right;\n",
       "    }\n",
       "</style>\n",
       "<table border=\"1\" class=\"dataframe\">\n",
       "  <thead>\n",
       "    <tr style=\"text-align: right;\">\n",
       "      <th></th>\n",
       "      <th>old_uid</th>\n",
       "      <th>uid</th>\n",
       "      <th>lon</th>\n",
       "      <th>lat</th>\n",
       "      <th>location_id</th>\n",
       "      <th>visit</th>\n",
       "      <th>month</th>\n",
       "      <th>event_id</th>\n",
       "      <th>weight_event</th>\n",
       "      <th>weight_user</th>\n",
       "    </tr>\n",
       "  </thead>\n",
       "  <tbody>\n",
       "    <tr>\n",
       "      <th>0</th>\n",
       "      <td>294.0</td>\n",
       "      <td>-1.0</td>\n",
       "      <td>-117.88171</td>\n",
       "      <td>33.67500</td>\n",
       "      <td>112474.0</td>\n",
       "      <td>0</td>\n",
       "      <td>3.0</td>\n",
       "      <td>2851744.0</td>\n",
       "      <td>0.111111</td>\n",
       "      <td>0.166667</td>\n",
       "    </tr>\n",
       "    <tr>\n",
       "      <th>1</th>\n",
       "      <td>294.0</td>\n",
       "      <td>-1.0</td>\n",
       "      <td>-117.88171</td>\n",
       "      <td>33.67500</td>\n",
       "      <td>112474.0</td>\n",
       "      <td>1</td>\n",
       "      <td>3.0</td>\n",
       "      <td>8240773.0</td>\n",
       "      <td>0.111111</td>\n",
       "      <td>0.166667</td>\n",
       "    </tr>\n",
       "    <tr>\n",
       "      <th>2</th>\n",
       "      <td>7822352.0</td>\n",
       "      <td>-1.0</td>\n",
       "      <td>-117.88159</td>\n",
       "      <td>33.67472</td>\n",
       "      <td>112474.0</td>\n",
       "      <td>10</td>\n",
       "      <td>2.0</td>\n",
       "      <td>3995518.0</td>\n",
       "      <td>0.111111</td>\n",
       "      <td>0.166667</td>\n",
       "    </tr>\n",
       "    <tr>\n",
       "      <th>3</th>\n",
       "      <td>20964826.0</td>\n",
       "      <td>-1.0</td>\n",
       "      <td>-117.88171</td>\n",
       "      <td>33.67500</td>\n",
       "      <td>112474.0</td>\n",
       "      <td>15</td>\n",
       "      <td>3.0</td>\n",
       "      <td>8345505.0</td>\n",
       "      <td>0.111111</td>\n",
       "      <td>0.166667</td>\n",
       "    </tr>\n",
       "    <tr>\n",
       "      <th>4</th>\n",
       "      <td>31643612.0</td>\n",
       "      <td>-1.0</td>\n",
       "      <td>-117.88159</td>\n",
       "      <td>33.67512</td>\n",
       "      <td>112474.0</td>\n",
       "      <td>1</td>\n",
       "      <td>2.0</td>\n",
       "      <td>4677596.0</td>\n",
       "      <td>0.111111</td>\n",
       "      <td>0.166667</td>\n",
       "    </tr>\n",
       "  </tbody>\n",
       "</table>\n",
       "</div>"
      ],
      "text/plain": [
       "      old_uid  uid        lon       lat  location_id  visit  month   event_id  \\\n",
       "0       294.0 -1.0 -117.88171  33.67500     112474.0      0    3.0  2851744.0   \n",
       "1       294.0 -1.0 -117.88171  33.67500     112474.0      1    3.0  8240773.0   \n",
       "2   7822352.0 -1.0 -117.88159  33.67472     112474.0     10    2.0  3995518.0   \n",
       "3  20964826.0 -1.0 -117.88171  33.67500     112474.0     15    3.0  8345505.0   \n",
       "4  31643612.0 -1.0 -117.88159  33.67512     112474.0      1    2.0  4677596.0   \n",
       "\n",
       "   weight_event  weight_user  \n",
       "0      0.111111     0.166667  \n",
       "1      0.111111     0.166667  \n",
       "2      0.111111     0.166667  \n",
       "3      0.111111     0.166667  \n",
       "4      0.111111     0.166667  "
      ]
     },
     "execution_count": 3,
     "metadata": {},
     "output_type": "execute_result"
    }
   ],
   "source": [
    "# location weights based on number of visits\n",
    "oc_locs = oc_deduped.groupby('location_id')['event_id'].count()\n",
    "oc_wt_e = pd.DataFrame(oc_locs).reset_index().rename(columns={'event_id': 'weight'})\n",
    "oc_wt_e['weight'] = 1 / oc_wt_e['weight']\n",
    "\n",
    "# location weights based on number of unique users at location\n",
    "oc_locs_users = oc_deduped.groupby(['location_id'])['old_uid'].nunique()\n",
    "oc_wt_u = pd.DataFrame(oc_locs_users).reset_index().rename(columns={'old_uid': 'weight'})\n",
    "oc_wt_u['weight'] = 1 / oc_wt_u['weight']\n",
    "\n",
    "# merge weights in to the point pattern data\n",
    "oc_deduped = pd.merge(oc_deduped, oc_wt_e, on='location_id')\n",
    "oc_deduped = pd.merge(oc_deduped, oc_wt_u, on='location_id', suffixes=('_event', '_user'))\n",
    "oc_deduped.head()"
   ]
  },
  {
   "cell_type": "markdown",
   "metadata": {},
   "source": [
    "# Test KDE-based LR"
   ]
  },
  {
   "cell_type": "code",
   "execution_count": 4,
   "metadata": {},
   "outputs": [],
   "source": [
    "from kde.location_project.kde_2d import (\n",
    "    KDE,\n",
    "    MixtureKDE,\n",
    "    create_individual_component_data,\n",
    "    learn_nearest_neighbors_bandwidth\n",
    ")"
   ]
  },
  {
   "cell_type": "markdown",
   "metadata": {},
   "source": [
    "### Create Population KDE"
   ]
  },
  {
   "cell_type": "code",
   "execution_count": 5,
   "metadata": {},
   "outputs": [],
   "source": [
    "# learn the bandwidth for each point & save to file (it's expensive)\n",
    "filepath = os.path.join(\"..\", \"data\", \"DFRWS_USA\", \"oc\", \"population_visits_kde_data.npy\")\n",
    "\n",
    "# points = oc_deduped.loc[:, ['lon', 'lat']].values\n",
    "# bw_pop = learn_nearest_neighbors_bandwidth(points, k=5, min_bw=0.05)\n",
    "# kde_data = np.hstack([points, np.atleast_2d(bw_pop).T])  # adaptive bandwidth\n",
    "# kde_data = np.append(kde_data, np.ones((len(kde_data), 1)), 1)  # equal weights by default\n",
    "# np.save(filepath, kde_data)\n",
    "\n",
    "pop_kde_data = np.load(filepath)"
   ]
  },
  {
   "cell_type": "markdown",
   "metadata": {},
   "source": [
    "## Perform LR computation incorporating marks"
   ]
  },
  {
   "cell_type": "code",
   "execution_count": 6,
   "metadata": {},
   "outputs": [
    {
     "data": {
      "text/plain": [
       "-56.21252916209298"
      ]
     },
     "execution_count": 6,
     "metadata": {},
     "output_type": "execute_result"
    }
   ],
   "source": [
    "def calculate_lr(mpp, pop_kde_data, uA, uB):\n",
    "    # get index of points in patterns A and B, respectively\n",
    "    ind_A = (mpp.uid == uA )& (mpp.m == 'a')\n",
    "    ind_B = (mpp.uid == uB) & (mpp.m == 'b')\n",
    "\n",
    "    # create the mixture KDE\n",
    "    i_kde_data = create_individual_component_data(mpp.loc[ind_A, ])\n",
    "    i_kde = MixtureKDE(i_kde_data, pop_kde_data)\n",
    "\n",
    "    # evaluate the points in question (pattern B)\n",
    "    eval_points = mpp.loc[ind_B, ['lon', 'lat']].values\n",
    "    pop_kde = KDE(pop_kde_data)\n",
    "    \n",
    "    return i_kde.log_lik(eval_points) - pop_kde.log_lik(eval_points)\n",
    "\n",
    "\n",
    "calculate_lr(oc_mpp, pop_kde_data, uA=1, uB=2)"
   ]
  },
  {
   "cell_type": "code",
   "execution_count": 7,
   "metadata": {},
   "outputs": [
    {
     "data": {
      "text/plain": [
       "11.852661141193224"
      ]
     },
     "execution_count": 7,
     "metadata": {},
     "output_type": "execute_result"
    }
   ],
   "source": [
    "calculate_lr(oc_mpp, pop_kde_data, uA=1, uB=1)"
   ]
  },
  {
   "cell_type": "markdown",
   "metadata": {},
   "source": [
    "# Perform Test of LR Experiment"
   ]
  },
  {
   "cell_type": "code",
   "execution_count": 8,
   "metadata": {},
   "outputs": [
    {
     "data": {
      "text/html": [
       "<div>\n",
       "<style scoped>\n",
       "    .dataframe tbody tr th:only-of-type {\n",
       "        vertical-align: middle;\n",
       "    }\n",
       "\n",
       "    .dataframe tbody tr th {\n",
       "        vertical-align: top;\n",
       "    }\n",
       "\n",
       "    .dataframe thead th {\n",
       "        text-align: right;\n",
       "    }\n",
       "</style>\n",
       "<table border=\"1\" class=\"dataframe\">\n",
       "  <thead>\n",
       "    <tr style=\"text-align: right;\">\n",
       "      <th></th>\n",
       "      <th>a</th>\n",
       "      <th>b</th>\n",
       "      <th>lr</th>\n",
       "    </tr>\n",
       "  </thead>\n",
       "  <tbody>\n",
       "    <tr>\n",
       "      <th>0</th>\n",
       "      <td>1</td>\n",
       "      <td>1</td>\n",
       "      <td>-8.835582</td>\n",
       "    </tr>\n",
       "    <tr>\n",
       "      <th>1</th>\n",
       "      <td>2</td>\n",
       "      <td>2</td>\n",
       "      <td>162.280836</td>\n",
       "    </tr>\n",
       "    <tr>\n",
       "      <th>2</th>\n",
       "      <td>3</td>\n",
       "      <td>3</td>\n",
       "      <td>416.939839</td>\n",
       "    </tr>\n",
       "    <tr>\n",
       "      <th>3</th>\n",
       "      <td>4</td>\n",
       "      <td>4</td>\n",
       "      <td>158.669085</td>\n",
       "    </tr>\n",
       "    <tr>\n",
       "      <th>4</th>\n",
       "      <td>5</td>\n",
       "      <td>5</td>\n",
       "      <td>-25.844216</td>\n",
       "    </tr>\n",
       "  </tbody>\n",
       "</table>\n",
       "</div>"
      ],
      "text/plain": [
       "   a  b          lr\n",
       "0  1  1   -8.835582\n",
       "1  2  2  162.280836\n",
       "2  3  3  416.939839\n",
       "3  4  4  158.669085\n",
       "4  5  5  -25.844216"
      ]
     },
     "execution_count": 8,
     "metadata": {},
     "output_type": "execute_result"
    }
   ],
   "source": [
    "# import itertools\n",
    "\n",
    "# ids = oc_mpp.uid.unique()\n",
    "# samp_space = pd.DataFrame(itertools.product(ids, ids), columns=[\"a\", \"b\"])\n",
    "# d = samp_space.loc[samp_space.a != samp_space.b, ].sample(1000-223, random_state=1234)\n",
    "# sample = pd.concat([samp_space.loc[samp_space.a == samp_space.b, [\"a\", \"b\"]], d]).reset_index(\n",
    "#     drop=True\n",
    "# )\n",
    "\n",
    "# lr = []\n",
    "# for index, row in sample.iterrows():\n",
    "#     if index % round(len(sample) / 10) == 0:\n",
    "#         print(round(index / len(sample), 1) * 100, \"%\")\n",
    "#     tmp = {\"a\": row[\"a\"], \"b\": row[\"b\"]}\n",
    "#     tmp[\"lr\"] = calculate_lr(oc_mpp, pop_kde_data, uA=row[\"a\"], uB=row[\"b\"])\n",
    "#     lr.append(tmp)\n",
    "    \n",
    "# lr = pd.DataFrame.from_dict(lr)\n",
    "\n",
    "# lr.to_csv(\n",
    "#     os.path.join(\"..\", \"data\", \"DFRWS_USA\", \"oc\", \"lr_alpha80.csv\"),\n",
    "#     index=False\n",
    "# )\n",
    "\n",
    "lr = pd.read_csv(os.path.join(\"..\", \"data\", \"DFRWS_USA\", \"oc\", \"lr_alpha80.csv\"))\n",
    "lr.head()"
   ]
  },
  {
   "cell_type": "code",
   "execution_count": 9,
   "metadata": {},
   "outputs": [],
   "source": [
    "from sklearn.metrics import roc_auc_score\n",
    "\n",
    "def perf_measure(y_actual, y_hat):\n",
    "    y_actual = list(y_actual)\n",
    "    y_hat = list(y_hat)\n",
    "\n",
    "    TP = 0\n",
    "    FP = 0\n",
    "    TN = 0\n",
    "    FN = 0\n",
    "\n",
    "    for i in range(len(y_hat)): \n",
    "        if y_actual[i]==y_hat[i]==1:\n",
    "           TP += 1\n",
    "        if y_hat[i]==1 and y_actual[i]!=y_hat[i]:\n",
    "           FP += 1\n",
    "        if y_actual[i]==y_hat[i]==0:\n",
    "           TN += 1\n",
    "        if y_hat[i]==0 and y_actual[i]!=y_hat[i]:\n",
    "           FN += 1\n",
    "    \n",
    "    tpr = TP / (TP + FN)\n",
    "    fpr = FP / (FP + TN)\n",
    "    \n",
    "    return (format(round(tpr, 3), '.3f'), format(round(fpr, 3), '.3f'))\n",
    "\n",
    "\n",
    "def calc_auc(rslt, score, column='label'):\n",
    "    return format(round(roc_auc_score(rslt[column], rslt[score]), 3), '.3f')"
   ]
  },
  {
   "cell_type": "code",
   "execution_count": 10,
   "metadata": {},
   "outputs": [
    {
     "name": "stdout",
     "output_type": "stream",
     "text": [
      "TP/FP@1 ('0.870', '0.003')\n",
      "AUC 0.974\n"
     ]
    }
   ],
   "source": [
    "lr[\"same-src\"] = (lr.a == lr.b).astype(bool)\n",
    "\n",
    "print(\"TP/FP@1\", perf_measure(lr['same-src'], lr['lr'] >= 0))\n",
    "print(\"AUC\", calc_auc(lr, 'lr', 'same-src'))"
   ]
  },
  {
   "cell_type": "markdown",
   "metadata": {},
   "source": [
    "# Plot `n_A` vs LR"
   ]
  },
  {
   "cell_type": "code",
   "execution_count": 11,
   "metadata": {},
   "outputs": [
    {
     "data": {
      "text/html": [
       "<div>\n",
       "<style scoped>\n",
       "    .dataframe tbody tr th:only-of-type {\n",
       "        vertical-align: middle;\n",
       "    }\n",
       "\n",
       "    .dataframe tbody tr th {\n",
       "        vertical-align: top;\n",
       "    }\n",
       "\n",
       "    .dataframe thead th {\n",
       "        text-align: right;\n",
       "    }\n",
       "</style>\n",
       "<table border=\"1\" class=\"dataframe\">\n",
       "  <thead>\n",
       "    <tr style=\"text-align: right;\">\n",
       "      <th></th>\n",
       "      <th>old_uid</th>\n",
       "      <th>uid</th>\n",
       "      <th>m</th>\n",
       "      <th>lon</th>\n",
       "      <th>lat</th>\n",
       "      <th>location_id</th>\n",
       "      <th>weight_event</th>\n",
       "      <th>weight_user</th>\n",
       "    </tr>\n",
       "  </thead>\n",
       "  <tbody>\n",
       "    <tr>\n",
       "      <th>0</th>\n",
       "      <td>2554741.0</td>\n",
       "      <td>1</td>\n",
       "      <td>a</td>\n",
       "      <td>-117.83335</td>\n",
       "      <td>33.74851</td>\n",
       "      <td>546927.0</td>\n",
       "      <td>0.008264</td>\n",
       "      <td>0.011905</td>\n",
       "    </tr>\n",
       "    <tr>\n",
       "      <th>1</th>\n",
       "      <td>67150220.0</td>\n",
       "      <td>60</td>\n",
       "      <td>a</td>\n",
       "      <td>-117.83335</td>\n",
       "      <td>33.74851</td>\n",
       "      <td>546927.0</td>\n",
       "      <td>0.008264</td>\n",
       "      <td>0.011905</td>\n",
       "    </tr>\n",
       "    <tr>\n",
       "      <th>2</th>\n",
       "      <td>2554741.0</td>\n",
       "      <td>1</td>\n",
       "      <td>a</td>\n",
       "      <td>-117.67779</td>\n",
       "      <td>33.47102</td>\n",
       "      <td>517182.0</td>\n",
       "      <td>0.025641</td>\n",
       "      <td>0.250000</td>\n",
       "    </tr>\n",
       "    <tr>\n",
       "      <th>3</th>\n",
       "      <td>2554741.0</td>\n",
       "      <td>1</td>\n",
       "      <td>a</td>\n",
       "      <td>-117.67779</td>\n",
       "      <td>33.47102</td>\n",
       "      <td>517182.0</td>\n",
       "      <td>0.025641</td>\n",
       "      <td>0.250000</td>\n",
       "    </tr>\n",
       "    <tr>\n",
       "      <th>4</th>\n",
       "      <td>2554741.0</td>\n",
       "      <td>1</td>\n",
       "      <td>a</td>\n",
       "      <td>-117.67779</td>\n",
       "      <td>33.47102</td>\n",
       "      <td>517182.0</td>\n",
       "      <td>0.025641</td>\n",
       "      <td>0.250000</td>\n",
       "    </tr>\n",
       "  </tbody>\n",
       "</table>\n",
       "</div>"
      ],
      "text/plain": [
       "      old_uid  uid  m        lon       lat  location_id  weight_event  \\\n",
       "0   2554741.0    1  a -117.83335  33.74851     546927.0      0.008264   \n",
       "1  67150220.0   60  a -117.83335  33.74851     546927.0      0.008264   \n",
       "2   2554741.0    1  a -117.67779  33.47102     517182.0      0.025641   \n",
       "3   2554741.0    1  a -117.67779  33.47102     517182.0      0.025641   \n",
       "4   2554741.0    1  a -117.67779  33.47102     517182.0      0.025641   \n",
       "\n",
       "   weight_user  \n",
       "0     0.011905  \n",
       "1     0.011905  \n",
       "2     0.250000  \n",
       "3     0.250000  \n",
       "4     0.250000  "
      ]
     },
     "execution_count": 11,
     "metadata": {},
     "output_type": "execute_result"
    }
   ],
   "source": [
    "# merge weights in to the point pattern data\n",
    "oc_mpp = pd.merge(oc_mpp, oc_wt_e, on='location_id')\n",
    "oc_mpp = pd.merge(oc_mpp, oc_wt_u, on='location_id', suffixes=('_event', '_user'))\n",
    "oc_mpp.head()"
   ]
  },
  {
   "cell_type": "code",
   "execution_count": 12,
   "metadata": {},
   "outputs": [
    {
     "data": {
      "text/html": [
       "<div>\n",
       "<style scoped>\n",
       "    .dataframe tbody tr th:only-of-type {\n",
       "        vertical-align: middle;\n",
       "    }\n",
       "\n",
       "    .dataframe tbody tr th {\n",
       "        vertical-align: top;\n",
       "    }\n",
       "\n",
       "    .dataframe thead th {\n",
       "        text-align: right;\n",
       "    }\n",
       "</style>\n",
       "<table border=\"1\" class=\"dataframe\">\n",
       "  <thead>\n",
       "    <tr style=\"text-align: right;\">\n",
       "      <th></th>\n",
       "      <th>uid</th>\n",
       "      <th>m</th>\n",
       "      <th>n_a</th>\n",
       "      <th>weight_event</th>\n",
       "      <th>weight_user</th>\n",
       "    </tr>\n",
       "  </thead>\n",
       "  <tbody>\n",
       "    <tr>\n",
       "      <th>0</th>\n",
       "      <td>1</td>\n",
       "      <td>a</td>\n",
       "      <td>23.0</td>\n",
       "      <td>1.729560</td>\n",
       "      <td>4.307912</td>\n",
       "    </tr>\n",
       "    <tr>\n",
       "      <th>2</th>\n",
       "      <td>2</td>\n",
       "      <td>a</td>\n",
       "      <td>48.0</td>\n",
       "      <td>0.587924</td>\n",
       "      <td>16.002281</td>\n",
       "    </tr>\n",
       "    <tr>\n",
       "      <th>4</th>\n",
       "      <td>3</td>\n",
       "      <td>a</td>\n",
       "      <td>114.0</td>\n",
       "      <td>4.363294</td>\n",
       "      <td>8.107045</td>\n",
       "    </tr>\n",
       "    <tr>\n",
       "      <th>6</th>\n",
       "      <td>4</td>\n",
       "      <td>a</td>\n",
       "      <td>42.0</td>\n",
       "      <td>1.758149</td>\n",
       "      <td>22.332050</td>\n",
       "    </tr>\n",
       "    <tr>\n",
       "      <th>8</th>\n",
       "      <td>5</td>\n",
       "      <td>a</td>\n",
       "      <td>37.0</td>\n",
       "      <td>0.356989</td>\n",
       "      <td>0.700829</td>\n",
       "    </tr>\n",
       "  </tbody>\n",
       "</table>\n",
       "</div>"
      ],
      "text/plain": [
       "   uid  m    n_a  weight_event  weight_user\n",
       "0    1  a   23.0      1.729560     4.307912\n",
       "2    2  a   48.0      0.587924    16.002281\n",
       "4    3  a  114.0      4.363294     8.107045\n",
       "6    4  a   42.0      1.758149    22.332050\n",
       "8    5  a   37.0      0.356989     0.700829"
      ]
     },
     "execution_count": 12,
     "metadata": {},
     "output_type": "execute_result"
    }
   ],
   "source": [
    "tot_wts = oc_mpp.groupby(['uid', 'm']).agg({'lon': lambda x: len(x),\n",
    "                                            'weight_event': sum,\n",
    "                                            'weight_user': sum}).reset_index()\n",
    "tot_wts = tot_wts.rename(columns={'lon': 'n_a'})\n",
    "tot_wts = tot_wts[tot_wts.m == 'a']\n",
    "tot_wts.head()"
   ]
  },
  {
   "cell_type": "code",
   "execution_count": 13,
   "metadata": {},
   "outputs": [
    {
     "data": {
      "text/html": [
       "<div>\n",
       "<style scoped>\n",
       "    .dataframe tbody tr th:only-of-type {\n",
       "        vertical-align: middle;\n",
       "    }\n",
       "\n",
       "    .dataframe tbody tr th {\n",
       "        vertical-align: top;\n",
       "    }\n",
       "\n",
       "    .dataframe thead th {\n",
       "        text-align: right;\n",
       "    }\n",
       "</style>\n",
       "<table border=\"1\" class=\"dataframe\">\n",
       "  <thead>\n",
       "    <tr style=\"text-align: right;\">\n",
       "      <th></th>\n",
       "      <th>a</th>\n",
       "      <th>b</th>\n",
       "      <th>lr</th>\n",
       "      <th>same-src</th>\n",
       "      <th>n_a</th>\n",
       "      <th>weight_event</th>\n",
       "      <th>weight_user</th>\n",
       "    </tr>\n",
       "  </thead>\n",
       "  <tbody>\n",
       "    <tr>\n",
       "      <th>0</th>\n",
       "      <td>1</td>\n",
       "      <td>1</td>\n",
       "      <td>-8.835582</td>\n",
       "      <td>True</td>\n",
       "      <td>23.0</td>\n",
       "      <td>1.729560</td>\n",
       "      <td>4.307912</td>\n",
       "    </tr>\n",
       "    <tr>\n",
       "      <th>1</th>\n",
       "      <td>2</td>\n",
       "      <td>2</td>\n",
       "      <td>162.280836</td>\n",
       "      <td>True</td>\n",
       "      <td>48.0</td>\n",
       "      <td>0.587924</td>\n",
       "      <td>16.002281</td>\n",
       "    </tr>\n",
       "    <tr>\n",
       "      <th>2</th>\n",
       "      <td>3</td>\n",
       "      <td>3</td>\n",
       "      <td>416.939839</td>\n",
       "      <td>True</td>\n",
       "      <td>114.0</td>\n",
       "      <td>4.363294</td>\n",
       "      <td>8.107045</td>\n",
       "    </tr>\n",
       "    <tr>\n",
       "      <th>3</th>\n",
       "      <td>4</td>\n",
       "      <td>4</td>\n",
       "      <td>158.669085</td>\n",
       "      <td>True</td>\n",
       "      <td>42.0</td>\n",
       "      <td>1.758149</td>\n",
       "      <td>22.332050</td>\n",
       "    </tr>\n",
       "    <tr>\n",
       "      <th>4</th>\n",
       "      <td>5</td>\n",
       "      <td>5</td>\n",
       "      <td>-25.844216</td>\n",
       "      <td>True</td>\n",
       "      <td>37.0</td>\n",
       "      <td>0.356989</td>\n",
       "      <td>0.700829</td>\n",
       "    </tr>\n",
       "  </tbody>\n",
       "</table>\n",
       "</div>"
      ],
      "text/plain": [
       "   a  b          lr  same-src    n_a  weight_event  weight_user\n",
       "0  1  1   -8.835582      True   23.0      1.729560     4.307912\n",
       "1  2  2  162.280836      True   48.0      0.587924    16.002281\n",
       "2  3  3  416.939839      True  114.0      4.363294     8.107045\n",
       "3  4  4  158.669085      True   42.0      1.758149    22.332050\n",
       "4  5  5  -25.844216      True   37.0      0.356989     0.700829"
      ]
     },
     "execution_count": 13,
     "metadata": {},
     "output_type": "execute_result"
    }
   ],
   "source": [
    "lr = pd.merge(lr, tot_wts, how=\"left\", left_on=\"a\", right_on=\"uid\")\n",
    "lr = lr.drop(columns=[\"uid\", \"m\"])\n",
    "lr.head()"
   ]
  },
  {
   "cell_type": "code",
   "execution_count": 14,
   "metadata": {},
   "outputs": [
    {
     "data": {
      "image/png": "[encoded data removed]",
      "text/plain": [
       "<Figure size 422.125x360 with 1 Axes>"
      ]
     },
     "metadata": {
      "needs_background": "light"
     },
     "output_type": "display_data"
    }
   ],
   "source": [
    "ax = sns.lmplot(x=\"n_a\", y=\"lr\", hue=\"same-src\", data=lr)"
   ]
  },
  {
   "cell_type": "code",
   "execution_count": 15,
   "metadata": {},
   "outputs": [
    {
     "data": {
      "image/png": "[encoded data removed]",
      "text/plain": [
       "<Figure size 422.125x360 with 1 Axes>"
      ]
     },
     "metadata": {
      "needs_background": "light"
     },
     "output_type": "display_data"
    }
   ],
   "source": [
    "ax = sns.lmplot(x=\"weight_event\", y=\"lr\", hue=\"same-src\", data=lr)"
   ]
  },
  {
   "cell_type": "code",
   "execution_count": 16,
   "metadata": {},
   "outputs": [
    {
     "data": {
      "image/png": "[encoded data removed]",
      "text/plain": [
       "<Figure size 422.125x360 with 1 Axes>"
      ]
     },
     "metadata": {
      "needs_background": "light"
     },
     "output_type": "display_data"
    }
   ],
   "source": [
    "ax = sns.lmplot(x=\"weight_user\", y=\"lr\", hue=\"same-src\", data=lr)"
   ]
  },
  {
   "cell_type": "code",
   "execution_count": 17,
   "metadata": {},
   "outputs": [],
   "source": [
    "oc_directory = os.path.join(\"..\", \"data\", \"oc\") \n",
    "slr = pd.read_csv(os.path.join(oc_directory, \"slr_even_less_junk.csv\"))\n",
    "cmp = pd.read_csv(os.path.join(oc_directory, \"cmp_population_even_less_junk.csv\"))\n"
   ]
  },
  {
   "cell_type": "markdown",
   "metadata": {},
   "source": [
    "### SLR"
   ]
  },
  {
   "cell_type": "code",
   "execution_count": 18,
   "metadata": {},
   "outputs": [
    {
     "data": {
      "image/png": "[encoded data removed]",
      "text/plain": [
       "<Figure size 422.125x360 with 1 Axes>"
      ]
     },
     "metadata": {
      "needs_background": "light"
     },
     "output_type": "display_data"
    }
   ],
   "source": [
    "rslt = pd.merge(lr, slr, on=['a', 'b'])\n",
    "ax = sns.lmplot(x=\"n_a\", y=\"emd_wt_user\", hue=\"same-src\", data=rslt)"
   ]
  },
  {
   "cell_type": "code",
   "execution_count": 19,
   "metadata": {},
   "outputs": [
    {
     "data": {
      "image/png": "[encoded data removed]",
      "text/plain": [
       "<Figure size 432x288 with 1 Axes>"
      ]
     },
     "metadata": {
      "needs_background": "light"
     },
     "output_type": "display_data"
    }
   ],
   "source": [
    "rslt[\"log_slr\"] = np.log(rslt.emd_wt_user)\n",
    "ax = sns.scatterplot(x=\"lr\", y=\"log_slr\", hue=\"same-src\", data=rslt)"
   ]
  },
  {
   "cell_type": "code",
   "execution_count": 20,
   "metadata": {},
   "outputs": [
    {
     "data": {
      "image/png": "[encoded data removed]",
      "text/plain": [
       "<Figure size 432x288 with 1 Axes>"
      ]
     },
     "metadata": {
      "needs_background": "light"
     },
     "output_type": "display_data"
    }
   ],
   "source": [
    "ax = sns.scatterplot(x=\"lr\", y=\"log_slr\", hue=\"same-src\", data=rslt).set(xlim=[-200, 200], ylim=[-20, 20])\n",
    "plt.show()"
   ]
  },
  {
   "cell_type": "code",
   "execution_count": 21,
   "metadata": {},
   "outputs": [
    {
     "data": {
      "text/plain": [
       "[<matplotlib.lines.Line2D at 0x12db070b8>]"
      ]
     },
     "execution_count": 21,
     "metadata": {},
     "output_type": "execute_result"
    },
    {
     "data": {
      "image/png": "[encoded data removed]",
      "text/plain": [
       "<Figure size 432x288 with 1 Axes>"
      ]
     },
     "metadata": {
      "needs_background": "light"
     },
     "output_type": "display_data"
    }
   ],
   "source": [
    "ax = sns.scatterplot(x=\"lr\", y=\"emd_wt_user\", hue=\"same-src\", data=rslt)\n",
    "plt.plot([0, 0], [1, 1], linewidth=2)"
   ]
  },
  {
   "cell_type": "markdown",
   "metadata": {},
   "source": [
    "### CMP"
   ]
  },
  {
   "cell_type": "code",
   "execution_count": 22,
   "metadata": {},
   "outputs": [
    {
     "data": {
      "image/png": "[encoded data removed]",
      "text/plain": [
       "<Figure size 422.125x360 with 1 Axes>"
      ]
     },
     "metadata": {
      "needs_background": "light"
     },
     "output_type": "display_data"
    }
   ],
   "source": [
    "rslt = pd.merge(lr, cmp, on=['a', 'b'])\n",
    "ax = sns.lmplot(x=\"n_a\", y=\"emd_wt_user\", hue=\"same-src\", data=rslt)"
   ]
  },
  {
   "cell_type": "markdown",
   "metadata": {},
   "source": [
    "# Extend experiement to users with less data"
   ]
  },
  {
   "cell_type": "code",
   "execution_count": 23,
   "metadata": {},
   "outputs": [
    {
     "name": "stdout",
     "output_type": "stream",
     "text": [
      "MPP DATA (at least 1 visits in each of the first two months)\n",
      "Users:  6714\n",
      "Visits: 83007 (12.4)\n",
      "n_A: 44310 (6.6)\n",
      "n_B: 38697 (5.8)\n"
     ]
    }
   ],
   "source": [
    "directory = os.path.join(\"..\", \"data\", \"DFRWS_USA\", \"oc\")\n",
    "n_visits = 1\n",
    "mpp = pd.read_csv(os.path.join(directory, \"mpp_visits_month0a_month1b_n1.csv\"))\n",
    "print(\"MPP DATA (at least {} visits in each of the first two {}s)\".format(n_visits, time_span))\n",
    "print(\"Users: \", mpp['uid'].nunique())\n",
    "print(\"Visits: \", len(mpp), \" (\", round(len(mpp) / mpp['uid'].nunique(), 1), \")\",sep=\"\")\n",
    "ind_A = mpp.m == 'a'\n",
    "print(\"n_A: \", len(mpp.loc[ind_A]), \" (\", round(len(mpp.loc[ind_A]) / mpp['uid'].nunique(), 1), \")\",sep=\"\")\n",
    "ind_B = mpp.m == 'b'\n",
    "print(\"n_B: \", len(mpp.loc[ind_B]), \" (\", round(len(mpp.loc[ind_B]) / mpp['uid'].nunique(), 1), \")\",sep=\"\")\n"
   ]
  },
  {
   "cell_type": "code",
   "execution_count": 24,
   "metadata": {},
   "outputs": [
    {
     "data": {
      "text/html": [
       "<div>\n",
       "<style scoped>\n",
       "    .dataframe tbody tr th:only-of-type {\n",
       "        vertical-align: middle;\n",
       "    }\n",
       "\n",
       "    .dataframe tbody tr th {\n",
       "        vertical-align: top;\n",
       "    }\n",
       "\n",
       "    .dataframe thead th {\n",
       "        text-align: right;\n",
       "    }\n",
       "</style>\n",
       "<table border=\"1\" class=\"dataframe\">\n",
       "  <thead>\n",
       "    <tr style=\"text-align: right;\">\n",
       "      <th></th>\n",
       "      <th>old_uid</th>\n",
       "      <th>uid</th>\n",
       "      <th>m</th>\n",
       "      <th>lon</th>\n",
       "      <th>lat</th>\n",
       "      <th>location_id</th>\n",
       "      <th>weight_event</th>\n",
       "      <th>weight_user</th>\n",
       "    </tr>\n",
       "  </thead>\n",
       "  <tbody>\n",
       "    <tr>\n",
       "      <th>0</th>\n",
       "      <td>2057.0</td>\n",
       "      <td>1</td>\n",
       "      <td>a</td>\n",
       "      <td>-117.72635</td>\n",
       "      <td>33.60057</td>\n",
       "      <td>6548.0</td>\n",
       "      <td>0.166667</td>\n",
       "      <td>0.166667</td>\n",
       "    </tr>\n",
       "    <tr>\n",
       "      <th>1</th>\n",
       "      <td>2057.0</td>\n",
       "      <td>1</td>\n",
       "      <td>b</td>\n",
       "      <td>-117.93499</td>\n",
       "      <td>33.70030</td>\n",
       "      <td>150705.0</td>\n",
       "      <td>0.076923</td>\n",
       "      <td>0.125000</td>\n",
       "    </tr>\n",
       "    <tr>\n",
       "      <th>2</th>\n",
       "      <td>25099775.0</td>\n",
       "      <td>1009</td>\n",
       "      <td>b</td>\n",
       "      <td>-117.93504</td>\n",
       "      <td>33.70028</td>\n",
       "      <td>150705.0</td>\n",
       "      <td>0.076923</td>\n",
       "      <td>0.125000</td>\n",
       "    </tr>\n",
       "    <tr>\n",
       "      <th>3</th>\n",
       "      <td>2057.0</td>\n",
       "      <td>1</td>\n",
       "      <td>b</td>\n",
       "      <td>-117.83536</td>\n",
       "      <td>33.83125</td>\n",
       "      <td>455162.0</td>\n",
       "      <td>0.029412</td>\n",
       "      <td>0.031250</td>\n",
       "    </tr>\n",
       "    <tr>\n",
       "      <th>4</th>\n",
       "      <td>15024696.0</td>\n",
       "      <td>207</td>\n",
       "      <td>a</td>\n",
       "      <td>-117.83569</td>\n",
       "      <td>33.83189</td>\n",
       "      <td>455162.0</td>\n",
       "      <td>0.029412</td>\n",
       "      <td>0.031250</td>\n",
       "    </tr>\n",
       "  </tbody>\n",
       "</table>\n",
       "</div>"
      ],
      "text/plain": [
       "      old_uid   uid  m        lon       lat  location_id  weight_event  \\\n",
       "0      2057.0     1  a -117.72635  33.60057       6548.0      0.166667   \n",
       "1      2057.0     1  b -117.93499  33.70030     150705.0      0.076923   \n",
       "2  25099775.0  1009  b -117.93504  33.70028     150705.0      0.076923   \n",
       "3      2057.0     1  b -117.83536  33.83125     455162.0      0.029412   \n",
       "4  15024696.0   207  a -117.83569  33.83189     455162.0      0.029412   \n",
       "\n",
       "   weight_user  \n",
       "0     0.166667  \n",
       "1     0.125000  \n",
       "2     0.125000  \n",
       "3     0.031250  \n",
       "4     0.031250  "
      ]
     },
     "execution_count": 24,
     "metadata": {},
     "output_type": "execute_result"
    }
   ],
   "source": [
    "# merge weights in to the point pattern data\n",
    "mpp = pd.merge(mpp, oc_wt_e, on='location_id')\n",
    "mpp = pd.merge(mpp, oc_wt_u, on='location_id', suffixes=('_event', '_user'))\n",
    "mpp.head()"
   ]
  },
  {
   "cell_type": "markdown",
   "metadata": {},
   "source": [
    "### Create sample for experiment"
   ]
  },
  {
   "cell_type": "code",
   "execution_count": 25,
   "metadata": {},
   "outputs": [],
   "source": [
    "# import itertools \n",
    "# np.random.seed(1234)\n",
    "# splits = [1, 2, 20, float(\"inf\")]\n",
    "\n",
    "# # create all pairwise combinations\n",
    "# ids = mpp.uid.unique()\n",
    "# samp_space = pd.DataFrame(itertools.product(ids, ids), columns=[\"a\", \"b\"])\n",
    "\n",
    "# # merge in counts of events in A\n",
    "# cts = mpp.groupby(['uid', 'm']).count().reset_index()\n",
    "# cts = cts.loc[cts.m == 'a', ]\n",
    "# cts = cts.rename(columns={\"old_uid\": \"n_a\"})\n",
    "# cts.n_a.describe()\n",
    "# samp_space = pd.merge(samp_space, cts[['uid', 'n_a']], left_on='a', right_on='uid').drop(columns=\"uid\")\n",
    "\n",
    "# # merge in counts of events in B\n",
    "# cts = mpp.groupby(['uid', 'm']).count().reset_index()\n",
    "# cts = cts.loc[cts.m == 'b', ]\n",
    "# cts = cts.rename(columns={\"old_uid\": \"n_b\"})\n",
    "# cts.n_b.describe()\n",
    "# samp_space = pd.merge(samp_space, cts[['uid', 'n_b']], left_on='b', right_on='uid').drop(columns=\"uid\")\n",
    "\n",
    "# # bin the number of events in A and B for stratified sampling\n",
    "# samp_space['bin_a'] = pd.cut(samp_space.n_a, bins=splits, right=False)\n",
    "# samp_space['bin_b'] = pd.cut(samp_space.n_b, bins=splits, right=False)\n",
    "\n",
    "# # sample 1000 pairs per combination of bins\n",
    "# sample = samp_space.loc[samp_space.a != samp_space.b,].groupby(['bin_a', 'bin_b']).apply(lambda x: x.sample(1000))\n",
    "# sample.index = sample.index.droplevel(0)\n",
    "# sample.index = sample.index.droplevel(0)\n",
    "\n",
    "# # add in same-source pairs\n",
    "# sample = pd.concat([samp_space.loc[samp_space.a == samp_space.b,], sample], sort=True).reset_index(drop=True)\n",
    "\n",
    "# # sample properties\n",
    "# sample.groupby(['bin_a', 'bin_b'])['a'].count()\n",
    "# samp_space.loc[samp_space.a == samp_space.b,].groupby(['bin_a', 'bin_b']).count()"
   ]
  },
  {
   "cell_type": "markdown",
   "metadata": {},
   "source": [
    "### Compute scores for SLR & CMP computations "
   ]
  },
  {
   "cell_type": "code",
   "execution_count": 26,
   "metadata": {},
   "outputs": [],
   "source": [
    "from emd import emd\n",
    "from kde.location_project.cmp import geodesic_dist\n",
    "\n",
    "\n",
    "def get_user(mpp, uid, mark):\n",
    "    out = mpp.copy()\n",
    "    # out = out.drop_duplicates(subset=[\"location_id\", \"m\"])\n",
    "    return out.loc[(out.uid == uid) & (out.m == mark)].reset_index(drop=True)\n",
    "\n",
    "\n",
    "def population_scores(mpp, keeps):\n",
    "    rslt = []    \n",
    "    for index, row in keeps.iterrows():\n",
    "        user_A = row[\"a\"]\n",
    "        user_B = row[\"b\"]\n",
    "        tmp = {}\n",
    "        try:\n",
    "            ### get the data for the pair in question\n",
    "            tmp['a'] = user_A\n",
    "            tmp['b'] = user_B\n",
    "            uA = get_user(mpp, user_A, 'a')\n",
    "            uB = get_user(mpp, user_B, 'b')\n",
    "\n",
    "            ### compute weights\n",
    "            uA_wt_e = (uA['weight_event'] / sum(uA['weight_event'])).to_numpy()\n",
    "            uA_wt_u = (uA['weight_user'] / sum(uA['weight_user'])).to_numpy()\n",
    "            uB_wt_e = (uB['weight_event'] / sum(uB['weight_event'])).to_numpy()\n",
    "            uB_wt_u = (uB['weight_user'] / sum(uB['weight_user'])).to_numpy()\n",
    "\n",
    "            ### compute the distance matrix & IED scores\n",
    "            dist = geodesic_dist(uA[['lat', 'lon']], uB[['lat', 'lon']])\n",
    "            ied = dist.min(1)\n",
    "            tmp['ied_med'] = np.median(ied)\n",
    "            tmp['ied_mn'] = np.average(ied)\n",
    "            tmp['ied_mn_wt_event'] = np.average(ied, weights=uA_wt_e)\n",
    "            tmp['ied_mn_wt_user'] = np.average(ied, weights=uA_wt_u)\n",
    "\n",
    "            ### compute variants of EMD\n",
    "            tmp['emd'] = emd(distance=\"precomputed\", D=dist)\n",
    "            tmp['emd_wt_event'] = emd(\n",
    "                X_weights=uA_wt_e, Y_weights=uB_wt_e, distance=\"precomputed\", D=dist\n",
    "            )\n",
    "            tmp['emd_wt_user'] = emd(\n",
    "                X_weights=uA_wt_u, Y_weights=uB_wt_u, distance=\"precomputed\", D=dist\n",
    "            )\n",
    "\n",
    "            ### store it\n",
    "            rslt.append(tmp)\n",
    "        except:\n",
    "            print(f\"Error! A = {user_A}, B = {user_B}\")\n",
    "            continue\n",
    "    return pd.DataFrame(rslt)\n",
    "\n",
    "\n",
    "# oc_rslt = population_scores(mpp, sample)\n",
    "# oc_rslt.to_csv(os.path.join(directory, \"score_func_vals.csv\"), index=False)"
   ]
  },
  {
   "cell_type": "code",
   "execution_count": 27,
   "metadata": {},
   "outputs": [
    {
     "data": {
      "text/html": [
       "<div>\n",
       "<style scoped>\n",
       "    .dataframe tbody tr th:only-of-type {\n",
       "        vertical-align: middle;\n",
       "    }\n",
       "\n",
       "    .dataframe tbody tr th {\n",
       "        vertical-align: top;\n",
       "    }\n",
       "\n",
       "    .dataframe thead th {\n",
       "        text-align: right;\n",
       "    }\n",
       "</style>\n",
       "<table border=\"1\" class=\"dataframe\">\n",
       "  <thead>\n",
       "    <tr style=\"text-align: right;\">\n",
       "      <th></th>\n",
       "      <th>a</th>\n",
       "      <th>b</th>\n",
       "      <th>ied_med</th>\n",
       "      <th>ied_mn</th>\n",
       "      <th>ied_mn_wt_event</th>\n",
       "      <th>ied_mn_wt_user</th>\n",
       "      <th>emd</th>\n",
       "      <th>emd_wt_event</th>\n",
       "      <th>emd_wt_user</th>\n",
       "    </tr>\n",
       "  </thead>\n",
       "  <tbody>\n",
       "    <tr>\n",
       "      <th>0</th>\n",
       "      <td>1</td>\n",
       "      <td>1</td>\n",
       "      <td>22.291881</td>\n",
       "      <td>22.291881</td>\n",
       "      <td>22.291881</td>\n",
       "      <td>22.291881</td>\n",
       "      <td>24.900571</td>\n",
       "      <td>23.734986</td>\n",
       "      <td>23.335357</td>\n",
       "    </tr>\n",
       "    <tr>\n",
       "      <th>1</th>\n",
       "      <td>1009</td>\n",
       "      <td>1009</td>\n",
       "      <td>8.082238</td>\n",
       "      <td>8.443559</td>\n",
       "      <td>12.186550</td>\n",
       "      <td>11.995258</td>\n",
       "      <td>9.215650</td>\n",
       "      <td>12.212204</td>\n",
       "      <td>12.011383</td>\n",
       "    </tr>\n",
       "    <tr>\n",
       "      <th>2</th>\n",
       "      <td>207</td>\n",
       "      <td>207</td>\n",
       "      <td>0.457699</td>\n",
       "      <td>1.825209</td>\n",
       "      <td>1.445924</td>\n",
       "      <td>1.206043</td>\n",
       "      <td>5.284902</td>\n",
       "      <td>12.375877</td>\n",
       "      <td>9.655803</td>\n",
       "    </tr>\n",
       "    <tr>\n",
       "      <th>3</th>\n",
       "      <td>2231</td>\n",
       "      <td>2231</td>\n",
       "      <td>6.569074</td>\n",
       "      <td>7.122262</td>\n",
       "      <td>5.754189</td>\n",
       "      <td>5.006451</td>\n",
       "      <td>7.122262</td>\n",
       "      <td>5.754189</td>\n",
       "      <td>5.006451</td>\n",
       "    </tr>\n",
       "    <tr>\n",
       "      <th>4</th>\n",
       "      <td>3604</td>\n",
       "      <td>3604</td>\n",
       "      <td>0.030067</td>\n",
       "      <td>0.508251</td>\n",
       "      <td>1.564566</td>\n",
       "      <td>0.666724</td>\n",
       "      <td>2.797701</td>\n",
       "      <td>7.570990</td>\n",
       "      <td>3.573957</td>\n",
       "    </tr>\n",
       "  </tbody>\n",
       "</table>\n",
       "</div>"
      ],
      "text/plain": [
       "      a     b    ied_med     ied_mn  ied_mn_wt_event  ied_mn_wt_user  \\\n",
       "0     1     1  22.291881  22.291881        22.291881       22.291881   \n",
       "1  1009  1009   8.082238   8.443559        12.186550       11.995258   \n",
       "2   207   207   0.457699   1.825209         1.445924        1.206043   \n",
       "3  2231  2231   6.569074   7.122262         5.754189        5.006451   \n",
       "4  3604  3604   0.030067   0.508251         1.564566        0.666724   \n",
       "\n",
       "         emd  emd_wt_event  emd_wt_user  \n",
       "0  24.900571     23.734986    23.335357  \n",
       "1   9.215650     12.212204    12.011383  \n",
       "2   5.284902     12.375877     9.655803  \n",
       "3   7.122262      5.754189     5.006451  \n",
       "4   2.797701      7.570990     3.573957  "
      ]
     },
     "execution_count": 27,
     "metadata": {},
     "output_type": "execute_result"
    }
   ],
   "source": [
    "oc_rslt = pd.read_csv(os.path.join(directory, \"score_func_vals.csv\"))\n",
    "oc_rslt.head()"
   ]
  },
  {
   "cell_type": "markdown",
   "metadata": {},
   "source": [
    "## Analyze Results"
   ]
  },
  {
   "cell_type": "code",
   "execution_count": 28,
   "metadata": {},
   "outputs": [],
   "source": [
    "def slr_classifier_performance_for_tex(rslt):\n",
    "    print(\"& Weights & $\\Delta$ &  TP@1  & FP@1  & AUC \\\\\\\\\")\n",
    "    print(\"\\\\hline\")\n",
    "#     print(\n",
    "#         \"& Med IED  & --      & \", \n",
    "#         \"{0[0]} & {0[1]}\".format(perf_measure(rslt['label'], rslt['ied_med'] > 1)), \"&\", \n",
    "#         calc_auc(rslt, 'ied_med'), \"\\\\\\\\\"\n",
    "#     )\n",
    "    print(\n",
    "        \"& Account & $\\mean{D}_{min}$ & \",\n",
    "        \"{0[0]} & {0[1]}\".format(perf_measure(rslt['label'], rslt['ied_mn_wt_user'] > 1)), \"&\", \n",
    "        calc_auc(rslt,'ied_mn_wt_user'), \"\\\\\\\\\"\n",
    "    )\n",
    "    print(\n",
    "        \"& Account & EMD    & \", \n",
    "        \"{0[0]} & {0[1]}\".format(perf_measure(rslt['label'], rslt['emd_wt_user'] > 1)), \"&\", \n",
    "        calc_auc(rslt,'emd_wt_user'), \"\\\\\\\\\"\n",
    "    )\n",
    "    print(\n",
    "        \"& Uniform & $\\mean{D}_{min}$ & \", \n",
    "        \"{0[0]} & {0[1]}\".format(perf_measure(rslt['label'], rslt['ied_mn'] > 1)), \"&\", \n",
    "        calc_auc(rslt,'ied_mn'), \"\\\\\\\\\"\n",
    "    ) \n",
    "    print(\n",
    "        \"& Uniform & EMD     & \", \n",
    "        \"{0[0]} & {0[1]}\".format(perf_measure(rslt['label'], rslt['emd'] > 1)), \"&\", \n",
    "        calc_auc(rslt,'emd'), \"\\\\\\\\\"\n",
    "    )\n",
    "    print(\n",
    "        \"& Visit   & $\\mean{D}_{min}$ & \", \n",
    "        \"{0[0]} & {0[1]}\".format(perf_measure(rslt['label'], rslt['ied_mn_wt_event'] > 1)), \"&\", \n",
    "        calc_auc(rslt,'ied_mn_wt_event'), \"\\\\\\\\\"\n",
    "    )\n",
    "    print(\n",
    "        \"& Visit   & EMD      & \", \n",
    "        \"{0[0]} & {0[1]}\".format(perf_measure(rslt['label'], rslt['emd_wt_event'] > 1)), \"&\", \n",
    "        calc_auc(rslt,'emd_wt_event'), \"\\\\\\\\\"\n",
    "    )\n",
    "\n",
    "    \n",
    "\n",
    "def cmp_classifier_performance_for_tex(rslt):\n",
    "    print(\"& $\\Delta$ & Weights & TP@0.05  & TP@0.01 & AUC    \")\n",
    "    print(\"\\\\hline\")\n",
    "#     print(\n",
    "#         \"& Med IED  & --      & \", \n",
    "#         \"{0[0]}   & {0[1]}\".format(perf_measure(~rslt['label'], rslt['ied_med'] < 0.05)), \"  &\",\n",
    "#         \"{0[0]}    & {0[1]}\".format(perf_measure(~rslt['label'], rslt['ied_med'] < 0.01)), \"   &\",\n",
    "#         calc_auc(rslt, 'ied_med'), \"\\\\\\\\\"\n",
    "#     )\n",
    "    print(\n",
    "        \"& Account & $\\mean{D}_{min}$ & \",\n",
    "        perf_measure(~rslt['label'], rslt['ied_mn_wt_user'] < 0.05)[0], \"  &\",\n",
    "        perf_measure(~rslt['label'], rslt['ied_mn_wt_user'] < 0.01)[0], \"  &\",\n",
    "        calc_auc(rslt,'ied_mn_wt_user'), \"\\\\\\\\\"\n",
    "    )\n",
    "    print(\n",
    "        \"& Account & EMD & \",\n",
    "        perf_measure(~rslt['label'], rslt['emd_wt_user'] < 0.05)[0], \"  &\",\n",
    "        perf_measure(~rslt['label'], rslt['emd_wt_user'] < 0.01)[0], \"  &\",\n",
    "        calc_auc(rslt,'emd_wt_user'), \"\\\\\\\\\"\n",
    "    )\n",
    "    print(\n",
    "        \"& Uniform & $\\mean{D}_{min}$ & \", \n",
    "        perf_measure(~rslt['label'], rslt['ied_mn'] < 0.05)[0], \"  &\",\n",
    "        perf_measure(~rslt['label'], rslt['ied_mn'] < 0.01)[0], \"  &\",\n",
    "        calc_auc(rslt,'ied_mn'), \"\\\\\\\\\"\n",
    "    ) \n",
    "    print(\n",
    "        \"& Uniform & EMD & \", \n",
    "        perf_measure(~rslt['label'], rslt['emd'] < 0.05)[0], \"  &\",\n",
    "        perf_measure(~rslt['label'], rslt['emd'] < 0.01)[0], \"  &\",\n",
    "        calc_auc(rslt,'emd'), \"\\\\\\\\\"\n",
    "    )\n",
    "    print(\n",
    "        \"& Visit   & $\\mean{D}_{min}$ & \", \n",
    "        perf_measure(~rslt['label'], rslt['ied_mn_wt_event'] < 0.05)[0], \"  &\",\n",
    "        perf_measure(~rslt['label'], rslt['ied_mn_wt_event'] < 0.01)[0], \"  &\",\n",
    "        calc_auc(rslt,'ied_mn_wt_event'), \"\\\\\\\\\"\n",
    "    )\n",
    "    print(\n",
    "        \"& Visit   & EMD & \", \n",
    "        perf_measure(~rslt['label'], rslt['emd_wt_event'] < 0.05)[0], \"  &\",\n",
    "        perf_measure(~rslt['label'], rslt['emd_wt_event'] < 0.01)[0], \"  &\",\n",
    "        calc_auc(rslt,'emd_wt_event'), \"\\\\\\\\\"\n",
    "    )"
   ]
  },
  {
   "cell_type": "code",
   "execution_count": 29,
   "metadata": {},
   "outputs": [],
   "source": [
    "directory = os.path.join(\"..\", \"data\", \"DFRWS_USA\", \"oc\")\n",
    "slr = pd.read_csv(os.path.join(directory, \"slr.csv\"))\n",
    "cmp = pd.read_csv(os.path.join(directory, \"cmp.csv\"))\n",
    "lr = pd.read_csv(os.path.join(directory, \"lr.csv\"))\n",
    "\n",
    "slr[\"same-src\"] = (slr.a == slr.b).astype(bool)\n",
    "cmp[\"same-src\"] = (cmp.a == cmp.b).astype(bool)\n",
    "lr[\"same-src\"] = (lr.a == lr.b).astype(bool)"
   ]
  },
  {
   "cell_type": "code",
   "execution_count": 30,
   "metadata": {},
   "outputs": [
    {
     "name": "stdout",
     "output_type": "stream",
     "text": [
      "TP/FP@1 ('0.380', '0.038')\n",
      "AUC 0.845\n"
     ]
    }
   ],
   "source": [
    "print(\"TP/FP@1\", perf_measure(lr['same-src'], lr['lr_alpha_vary'] >= 0))\n",
    "print(\"AUC\", calc_auc(lr, 'lr_alpha_vary', 'same-src'))"
   ]
  },
  {
   "cell_type": "code",
   "execution_count": 31,
   "metadata": {},
   "outputs": [
    {
     "name": "stdout",
     "output_type": "stream",
     "text": [
      "TP/FP@1 ('0.340', '0.026')\n",
      "AUC 0.787\n"
     ]
    }
   ],
   "source": [
    "print(\"TP/FP@1\", perf_measure(lr['same-src'], lr['lr_alpha_80'] >= 0))\n",
    "print(\"AUC\", calc_auc(lr, 'lr_alpha_80', 'same-src'))"
   ]
  },
  {
   "cell_type": "code",
   "execution_count": 32,
   "metadata": {},
   "outputs": [
    {
     "name": "stdout",
     "output_type": "stream",
     "text": [
      "& Weights & $\\Delta$ &  TP@1  & FP@1  & AUC \\\\\n",
      "\\hline\n",
      "& Account & $\\mean{D}_{min}$ &  0.610 & 0.171 & 0.774 \\\\\n",
      "& Account & EMD    &  0.614 & 0.162 & 0.783 \\\\\n",
      "& Uniform & $\\mean{D}_{min}$ &  0.628 & 0.202 & 0.768 \\\\\n",
      "& Uniform & EMD     &  0.654 & 0.197 & 0.790 \\\\\n",
      "& Visit   & $\\mean{D}_{min}$ &  0.611 & 0.180 & 0.768 \\\\\n",
      "& Visit   & EMD      &  0.602 & 0.169 & 0.774 \\\\\n"
     ]
    }
   ],
   "source": [
    "slr['label'] = (slr.a == slr.b).astype(bool)  # same-src has larger slr\n",
    "slr_classifier_performance_for_tex(slr)"
   ]
  },
  {
   "cell_type": "code",
   "execution_count": 33,
   "metadata": {},
   "outputs": [
    {
     "name": "stdout",
     "output_type": "stream",
     "text": [
      "& $\\Delta$ & Weights & TP@0.05  & TP@0.01 & AUC    \n",
      "\\hline\n",
      "& Account & $\\mean{D}_{min}$ &  0.441   & 0.236   & 0.776 \\\\\n",
      "& Account & EMD &  0.448   & 0.208   & 0.784 \\\\\n",
      "& Uniform & $\\mean{D}_{min}$ &  0.389   & 0.187   & 0.771 \\\\\n",
      "& Uniform & EMD &  0.397   & 0.154   & 0.791 \\\\\n",
      "& Visit   & $\\mean{D}_{min}$ &  0.415   & 0.209   & 0.771 \\\\\n",
      "& Visit   & EMD &  0.425   & 0.182   & 0.775 \\\\\n"
     ]
    }
   ],
   "source": [
    "cmp['label'] = (cmp.a != cmp.b).astype(bool)  # same-src has larger slr\n",
    "cmp_classifier_performance_for_tex(cmp)"
   ]
  },
  {
   "cell_type": "markdown",
   "metadata": {},
   "source": [
    "## Accuracy by bin"
   ]
  },
  {
   "cell_type": "code",
   "execution_count": 34,
   "metadata": {},
   "outputs": [],
   "source": [
    "# get counts of events in A & B\n",
    "cts = mpp.groupby(['uid', 'm']).count().reset_index()\n",
    "\n",
    "cts_a = cts.loc[cts.m == 'a', ]\n",
    "cts_a = cts_a.rename(columns={\"old_uid\": \"n_a\"})\n",
    "cts_a = cts_a[['uid', 'n_a']]\n",
    "\n",
    "cts_b = cts.loc[cts.m == 'b', ]\n",
    "cts_b = cts_b.rename(columns={\"old_uid\": \"n_b\"})\n",
    "cts_b = cts_b[['uid', 'n_b']]"
   ]
  },
  {
   "cell_type": "markdown",
   "metadata": {},
   "source": [
    "### LR Methods"
   ]
  },
  {
   "cell_type": "code",
   "execution_count": 195,
   "metadata": {},
   "outputs": [
    {
     "name": "stdout",
     "output_type": "stream",
     "text": [
      "TP/FP@1 ('0.380', '0.038')\n",
      "AUC 0.845\n"
     ]
    }
   ],
   "source": [
    "score_func = \"lr_alpha_vary\"\n",
    "print(\"TP/FP@1\", perf_measure(lr['same-src'], lr[score_func] > 0))\n",
    "print(\"AUC\", calc_auc(lr, score_func, 'same-src'))"
   ]
  },
  {
   "cell_type": "code",
   "execution_count": 35,
   "metadata": {},
   "outputs": [],
   "source": [
    "# merge & bin counts\n",
    "lr = pd.merge(lr, cts_a, left_on=\"a\", right_on=\"uid\").drop(columns=\"uid\")\n",
    "lr = pd.merge(lr, cts_b, left_on=\"b\", right_on=\"uid\").drop(columns=\"uid\")\n",
    "\n",
    "splits = [1, 2, 20, float(\"inf\")]\n",
    "lr['bin_a'] = pd.cut(lr.n_a, bins=splits, right=False)\n",
    "lr['bin_b'] = pd.cut(lr.n_b, bins=splits, right=False)"
   ]
  },
  {
   "cell_type": "code",
   "execution_count": 36,
   "metadata": {},
   "outputs": [
    {
     "data": {
      "text/plain": [
       "bin_a        bin_b      \n",
       "[1.0, 2.0)   [1.0, 2.0)     2206\n",
       "             [2.0, 20.0)    1933\n",
       "             [20.0, inf)    1003\n",
       "[2.0, 20.0)  [1.0, 2.0)     2224\n",
       "             [2.0, 20.0)    3869\n",
       "             [20.0, inf)    1086\n",
       "[20.0, inf)  [1.0, 2.0)     1016\n",
       "             [2.0, 20.0)    1154\n",
       "             [20.0, inf)    1223\n",
       "Name: a, dtype: int64"
      ]
     },
     "execution_count": 36,
     "metadata": {},
     "output_type": "execute_result"
    }
   ],
   "source": [
    "lr.groupby(['bin_a', 'bin_b'])['a'].count()"
   ]
  },
  {
   "cell_type": "code",
   "execution_count": 37,
   "metadata": {},
   "outputs": [
    {
     "data": {
      "text/plain": [
       "bin_a        bin_b      \n",
       "[1.0, 2.0)   [1.0, 2.0)     0.676\n",
       "             [2.0, 20.0)    0.793\n",
       "             [20.0, inf)    0.736\n",
       "[2.0, 20.0)  [1.0, 2.0)     0.723\n",
       "             [2.0, 20.0)    0.746\n",
       "             [20.0, inf)    0.865\n",
       "[20.0, inf)  [1.0, 2.0)     0.830\n",
       "             [2.0, 20.0)    0.920\n",
       "             [20.0, inf)    0.977\n",
       "dtype: object"
      ]
     },
     "execution_count": 37,
     "metadata": {},
     "output_type": "execute_result"
    }
   ],
   "source": [
    "lr.groupby(['bin_a', 'bin_b']).apply(lambda x: calc_auc(x, score_func, 'same-src'))"
   ]
  },
  {
   "cell_type": "code",
   "execution_count": 38,
   "metadata": {},
   "outputs": [
    {
     "data": {
      "text/plain": [
       "bin_a        bin_b      \n",
       "[1.0, 2.0)   [1.0, 2.0)     (0.187, 0.018)\n",
       "             [2.0, 20.0)    (0.294, 0.030)\n",
       "             [20.0, inf)    (0.333, 0.041)\n",
       "[2.0, 20.0)  [1.0, 2.0)     (0.272, 0.064)\n",
       "             [2.0, 20.0)    (0.453, 0.063)\n",
       "             [20.0, inf)    (0.791, 0.039)\n",
       "[20.0, inf)  [1.0, 2.0)     (0.625, 0.043)\n",
       "             [2.0, 20.0)    (0.851, 0.035)\n",
       "             [20.0, inf)    (0.933, 0.012)\n",
       "dtype: object"
      ]
     },
     "execution_count": 38,
     "metadata": {},
     "output_type": "execute_result"
    }
   ],
   "source": [
    "lr.groupby(['bin_a', 'bin_b']).apply(lambda x: perf_measure(x['same-src'], x[score_func] > 0))"
   ]
  },
  {
   "cell_type": "code",
   "execution_count": 39,
   "metadata": {},
   "outputs": [
    {
     "data": {
      "image/png": "[encoded data removed]",
      "text/plain": [
       "<Figure size 1080x720 with 2 Axes>"
      ]
     },
     "metadata": {
      "needs_background": "light"
     },
     "output_type": "display_data"
    }
   ],
   "source": [
    "f, axes = plt.subplots(1, 2, figsize=(15,10))\n",
    "sns.boxplot(y=score_func, x=\"bin_a\", data=lr.loc[lr[\"same-src\"] == True], hue=\"bin_b\", ax=axes[0]).set_title(\"Same-Source\")\n",
    "sns.boxplot(y=score_func, x=\"bin_a\", data=lr.loc[lr[\"same-src\"] == False], hue=\"bin_b\", ax=axes[1]).set_title(\"Diff-Source\")\n",
    "plt.show()\n"
   ]
  },
  {
   "cell_type": "markdown",
   "metadata": {},
   "source": [
    "### SLR Methods"
   ]
  },
  {
   "cell_type": "code",
   "execution_count": 190,
   "metadata": {},
   "outputs": [
    {
     "name": "stdout",
     "output_type": "stream",
     "text": [
      "TP/FP@1 ('0.614', '0.162')\n",
      "AUC 0.783\n"
     ]
    }
   ],
   "source": [
    "score_func = 'emd_wt_user'\n",
    "print(\"TP/FP@1\", perf_measure(slr['same-src'], slr[score_func] > 1))\n",
    "print(\"AUC\", calc_auc(slr, score_func, 'same-src'))"
   ]
  },
  {
   "cell_type": "code",
   "execution_count": 40,
   "metadata": {},
   "outputs": [
    {
     "data": {
      "text/html": [
       "<div>\n",
       "<style scoped>\n",
       "    .dataframe tbody tr th:only-of-type {\n",
       "        vertical-align: middle;\n",
       "    }\n",
       "\n",
       "    .dataframe tbody tr th {\n",
       "        vertical-align: top;\n",
       "    }\n",
       "\n",
       "    .dataframe thead th {\n",
       "        text-align: right;\n",
       "    }\n",
       "</style>\n",
       "<table border=\"1\" class=\"dataframe\">\n",
       "  <thead>\n",
       "    <tr style=\"text-align: right;\">\n",
       "      <th></th>\n",
       "      <th>a</th>\n",
       "      <th>b</th>\n",
       "      <th>ied_med</th>\n",
       "      <th>ied_mn</th>\n",
       "      <th>ied_mn_wt_event</th>\n",
       "      <th>ied_mn_wt_user</th>\n",
       "      <th>emd</th>\n",
       "      <th>emd_wt_event</th>\n",
       "      <th>emd_wt_user</th>\n",
       "      <th>same-src</th>\n",
       "      <th>label</th>\n",
       "      <th>n_a</th>\n",
       "      <th>n_b</th>\n",
       "      <th>bin_a</th>\n",
       "      <th>bin_b</th>\n",
       "    </tr>\n",
       "  </thead>\n",
       "  <tbody>\n",
       "    <tr>\n",
       "      <th>0</th>\n",
       "      <td>1.0</td>\n",
       "      <td>1.0</td>\n",
       "      <td>0.357808</td>\n",
       "      <td>0.348943</td>\n",
       "      <td>0.351755</td>\n",
       "      <td>0.357431</td>\n",
       "      <td>0.300935</td>\n",
       "      <td>0.390402</td>\n",
       "      <td>0.398849</td>\n",
       "      <td>True</td>\n",
       "      <td>True</td>\n",
       "      <td>1</td>\n",
       "      <td>2</td>\n",
       "      <td>[1.0, 2.0)</td>\n",
       "      <td>[2.0, 20.0)</td>\n",
       "    </tr>\n",
       "    <tr>\n",
       "      <th>1</th>\n",
       "      <td>2310.0</td>\n",
       "      <td>1.0</td>\n",
       "      <td>0.248014</td>\n",
       "      <td>0.232466</td>\n",
       "      <td>0.223155</td>\n",
       "      <td>0.207772</td>\n",
       "      <td>0.169987</td>\n",
       "      <td>0.249149</td>\n",
       "      <td>0.235155</td>\n",
       "      <td>False</td>\n",
       "      <td>False</td>\n",
       "      <td>42</td>\n",
       "      <td>2</td>\n",
       "      <td>[20.0, inf)</td>\n",
       "      <td>[2.0, 20.0)</td>\n",
       "    </tr>\n",
       "    <tr>\n",
       "      <th>2</th>\n",
       "      <td>1.0</td>\n",
       "      <td>5679.0</td>\n",
       "      <td>0.582882</td>\n",
       "      <td>0.630841</td>\n",
       "      <td>0.608088</td>\n",
       "      <td>0.586331</td>\n",
       "      <td>0.987651</td>\n",
       "      <td>0.891648</td>\n",
       "      <td>0.846269</td>\n",
       "      <td>False</td>\n",
       "      <td>False</td>\n",
       "      <td>1</td>\n",
       "      <td>1</td>\n",
       "      <td>[1.0, 2.0)</td>\n",
       "      <td>[1.0, 2.0)</td>\n",
       "    </tr>\n",
       "    <tr>\n",
       "      <th>3</th>\n",
       "      <td>806.0</td>\n",
       "      <td>5679.0</td>\n",
       "      <td>0.400286</td>\n",
       "      <td>0.381784</td>\n",
       "      <td>0.399066</td>\n",
       "      <td>0.393618</td>\n",
       "      <td>0.379129</td>\n",
       "      <td>0.442828</td>\n",
       "      <td>0.432398</td>\n",
       "      <td>False</td>\n",
       "      <td>False</td>\n",
       "      <td>1</td>\n",
       "      <td>1</td>\n",
       "      <td>[1.0, 2.0)</td>\n",
       "      <td>[1.0, 2.0)</td>\n",
       "    </tr>\n",
       "    <tr>\n",
       "      <th>4</th>\n",
       "      <td>5679.0</td>\n",
       "      <td>5679.0</td>\n",
       "      <td>3.608145</td>\n",
       "      <td>4.000391</td>\n",
       "      <td>4.044515</td>\n",
       "      <td>4.015830</td>\n",
       "      <td>7.829822</td>\n",
       "      <td>8.272461</td>\n",
       "      <td>8.420063</td>\n",
       "      <td>True</td>\n",
       "      <td>True</td>\n",
       "      <td>1</td>\n",
       "      <td>1</td>\n",
       "      <td>[1.0, 2.0)</td>\n",
       "      <td>[1.0, 2.0)</td>\n",
       "    </tr>\n",
       "  </tbody>\n",
       "</table>\n",
       "</div>"
      ],
      "text/plain": [
       "        a       b   ied_med    ied_mn  ied_mn_wt_event  ied_mn_wt_user  \\\n",
       "0     1.0     1.0  0.357808  0.348943         0.351755        0.357431   \n",
       "1  2310.0     1.0  0.248014  0.232466         0.223155        0.207772   \n",
       "2     1.0  5679.0  0.582882  0.630841         0.608088        0.586331   \n",
       "3   806.0  5679.0  0.400286  0.381784         0.399066        0.393618   \n",
       "4  5679.0  5679.0  3.608145  4.000391         4.044515        4.015830   \n",
       "\n",
       "        emd  emd_wt_event  emd_wt_user  same-src  label  n_a  n_b  \\\n",
       "0  0.300935      0.390402     0.398849      True   True    1    2   \n",
       "1  0.169987      0.249149     0.235155     False  False   42    2   \n",
       "2  0.987651      0.891648     0.846269     False  False    1    1   \n",
       "3  0.379129      0.442828     0.432398     False  False    1    1   \n",
       "4  7.829822      8.272461     8.420063      True   True    1    1   \n",
       "\n",
       "         bin_a        bin_b  \n",
       "0   [1.0, 2.0)  [2.0, 20.0)  \n",
       "1  [20.0, inf)  [2.0, 20.0)  \n",
       "2   [1.0, 2.0)   [1.0, 2.0)  \n",
       "3   [1.0, 2.0)   [1.0, 2.0)  \n",
       "4   [1.0, 2.0)   [1.0, 2.0)  "
      ]
     },
     "execution_count": 40,
     "metadata": {},
     "output_type": "execute_result"
    }
   ],
   "source": [
    "# merge & bin counts\n",
    "slr = pd.merge(slr, cts_a, left_on=\"a\", right_on=\"uid\").drop(columns=\"uid\")\n",
    "slr = pd.merge(slr, cts_b, left_on=\"b\", right_on=\"uid\").drop(columns=\"uid\")\n",
    "\n",
    "splits = [1, 2, 20, float(\"inf\")]\n",
    "slr['bin_a'] = pd.cut(slr.n_a, bins=splits, right=False)\n",
    "slr['bin_b'] = pd.cut(slr.n_b, bins=splits, right=False)\n",
    "\n",
    "slr.head()"
   ]
  },
  {
   "cell_type": "code",
   "execution_count": 41,
   "metadata": {},
   "outputs": [
    {
     "data": {
      "text/plain": [
       "bin_a        bin_b      \n",
       "[1.0, 2.0)   [1.0, 2.0)     0.686\n",
       "             [2.0, 20.0)    0.742\n",
       "             [20.0, inf)    0.523\n",
       "[2.0, 20.0)  [1.0, 2.0)     0.733\n",
       "             [2.0, 20.0)    0.842\n",
       "             [20.0, inf)    0.938\n",
       "[20.0, inf)  [1.0, 2.0)     0.808\n",
       "             [2.0, 20.0)    0.957\n",
       "             [20.0, inf)    0.981\n",
       "dtype: object"
      ]
     },
     "execution_count": 41,
     "metadata": {},
     "output_type": "execute_result"
    }
   ],
   "source": [
    "slr.groupby(['bin_a', 'bin_b']).apply(lambda x: calc_auc(x, score_func, 'same-src'))"
   ]
  },
  {
   "cell_type": "code",
   "execution_count": 42,
   "metadata": {},
   "outputs": [
    {
     "data": {
      "text/plain": [
       "bin_a        bin_b      \n",
       "[1.0, 2.0)   [1.0, 2.0)     (0.461, 0.176)\n",
       "             [2.0, 20.0)    (0.626, 0.236)\n",
       "             [20.0, inf)    (0.333, 0.366)\n",
       "[2.0, 20.0)  [1.0, 2.0)     (0.446, 0.114)\n",
       "             [2.0, 20.0)    (0.723, 0.183)\n",
       "             [20.0, inf)    (0.942, 0.269)\n",
       "[20.0, inf)  [1.0, 2.0)     (0.562, 0.093)\n",
       "             [2.0, 20.0)    (0.929, 0.128)\n",
       "             [20.0, inf)    (0.996, 0.256)\n",
       "dtype: object"
      ]
     },
     "execution_count": 42,
     "metadata": {},
     "output_type": "execute_result"
    }
   ],
   "source": [
    "slr.groupby(['bin_a', 'bin_b']).apply(lambda x: perf_measure(x['same-src'], x[score_func] > 1))"
   ]
  },
  {
   "cell_type": "code",
   "execution_count": 43,
   "metadata": {},
   "outputs": [
    {
     "data": {
      "image/png": "[encoded data removed]",
      "text/plain": [
       "<Figure size 1080x720 with 2 Axes>"
      ]
     },
     "metadata": {
      "needs_background": "light"
     },
     "output_type": "display_data"
    }
   ],
   "source": [
    "f, axes = plt.subplots(1, 2, figsize=(15,10))\n",
    "sns.boxplot(y=score_func, x=\"bin_a\", data=slr.loc[slr[\"same-src\"] == True], hue=\"bin_b\", ax=axes[0]).set_title(\"Same-Source\")\n",
    "sns.boxplot(y=score_func, x=\"bin_a\", data=slr.loc[slr[\"same-src\"] == False], hue=\"bin_b\", ax=axes[1]).set_title(\"Diff-Source\")\n",
    "plt.show()"
   ]
  },
  {
   "cell_type": "markdown",
   "metadata": {},
   "source": [
    "### CMP Methods"
   ]
  },
  {
   "cell_type": "code",
   "execution_count": 193,
   "metadata": {},
   "outputs": [
    {
     "name": "stdout",
     "output_type": "stream",
     "text": [
      "TP/FP@1 ('0.448', '0.050')\n",
      "AUC 0.784\n"
     ]
    }
   ],
   "source": [
    "print(\"TP/FP@1\", perf_measure(cmp['same-src'], cmp[score_func] < .05))\n",
    "print(\"AUC\", calc_auc(cmp, score_func, 'label'))"
   ]
  },
  {
   "cell_type": "code",
   "execution_count": 44,
   "metadata": {},
   "outputs": [
    {
     "data": {
      "text/html": [
       "<div>\n",
       "<style scoped>\n",
       "    .dataframe tbody tr th:only-of-type {\n",
       "        vertical-align: middle;\n",
       "    }\n",
       "\n",
       "    .dataframe tbody tr th {\n",
       "        vertical-align: top;\n",
       "    }\n",
       "\n",
       "    .dataframe thead th {\n",
       "        text-align: right;\n",
       "    }\n",
       "</style>\n",
       "<table border=\"1\" class=\"dataframe\">\n",
       "  <thead>\n",
       "    <tr style=\"text-align: right;\">\n",
       "      <th></th>\n",
       "      <th>a</th>\n",
       "      <th>b</th>\n",
       "      <th>ied_med</th>\n",
       "      <th>ied_mn</th>\n",
       "      <th>ied_mn_wt_event</th>\n",
       "      <th>ied_mn_wt_user</th>\n",
       "      <th>emd</th>\n",
       "      <th>emd_wt_event</th>\n",
       "      <th>emd_wt_user</th>\n",
       "      <th>same-src</th>\n",
       "      <th>label</th>\n",
       "      <th>n_a</th>\n",
       "      <th>n_b</th>\n",
       "      <th>bin_a</th>\n",
       "      <th>bin_b</th>\n",
       "    </tr>\n",
       "  </thead>\n",
       "  <tbody>\n",
       "    <tr>\n",
       "      <th>0</th>\n",
       "      <td>1.0</td>\n",
       "      <td>1.0</td>\n",
       "      <td>0.801511</td>\n",
       "      <td>0.804401</td>\n",
       "      <td>0.789398</td>\n",
       "      <td>0.786953</td>\n",
       "      <td>0.783841</td>\n",
       "      <td>0.726384</td>\n",
       "      <td>0.714826</td>\n",
       "      <td>True</td>\n",
       "      <td>False</td>\n",
       "      <td>1</td>\n",
       "      <td>2</td>\n",
       "      <td>[1.0, 2.0)</td>\n",
       "      <td>[2.0, 20.0)</td>\n",
       "    </tr>\n",
       "    <tr>\n",
       "      <th>1</th>\n",
       "      <td>2310.0</td>\n",
       "      <td>1.0</td>\n",
       "      <td>0.973189</td>\n",
       "      <td>0.967182</td>\n",
       "      <td>0.967405</td>\n",
       "      <td>0.968517</td>\n",
       "      <td>0.971966</td>\n",
       "      <td>0.959951</td>\n",
       "      <td>0.958060</td>\n",
       "      <td>False</td>\n",
       "      <td>True</td>\n",
       "      <td>42</td>\n",
       "      <td>2</td>\n",
       "      <td>[20.0, inf)</td>\n",
       "      <td>[2.0, 20.0)</td>\n",
       "    </tr>\n",
       "    <tr>\n",
       "      <th>2</th>\n",
       "      <td>1.0</td>\n",
       "      <td>5679.0</td>\n",
       "      <td>0.374097</td>\n",
       "      <td>0.360645</td>\n",
       "      <td>0.353974</td>\n",
       "      <td>0.354530</td>\n",
       "      <td>0.200556</td>\n",
       "      <td>0.197999</td>\n",
       "      <td>0.195553</td>\n",
       "      <td>False</td>\n",
       "      <td>True</td>\n",
       "      <td>1</td>\n",
       "      <td>1</td>\n",
       "      <td>[1.0, 2.0)</td>\n",
       "      <td>[1.0, 2.0)</td>\n",
       "    </tr>\n",
       "    <tr>\n",
       "      <th>3</th>\n",
       "      <td>806.0</td>\n",
       "      <td>5679.0</td>\n",
       "      <td>0.746581</td>\n",
       "      <td>0.749805</td>\n",
       "      <td>0.731903</td>\n",
       "      <td>0.732792</td>\n",
       "      <td>0.647059</td>\n",
       "      <td>0.613588</td>\n",
       "      <td>0.615145</td>\n",
       "      <td>False</td>\n",
       "      <td>True</td>\n",
       "      <td>1</td>\n",
       "      <td>1</td>\n",
       "      <td>[1.0, 2.0)</td>\n",
       "      <td>[1.0, 2.0)</td>\n",
       "    </tr>\n",
       "    <tr>\n",
       "      <th>4</th>\n",
       "      <td>5679.0</td>\n",
       "      <td>5679.0</td>\n",
       "      <td>0.061583</td>\n",
       "      <td>0.052357</td>\n",
       "      <td>0.050578</td>\n",
       "      <td>0.051356</td>\n",
       "      <td>0.023010</td>\n",
       "      <td>0.019453</td>\n",
       "      <td>0.019564</td>\n",
       "      <td>True</td>\n",
       "      <td>False</td>\n",
       "      <td>1</td>\n",
       "      <td>1</td>\n",
       "      <td>[1.0, 2.0)</td>\n",
       "      <td>[1.0, 2.0)</td>\n",
       "    </tr>\n",
       "  </tbody>\n",
       "</table>\n",
       "</div>"
      ],
      "text/plain": [
       "        a       b   ied_med    ied_mn  ied_mn_wt_event  ied_mn_wt_user  \\\n",
       "0     1.0     1.0  0.801511  0.804401         0.789398        0.786953   \n",
       "1  2310.0     1.0  0.973189  0.967182         0.967405        0.968517   \n",
       "2     1.0  5679.0  0.374097  0.360645         0.353974        0.354530   \n",
       "3   806.0  5679.0  0.746581  0.749805         0.731903        0.732792   \n",
       "4  5679.0  5679.0  0.061583  0.052357         0.050578        0.051356   \n",
       "\n",
       "        emd  emd_wt_event  emd_wt_user  same-src  label  n_a  n_b  \\\n",
       "0  0.783841      0.726384     0.714826      True  False    1    2   \n",
       "1  0.971966      0.959951     0.958060     False   True   42    2   \n",
       "2  0.200556      0.197999     0.195553     False   True    1    1   \n",
       "3  0.647059      0.613588     0.615145     False   True    1    1   \n",
       "4  0.023010      0.019453     0.019564      True  False    1    1   \n",
       "\n",
       "         bin_a        bin_b  \n",
       "0   [1.0, 2.0)  [2.0, 20.0)  \n",
       "1  [20.0, inf)  [2.0, 20.0)  \n",
       "2   [1.0, 2.0)   [1.0, 2.0)  \n",
       "3   [1.0, 2.0)   [1.0, 2.0)  \n",
       "4   [1.0, 2.0)   [1.0, 2.0)  "
      ]
     },
     "execution_count": 44,
     "metadata": {},
     "output_type": "execute_result"
    }
   ],
   "source": [
    "# merge & bin counts\n",
    "cmp = pd.merge(cmp, cts_a, left_on=\"a\", right_on=\"uid\").drop(columns=\"uid\")\n",
    "cmp = pd.merge(cmp, cts_b, left_on=\"b\", right_on=\"uid\").drop(columns=\"uid\")\n",
    "\n",
    "splits = [1, 2, 20, float(\"inf\")]\n",
    "cmp['bin_a'] = pd.cut(cmp.n_a, bins=splits, right=False)\n",
    "cmp['bin_b'] = pd.cut(cmp.n_b, bins=splits, right=False)\n",
    "\n",
    "cmp.head()"
   ]
  },
  {
   "cell_type": "code",
   "execution_count": 45,
   "metadata": {},
   "outputs": [
    {
     "data": {
      "text/plain": [
       "bin_a        bin_b      \n",
       "[1.0, 2.0)   [1.0, 2.0)     0.692\n",
       "             [2.0, 20.0)    0.719\n",
       "             [20.0, inf)    0.566\n",
       "[2.0, 20.0)  [1.0, 2.0)     0.751\n",
       "             [2.0, 20.0)    0.818\n",
       "             [20.0, inf)    0.920\n",
       "[20.0, inf)  [1.0, 2.0)     0.806\n",
       "             [2.0, 20.0)    0.946\n",
       "             [20.0, inf)    0.970\n",
       "dtype: object"
      ]
     },
     "execution_count": 45,
     "metadata": {},
     "output_type": "execute_result"
    }
   ],
   "source": [
    "score_func = 'emd_wt_user'\n",
    "cmp.groupby(['bin_a', 'bin_b']).apply(lambda x: calc_auc(x, score_func, 'label'))"
   ]
  },
  {
   "cell_type": "code",
   "execution_count": 46,
   "metadata": {},
   "outputs": [
    {
     "data": {
      "text/plain": [
       "bin_a        bin_b      \n",
       "[1.0, 2.0)   [1.0, 2.0)     (0.404, 0.132)\n",
       "             [2.0, 20.0)    (0.362, 0.063)\n",
       "             [20.0, inf)    (0.333, 0.038)\n",
       "[2.0, 20.0)  [1.0, 2.0)     (0.421, 0.074)\n",
       "             [2.0, 20.0)    (0.460, 0.040)\n",
       "             [20.0, inf)    (0.674, 0.025)\n",
       "[20.0, inf)  [1.0, 2.0)     (0.562, 0.046)\n",
       "             [2.0, 20.0)    (0.695, 0.016)\n",
       "             [20.0, inf)    (0.780, 0.017)\n",
       "dtype: object"
      ]
     },
     "execution_count": 46,
     "metadata": {},
     "output_type": "execute_result"
    }
   ],
   "source": [
    "cmp.groupby(['bin_a', 'bin_b']).apply(lambda x: perf_measure(x['same-src'], x[score_func] < 0.05))"
   ]
  },
  {
   "cell_type": "code",
   "execution_count": 47,
   "metadata": {},
   "outputs": [
    {
     "data": {
      "image/png": "[encoded data removed]",
      "text/plain": [
       "<Figure size 1080x720 with 2 Axes>"
      ]
     },
     "metadata": {
      "needs_background": "light"
     },
     "output_type": "display_data"
    }
   ],
   "source": [
    "f, axes = plt.subplots(1, 2, figsize=(15,10))\n",
    "sns.boxplot(y=score_func, x=\"bin_a\", data=cmp.loc[cmp[\"same-src\"] == True], hue=\"bin_b\", ax=axes[0]).set_title(\"Same-Source\")\n",
    "sns.boxplot(y=score_func, x=\"bin_a\", data=cmp.loc[cmp[\"same-src\"] == False], hue=\"bin_b\", ax=axes[1]).set_title(\"Diff-Source\")\n",
    "plt.show()"
   ]
  },
  {
   "cell_type": "markdown",
   "metadata": {},
   "source": [
    "# \"Disneyland Problem\" User"
   ]
  },
  {
   "cell_type": "code",
   "execution_count": 48,
   "metadata": {},
   "outputs": [
    {
     "data": {
      "text/plain": [
       "721    17504677.0\n",
       "722    17504677.0\n",
       "723    17504677.0\n",
       "724    17504677.0\n",
       "725    17504677.0\n",
       "          ...    \n",
       "778    17504677.0\n",
       "779    17504677.0\n",
       "780    17504677.0\n",
       "781    17504677.0\n",
       "782    17504677.0\n",
       "Name: old_uid, Length: 62, dtype: float64"
      ]
     },
     "execution_count": 48,
     "metadata": {},
     "output_type": "execute_result"
    }
   ],
   "source": [
    "reduced_mpp = oc_mpp = pd.read_csv(os.path.join(oc_directory, \"mpp_visits_month0a_month1b_n20.csv\"))\n",
    "reduced_mpp.loc[reduced_mpp.uid == 10, 'old_uid']  # new uid was 10, need to find out what it is now"
   ]
  },
  {
   "cell_type": "code",
   "execution_count": 49,
   "metadata": {},
   "outputs": [
    {
     "data": {
      "text/html": [
       "<div>\n",
       "<style scoped>\n",
       "    .dataframe tbody tr th:only-of-type {\n",
       "        vertical-align: middle;\n",
       "    }\n",
       "\n",
       "    .dataframe tbody tr th {\n",
       "        vertical-align: top;\n",
       "    }\n",
       "\n",
       "    .dataframe thead th {\n",
       "        text-align: right;\n",
       "    }\n",
       "</style>\n",
       "<table border=\"1\" class=\"dataframe\">\n",
       "  <thead>\n",
       "    <tr style=\"text-align: right;\">\n",
       "      <th></th>\n",
       "      <th>old_uid</th>\n",
       "      <th>uid</th>\n",
       "      <th>m</th>\n",
       "      <th>lon</th>\n",
       "      <th>lat</th>\n",
       "      <th>location_id</th>\n",
       "      <th>weight_event</th>\n",
       "      <th>weight_user</th>\n",
       "    </tr>\n",
       "  </thead>\n",
       "  <tbody>\n",
       "    <tr>\n",
       "      <th>529</th>\n",
       "      <td>17504677.0</td>\n",
       "      <td>446</td>\n",
       "      <td>a</td>\n",
       "      <td>-117.91914</td>\n",
       "      <td>33.81058</td>\n",
       "      <td>61905.0</td>\n",
       "      <td>0.000014</td>\n",
       "      <td>0.000032</td>\n",
       "    </tr>\n",
       "    <tr>\n",
       "      <th>530</th>\n",
       "      <td>17504677.0</td>\n",
       "      <td>446</td>\n",
       "      <td>a</td>\n",
       "      <td>-117.91894</td>\n",
       "      <td>33.81276</td>\n",
       "      <td>61905.0</td>\n",
       "      <td>0.000014</td>\n",
       "      <td>0.000032</td>\n",
       "    </tr>\n",
       "    <tr>\n",
       "      <th>531</th>\n",
       "      <td>17504677.0</td>\n",
       "      <td>446</td>\n",
       "      <td>a</td>\n",
       "      <td>-117.91849</td>\n",
       "      <td>33.81063</td>\n",
       "      <td>61905.0</td>\n",
       "      <td>0.000014</td>\n",
       "      <td>0.000032</td>\n",
       "    </tr>\n",
       "    <tr>\n",
       "      <th>532</th>\n",
       "      <td>17504677.0</td>\n",
       "      <td>446</td>\n",
       "      <td>a</td>\n",
       "      <td>-117.92184</td>\n",
       "      <td>33.81165</td>\n",
       "      <td>61905.0</td>\n",
       "      <td>0.000014</td>\n",
       "      <td>0.000032</td>\n",
       "    </tr>\n",
       "    <tr>\n",
       "      <th>533</th>\n",
       "      <td>17504677.0</td>\n",
       "      <td>446</td>\n",
       "      <td>a</td>\n",
       "      <td>-117.92008</td>\n",
       "      <td>33.81101</td>\n",
       "      <td>61905.0</td>\n",
       "      <td>0.000014</td>\n",
       "      <td>0.000032</td>\n",
       "    </tr>\n",
       "    <tr>\n",
       "      <th>...</th>\n",
       "      <td>...</td>\n",
       "      <td>...</td>\n",
       "      <td>...</td>\n",
       "      <td>...</td>\n",
       "      <td>...</td>\n",
       "      <td>...</td>\n",
       "      <td>...</td>\n",
       "      <td>...</td>\n",
       "    </tr>\n",
       "    <tr>\n",
       "      <th>5844</th>\n",
       "      <td>17504677.0</td>\n",
       "      <td>446</td>\n",
       "      <td>b</td>\n",
       "      <td>-117.91999</td>\n",
       "      <td>33.80754</td>\n",
       "      <td>62149.0</td>\n",
       "      <td>0.000032</td>\n",
       "      <td>0.000065</td>\n",
       "    </tr>\n",
       "    <tr>\n",
       "      <th>8375</th>\n",
       "      <td>17504677.0</td>\n",
       "      <td>446</td>\n",
       "      <td>b</td>\n",
       "      <td>-117.91793</td>\n",
       "      <td>33.80664</td>\n",
       "      <td>8329.0</td>\n",
       "      <td>0.000374</td>\n",
       "      <td>0.000532</td>\n",
       "    </tr>\n",
       "    <tr>\n",
       "      <th>23657</th>\n",
       "      <td>17504677.0</td>\n",
       "      <td>446</td>\n",
       "      <td>a</td>\n",
       "      <td>-117.92471</td>\n",
       "      <td>33.81626</td>\n",
       "      <td>35678.0</td>\n",
       "      <td>0.020833</td>\n",
       "      <td>0.025641</td>\n",
       "    </tr>\n",
       "    <tr>\n",
       "      <th>31090</th>\n",
       "      <td>17504677.0</td>\n",
       "      <td>446</td>\n",
       "      <td>b</td>\n",
       "      <td>-117.91397</td>\n",
       "      <td>33.80596</td>\n",
       "      <td>8323.0</td>\n",
       "      <td>0.025641</td>\n",
       "      <td>0.028571</td>\n",
       "    </tr>\n",
       "    <tr>\n",
       "      <th>31094</th>\n",
       "      <td>17504677.0</td>\n",
       "      <td>446</td>\n",
       "      <td>b</td>\n",
       "      <td>-117.87534</td>\n",
       "      <td>33.88696</td>\n",
       "      <td>180585.0</td>\n",
       "      <td>0.250000</td>\n",
       "      <td>0.333333</td>\n",
       "    </tr>\n",
       "  </tbody>\n",
       "</table>\n",
       "<p>62 rows × 8 columns</p>\n",
       "</div>"
      ],
      "text/plain": [
       "          old_uid  uid  m        lon       lat  location_id  weight_event  \\\n",
       "529    17504677.0  446  a -117.91914  33.81058      61905.0      0.000014   \n",
       "530    17504677.0  446  a -117.91894  33.81276      61905.0      0.000014   \n",
       "531    17504677.0  446  a -117.91849  33.81063      61905.0      0.000014   \n",
       "532    17504677.0  446  a -117.92184  33.81165      61905.0      0.000014   \n",
       "533    17504677.0  446  a -117.92008  33.81101      61905.0      0.000014   \n",
       "...           ...  ... ..        ...       ...          ...           ...   \n",
       "5844   17504677.0  446  b -117.91999  33.80754      62149.0      0.000032   \n",
       "8375   17504677.0  446  b -117.91793  33.80664       8329.0      0.000374   \n",
       "23657  17504677.0  446  a -117.92471  33.81626      35678.0      0.020833   \n",
       "31090  17504677.0  446  b -117.91397  33.80596       8323.0      0.025641   \n",
       "31094  17504677.0  446  b -117.87534  33.88696     180585.0      0.250000   \n",
       "\n",
       "       weight_user  \n",
       "529       0.000032  \n",
       "530       0.000032  \n",
       "531       0.000032  \n",
       "532       0.000032  \n",
       "533       0.000032  \n",
       "...            ...  \n",
       "5844      0.000065  \n",
       "8375      0.000532  \n",
       "23657     0.025641  \n",
       "31090     0.028571  \n",
       "31094     0.333333  \n",
       "\n",
       "[62 rows x 8 columns]"
      ]
     },
     "execution_count": 49,
     "metadata": {},
     "output_type": "execute_result"
    }
   ],
   "source": [
    "mpp.loc[mpp.old_uid == 17504677, ]  # so it is 446"
   ]
  },
  {
   "cell_type": "code",
   "execution_count": 50,
   "metadata": {},
   "outputs": [
    {
     "data": {
      "text/html": [
       "<div>\n",
       "<style scoped>\n",
       "    .dataframe tbody tr th:only-of-type {\n",
       "        vertical-align: middle;\n",
       "    }\n",
       "\n",
       "    .dataframe tbody tr th {\n",
       "        vertical-align: top;\n",
       "    }\n",
       "\n",
       "    .dataframe thead th {\n",
       "        text-align: right;\n",
       "    }\n",
       "</style>\n",
       "<table border=\"1\" class=\"dataframe\">\n",
       "  <thead>\n",
       "    <tr style=\"text-align: right;\">\n",
       "      <th></th>\n",
       "      <th>a</th>\n",
       "      <th>b</th>\n",
       "      <th>lr_alpha_80</th>\n",
       "      <th>alpha</th>\n",
       "      <th>lr_alpha_vary</th>\n",
       "      <th>same-src</th>\n",
       "      <th>n_a</th>\n",
       "      <th>n_b</th>\n",
       "      <th>bin_a</th>\n",
       "      <th>bin_b</th>\n",
       "    </tr>\n",
       "  </thead>\n",
       "  <tbody>\n",
       "    <tr>\n",
       "      <th>3425</th>\n",
       "      <td>446.0</td>\n",
       "      <td>446.0</td>\n",
       "      <td>33.414106</td>\n",
       "      <td>0.55</td>\n",
       "      <td>29.191322</td>\n",
       "      <td>True</td>\n",
       "      <td>38</td>\n",
       "      <td>24</td>\n",
       "      <td>[20.0, inf)</td>\n",
       "      <td>[20.0, inf)</td>\n",
       "    </tr>\n",
       "  </tbody>\n",
       "</table>\n",
       "</div>"
      ],
      "text/plain": [
       "          a      b  lr_alpha_80  alpha  lr_alpha_vary  same-src  n_a  n_b  \\\n",
       "3425  446.0  446.0    33.414106   0.55      29.191322      True   38   24   \n",
       "\n",
       "            bin_a        bin_b  \n",
       "3425  [20.0, inf)  [20.0, inf)  "
      ]
     },
     "execution_count": 50,
     "metadata": {},
     "output_type": "execute_result"
    }
   ],
   "source": [
    "lr.loc[(lr.a == 446) & (lr.b == 446), ]"
   ]
  },
  {
   "cell_type": "markdown",
   "metadata": {},
   "source": [
    "# Plot TP & FP rates for the different methods binned by `n_A` & `n_B`\n",
    "\n",
    "### Create the data set"
   ]
  },
  {
   "cell_type": "code",
   "execution_count": 51,
   "metadata": {},
   "outputs": [
    {
     "data": {
      "text/html": [
       "<div>\n",
       "<style scoped>\n",
       "    .dataframe tbody tr th:only-of-type {\n",
       "        vertical-align: middle;\n",
       "    }\n",
       "\n",
       "    .dataframe tbody tr th {\n",
       "        vertical-align: top;\n",
       "    }\n",
       "\n",
       "    .dataframe thead th {\n",
       "        text-align: right;\n",
       "    }\n",
       "</style>\n",
       "<table border=\"1\" class=\"dataframe\">\n",
       "  <thead>\n",
       "    <tr style=\"text-align: right;\">\n",
       "      <th></th>\n",
       "      <th>bin_a</th>\n",
       "      <th>bin_b</th>\n",
       "      <th>score</th>\n",
       "      <th>auc</th>\n",
       "      <th>tp</th>\n",
       "      <th>fp</th>\n",
       "      <th>method</th>\n",
       "    </tr>\n",
       "  </thead>\n",
       "  <tbody>\n",
       "    <tr>\n",
       "      <th>0</th>\n",
       "      <td>[1.0, 2.0)</td>\n",
       "      <td>[1.0, 2.0)</td>\n",
       "      <td>lr_alpha_vary</td>\n",
       "      <td>0.676</td>\n",
       "      <td>0.187</td>\n",
       "      <td>0.018</td>\n",
       "      <td>lr</td>\n",
       "    </tr>\n",
       "    <tr>\n",
       "      <th>1</th>\n",
       "      <td>[1.0, 2.0)</td>\n",
       "      <td>[1.0, 2.0)</td>\n",
       "      <td>lr_alpha_80</td>\n",
       "      <td>0.666</td>\n",
       "      <td>0.187</td>\n",
       "      <td>0.018</td>\n",
       "      <td>lr</td>\n",
       "    </tr>\n",
       "    <tr>\n",
       "      <th>2</th>\n",
       "      <td>[1.0, 2.0)</td>\n",
       "      <td>[2.0, 20.0)</td>\n",
       "      <td>lr_alpha_vary</td>\n",
       "      <td>0.793</td>\n",
       "      <td>0.294</td>\n",
       "      <td>0.030</td>\n",
       "      <td>lr</td>\n",
       "    </tr>\n",
       "    <tr>\n",
       "      <th>3</th>\n",
       "      <td>[1.0, 2.0)</td>\n",
       "      <td>[2.0, 20.0)</td>\n",
       "      <td>lr_alpha_80</td>\n",
       "      <td>0.795</td>\n",
       "      <td>0.235</td>\n",
       "      <td>0.011</td>\n",
       "      <td>lr</td>\n",
       "    </tr>\n",
       "    <tr>\n",
       "      <th>4</th>\n",
       "      <td>[1.0, 2.0)</td>\n",
       "      <td>[20.0, inf)</td>\n",
       "      <td>lr_alpha_vary</td>\n",
       "      <td>0.736</td>\n",
       "      <td>0.333</td>\n",
       "      <td>0.041</td>\n",
       "      <td>lr</td>\n",
       "    </tr>\n",
       "  </tbody>\n",
       "</table>\n",
       "</div>"
      ],
      "text/plain": [
       "        bin_a        bin_b          score    auc     tp     fp method\n",
       "0  [1.0, 2.0)   [1.0, 2.0)  lr_alpha_vary  0.676  0.187  0.018     lr\n",
       "1  [1.0, 2.0)   [1.0, 2.0)    lr_alpha_80  0.666  0.187  0.018     lr\n",
       "2  [1.0, 2.0)  [2.0, 20.0)  lr_alpha_vary  0.793  0.294  0.030     lr\n",
       "3  [1.0, 2.0)  [2.0, 20.0)    lr_alpha_80  0.795  0.235  0.011     lr\n",
       "4  [1.0, 2.0)  [20.0, inf)  lr_alpha_vary  0.736  0.333  0.041     lr"
      ]
     },
     "execution_count": 51,
     "metadata": {},
     "output_type": "execute_result"
    }
   ],
   "source": [
    "def performance_stats(x, score_func, column, criteria):\n",
    "    out = []\n",
    "    for s in score_func:\n",
    "        d = {}\n",
    "        d['score'] = s\n",
    "        d['auc'] = calc_auc(x, s, column)\n",
    "        d['tp'], d['fp'] = perf_measure(x[column], x[s] > criteria)\n",
    "        out.append(d)\n",
    "    return pd.DataFrame(out)\n",
    "\n",
    "lr_rslt = lr.groupby(['bin_a', 'bin_b']).apply(\n",
    "    lambda x: performance_stats(x, ['lr_alpha_vary', 'lr_alpha_80'], 'same-src', 0) \n",
    ").reset_index()\n",
    "lr_rslt['method'] = 'lr'\n",
    "lr_rslt.drop(columns='level_2', inplace=True)\n",
    "lr_rslt.head()\n"
   ]
  },
  {
   "cell_type": "code",
   "execution_count": 52,
   "metadata": {},
   "outputs": [
    {
     "data": {
      "text/html": [
       "<div>\n",
       "<style scoped>\n",
       "    .dataframe tbody tr th:only-of-type {\n",
       "        vertical-align: middle;\n",
       "    }\n",
       "\n",
       "    .dataframe tbody tr th {\n",
       "        vertical-align: top;\n",
       "    }\n",
       "\n",
       "    .dataframe thead th {\n",
       "        text-align: right;\n",
       "    }\n",
       "</style>\n",
       "<table border=\"1\" class=\"dataframe\">\n",
       "  <thead>\n",
       "    <tr style=\"text-align: right;\">\n",
       "      <th></th>\n",
       "      <th>bin_a</th>\n",
       "      <th>bin_b</th>\n",
       "      <th>score</th>\n",
       "      <th>auc</th>\n",
       "      <th>tp</th>\n",
       "      <th>fp</th>\n",
       "      <th>method</th>\n",
       "    </tr>\n",
       "  </thead>\n",
       "  <tbody>\n",
       "    <tr>\n",
       "      <th>0</th>\n",
       "      <td>[1.0, 2.0)</td>\n",
       "      <td>[1.0, 2.0)</td>\n",
       "      <td>ied_mn</td>\n",
       "      <td>0.686</td>\n",
       "      <td>0.461</td>\n",
       "      <td>0.176</td>\n",
       "      <td>slr</td>\n",
       "    </tr>\n",
       "    <tr>\n",
       "      <th>1</th>\n",
       "      <td>[1.0, 2.0)</td>\n",
       "      <td>[1.0, 2.0)</td>\n",
       "      <td>ied_mn_wt_event</td>\n",
       "      <td>0.687</td>\n",
       "      <td>0.449</td>\n",
       "      <td>0.165</td>\n",
       "      <td>slr</td>\n",
       "    </tr>\n",
       "    <tr>\n",
       "      <th>2</th>\n",
       "      <td>[1.0, 2.0)</td>\n",
       "      <td>[1.0, 2.0)</td>\n",
       "      <td>ied_mn_wt_user</td>\n",
       "      <td>0.689</td>\n",
       "      <td>0.440</td>\n",
       "      <td>0.159</td>\n",
       "      <td>slr</td>\n",
       "    </tr>\n",
       "    <tr>\n",
       "      <th>3</th>\n",
       "      <td>[1.0, 2.0)</td>\n",
       "      <td>[1.0, 2.0)</td>\n",
       "      <td>emd</td>\n",
       "      <td>0.690</td>\n",
       "      <td>0.566</td>\n",
       "      <td>0.292</td>\n",
       "      <td>slr</td>\n",
       "    </tr>\n",
       "    <tr>\n",
       "      <th>4</th>\n",
       "      <td>[1.0, 2.0)</td>\n",
       "      <td>[1.0, 2.0)</td>\n",
       "      <td>emd_wt_event</td>\n",
       "      <td>0.690</td>\n",
       "      <td>0.547</td>\n",
       "      <td>0.267</td>\n",
       "      <td>slr</td>\n",
       "    </tr>\n",
       "  </tbody>\n",
       "</table>\n",
       "</div>"
      ],
      "text/plain": [
       "        bin_a       bin_b            score    auc     tp     fp method\n",
       "0  [1.0, 2.0)  [1.0, 2.0)           ied_mn  0.686  0.461  0.176    slr\n",
       "1  [1.0, 2.0)  [1.0, 2.0)  ied_mn_wt_event  0.687  0.449  0.165    slr\n",
       "2  [1.0, 2.0)  [1.0, 2.0)   ied_mn_wt_user  0.689  0.440  0.159    slr\n",
       "3  [1.0, 2.0)  [1.0, 2.0)              emd  0.690  0.566  0.292    slr\n",
       "4  [1.0, 2.0)  [1.0, 2.0)     emd_wt_event  0.690  0.547  0.267    slr"
      ]
     },
     "execution_count": 52,
     "metadata": {},
     "output_type": "execute_result"
    }
   ],
   "source": [
    "scores = ['ied_mn', 'ied_mn_wt_event', 'ied_mn_wt_user', 'emd', 'emd_wt_event', 'emd_wt_user']\n",
    "\n",
    "slr_rslt = slr.groupby(['bin_a', 'bin_b']).apply(\n",
    "    lambda x: performance_stats(x, scores, 'same-src', 1) \n",
    ").reset_index()\n",
    "slr_rslt['method'] = 'slr'\n",
    "slr_rslt.drop(columns='level_2', inplace=True)\n",
    "slr_rslt.head()\n"
   ]
  },
  {
   "cell_type": "code",
   "execution_count": 68,
   "metadata": {},
   "outputs": [
    {
     "data": {
      "text/html": [
       "<div>\n",
       "<style scoped>\n",
       "    .dataframe tbody tr th:only-of-type {\n",
       "        vertical-align: middle;\n",
       "    }\n",
       "\n",
       "    .dataframe tbody tr th {\n",
       "        vertical-align: top;\n",
       "    }\n",
       "\n",
       "    .dataframe thead th {\n",
       "        text-align: right;\n",
       "    }\n",
       "</style>\n",
       "<table border=\"1\" class=\"dataframe\">\n",
       "  <thead>\n",
       "    <tr style=\"text-align: right;\">\n",
       "      <th></th>\n",
       "      <th>bin_a</th>\n",
       "      <th>bin_b</th>\n",
       "      <th>score</th>\n",
       "      <th>auc</th>\n",
       "      <th>tp</th>\n",
       "      <th>fp</th>\n",
       "      <th>method</th>\n",
       "    </tr>\n",
       "  </thead>\n",
       "  <tbody>\n",
       "    <tr>\n",
       "      <th>0</th>\n",
       "      <td>[1.0, 2.0)</td>\n",
       "      <td>[1.0, 2.0)</td>\n",
       "      <td>ied_mn</td>\n",
       "      <td>0.692</td>\n",
       "      <td>0.313</td>\n",
       "      <td>0.065</td>\n",
       "      <td>cmp</td>\n",
       "    </tr>\n",
       "    <tr>\n",
       "      <th>1</th>\n",
       "      <td>[1.0, 2.0)</td>\n",
       "      <td>[1.0, 2.0)</td>\n",
       "      <td>ied_mn_wt_event</td>\n",
       "      <td>0.692</td>\n",
       "      <td>0.314</td>\n",
       "      <td>0.066</td>\n",
       "      <td>cmp</td>\n",
       "    </tr>\n",
       "    <tr>\n",
       "      <th>2</th>\n",
       "      <td>[1.0, 2.0)</td>\n",
       "      <td>[1.0, 2.0)</td>\n",
       "      <td>ied_mn_wt_user</td>\n",
       "      <td>0.692</td>\n",
       "      <td>0.313</td>\n",
       "      <td>0.066</td>\n",
       "      <td>cmp</td>\n",
       "    </tr>\n",
       "    <tr>\n",
       "      <th>3</th>\n",
       "      <td>[1.0, 2.0)</td>\n",
       "      <td>[1.0, 2.0)</td>\n",
       "      <td>emd</td>\n",
       "      <td>0.692</td>\n",
       "      <td>0.399</td>\n",
       "      <td>0.129</td>\n",
       "      <td>cmp</td>\n",
       "    </tr>\n",
       "    <tr>\n",
       "      <th>4</th>\n",
       "      <td>[1.0, 2.0)</td>\n",
       "      <td>[1.0, 2.0)</td>\n",
       "      <td>emd_wt_event</td>\n",
       "      <td>0.692</td>\n",
       "      <td>0.410</td>\n",
       "      <td>0.137</td>\n",
       "      <td>cmp</td>\n",
       "    </tr>\n",
       "  </tbody>\n",
       "</table>\n",
       "</div>"
      ],
      "text/plain": [
       "        bin_a       bin_b            score    auc     tp     fp method\n",
       "0  [1.0, 2.0)  [1.0, 2.0)           ied_mn  0.692  0.313  0.065    cmp\n",
       "1  [1.0, 2.0)  [1.0, 2.0)  ied_mn_wt_event  0.692  0.314  0.066    cmp\n",
       "2  [1.0, 2.0)  [1.0, 2.0)   ied_mn_wt_user  0.692  0.313  0.066    cmp\n",
       "3  [1.0, 2.0)  [1.0, 2.0)              emd  0.692  0.399  0.129    cmp\n",
       "4  [1.0, 2.0)  [1.0, 2.0)     emd_wt_event  0.692  0.410  0.137    cmp"
      ]
     },
     "execution_count": 68,
     "metadata": {},
     "output_type": "execute_result"
    }
   ],
   "source": [
    "def cmp_performance_stats(x, score_func, criteria):\n",
    "    out = []\n",
    "    for s in score_func:\n",
    "        d = {}\n",
    "        d['score'] = s\n",
    "        d['auc'] = calc_auc(x, s, 'label')\n",
    "        d['tp'], d['fp'] = perf_measure(x['same-src'], x[s] < criteria)\n",
    "        out.append(d)\n",
    "    return pd.DataFrame(out)\n",
    "\n",
    "cmp_rslt = cmp.groupby(['bin_a', 'bin_b']).apply(\n",
    "    lambda x: cmp_performance_stats(x, scores, 0.05) \n",
    ").reset_index()\n",
    "cmp_rslt['method'] = 'cmp'\n",
    "cmp_rslt.drop(columns='level_2', inplace=True)\n",
    "cmp_rslt.head()\n"
   ]
  },
  {
   "cell_type": "code",
   "execution_count": 99,
   "metadata": {},
   "outputs": [
    {
     "data": {
      "text/html": [
       "<div>\n",
       "<style scoped>\n",
       "    .dataframe tbody tr th:only-of-type {\n",
       "        vertical-align: middle;\n",
       "    }\n",
       "\n",
       "    .dataframe tbody tr th {\n",
       "        vertical-align: top;\n",
       "    }\n",
       "\n",
       "    .dataframe thead th {\n",
       "        text-align: right;\n",
       "    }\n",
       "</style>\n",
       "<table border=\"1\" class=\"dataframe\">\n",
       "  <thead>\n",
       "    <tr style=\"text-align: right;\">\n",
       "      <th></th>\n",
       "      <th>bin_a</th>\n",
       "      <th>bin_b</th>\n",
       "      <th>score</th>\n",
       "      <th>auc</th>\n",
       "      <th>tp</th>\n",
       "      <th>fp</th>\n",
       "      <th>method</th>\n",
       "    </tr>\n",
       "  </thead>\n",
       "  <tbody>\n",
       "    <tr>\n",
       "      <th>75</th>\n",
       "      <td>[1.0, 2.0)</td>\n",
       "      <td>[1.0, 2.0)</td>\n",
       "      <td>emd</td>\n",
       "      <td>0.692</td>\n",
       "      <td>0.399</td>\n",
       "      <td>0.129</td>\n",
       "      <td>cmp</td>\n",
       "    </tr>\n",
       "    <tr>\n",
       "      <th>76</th>\n",
       "      <td>[1.0, 2.0)</td>\n",
       "      <td>[1.0, 2.0)</td>\n",
       "      <td>emd_wt_event</td>\n",
       "      <td>0.692</td>\n",
       "      <td>0.410</td>\n",
       "      <td>0.137</td>\n",
       "      <td>cmp</td>\n",
       "    </tr>\n",
       "    <tr>\n",
       "      <th>77</th>\n",
       "      <td>[1.0, 2.0)</td>\n",
       "      <td>[1.0, 2.0)</td>\n",
       "      <td>emd_wt_user</td>\n",
       "      <td>0.692</td>\n",
       "      <td>0.404</td>\n",
       "      <td>0.132</td>\n",
       "      <td>cmp</td>\n",
       "    </tr>\n",
       "    <tr>\n",
       "      <th>72</th>\n",
       "      <td>[1.0, 2.0)</td>\n",
       "      <td>[1.0, 2.0)</td>\n",
       "      <td>ied_mn</td>\n",
       "      <td>0.692</td>\n",
       "      <td>0.313</td>\n",
       "      <td>0.065</td>\n",
       "      <td>cmp</td>\n",
       "    </tr>\n",
       "    <tr>\n",
       "      <th>73</th>\n",
       "      <td>[1.0, 2.0)</td>\n",
       "      <td>[1.0, 2.0)</td>\n",
       "      <td>ied_mn_wt_event</td>\n",
       "      <td>0.692</td>\n",
       "      <td>0.314</td>\n",
       "      <td>0.066</td>\n",
       "      <td>cmp</td>\n",
       "    </tr>\n",
       "  </tbody>\n",
       "</table>\n",
       "</div>"
      ],
      "text/plain": [
       "         bin_a       bin_b            score    auc     tp     fp method\n",
       "75  [1.0, 2.0)  [1.0, 2.0)              emd  0.692  0.399  0.129    cmp\n",
       "76  [1.0, 2.0)  [1.0, 2.0)     emd_wt_event  0.692  0.410  0.137    cmp\n",
       "77  [1.0, 2.0)  [1.0, 2.0)      emd_wt_user  0.692  0.404  0.132    cmp\n",
       "72  [1.0, 2.0)  [1.0, 2.0)           ied_mn  0.692  0.313  0.065    cmp\n",
       "73  [1.0, 2.0)  [1.0, 2.0)  ied_mn_wt_event  0.692  0.314  0.066    cmp"
      ]
     },
     "execution_count": 99,
     "metadata": {},
     "output_type": "execute_result"
    }
   ],
   "source": [
    "# combine them\n",
    "rslt = pd.concat([lr_rslt, slr_rslt, cmp_rslt], ignore_index=True)\n",
    "rslt = rslt.sort_values(by=['bin_a', 'bin_b', 'method', 'score'])\n",
    "rslt = rslt.astype({'auc': float, 'tp': float, 'fp': float})\n",
    "rslt.head()"
   ]
  },
  {
   "cell_type": "markdown",
   "metadata": {},
   "source": [
    "### Plot it"
   ]
  },
  {
   "cell_type": "code",
   "execution_count": 187,
   "metadata": {},
   "outputs": [
    {
     "data": {
      "image/png": "[encoded data removed]",
      "text/plain": [
       "<Figure size 720x1080 with 3 Axes>"
      ]
     },
     "metadata": {
      "needs_background": "light"
     },
     "output_type": "display_data"
    }
   ],
   "source": [
    "import matplotlib.pyplot as plt\n",
    "\n",
    "SMALL_SIZE = 12\n",
    "MEDIUM_SIZE = 14\n",
    "BIGGER_SIZE = 16\n",
    "\n",
    "plt.rc('font', size=SMALL_SIZE)          # controls default text sizes\n",
    "plt.rc('axes', titlesize=SMALL_SIZE)     # fontsize of the axes title\n",
    "plt.rc('axes', labelsize=MEDIUM_SIZE)    # fontsize of the x and y labels\n",
    "plt.rc('xtick', labelsize=SMALL_SIZE)    # fontsize of the tick labels\n",
    "plt.rc('ytick', labelsize=SMALL_SIZE)    # fontsize of the tick labels\n",
    "plt.rc('legend', fontsize=SMALL_SIZE)    # legend fontsize\n",
    "plt.rc('figure', titlesize=BIGGER_SIZE)  # fontsize of the figure title\n",
    "\n",
    "\n",
    "sns.set_palette(\"husl\")\n",
    "xlim = (0,1)\n",
    "ylim = (0,0.5)\n",
    "\n",
    "f, axes = plt.subplots(3, 1, figsize=(10,15))\n",
    "\n",
    "sns.scatterplot(\n",
    "    x='tp', \n",
    "    y='fp', \n",
    "    data=rslt.loc[rslt.method == 'lr'], \n",
    "    hue='bin_a', \n",
    "    style='score', \n",
    "    size='bin_b',\n",
    "    size_order=list(reversed(rslt.bin_b.cat.categories)),\n",
    "    ax=axes[0]\n",
    ").set_title(\"Likelihood Ratio\")\n",
    "axes[0].set_ylim(ylim)\n",
    "axes[0].set_xlim(xlim)\n",
    "axes[0].legend(bbox_to_anchor=(1.05, 1), loc=2, borderaxespad=0.)\n",
    "\n",
    "sns.scatterplot(\n",
    "    x='tp', \n",
    "    y='fp', \n",
    "    data=rslt.loc[rslt.method == 'cmp'], \n",
    "    hue='bin_a', \n",
    "    style='score', \n",
    "    size='bin_b',\n",
    "    size_order=list(reversed(rslt.bin_b.cat.categories)),\n",
    "    ax=axes[1]\n",
    ").set_title(\"Coincidental Match Probability\")\n",
    "axes[1].set_ylim(ylim)\n",
    "axes[1].set_xlim(xlim)\n",
    "axes[1].get_legend().remove()\n",
    "\n",
    "sns.scatterplot(\n",
    "    x='tp', \n",
    "    y='fp',\n",
    "    data=rslt.loc[rslt.method == 'slr'],\n",
    "    hue='bin_a', \n",
    "    style='score', \n",
    "    size='bin_b',\n",
    "    size_order=list(reversed(rslt.bin_b.cat.categories)),\n",
    "    ax=axes[2]\n",
    ").set_title(\"Score-based Likelihood Ratio\")\n",
    "axes[2].set_ylim(ylim)\n",
    "axes[2].set_xlim(xlim)\n",
    "axes[2].get_legend().remove()\n",
    "\n",
    "handles, labels = axes[2].get_legend_handles_labels()\n",
    "plt.legend(handles, labels, bbox_to_anchor=(1.05, 1), loc=2, borderaxespad=0.)\n",
    "plt.tight_layout()\n",
    "plt.show()"
   ]
  },
  {
   "cell_type": "markdown",
   "metadata": {},
   "source": [
    "### Simplify for DFRWS"
   ]
  },
  {
   "cell_type": "code",
   "execution_count": null,
   "metadata": {},
   "outputs": [],
   "source": []
  },
  {
   "cell_type": "code",
   "execution_count": null,
   "metadata": {},
   "outputs": [],
   "source": []
  },
  {
   "cell_type": "code",
   "execution_count": null,
   "metadata": {},
   "outputs": [],
   "source": []
  },
  {
   "cell_type": "code",
   "execution_count": null,
   "metadata": {},
   "outputs": [],
   "source": []
  }
 ],
 "metadata": {
  "kernelspec": {
   "display_name": "spatial-assocr",
   "language": "python",
   "name": "spatial-assocr"
  },
  "language_info": {
   "codemirror_mode": {
    "name": "ipython",
    "version": 3
   },
   "file_extension": ".py",
   "mimetype": "text/x-python",
   "name": "python",
   "nbconvert_exporter": "python",
   "pygments_lexer": "ipython3",
   "version": "3.6.6"
  }
 },
 "nbformat": 4,
 "nbformat_minor": 2
}
