{
 "cells": [
  {
   "cell_type": "code",
   "execution_count": 1,
   "metadata": {},
   "outputs": [
    {
     "data": {
      "text/html": [
       "        <script type=\"text/javascript\">\n",
       "        window.PlotlyConfig = {MathJaxConfig: 'local'};\n",
       "        if (window.MathJax) {MathJax.Hub.Config({SVG: {font: \"STIX-Web\"}});}\n",
       "        if (typeof require !== 'undefined') {\n",
       "        require.undef(\"plotly\");\n",
       "        requirejs.config({\n",
       "            paths: {\n",
       "                'plotly': ['https://cdn.plot.ly/plotly-latest.min']\n",
       "            }\n",
       "        });\n",
       "        require(['plotly'], function(Plotly) {\n",
       "            window._Plotly = Plotly;\n",
       "        });\n",
       "        }\n",
       "        </script>\n",
       "        "
      ]
     },
     "metadata": {},
     "output_type": "display_data"
    },
    {
     "data": {
      "image/png": "[encoded data removed]",
      "text/plain": [
       "<Figure size 288x72 with 1 Axes>"
      ]
     },
     "metadata": {
      "needs_background": "light"
     },
     "output_type": "display_data"
    }
   ],
   "source": [
    "import numpy as np\n",
    "import pandas as pd\n",
    "import os\n",
    "import sys\n",
    "import matplotlib.pyplot as plt\n",
    "import matplotlib\n",
    "import plotly\n",
    "from plotly.offline import download_plotlyjs, init_notebook_mode, plot, iplot\n",
    "import plotly.graph_objs as go\n",
    "import seaborn as sns\n",
    "import time\n",
    "\n",
    "sys.setrecursionlimit(10000)\n",
    "\n",
    "%matplotlib inline\n",
    "init_notebook_mode(connected=True)\n",
    "\n",
    "%load_ext autoreload\n",
    "%autoreload 2\n",
    "\n",
    "pd.options.mode.chained_assignment = None # turn off SettingWithCopyWarning\n",
    "\n",
    "np.random.seed(1234)\n",
    "directory = os.path.join(\"..\", \"data\", \"gowalla\") \n",
    "\n",
    "\n",
    "def set_style():\n",
    "    plt.style.use(['seaborn-white', 'seaborn-talk'])\n",
    "    matplotlib.rc(\"font\", family=\"Times New Roman\")\n",
    "\n",
    "    \n",
    "def get_colors():\n",
    "    return np.array([\n",
    "        [0.1, 0.1, 0.1],          # black\n",
    "        # [0.4, 0.4, 0.4],          # very dark gray\n",
    "        [0.7, 0.7, 0.7],          # dark gray\n",
    "        # [0.9, 0.9, 0.9],          # light gray\n",
    "        'red',                     \n",
    "        'blue'\n",
    "    ])\n",
    "        \n",
    "        \n",
    "def set_size(fig, w=6, h=3):\n",
    "    fig.set_size_inches(w, h)\n",
    "    plt.tight_layout()\n",
    "\n",
    "    \n",
    "sns.palplot(get_colors())"
   ]
  },
  {
   "cell_type": "markdown",
   "metadata": {},
   "source": [
    "# SoCal Data"
   ]
  },
  {
   "cell_type": "code",
   "execution_count": 2,
   "metadata": {},
   "outputs": [],
   "source": [
    "# events = pd.read_csv(\n",
    "#     os.path.join(directory, 'loc-gowalla_totalCheckins.txt'), \n",
    "#     sep=\"\\t\", \n",
    "#     header=None,\n",
    "# )\n",
    "# events.columns = ['uid', 't', 'lat', 'lon', 'location_id']\n",
    "# events['t'] = pd.to_datetime(events.t)\n",
    "# events.head()"
   ]
  },
  {
   "cell_type": "code",
   "execution_count": 3,
   "metadata": {},
   "outputs": [],
   "source": [
    "# socal = events.loc[(events.lat >= 32.54) & (events.lat <= 34.51) & \n",
    "#                    (events.lon >= -119.4) & (events.lon <= -116.15)]\n",
    "# socal['day_id'] = (socal.t - min(socal.t)).dt.days\n",
    "# socal.to_csv(os.path.join(directory, 'socal.csv'), index=False)"
   ]
  },
  {
   "cell_type": "code",
   "execution_count": 4,
   "metadata": {},
   "outputs": [
    {
     "name": "stdout",
     "output_type": "stream",
     "text": [
      "Events: 276924\n",
      "Users: 8459\n",
      "Avg: 32.7\n"
     ]
    }
   ],
   "source": [
    "# EVENT DATA COUNTS\n",
    "socal = pd.read_csv(os.path.join(directory, 'socal.csv'), parse_dates=['t'])\n",
    "print(\"Events:\", socal.shape[0])\n",
    "print(\"Users:\", socal.uid.nunique())\n",
    "print(\"Avg:\", round(socal.shape[0] / socal.uid.nunique(), 1))"
   ]
  },
  {
   "cell_type": "code",
   "execution_count": 5,
   "metadata": {},
   "outputs": [
    {
     "name": "stdout",
     "output_type": "stream",
     "text": [
      "Events: 275956\n",
      "Users: 8459\n",
      "Avg: 32.6\n"
     ]
    }
   ],
   "source": [
    "# VISIT DATA COUNTS\n",
    "visits = pd.read_csv(os.path.join(directory, \"visits.csv\"), parse_dates=['t'])\n",
    "print(\"Events:\", visits.shape[0])\n",
    "print(\"Users:\", visits.uid.nunique())\n",
    "print(\"Avg:\", round(visits.shape[0] / visits.uid.nunique(), 1))"
   ]
  },
  {
   "cell_type": "code",
   "execution_count": 6,
   "metadata": {},
   "outputs": [
    {
     "data": {
      "text/html": [
       "<div>\n",
       "<style scoped>\n",
       "    .dataframe tbody tr th:only-of-type {\n",
       "        vertical-align: middle;\n",
       "    }\n",
       "\n",
       "    .dataframe tbody tr th {\n",
       "        vertical-align: top;\n",
       "    }\n",
       "\n",
       "    .dataframe thead th {\n",
       "        text-align: right;\n",
       "    }\n",
       "</style>\n",
       "<table border=\"1\" class=\"dataframe\">\n",
       "  <thead>\n",
       "    <tr style=\"text-align: right;\">\n",
       "      <th></th>\n",
       "      <th>uid</th>\n",
       "      <th>t</th>\n",
       "      <th>lat</th>\n",
       "      <th>lon</th>\n",
       "      <th>location_id</th>\n",
       "      <th>day_id</th>\n",
       "      <th>epoch_time</th>\n",
       "      <th>visit</th>\n",
       "    </tr>\n",
       "  </thead>\n",
       "  <tbody>\n",
       "    <tr>\n",
       "      <th>0</th>\n",
       "      <td>75672</td>\n",
       "      <td>2009-03-18 02:08:09+00:00</td>\n",
       "      <td>34.017588</td>\n",
       "      <td>-118.487055</td>\n",
       "      <td>9518</td>\n",
       "      <td>0</td>\n",
       "      <td>1237342089</td>\n",
       "      <td>0</td>\n",
       "    </tr>\n",
       "    <tr>\n",
       "      <th>1</th>\n",
       "      <td>75672</td>\n",
       "      <td>2009-03-18 04:00:59+00:00</td>\n",
       "      <td>34.018135</td>\n",
       "      <td>-118.489630</td>\n",
       "      <td>9523</td>\n",
       "      <td>0</td>\n",
       "      <td>1237348859</td>\n",
       "      <td>1</td>\n",
       "    </tr>\n",
       "    <tr>\n",
       "      <th>2</th>\n",
       "      <td>2687</td>\n",
       "      <td>2009-03-18 22:27:29+00:00</td>\n",
       "      <td>32.764272</td>\n",
       "      <td>-117.226653</td>\n",
       "      <td>9540</td>\n",
       "      <td>0</td>\n",
       "      <td>1237415249</td>\n",
       "      <td>0</td>\n",
       "    </tr>\n",
       "    <tr>\n",
       "      <th>3</th>\n",
       "      <td>2687</td>\n",
       "      <td>2009-03-20 19:45:58+00:00</td>\n",
       "      <td>33.812065</td>\n",
       "      <td>-117.919006</td>\n",
       "      <td>9724</td>\n",
       "      <td>2</td>\n",
       "      <td>1237578358</td>\n",
       "      <td>1</td>\n",
       "    </tr>\n",
       "    <tr>\n",
       "      <th>4</th>\n",
       "      <td>2687</td>\n",
       "      <td>2009-03-21 04:51:18+00:00</td>\n",
       "      <td>34.134361</td>\n",
       "      <td>-118.361485</td>\n",
       "      <td>9780</td>\n",
       "      <td>3</td>\n",
       "      <td>1237611078</td>\n",
       "      <td>2</td>\n",
       "    </tr>\n",
       "  </tbody>\n",
       "</table>\n",
       "</div>"
      ],
      "text/plain": [
       "     uid                         t        lat         lon  location_id  \\\n",
       "0  75672 2009-03-18 02:08:09+00:00  34.017588 -118.487055         9518   \n",
       "1  75672 2009-03-18 04:00:59+00:00  34.018135 -118.489630         9523   \n",
       "2   2687 2009-03-18 22:27:29+00:00  32.764272 -117.226653         9540   \n",
       "3   2687 2009-03-20 19:45:58+00:00  33.812065 -117.919006         9724   \n",
       "4   2687 2009-03-21 04:51:18+00:00  34.134361 -118.361485         9780   \n",
       "\n",
       "   day_id  epoch_time  visit  \n",
       "0       0  1237342089      0  \n",
       "1       0  1237348859      1  \n",
       "2       0  1237415249      0  \n",
       "3       2  1237578358      1  \n",
       "4       3  1237611078      2  "
      ]
     },
     "execution_count": 6,
     "metadata": {},
     "output_type": "execute_result"
    }
   ],
   "source": [
    "visits.head()"
   ]
  },
  {
   "cell_type": "markdown",
   "metadata": {},
   "source": [
    "# Make Visits"
   ]
  },
  {
   "cell_type": "code",
   "execution_count": 7,
   "metadata": {},
   "outputs": [],
   "source": [
    "d = 0.05  # 50 m\n",
    "t = 60**2  # number of s in one hr\n",
    "\n",
    "def spherical_dist(pos1, r=6371):\n",
    "    \"\"\"\n",
    "    return distance matrix in km\n",
    "    \n",
    "    https://stackoverflow.com/questions/19413259/efficient-way-to-calculate-distance-matrix-given-latitude-and-longitude-data-in\n",
    "    \"\"\"\n",
    "    pos2 = np.array(pos1)\n",
    "    pos1 = np.array(pos1)[:, None]\n",
    "    pos1 = np.deg2rad(pos1)\n",
    "    pos2 = np.deg2rad(pos2)\n",
    "    cos_lat1 = np.cos(pos1[..., 0])\n",
    "    cos_lat2 = np.cos(pos2[..., 0])\n",
    "    cos_lat_d = np.cos(pos1[..., 0] - pos2[..., 0])\n",
    "    cos_lon_d = np.cos(pos1[..., 1] - pos2[..., 1])\n",
    "    return r * np.arccos(cos_lat_d - cos_lat1 * cos_lat2 * (1 - cos_lon_d))\n",
    "\n",
    "def temporal_dist(times):\n",
    "    \"\"\"matrix of time differences\"\"\"\n",
    "    times = np.array(times)\n",
    "    return np.abs(np.subtract.outer(times, times))\n",
    "\n",
    "def invert_dict(d): \n",
    "    \"\"\"reverse a dictionary with list/set values\"\"\"\n",
    "    inverse = dict() \n",
    "    for key in d: \n",
    "        for item in d[key]:\n",
    "            inverse[item] = key\n",
    "    return inverse\n",
    "\n",
    "def set_visits(df):\n",
    "    \"\"\"\n",
    "    :param df: pd.DataFrame for one user with <lat, lon, epoch_time> columns\n",
    "    :return: same pd.DataFrame with a visit column containing integer visit id\n",
    "    \"\"\"\n",
    "    # find groups of points that meet both the dist and time criteria for a visit\n",
    "    distance_match = spherical_dist(df[['lat', 'lon']]) <= d\n",
    "    time_match = temporal_dist(df['epoch_time']) <= t\n",
    "    matches = distance_match & time_match\n",
    "    groups = {}\n",
    "    i = 0\n",
    "    for row_i, row in enumerate(matches):\n",
    "        v = list([i for i, is_true in enumerate(row) if is_true])\n",
    "        if v not in groups.values():\n",
    "            groups[i] = v\n",
    "            i += 1\n",
    "    df['visit'] = invert_dict(groups).values()\n",
    "    return df\n",
    "\n",
    "\n",
    "# socal = socal.sort_values('t')\n",
    "# socal['epoch_time'] = socal['t'].values.astype(np.int64) // 10**9  # in seconds\n",
    "# visits = socal.groupby('uid').apply(set_visits)\n",
    "# visits = visits.drop_duplicates(['uid', 'location_id', 'visit'])\n",
    "# visits.to_csv(os.path.join(directory, \"visits.csv\"), index=False)"
   ]
  },
  {
   "cell_type": "markdown",
   "metadata": {},
   "source": [
    "# Distn of visits over time"
   ]
  },
  {
   "cell_type": "code",
   "execution_count": 8,
   "metadata": {},
   "outputs": [
    {
     "data": {
      "text/plain": [
       "t\n",
       "2009-03-31 00:00:00+00:00        8\n",
       "2009-04-30 00:00:00+00:00       12\n",
       "2009-05-31 00:00:00+00:00        3\n",
       "2009-06-30 00:00:00+00:00        1\n",
       "2009-07-31 00:00:00+00:00       38\n",
       "2009-08-31 00:00:00+00:00       20\n",
       "2009-09-30 00:00:00+00:00      306\n",
       "2009-10-31 00:00:00+00:00     1701\n",
       "2009-11-30 00:00:00+00:00     3004\n",
       "2009-12-31 00:00:00+00:00    10969\n",
       "2010-01-31 00:00:00+00:00    16468\n",
       "2010-02-28 00:00:00+00:00    16161\n",
       "2010-03-31 00:00:00+00:00    23526\n",
       "2010-04-30 00:00:00+00:00    25668\n",
       "2010-05-31 00:00:00+00:00    25090\n",
       "2010-06-30 00:00:00+00:00    24689\n",
       "2010-07-31 00:00:00+00:00    32757\n",
       "2010-08-31 00:00:00+00:00    36526\n",
       "2010-09-30 00:00:00+00:00    33318\n",
       "2010-10-31 00:00:00+00:00    25691\n",
       "Freq: M, Name: uid, dtype: int64"
      ]
     },
     "execution_count": 8,
     "metadata": {},
     "output_type": "execute_result"
    }
   ],
   "source": [
    "test = visits.set_index(['t'])\n",
    "month_cts = test.groupby(pd.Grouper(freq='M'))['uid'].count()\n",
    "month_cts"
   ]
  },
  {
   "cell_type": "markdown",
   "metadata": {},
   "source": [
    "# Distn of locations"
   ]
  },
  {
   "cell_type": "code",
   "execution_count": 9,
   "metadata": {},
   "outputs": [
    {
     "data": {
      "text/html": [
       "<div>\n",
       "<style scoped>\n",
       "    .dataframe tbody tr th:only-of-type {\n",
       "        vertical-align: middle;\n",
       "    }\n",
       "\n",
       "    .dataframe tbody tr th {\n",
       "        vertical-align: top;\n",
       "    }\n",
       "\n",
       "    .dataframe thead th {\n",
       "        text-align: right;\n",
       "    }\n",
       "</style>\n",
       "<table border=\"1\" class=\"dataframe\">\n",
       "  <thead>\n",
       "    <tr style=\"text-align: right;\">\n",
       "      <th></th>\n",
       "      <th>uid</th>\n",
       "      <th>t</th>\n",
       "      <th>lat</th>\n",
       "      <th>lon</th>\n",
       "      <th>location_id</th>\n",
       "      <th>day_id</th>\n",
       "      <th>epoch_time</th>\n",
       "      <th>visit</th>\n",
       "      <th>weight_event</th>\n",
       "      <th>weight_user</th>\n",
       "    </tr>\n",
       "  </thead>\n",
       "  <tbody>\n",
       "    <tr>\n",
       "      <th>0</th>\n",
       "      <td>75672</td>\n",
       "      <td>2009-03-18 02:08:09+00:00</td>\n",
       "      <td>34.017588</td>\n",
       "      <td>-118.487055</td>\n",
       "      <td>9518</td>\n",
       "      <td>0</td>\n",
       "      <td>1237342089</td>\n",
       "      <td>0</td>\n",
       "      <td>0.003953</td>\n",
       "      <td>0.029412</td>\n",
       "    </tr>\n",
       "    <tr>\n",
       "      <th>1</th>\n",
       "      <td>4193</td>\n",
       "      <td>2009-12-10 01:24:59+00:00</td>\n",
       "      <td>34.017588</td>\n",
       "      <td>-118.487055</td>\n",
       "      <td>9518</td>\n",
       "      <td>266</td>\n",
       "      <td>1260408299</td>\n",
       "      <td>0</td>\n",
       "      <td>0.003953</td>\n",
       "      <td>0.029412</td>\n",
       "    </tr>\n",
       "    <tr>\n",
       "      <th>2</th>\n",
       "      <td>7472</td>\n",
       "      <td>2009-12-10 19:23:40+00:00</td>\n",
       "      <td>34.017588</td>\n",
       "      <td>-118.487055</td>\n",
       "      <td>9518</td>\n",
       "      <td>267</td>\n",
       "      <td>1260473020</td>\n",
       "      <td>0</td>\n",
       "      <td>0.003953</td>\n",
       "      <td>0.029412</td>\n",
       "    </tr>\n",
       "    <tr>\n",
       "      <th>3</th>\n",
       "      <td>5433</td>\n",
       "      <td>2009-12-10 19:27:01+00:00</td>\n",
       "      <td>34.017588</td>\n",
       "      <td>-118.487055</td>\n",
       "      <td>9518</td>\n",
       "      <td>267</td>\n",
       "      <td>1260473221</td>\n",
       "      <td>0</td>\n",
       "      <td>0.003953</td>\n",
       "      <td>0.029412</td>\n",
       "    </tr>\n",
       "    <tr>\n",
       "      <th>4</th>\n",
       "      <td>71673</td>\n",
       "      <td>2009-12-11 19:31:55+00:00</td>\n",
       "      <td>34.017588</td>\n",
       "      <td>-118.487055</td>\n",
       "      <td>9518</td>\n",
       "      <td>268</td>\n",
       "      <td>1260559915</td>\n",
       "      <td>0</td>\n",
       "      <td>0.003953</td>\n",
       "      <td>0.029412</td>\n",
       "    </tr>\n",
       "  </tbody>\n",
       "</table>\n",
       "</div>"
      ],
      "text/plain": [
       "     uid                         t        lat         lon  location_id  \\\n",
       "0  75672 2009-03-18 02:08:09+00:00  34.017588 -118.487055         9518   \n",
       "1   4193 2009-12-10 01:24:59+00:00  34.017588 -118.487055         9518   \n",
       "2   7472 2009-12-10 19:23:40+00:00  34.017588 -118.487055         9518   \n",
       "3   5433 2009-12-10 19:27:01+00:00  34.017588 -118.487055         9518   \n",
       "4  71673 2009-12-11 19:31:55+00:00  34.017588 -118.487055         9518   \n",
       "\n",
       "   day_id  epoch_time  visit  weight_event  weight_user  \n",
       "0       0  1237342089      0      0.003953     0.029412  \n",
       "1     266  1260408299      0      0.003953     0.029412  \n",
       "2     267  1260473020      0      0.003953     0.029412  \n",
       "3     267  1260473221      0      0.003953     0.029412  \n",
       "4     268  1260559915      0      0.003953     0.029412  "
      ]
     },
     "execution_count": 9,
     "metadata": {},
     "output_type": "execute_result"
    }
   ],
   "source": [
    "# location weights based on number of visits\n",
    "locs = visits.groupby('location_id')['uid'].count()\n",
    "wt_e = pd.DataFrame(locs).reset_index().rename(columns={'uid': 'weight'})\n",
    "wt_e['weight'] = 1 / wt_e['weight']\n",
    "\n",
    "# location weights based on number of unique users at location\n",
    "locs_users = visits.groupby(['location_id'])['uid'].nunique()\n",
    "wt_u = pd.DataFrame(locs_users).reset_index().rename(columns={'uid': 'weight'})\n",
    "wt_u['weight'] = 1 / wt_u['weight']\n",
    "\n",
    "# merge weights in to the point pattern data\n",
    "visits = pd.merge(visits, wt_e, on='location_id')\n",
    "visits = pd.merge(visits, wt_u, on='location_id', suffixes=('_event', '_user'))\n",
    "\n",
    "visits.head()"
   ]
  },
  {
   "cell_type": "code",
   "execution_count": 10,
   "metadata": {},
   "outputs": [
    {
     "data": {
      "image/png": "[encoded data removed]",
      "text/plain": [
       "<Figure size 576x432 with 1 Axes>"
      ]
     },
     "metadata": {},
     "output_type": "display_data"
    }
   ],
   "source": [
    "set_style()\n",
    "\n",
    "f, ax = plt.subplots()\n",
    "\n",
    "ax = sns.kdeplot(\n",
    "    locs, \n",
    "    color = 'black',\n",
    "    lw=2,\n",
    "    clip=(0,50),\n",
    "    label='Visits'\n",
    ")\n",
    "ax = sns.kdeplot(\n",
    "    locs_users, \n",
    "    color = 'black',\n",
    "    linestyle = 'dashed',\n",
    "    lw=2,\n",
    "    clip=(0,50),\n",
    "    label='Accounts'\n",
    ")\n",
    "ax.set(ylabel=\"Density\")\n",
    "ax.set(xlabel=\"Count\")\n",
    "\n",
    "set_size(f, 8, 6)\n",
    "\n",
    "plt.show()"
   ]
  },
  {
   "cell_type": "code",
   "execution_count": 11,
   "metadata": {},
   "outputs": [
    {
     "data": {
      "text/plain": [
       "count    52097.000000\n",
       "mean         5.296965\n",
       "std         19.677789\n",
       "min          1.000000\n",
       "25%          1.000000\n",
       "50%          2.000000\n",
       "75%          5.000000\n",
       "max       3345.000000\n",
       "Name: uid, dtype: float64"
      ]
     },
     "execution_count": 11,
     "metadata": {},
     "output_type": "execute_result"
    }
   ],
   "source": [
    "locs.describe()  # visit cts"
   ]
  },
  {
   "cell_type": "code",
   "execution_count": 12,
   "metadata": {},
   "outputs": [
    {
     "data": {
      "text/plain": [
       "count    52097.000000\n",
       "mean         3.549187\n",
       "std         11.628129\n",
       "min          1.000000\n",
       "25%          1.000000\n",
       "50%          2.000000\n",
       "75%          4.000000\n",
       "max       1898.000000\n",
       "Name: uid, dtype: float64"
      ]
     },
     "execution_count": 12,
     "metadata": {},
     "output_type": "execute_result"
    }
   ],
   "source": [
    "locs_users.describe()  # unique user counts"
   ]
  },
  {
   "cell_type": "code",
   "execution_count": 13,
   "metadata": {},
   "outputs": [
    {
     "data": {
      "text/plain": [
       "0"
      ]
     },
     "execution_count": 13,
     "metadata": {},
     "output_type": "execute_result"
    }
   ],
   "source": [
    "common_locs = locs_users.loc[locs_users >= visits.uid.nunique()*0.5].index  # locations with >50% of users visiting\n",
    "len(common_locs)"
   ]
  },
  {
   "cell_type": "markdown",
   "metadata": {},
   "source": [
    "# Create MPP"
   ]
  },
  {
   "cell_type": "code",
   "execution_count": 14,
   "metadata": {},
   "outputs": [],
   "source": [
    "### A == Oct 2010; B == Sept 2010\n",
    "a_start = '2010-10-01'\n",
    "a_end = '2010-11-01'    \n",
    "b_start = '2010-09-01'\n",
    "b_end = '2010-10-01'\n",
    "\n",
    "a = visits.loc[(visits.t >= a_start) & (visits.t <= a_end)]\n",
    "b = visits.loc[(visits.t >= b_start) & (visits.t <= b_end)]"
   ]
  },
  {
   "cell_type": "code",
   "execution_count": 15,
   "metadata": {},
   "outputs": [],
   "source": [
    "common_users = np.intersect1d(a.uid.unique(), b.uid.unique())\n",
    "a = a.loc[a.uid.isin(common_users)]\n",
    "b = b.loc[b.uid.isin(common_users)]"
   ]
  },
  {
   "cell_type": "code",
   "execution_count": 16,
   "metadata": {},
   "outputs": [
    {
     "name": "stdout",
     "output_type": "stream",
     "text": [
      "Obs days: 24\n",
      "Visits: 16682\n",
      "Users: 1214\n",
      "Avg: 13.7\n"
     ]
    }
   ],
   "source": [
    "### A\n",
    "print(\"Obs days:\", a.day_id.nunique())\n",
    "print(\"Visits:\", len(a))\n",
    "print(\"Users:\", a.uid.nunique())\n",
    "print(\"Avg:\", round(len(a)/a.uid.nunique(), 1))"
   ]
  },
  {
   "cell_type": "code",
   "execution_count": 17,
   "metadata": {},
   "outputs": [
    {
     "name": "stdout",
     "output_type": "stream",
     "text": [
      "Obs days: 31\n",
      "Visits: 26448\n",
      "Users: 1214\n",
      "Avg: 21.8\n"
     ]
    }
   ],
   "source": [
    "### B\n",
    "print(\"Obs days:\", b.day_id.nunique())\n",
    "print(\"Visits:\", len(b))\n",
    "print(\"Users:\", b.uid.nunique())\n",
    "print(\"Avg:\", round(len(b)/b.uid.nunique(), 1))"
   ]
  },
  {
   "cell_type": "code",
   "execution_count": 18,
   "metadata": {},
   "outputs": [
    {
     "data": {
      "text/html": [
       "<div>\n",
       "<style scoped>\n",
       "    .dataframe tbody tr th:only-of-type {\n",
       "        vertical-align: middle;\n",
       "    }\n",
       "\n",
       "    .dataframe tbody tr th {\n",
       "        vertical-align: top;\n",
       "    }\n",
       "\n",
       "    .dataframe thead th {\n",
       "        text-align: right;\n",
       "    }\n",
       "</style>\n",
       "<table border=\"1\" class=\"dataframe\">\n",
       "  <thead>\n",
       "    <tr style=\"text-align: right;\">\n",
       "      <th></th>\n",
       "      <th>uid</th>\n",
       "      <th>lat</th>\n",
       "      <th>lon</th>\n",
       "      <th>m</th>\n",
       "      <th>location_id</th>\n",
       "    </tr>\n",
       "  </thead>\n",
       "  <tbody>\n",
       "    <tr>\n",
       "      <th>0</th>\n",
       "      <td>1498</td>\n",
       "      <td>34.017588</td>\n",
       "      <td>-118.487055</td>\n",
       "      <td>a</td>\n",
       "      <td>9518</td>\n",
       "    </tr>\n",
       "    <tr>\n",
       "      <th>1</th>\n",
       "      <td>1498</td>\n",
       "      <td>34.017588</td>\n",
       "      <td>-118.487055</td>\n",
       "      <td>a</td>\n",
       "      <td>9518</td>\n",
       "    </tr>\n",
       "    <tr>\n",
       "      <th>2</th>\n",
       "      <td>2311</td>\n",
       "      <td>34.017588</td>\n",
       "      <td>-118.487055</td>\n",
       "      <td>a</td>\n",
       "      <td>9518</td>\n",
       "    </tr>\n",
       "    <tr>\n",
       "      <th>3</th>\n",
       "      <td>1498</td>\n",
       "      <td>34.017588</td>\n",
       "      <td>-118.487055</td>\n",
       "      <td>a</td>\n",
       "      <td>9518</td>\n",
       "    </tr>\n",
       "    <tr>\n",
       "      <th>4</th>\n",
       "      <td>1498</td>\n",
       "      <td>34.017588</td>\n",
       "      <td>-118.487055</td>\n",
       "      <td>a</td>\n",
       "      <td>9518</td>\n",
       "    </tr>\n",
       "  </tbody>\n",
       "</table>\n",
       "</div>"
      ],
      "text/plain": [
       "    uid        lat         lon  m  location_id\n",
       "0  1498  34.017588 -118.487055  a         9518\n",
       "1  1498  34.017588 -118.487055  a         9518\n",
       "2  2311  34.017588 -118.487055  a         9518\n",
       "3  1498  34.017588 -118.487055  a         9518\n",
       "4  1498  34.017588 -118.487055  a         9518"
      ]
     },
     "execution_count": 18,
     "metadata": {},
     "output_type": "execute_result"
    }
   ],
   "source": [
    "### create mpp data frame\n",
    "keep_cols = [\"uid\", \"lat\", \"lon\", \"m\", 'location_id']\n",
    "a['m'] = 'a'\n",
    "b['m'] = 'b'\n",
    "mpp = pd.concat([a[keep_cols], b[keep_cols]]).reset_index(drop=True)\n",
    "mpp.head()"
   ]
  },
  {
   "cell_type": "code",
   "execution_count": 19,
   "metadata": {},
   "outputs": [
    {
     "data": {
      "text/html": [
       "<div>\n",
       "<style scoped>\n",
       "    .dataframe tbody tr th:only-of-type {\n",
       "        vertical-align: middle;\n",
       "    }\n",
       "\n",
       "    .dataframe tbody tr th {\n",
       "        vertical-align: top;\n",
       "    }\n",
       "\n",
       "    .dataframe thead th {\n",
       "        text-align: right;\n",
       "    }\n",
       "</style>\n",
       "<table border=\"1\" class=\"dataframe\">\n",
       "  <thead>\n",
       "    <tr style=\"text-align: right;\">\n",
       "      <th></th>\n",
       "      <th>uid</th>\n",
       "      <th>lat</th>\n",
       "      <th>lon</th>\n",
       "      <th>m</th>\n",
       "      <th>location_id</th>\n",
       "      <th>weight_event</th>\n",
       "      <th>weight_user</th>\n",
       "    </tr>\n",
       "  </thead>\n",
       "  <tbody>\n",
       "    <tr>\n",
       "      <th>0</th>\n",
       "      <td>1498</td>\n",
       "      <td>34.017588</td>\n",
       "      <td>-118.487055</td>\n",
       "      <td>a</td>\n",
       "      <td>9518</td>\n",
       "      <td>0.003953</td>\n",
       "      <td>0.029412</td>\n",
       "    </tr>\n",
       "    <tr>\n",
       "      <th>1</th>\n",
       "      <td>1498</td>\n",
       "      <td>34.017588</td>\n",
       "      <td>-118.487055</td>\n",
       "      <td>a</td>\n",
       "      <td>9518</td>\n",
       "      <td>0.003953</td>\n",
       "      <td>0.029412</td>\n",
       "    </tr>\n",
       "    <tr>\n",
       "      <th>2</th>\n",
       "      <td>2311</td>\n",
       "      <td>34.017588</td>\n",
       "      <td>-118.487055</td>\n",
       "      <td>a</td>\n",
       "      <td>9518</td>\n",
       "      <td>0.003953</td>\n",
       "      <td>0.029412</td>\n",
       "    </tr>\n",
       "    <tr>\n",
       "      <th>3</th>\n",
       "      <td>1498</td>\n",
       "      <td>34.017588</td>\n",
       "      <td>-118.487055</td>\n",
       "      <td>a</td>\n",
       "      <td>9518</td>\n",
       "      <td>0.003953</td>\n",
       "      <td>0.029412</td>\n",
       "    </tr>\n",
       "    <tr>\n",
       "      <th>4</th>\n",
       "      <td>1498</td>\n",
       "      <td>34.017588</td>\n",
       "      <td>-118.487055</td>\n",
       "      <td>a</td>\n",
       "      <td>9518</td>\n",
       "      <td>0.003953</td>\n",
       "      <td>0.029412</td>\n",
       "    </tr>\n",
       "  </tbody>\n",
       "</table>\n",
       "</div>"
      ],
      "text/plain": [
       "    uid        lat         lon  m  location_id  weight_event  weight_user\n",
       "0  1498  34.017588 -118.487055  a         9518      0.003953     0.029412\n",
       "1  1498  34.017588 -118.487055  a         9518      0.003953     0.029412\n",
       "2  2311  34.017588 -118.487055  a         9518      0.003953     0.029412\n",
       "3  1498  34.017588 -118.487055  a         9518      0.003953     0.029412\n",
       "4  1498  34.017588 -118.487055  a         9518      0.003953     0.029412"
      ]
     },
     "execution_count": 19,
     "metadata": {},
     "output_type": "execute_result"
    }
   ],
   "source": [
    "# merge weights in to the point pattern data\n",
    "mpp = pd.merge(mpp, wt_e, on='location_id')\n",
    "mpp = pd.merge(mpp, wt_u, on='location_id', suffixes=('_event', '_user'))\n",
    "# mpp.to_csv(os.path.join(directory, \"mpp_octA_septB.csv\"), index=False)\n",
    "\n",
    "mpp = pd.read_csv(os.path.join(directory, \"mpp_octA_septB.csv\"))\n",
    "mpp.head()"
   ]
  },
  {
   "cell_type": "markdown",
   "metadata": {},
   "source": [
    "# Plot some examples"
   ]
  },
  {
   "cell_type": "code",
   "execution_count": 20,
   "metadata": {},
   "outputs": [],
   "source": [
    "import branca.colormap as cm\n",
    "from branca.element import Template, MacroElement\n",
    "from collections import defaultdict\n",
    "import folium\n",
    "from folium.plugins import HeatMap, MarkerCluster\n",
    "\n",
    "### https://nbviewer.jupyter.org/gist/talbertc-usgs/18f8901fc98f109f2b71156cf3ac81cd\n",
    "template = \"\"\"\n",
    "{% macro html(this, kwargs) %}\n",
    "\n",
    "<!doctype html>\n",
    "<html lang=\"en\">\n",
    "<head>\n",
    "  <meta charset=\"utf-8\">\n",
    "  <meta name=\"viewport\" content=\"width=device-width, initial-scale=1\">\n",
    "  <title>jQuery UI Draggable - Default functionality</title>\n",
    "  <link rel=\"stylesheet\" href=\"//code.jquery.com/ui/1.12.1/themes/base/jquery-ui.css\">\n",
    "\n",
    "  <script src=\"https://code.jquery.com/jquery-1.12.4.js\"></script>\n",
    "  <script src=\"https://code.jquery.com/ui/1.12.1/jquery-ui.js\"></script>\n",
    "  \n",
    "  <script>\n",
    "  $( function() {\n",
    "    $( \"#maplegend\" ).draggable({\n",
    "                    start: function (event, ui) {\n",
    "                        $(this).css({\n",
    "                            right: \"auto\",\n",
    "                            top: \"auto\",\n",
    "                            bottom: \"auto\"\n",
    "                        });\n",
    "                    }\n",
    "                });\n",
    "});\n",
    "\n",
    "  </script>\n",
    "</head>\n",
    "<body>\n",
    "\n",
    " \n",
    "<div id='maplegend' class='maplegend' \n",
    "    style='position: absolute; z-index:9999; border:2px solid grey; background-color:rgba(255, 255, 255, 0.8);\n",
    "     border-radius:6px; padding: 10px; font-size:24px; left: 20px; bottom: 40px;'>\n",
    "     \n",
    "<div class='legend-title'></div>\n",
    "<div class='legend-scale'>\n",
    "  <ul class='legend-labels'>\n",
    "    <li><span style='background:black;'></span>A</li>\n",
    "    <li><span style='background:red;'></span>B</li>\n",
    "\n",
    "  </ul>\n",
    "</div>\n",
    "</div>\n",
    " \n",
    "</body>\n",
    "</html>\n",
    "\n",
    "<style type='text/css'>\n",
    "  .maplegend .legend-title {\n",
    "    text-align: left;\n",
    "    margin-bottom: 5px;\n",
    "    font-weight: bold;\n",
    "    font-size: 90%;\n",
    "    }\n",
    "  .maplegend .legend-scale ul {\n",
    "    margin: 0;\n",
    "    margin-bottom: 5px;\n",
    "    padding: 0;\n",
    "    float: left;\n",
    "    list-style: none;\n",
    "    }\n",
    "  .maplegend .legend-scale ul li {\n",
    "    font-size: 80%;\n",
    "    list-style: none;\n",
    "    margin-left: 0;\n",
    "    line-height: 18px;\n",
    "    margin-bottom: 2px;\n",
    "    }\n",
    "  .maplegend ul.legend-labels li span {\n",
    "    display: block;\n",
    "    float: left;\n",
    "    height: 10px;\n",
    "    width: 10px;\n",
    "    -webkit-border-radius: 5px;\n",
    "    -moz-border-radius: 5px;\n",
    "    border-radius: 5px;\n",
    "    margin-right: 5px;\n",
    "    margin-left: 0;\n",
    "    }\n",
    "  .maplegend .legend-source {\n",
    "    font-size: 80%;\n",
    "    color: #777;\n",
    "    clear: both;\n",
    "    }\n",
    "  .maplegend a {\n",
    "    color: #777;\n",
    "    }\n",
    "</style>\n",
    "{% endmacro %}\"\"\"\n",
    "\n",
    "\n",
    "def calc_freqs(df):\n",
    "    ### grid the population data for OC & count visits in each bin\n",
    "    data = df.copy()\n",
    "    data[\"lat_r\"] = data.lat.round(3)\n",
    "    data[\"lon_r\"] = data.lon.round(3)\n",
    "    freqs = (\n",
    "        data.groupby([\"lat_r\", \"lon_r\"]).count().reset_index()[[\"lat_r\", \"lon_r\", \"key\"]]\n",
    "    )\n",
    "    freqs.columns = [\"lat_r\", \"lon_r\", \"freq\"]\n",
    "    return freqs\n",
    "\n",
    "\n",
    "def get_user(mpp, uid, mark):\n",
    "    out = mpp.copy()\n",
    "    # out = out.drop_duplicates(subset=[\"location_id\", \"m\"])\n",
    "    return out.loc[(out.uid == uid) & (out.m == mark)].reset_index(drop=True)\n",
    "\n",
    "\n",
    "def make_user_scatter_plot(mpp, uid, mark):\n",
    "    user = get_user(mpp, uid, mark)\n",
    "    return list(zip(user.lat, user.lon))\n",
    "\n",
    "\n",
    "def plot_heat_and_scatter(mpp, uid, freqs=None, uidB=None, heat=False):\n",
    "    if uidB is None:\n",
    "        uidB = uid\n",
    "    if heat:\n",
    "        col = 'lightgreen'\n",
    "        opacity = 0.8\n",
    "    else:\n",
    "        col = 'red'\n",
    "        opacity = 0.75\n",
    "    \n",
    "    ### make the map\n",
    "    hmap = folium.Map(\n",
    "        location=[33.525, -117.775],\n",
    "        width='100%', \n",
    "        zoom_start=8,\n",
    "        zoom_control=False,\n",
    "        tiles='CartoDB positron',\n",
    "    )\n",
    "    \n",
    "    ### make the heatmap\n",
    "    if heat:\n",
    "        steps = 20\n",
    "        color_map = cm.linear.YlOrRd_09.scale(0, 1).to_step(steps)\n",
    "\n",
    "        gradient_map = defaultdict(dict)\n",
    "        for i in range(steps):\n",
    "            gradient_map[1/steps*i] = color_map.rgb_hex_str(1/steps*i)\n",
    "\n",
    "        heat = HeatMap( \n",
    "            data=list(zip(freqs['lat_r'], freqs['lon_r'], freqs['freq'])),\n",
    "            min_opacity=0.2,\n",
    "            max_val=float(freqs['freq'].max()),\n",
    "            radius=25, \n",
    "            blur=16, \n",
    "            max_zoom=5, \n",
    "            gradient=gradient_map\n",
    "        )\n",
    "        \n",
    "        hmap.add_child(heat)\n",
    "        hmap.add_child(color_map)\n",
    "\n",
    "    ### make the scatters\n",
    "    f = folium.map.FeatureGroup()\n",
    "    for pt in make_user_scatter_plot(mpp, uid, 'a'):\n",
    "        f.add_child(\n",
    "            folium.vector_layers.CircleMarker(\n",
    "                pt,\n",
    "                radius=4,\n",
    "                color=None,\n",
    "                fill_color='black',\n",
    "                fill_opacity=0.75)\n",
    "        )\n",
    "\n",
    "    for pt in make_user_scatter_plot(mpp, uidB, 'b'):\n",
    "        f.add_child(\n",
    "            folium.vector_layers.CircleMarker(\n",
    "                pt,\n",
    "                radius=4,\n",
    "                color=None,\n",
    "                fill_color=col,\n",
    "                fill_opacity=opacity)\n",
    "        )\n",
    "    hmap.add_child(f)\n",
    "\n",
    "    ### add legend\n",
    "    macro = MacroElement()\n",
    "    macro._template = Template(template)\n",
    "    hmap.get_root().add_child(macro)\n",
    "\n",
    "    return hmap\n",
    "\n",
    "\n",
    "def map_to_png(m, filename):\n",
    "    fn='figs/tempmap.html'\n",
    "    tmpurl='file://{path}/{mapfile}'.format(path=os.getcwd(),mapfile=fn)\n",
    "    m.save(fn)\n",
    "\n",
    "    driver = webdriver.Chrome()\n",
    "    # driver.set_window_size(400, 300)  # choose a resolution\n",
    "    driver.get(tmpurl)\n",
    "\n",
    "    time.sleep(5)  # give the map tiles some time to load\n",
    "    driver.save_screenshot(filename)\n",
    "    driver.quit()\n",
    "    "
   ]
  },
  {
   "cell_type": "code",
   "execution_count": 21,
   "metadata": {
    "scrolled": false
   },
   "outputs": [
    {
     "data": {
      "text/html": [
       "<div style=\"width:100%;\"><div style=\"position:relative;width:100%;height:0;padding-bottom:60%;\"><iframe src=\"data:text/html;charset=utf-8;base64,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\" style=\"position:absolute;width:100%;height:100%;left:0;top:0;border:none !important;\" allowfullscreen webkitallowfullscreen mozallowfullscreen></iframe></div></div>"
      ],
      "text/plain": [
       "<folium.folium.Map at 0x12c2acef0>"
      ]
     },
     "metadata": {},
     "output_type": "display_data"
    }
   ],
   "source": [
    "from IPython import display\n",
    "from random import sample\n",
    "\n",
    "users = mpp.uid.unique()\n",
    "for u in sample(list(users), 10):\n",
    "    m = plot_heat_and_scatter(\n",
    "        mpp=mpp, \n",
    "        uid=u, \n",
    "    )\n",
    "    display.clear_output(wait=True)\n",
    "    display.display(m)\n",
    "    time.sleep(1.5)"
   ]
  },
  {
   "cell_type": "markdown",
   "metadata": {},
   "source": [
    "# Population KDE"
   ]
  },
  {
   "cell_type": "code",
   "execution_count": 22,
   "metadata": {},
   "outputs": [
    {
     "name": "stdout",
     "output_type": "stream",
     "text": [
      "latitude: 111.24707976415618\n",
      "longitude: 94.20631182289213\n"
     ]
    }
   ],
   "source": [
    "### conversion factors\n",
    "# latitude = 40.74\n",
    "\n",
    "# e = 0.00669437999014\n",
    "# a = 6378.137\n",
    "# lat_to_km = round(1 / ((np.pi*a*(1-e))/ (180*(1-e*(np.sin(latitude))**2)**(3/2))), 6)\n",
    "# lon_to_km =  round(1 / (np.cos(latitude*np.pi/180)*111.321), 6)\n",
    "\n",
    "lon_to_km = 0.010615\n",
    "lat_to_km = 0.008989\n",
    "print('latitude:', 1 / lat_to_km)\n",
    "print('longitude:', 1 / lon_to_km)"
   ]
  },
  {
   "cell_type": "code",
   "execution_count": 24,
   "metadata": {},
   "outputs": [
    {
     "data": {
      "text/plain": [
       "(275956, 4)"
      ]
     },
     "execution_count": 24,
     "metadata": {},
     "output_type": "execute_result"
    }
   ],
   "source": [
    "from kde.location_project.kde_2d import (\n",
    "    KDE,\n",
    "    MixtureKDE,\n",
    "    create_individual_component_data,\n",
    "    learn_nearest_neighbors_bandwidth\n",
    ")\n",
    "\n",
    "# learn the bandwidth for each point & save to file (it's expensive)\n",
    "filepath = os.path.join(directory, \"population_visits_kde_data.npy\")\n",
    "\n",
    "# points = visits.loc[:, ['lon', 'lat']].values\n",
    "# bw_pop = learn_nearest_neighbors_bandwidth(points, lon_to_km=lon_to_km, lat_to_km=lat_to_km, k=5, min_bw=0.05)\n",
    "# kde_data = np.hstack([points, np.atleast_2d(bw_pop).T])  # adaptive bandwidth\n",
    "# kde_data = np.append(kde_data, np.ones((len(kde_data), 1)), 1)  # equal weights by default\n",
    "# np.save(filepath, kde_data)\n",
    "\n",
    "pop_kde_data = np.load(filepath)\n",
    "pop_kde_data.shape"
   ]
  },
  {
   "cell_type": "code",
   "execution_count": 25,
   "metadata": {},
   "outputs": [],
   "source": [
    "# create the population KDE\n",
    "pop_kde = KDE(pop_kde_data)\n",
    "\n",
    "# # create the individual KDE\n",
    "# ind_A = (oc_mpp.uid == uA) & (oc_mpp.m == 'a')\n",
    "# indiv_kde_data = create_individual_component_data(oc_mpp.loc[ind_A, ])\n",
    "# indiv_kde = KDE(indiv_kde_data)\n",
    "\n",
    "# # create the mixture KDE\n",
    "# mix_kde = MixtureKDE(indiv_kde_data, pop_kde_data)\n",
    "\n",
    "\n",
    "def eval_density(kde, xlim=[-118.2, -117.5], ylim=[33.4, 34], delta = 0.01):  # oc defaults\n",
    "    x = np.arange(xlim[0], xlim[1], delta)  # longitude\n",
    "    y = np.arange(ylim[0], ylim[1], delta)  # latitude\n",
    "    X, Y = np.meshgrid(x, y)\n",
    "    pts = np.vstack([X.ravel(), Y.ravel()]).T\n",
    "    z = np.apply_along_axis(kde.log_pdf, 1, pts)\n",
    "    Z = np.reshape(z, X.shape)\n",
    "    return X, Y, Z\n",
    "\n",
    "\n",
    "xlim = [-119.4, -116.15]\n",
    "ylim = [32.54, 34.51] \n",
    "delta = 0.01\n",
    "\n",
    "# X_i, Y_i, Z_i = eval_density(indiv_kde, xlim=xlim, ylim=ylim, delta=delta)\n",
    "# X_p, Y_p, Z_p = eval_density(pop_kde, xlim=xlim, ylim=ylim, delta=delta)\n",
    "# X_m, Y_m, Z_m = eval_density(mix_kde, xlim=xlim, ylim=ylim, delta=delta)"
   ]
  },
  {
   "cell_type": "code",
   "execution_count": 26,
   "metadata": {},
   "outputs": [
    {
     "data": {
      "image/png": "[encoded data removed]",
      "text/plain": [
       "<Figure size 576x432 with 2 Axes>"
      ]
     },
     "metadata": {},
     "output_type": "display_data"
    }
   ],
   "source": [
    "# set_style()\n",
    "\n",
    "# f, ax = plt.subplots()\n",
    "\n",
    "# plt.contourf(\n",
    "#     X_p, Y_p, Z_p, \n",
    "#     levels=np.linspace(-15,15,100),\n",
    "#     cmap='bone',\n",
    "#     extend='min',\n",
    "# )\n",
    "# plt.colorbar()\n",
    "\n",
    "# plt.xticks([])\n",
    "# plt.xlabel('')\n",
    "# plt.yticks([])\n",
    "# plt.ylabel('')\n",
    "\n",
    "# set_size(f, 8, 6)\n",
    "\n",
    "# plt.show()"
   ]
  },
  {
   "cell_type": "code",
   "execution_count": 27,
   "metadata": {},
   "outputs": [
    {
     "data": {
      "text/html": [
       "<div>\n",
       "<style scoped>\n",
       "    .dataframe tbody tr th:only-of-type {\n",
       "        vertical-align: middle;\n",
       "    }\n",
       "\n",
       "    .dataframe tbody tr th {\n",
       "        vertical-align: top;\n",
       "    }\n",
       "\n",
       "    .dataframe thead th {\n",
       "        text-align: right;\n",
       "    }\n",
       "</style>\n",
       "<table border=\"1\" class=\"dataframe\">\n",
       "  <thead>\n",
       "    <tr style=\"text-align: right;\">\n",
       "      <th></th>\n",
       "      <th>lon</th>\n",
       "      <th>lat</th>\n",
       "      <th>pdf</th>\n",
       "      <th>scaled_pdf</th>\n",
       "    </tr>\n",
       "  </thead>\n",
       "  <tbody>\n",
       "    <tr>\n",
       "      <th>0</th>\n",
       "      <td>-119.40</td>\n",
       "      <td>32.54</td>\n",
       "      <td>8.336457e-19</td>\n",
       "      <td>0.046401</td>\n",
       "    </tr>\n",
       "    <tr>\n",
       "      <th>1</th>\n",
       "      <td>-119.39</td>\n",
       "      <td>32.54</td>\n",
       "      <td>8.390826e-19</td>\n",
       "      <td>0.046529</td>\n",
       "    </tr>\n",
       "    <tr>\n",
       "      <th>2</th>\n",
       "      <td>-119.38</td>\n",
       "      <td>32.54</td>\n",
       "      <td>8.428016e-19</td>\n",
       "      <td>0.046617</td>\n",
       "    </tr>\n",
       "    <tr>\n",
       "      <th>3</th>\n",
       "      <td>-119.37</td>\n",
       "      <td>32.54</td>\n",
       "      <td>8.447796e-19</td>\n",
       "      <td>0.046663</td>\n",
       "    </tr>\n",
       "    <tr>\n",
       "      <th>4</th>\n",
       "      <td>-119.36</td>\n",
       "      <td>32.54</td>\n",
       "      <td>8.450044e-19</td>\n",
       "      <td>0.046669</td>\n",
       "    </tr>\n",
       "  </tbody>\n",
       "</table>\n",
       "</div>"
      ],
      "text/plain": [
       "      lon    lat           pdf  scaled_pdf\n",
       "0 -119.40  32.54  8.336457e-19    0.046401\n",
       "1 -119.39  32.54  8.390826e-19    0.046529\n",
       "2 -119.38  32.54  8.428016e-19    0.046617\n",
       "3 -119.37  32.54  8.447796e-19    0.046663\n",
       "4 -119.36  32.54  8.450044e-19    0.046669"
      ]
     },
     "execution_count": 27,
     "metadata": {},
     "output_type": "execute_result"
    }
   ],
   "source": [
    "# Z = (Z_p - np.min(Z_p)) / (np.max(Z_p) - np.min(Z_p))\n",
    "# out = pd.DataFrame(np.stack([X_p.ravel(), Y_p.ravel(), np.exp(Z_p.ravel()), Z.ravel()], axis=1))\n",
    "# out = out.rename(columns={0:'lon', 1:'lat', 2:'pdf', 3:'scaled_pdf'})\n",
    "# out.to_csv(os.path.join(directory, 'population_kde_grid.csv'), index=False)\n",
    "# out.head()"
   ]
  },
  {
   "cell_type": "markdown",
   "metadata": {},
   "source": [
    "# Stratified Sample"
   ]
  },
  {
   "cell_type": "code",
   "execution_count": 28,
   "metadata": {},
   "outputs": [
    {
     "data": {
      "text/plain": [
       "count    1214.000000\n",
       "mean       13.741351\n",
       "std        21.970354\n",
       "min         1.000000\n",
       "25%         2.000000\n",
       "50%         7.000000\n",
       "75%        16.000000\n",
       "max       254.000000\n",
       "Name: location_id, dtype: float64"
      ]
     },
     "execution_count": 28,
     "metadata": {},
     "output_type": "execute_result"
    }
   ],
   "source": [
    "### first, look at distn of n_a \n",
    "mpp.loc[mpp.m == 'a'].groupby('uid').location_id.count().describe()"
   ]
  },
  {
   "cell_type": "code",
   "execution_count": 29,
   "metadata": {},
   "outputs": [
    {
     "data": {
      "text/plain": [
       "count    1214.000000\n",
       "mean       21.785832\n",
       "std        42.693392\n",
       "min         1.000000\n",
       "25%         4.000000\n",
       "50%        11.000000\n",
       "75%        25.000000\n",
       "max       799.000000\n",
       "Name: location_id, dtype: float64"
      ]
     },
     "execution_count": 29,
     "metadata": {},
     "output_type": "execute_result"
    }
   ],
   "source": [
    "### and and n_b\n",
    "mpp.loc[mpp.m == 'b'].groupby('uid').location_id.count().describe()"
   ]
  },
  {
   "cell_type": "code",
   "execution_count": 30,
   "metadata": {},
   "outputs": [
    {
     "data": {
      "text/plain": [
       "uid     m\n",
       "2       a     30\n",
       "        b    686\n",
       "18      a      9\n",
       "        b     11\n",
       "43      a      1\n",
       "            ... \n",
       "195452  b      9\n",
       "195453  a      7\n",
       "        b     18\n",
       "195817  a     16\n",
       "        b     24\n",
       "Name: location_id, Length: 2428, dtype: int64"
      ]
     },
     "execution_count": 30,
     "metadata": {},
     "output_type": "execute_result"
    }
   ],
   "source": [
    "### and together\n",
    "mpp.groupby(['uid', 'm']).location_id.count()"
   ]
  },
  {
   "cell_type": "code",
   "execution_count": 32,
   "metadata": {},
   "outputs": [
    {
     "data": {
      "text/plain": [
       "bin_a        bin_b      \n",
       "[1.0, 5.0)   [1.0, 5.0)     1240\n",
       "             [5.0, 15.0)    1192\n",
       "             [15.0, inf)    1062\n",
       "[5.0, 15.0)  [1.0, 5.0)     1054\n",
       "             [5.0, 15.0)    1152\n",
       "             [15.0, inf)    1172\n",
       "[15.0, inf)  [1.0, 5.0)     1024\n",
       "             [5.0, 15.0)    1040\n",
       "             [15.0, inf)    1278\n",
       "Name: a, dtype: int64"
      ]
     },
     "execution_count": 32,
     "metadata": {},
     "output_type": "execute_result"
    }
   ],
   "source": [
    "# import itertools \n",
    "# np.random.seed(1234)\n",
    "# splits = [1, 5, 15, float(\"inf\")]\n",
    "\n",
    "# # create all pairwise combinations\n",
    "# ids = mpp.uid.unique()\n",
    "# samp_space = pd.DataFrame(itertools.product(ids, ids), columns=[\"a\", \"b\"])\n",
    "\n",
    "# # merge in counts of events in A\n",
    "# cts = mpp.groupby(['uid', 'm']).count().reset_index()\n",
    "# cts = cts.loc[cts.m == 'a', ]\n",
    "# cts = cts.rename(columns={\"location_id\": \"n_a\"})\n",
    "# cts.n_a.describe()\n",
    "# samp_space = pd.merge(samp_space, cts[['uid', 'n_a']], left_on='a', right_on='uid').drop(columns=\"uid\")\n",
    "\n",
    "# # merge in counts of events in B\n",
    "# cts = mpp.groupby(['uid', 'm']).count().reset_index()\n",
    "# cts = cts.loc[cts.m == 'b', ]\n",
    "# cts = cts.rename(columns={\"location_id\": \"n_b\"})\n",
    "# cts.n_b.describe()\n",
    "# samp_space = pd.merge(samp_space, cts[['uid', 'n_b']], left_on='b', right_on='uid').drop(columns=\"uid\")\n",
    "\n",
    "# # bin the number of events in A and B for stratified sampling\n",
    "# samp_space['bin_a'] = pd.cut(samp_space.n_a, bins=splits, right=False)\n",
    "# samp_space['bin_b'] = pd.cut(samp_space.n_b, bins=splits, right=False)\n",
    "\n",
    "# # sample 1000 pairs per combination of bins\n",
    "# sample = samp_space.loc[samp_space.a != samp_space.b,].groupby(['bin_a', 'bin_b']).apply(lambda x: x.sample(1000))\n",
    "# sample.index = sample.index.droplevel(0)\n",
    "# sample.index = sample.index.droplevel(0)\n",
    "\n",
    "# # add in same-source pairs\n",
    "# sample = pd.concat([samp_space.loc[samp_space.a == samp_space.b,], sample], sort=True).reset_index(drop=True)\n",
    "\n",
    "# # sample properties\n",
    "# sample.groupby(['bin_a', 'bin_b'])['a'].count()\n"
   ]
  },
  {
   "cell_type": "markdown",
   "metadata": {},
   "source": [
    "# Compute Scores"
   ]
  },
  {
   "cell_type": "code",
   "execution_count": 33,
   "metadata": {},
   "outputs": [
    {
     "data": {
      "text/html": [
       "<div>\n",
       "<style scoped>\n",
       "    .dataframe tbody tr th:only-of-type {\n",
       "        vertical-align: middle;\n",
       "    }\n",
       "\n",
       "    .dataframe tbody tr th {\n",
       "        vertical-align: top;\n",
       "    }\n",
       "\n",
       "    .dataframe thead th {\n",
       "        text-align: right;\n",
       "    }\n",
       "</style>\n",
       "<table border=\"1\" class=\"dataframe\">\n",
       "  <thead>\n",
       "    <tr style=\"text-align: right;\">\n",
       "      <th></th>\n",
       "      <th>a</th>\n",
       "      <th>b</th>\n",
       "      <th>ied_med</th>\n",
       "      <th>ied_mn</th>\n",
       "      <th>ied_mn_wt_event</th>\n",
       "      <th>ied_mn_wt_user</th>\n",
       "      <th>emd</th>\n",
       "      <th>emd_wt_event</th>\n",
       "      <th>emd_wt_user</th>\n",
       "    </tr>\n",
       "  </thead>\n",
       "  <tbody>\n",
       "    <tr>\n",
       "      <th>0</th>\n",
       "      <td>1498</td>\n",
       "      <td>1498</td>\n",
       "      <td>0.000000</td>\n",
       "      <td>0.538405</td>\n",
       "      <td>0.661559</td>\n",
       "      <td>0.381618</td>\n",
       "      <td>2.455216</td>\n",
       "      <td>3.055116</td>\n",
       "      <td>2.363810</td>\n",
       "    </tr>\n",
       "    <tr>\n",
       "      <th>1</th>\n",
       "      <td>2311</td>\n",
       "      <td>2311</td>\n",
       "      <td>0.354563</td>\n",
       "      <td>2.730379</td>\n",
       "      <td>6.122780</td>\n",
       "      <td>6.277989</td>\n",
       "      <td>10.350717</td>\n",
       "      <td>21.072516</td>\n",
       "      <td>18.584963</td>\n",
       "    </tr>\n",
       "    <tr>\n",
       "      <th>2</th>\n",
       "      <td>74482</td>\n",
       "      <td>74482</td>\n",
       "      <td>0.522938</td>\n",
       "      <td>2.994007</td>\n",
       "      <td>4.881213</td>\n",
       "      <td>4.565397</td>\n",
       "      <td>6.074390</td>\n",
       "      <td>6.359311</td>\n",
       "      <td>6.917935</td>\n",
       "    </tr>\n",
       "    <tr>\n",
       "      <th>3</th>\n",
       "      <td>23331</td>\n",
       "      <td>23331</td>\n",
       "      <td>0.036916</td>\n",
       "      <td>0.036916</td>\n",
       "      <td>0.070879</td>\n",
       "      <td>0.070438</td>\n",
       "      <td>0.394280</td>\n",
       "      <td>0.267480</td>\n",
       "      <td>0.577467</td>\n",
       "    </tr>\n",
       "    <tr>\n",
       "      <th>4</th>\n",
       "      <td>2389</td>\n",
       "      <td>2389</td>\n",
       "      <td>0.335532</td>\n",
       "      <td>2.378552</td>\n",
       "      <td>9.357037</td>\n",
       "      <td>8.370727</td>\n",
       "      <td>5.200296</td>\n",
       "      <td>12.943828</td>\n",
       "      <td>11.400364</td>\n",
       "    </tr>\n",
       "  </tbody>\n",
       "</table>\n",
       "</div>"
      ],
      "text/plain": [
       "       a      b   ied_med    ied_mn  ied_mn_wt_event  ied_mn_wt_user  \\\n",
       "0   1498   1498  0.000000  0.538405         0.661559        0.381618   \n",
       "1   2311   2311  0.354563  2.730379         6.122780        6.277989   \n",
       "2  74482  74482  0.522938  2.994007         4.881213        4.565397   \n",
       "3  23331  23331  0.036916  0.036916         0.070879        0.070438   \n",
       "4   2389   2389  0.335532  2.378552         9.357037        8.370727   \n",
       "\n",
       "         emd  emd_wt_event  emd_wt_user  \n",
       "0   2.455216      3.055116     2.363810  \n",
       "1  10.350717     21.072516    18.584963  \n",
       "2   6.074390      6.359311     6.917935  \n",
       "3   0.394280      0.267480     0.577467  \n",
       "4   5.200296     12.943828    11.400364  "
      ]
     },
     "execution_count": 33,
     "metadata": {},
     "output_type": "execute_result"
    }
   ],
   "source": [
    "import itertools\n",
    "from emd import emd\n",
    "from kde.location_project.cmp import geodesic_dist\n",
    "\n",
    "\n",
    "def get_user(mpp, uid, mark):\n",
    "    out = mpp.copy()\n",
    "    # out = out.drop_duplicates(subset=[\"location_id\", \"m\"])\n",
    "    return out.loc[(out.uid == uid) & (out.m == mark)].reset_index(drop=True)\n",
    "\n",
    "\n",
    "def population_scores(mpp, keeps):\n",
    "    rslt = []    \n",
    "    for index, row in keeps.iterrows():\n",
    "        user_A = row[\"a\"]\n",
    "        user_B = row[\"b\"]\n",
    "        tmp = {}\n",
    "        try:\n",
    "            ### get the data for the pair in question\n",
    "            tmp['a'] = user_A\n",
    "            tmp['b'] = user_B\n",
    "            uA = get_user(mpp, user_A, 'a')\n",
    "            uB = get_user(mpp, user_B, 'b')\n",
    "\n",
    "            ### compute weights\n",
    "            uA_wt_e = (uA['weight_event'] / sum(uA['weight_event'])).to_numpy()\n",
    "            uA_wt_u = (uA['weight_user'] / sum(uA['weight_user'])).to_numpy()\n",
    "            uB_wt_e = (uB['weight_event'] / sum(uB['weight_event'])).to_numpy()\n",
    "            uB_wt_u = (uB['weight_user'] / sum(uB['weight_user'])).to_numpy()\n",
    "\n",
    "            ### compute the distance matrix & IED scores\n",
    "            dist = geodesic_dist(uA[['lat', 'lon']], uB[['lat', 'lon']])\n",
    "            ied = dist.min(1)\n",
    "            tmp['ied_med'] = np.median(ied)\n",
    "            tmp['ied_mn'] = np.average(ied)\n",
    "            tmp['ied_mn_wt_event'] = np.average(ied, weights=uA_wt_e)\n",
    "            tmp['ied_mn_wt_user'] = np.average(ied, weights=uA_wt_u)\n",
    "\n",
    "            ### compute variants of EMD\n",
    "            tmp['emd'] = emd(distance=\"precomputed\", D=dist)\n",
    "            tmp['emd_wt_event'] = emd(\n",
    "                X_weights=uA_wt_e, Y_weights=uB_wt_e, distance=\"precomputed\", D=dist\n",
    "            )\n",
    "            tmp['emd_wt_user'] = emd(\n",
    "                X_weights=uA_wt_u, Y_weights=uB_wt_u, distance=\"precomputed\", D=dist\n",
    "            )\n",
    "\n",
    "            ### store it\n",
    "            rslt.append(tmp)\n",
    "        except:\n",
    "            print(f\"Error! A = {user_A}, B = {user_B}\")\n",
    "            continue\n",
    "    return pd.DataFrame(rslt)\n",
    "\n",
    "\n",
    "# compute score vals for all pairwise combinations\n",
    "# score_vals = population_scores(mpp, sample)\n",
    "# score_vals.to_csv(os.path.join(directory, \"score_func_vals.csv\"), index=False)\n",
    "# score_vals.head()"
   ]
  },
  {
   "cell_type": "markdown",
   "metadata": {},
   "source": [
    "# Analyze Results"
   ]
  },
  {
   "cell_type": "code",
   "execution_count": 34,
   "metadata": {},
   "outputs": [],
   "source": [
    "from sklearn.metrics import roc_auc_score\n",
    "\n",
    "def perf_measure(y_actual, y_hat):\n",
    "    y_actual = list(y_actual)\n",
    "    y_hat = list(y_hat)\n",
    "\n",
    "    TP = 0\n",
    "    FP = 0\n",
    "    TN = 0\n",
    "    FN = 0\n",
    "\n",
    "    for i in range(len(y_hat)): \n",
    "        if y_actual[i]==y_hat[i]==1:\n",
    "           TP += 1\n",
    "        if y_hat[i]==1 and y_actual[i]!=y_hat[i]:\n",
    "           FP += 1\n",
    "        if y_actual[i]==y_hat[i]==0:\n",
    "           TN += 1\n",
    "        if y_hat[i]==0 and y_actual[i]!=y_hat[i]:\n",
    "           FN += 1\n",
    "    \n",
    "    tpr = TP / (TP + FN)\n",
    "    fpr = FP / (FP + TN)\n",
    "    \n",
    "    return (format(round(tpr, 3), '.3f'), format(round(fpr, 3), '.3f'))\n",
    "\n",
    "\n",
    "def calc_auc(rslt, score, column='label'):\n",
    "    return format(round(roc_auc_score(rslt[column], rslt[score]), 3), '.3f')\n",
    "\n",
    "\n",
    "def slr_classifier_performance_for_tex(rslt):\n",
    "    print(\"& $\\Delta$ & Weights &  TP@1  & FP@1  & AUC \\\\\\\\\")\n",
    "    print(\"\\\\hline\")\n",
    "    print(\n",
    "        \"& $\\mean{D}_{min}$ & Uniform & \", \n",
    "        \"{0[0]} & {0[1]}\".format(perf_measure(rslt['label'], rslt['ied_mn'] > 1)), \"&\", \n",
    "        calc_auc(rslt,'ied_mn'), \"\\\\\\\\\"\n",
    "    ) \n",
    "    print(\n",
    "        \"& $\\mean{D}_{min}$ & Account  & \",\n",
    "        \"{0[0]} & {0[1]}\".format(perf_measure(rslt['label'], rslt['ied_mn_wt_user'] > 1)), \"&\", \n",
    "        calc_auc(rslt,'ied_mn_wt_user'), \"\\\\\\\\\"\n",
    "    )\n",
    "    print(\n",
    "        \"& $\\mean{D}_{min}$ & Visit    & \", \n",
    "        \"{0[0]} & {0[1]}\".format(perf_measure(rslt['label'], rslt['ied_mn_wt_event'] > 1)), \"&\", \n",
    "        calc_auc(rslt,'ied_mn_wt_event'), \"\\\\\\\\\"\n",
    "    )\n",
    "    print(\n",
    "        \"& EMD & Uniform & \", \n",
    "        \"{0[0]} & {0[1]}\".format(perf_measure(rslt['label'], rslt['emd'] > 1)), \"&\", \n",
    "        calc_auc(rslt,'emd'), \"\\\\\\\\\"\n",
    "    )\n",
    "    print(\n",
    "        \"& EMD  & Account & \", \n",
    "        \"{0[0]} & {0[1]}\".format(perf_measure(rslt['label'], rslt['emd_wt_user'] > 1)), \"&\", \n",
    "        calc_auc(rslt,'emd_wt_user'), \"\\\\\\\\\"\n",
    "    )\n",
    "    print(\n",
    "        \"& EMD  & Visit  & \", \n",
    "        \"{0[0]} & {0[1]}\".format(perf_measure(rslt['label'], rslt['emd_wt_event'] > 1)), \"&\", \n",
    "        calc_auc(rslt,'emd_wt_event'), \"\\\\\\\\\"\n",
    "    )\n",
    "\n",
    "    \n",
    "\n",
    "def cmp_classifier_performance_for_tex(rslt):\n",
    "    print(\"& $\\Delta$ & Weights & TP@0.05  & TP@0.01 & AUC    \")\n",
    "    print(\"\\\\hline\")\n",
    "    print(\n",
    "        \"& $\\mean{D}_{min}$ & Uniform  & \", \n",
    "        perf_measure(~rslt['label'], rslt['ied_mn'] < 0.05)[0], \"  &\",\n",
    "        perf_measure(~rslt['label'], rslt['ied_mn'] < 0.01)[0], \"  &\",\n",
    "        calc_auc(rslt,'ied_mn'), \"\\\\\\\\\"\n",
    "    ) \n",
    "    print(\n",
    "        \"& $\\mean{D}_{min}$ & Account & \",\n",
    "        perf_measure(~rslt['label'], rslt['ied_mn_wt_user'] < 0.05)[0], \"  &\",\n",
    "        perf_measure(~rslt['label'], rslt['ied_mn_wt_user'] < 0.01)[0], \"  &\",\n",
    "        calc_auc(rslt,'ied_mn_wt_user'), \"\\\\\\\\\"\n",
    "    )\n",
    "    print(\n",
    "        \"& $\\mean{D}_{min}$ & Visit & \", \n",
    "        perf_measure(~rslt['label'], rslt['ied_mn_wt_event'] < 0.05)[0], \"  &\",\n",
    "        perf_measure(~rslt['label'], rslt['ied_mn_wt_event'] < 0.01)[0], \"  &\",\n",
    "        calc_auc(rslt,'ied_mn_wt_event'), \"\\\\\\\\\"\n",
    "    )\n",
    "    print(\n",
    "        \"& EMD & Uniform & \", \n",
    "        perf_measure(~rslt['label'], rslt['emd'] < 0.05)[0], \"  &\",\n",
    "        perf_measure(~rslt['label'], rslt['emd'] < 0.01)[0], \"  &\",\n",
    "        calc_auc(rslt,'emd'), \"\\\\\\\\\"\n",
    "    )\n",
    "    print(\n",
    "        \"& EMD & Account & \",\n",
    "        perf_measure(~rslt['label'], rslt['emd_wt_user'] < 0.05)[0], \"  &\",\n",
    "        perf_measure(~rslt['label'], rslt['emd_wt_user'] < 0.01)[0], \"  &\",\n",
    "        calc_auc(rslt,'emd_wt_user'), \"\\\\\\\\\"\n",
    "    )\n",
    "    print(\n",
    "        \"& EMD & Visit & \", \n",
    "        perf_measure(~rslt['label'], rslt['emd_wt_event'] < 0.05)[0], \"  &\",\n",
    "        perf_measure(~rslt['label'], rslt['emd_wt_event'] < 0.01)[0], \"  &\",\n",
    "        calc_auc(rslt,'emd_wt_event'), \"\\\\\\\\\"\n",
    "    )"
   ]
  },
  {
   "cell_type": "code",
   "execution_count": 73,
   "metadata": {},
   "outputs": [],
   "source": [
    "slr = pd.read_csv(os.path.join(directory, \"slr.csv\"))\n",
    "cmp = pd.read_csv(os.path.join(directory, \"cmp.csv\"))\n",
    "lr = pd.read_csv(os.path.join(directory, \"lr.csv\"))\n",
    "\n",
    "lr[\"same-src\"] = (lr.a == lr.b).astype(bool)\n",
    "slr[\"same-src\"] = (slr.a == slr.b).astype(bool)\n",
    "cmp[\"same-src\"] = (cmp.a == cmp.b).astype(bool)\n",
    "cmp[\"label\"] = ~cmp[\"same-src\"]"
   ]
  },
  {
   "cell_type": "code",
   "execution_count": 74,
   "metadata": {},
   "outputs": [
    {
     "name": "stdout",
     "output_type": "stream",
     "text": [
      "FIXED ALPHA\n",
      "TP/FP@1 ('0.301', '0.012')\n",
      "AUC 0.717\n"
     ]
    }
   ],
   "source": [
    "print(\"FIXED ALPHA\")\n",
    "print(\"TP/FP@1\", perf_measure(lr['same-src'], lr['lr_alpha_80'] >= 0))\n",
    "print(\"AUC\", calc_auc(lr, 'lr_alpha_80', 'same-src'))"
   ]
  },
  {
   "cell_type": "code",
   "execution_count": 75,
   "metadata": {},
   "outputs": [
    {
     "name": "stdout",
     "output_type": "stream",
     "text": [
      "STEP ALPHA\n",
      "TP/FP@1 ('0.432', '0.037')\n",
      "AUC 0.786\n"
     ]
    }
   ],
   "source": [
    "print(\"STEP ALPHA\")\n",
    "print(\"TP/FP@1\", perf_measure(lr['same-src'], lr['lr_alpha_step'] >= 0))\n",
    "print(\"AUC\", calc_auc(lr, 'lr_alpha_step', 'same-src'))"
   ]
  },
  {
   "cell_type": "code",
   "execution_count": 76,
   "metadata": {},
   "outputs": [
    {
     "name": "stdout",
     "output_type": "stream",
     "text": [
      "FUNC ALPHA\n",
      "TP/FP@1 ('0.432', '0.037')\n",
      "AUC 0.786\n"
     ]
    }
   ],
   "source": [
    "print(\"FUNC ALPHA\")\n",
    "print(\"TP/FP@1\", perf_measure(lr['same-src'], lr['lr_alpha_func'] >= 0))\n",
    "print(\"AUC\", calc_auc(lr, 'lr_alpha_func', 'same-src'))"
   ]
  },
  {
   "cell_type": "code",
   "execution_count": 77,
   "metadata": {},
   "outputs": [
    {
     "name": "stdout",
     "output_type": "stream",
     "text": [
      "& $\\Delta$ & Weights &  TP@1  & FP@1  & AUC \\\\\n",
      "\\hline\n",
      "& $\\mean{D}_{min}$ & Uniform &  0.823 & 0.236 & 0.875 \\\\\n",
      "& $\\mean{D}_{min}$ & Account  &  0.827 & 0.218 & 0.884 \\\\\n",
      "& $\\mean{D}_{min}$ & Visit    &  0.821 & 0.232 & 0.875 \\\\\n",
      "& EMD & Uniform &  0.801 & 0.219 & 0.865 \\\\\n",
      "& EMD  & Account &  0.797 & 0.202 & 0.873 \\\\\n",
      "& EMD  & Visit  &  0.790 & 0.226 & 0.858 \\\\\n"
     ]
    }
   ],
   "source": [
    "slr['label'] = (slr.a == slr.b).astype(bool)\n",
    "slr_classifier_performance_for_tex(slr)"
   ]
  },
  {
   "cell_type": "code",
   "execution_count": 78,
   "metadata": {},
   "outputs": [
    {
     "name": "stdout",
     "output_type": "stream",
     "text": [
      "& $\\Delta$ & Weights & TP@0.05  & TP@0.01 & AUC    \n",
      "\\hline\n",
      "& $\\mean{D}_{min}$ & Uniform  &  0.572   & 0.273   & 0.877 \\\\\n",
      "& $\\mean{D}_{min}$ & Account &  0.600   & 0.316   & 0.886 \\\\\n",
      "& $\\mean{D}_{min}$ & Visit &  0.561   & 0.259   & 0.876 \\\\\n",
      "& EMD & Uniform &  0.490   & 0.301   & 0.868 \\\\\n",
      "& EMD & Account &  0.529   & 0.306   & 0.876 \\\\\n",
      "& EMD & Visit &  0.481   & 0.242   & 0.860 \\\\\n"
     ]
    }
   ],
   "source": [
    "cmp['label'] = (cmp.a != cmp.b).astype(bool)\n",
    "cmp_classifier_performance_for_tex(cmp)"
   ]
  },
  {
   "cell_type": "markdown",
   "metadata": {},
   "source": [
    "## Accuracy by bin"
   ]
  },
  {
   "cell_type": "code",
   "execution_count": 79,
   "metadata": {},
   "outputs": [],
   "source": [
    "# get counts of events in A & B\n",
    "cts = mpp.groupby(['uid', 'm']).count().reset_index()\n",
    "\n",
    "cts_a = cts.loc[cts.m == 'a', ]\n",
    "cts_a = cts_a.rename(columns={\"location_id\": \"n_a\"})\n",
    "cts_a = cts_a[['uid', 'n_a']]\n",
    "\n",
    "cts_b = cts.loc[cts.m == 'b', ]\n",
    "cts_b = cts_b.rename(columns={\"location_id\": \"n_b\"})\n",
    "cts_b = cts_b[['uid', 'n_b']]"
   ]
  },
  {
   "cell_type": "markdown",
   "metadata": {},
   "source": [
    "### LR methods"
   ]
  },
  {
   "cell_type": "code",
   "execution_count": 80,
   "metadata": {},
   "outputs": [],
   "source": [
    "# merge & bin counts\n",
    "lr = pd.merge(lr, cts_a, left_on=\"a\", right_on=\"uid\").drop(columns=\"uid\")\n",
    "lr = pd.merge(lr, cts_b, left_on=\"b\", right_on=\"uid\").drop(columns=\"uid\")\n",
    "\n",
    "splits = [1, 5, 15, float(\"inf\")]\n",
    "lr['bin_a'] = pd.cut(lr.n_a, bins=splits, right=False)\n",
    "lr['bin_b'] = pd.cut(lr.n_b, bins=splits, right=False)"
   ]
  },
  {
   "cell_type": "code",
   "execution_count": 81,
   "metadata": {},
   "outputs": [
    {
     "data": {
      "text/plain": [
       "bin_a        bin_b      \n",
       "[1.0, 5.0)   [1.0, 5.0)     1240\n",
       "             [5.0, 15.0)    1192\n",
       "             [15.0, inf)    1062\n",
       "[5.0, 15.0)  [1.0, 5.0)     1054\n",
       "             [5.0, 15.0)    1152\n",
       "             [15.0, inf)    1172\n",
       "[15.0, inf)  [1.0, 5.0)     1024\n",
       "             [5.0, 15.0)    1040\n",
       "             [15.0, inf)    1278\n",
       "Name: a, dtype: int64"
      ]
     },
     "execution_count": 81,
     "metadata": {},
     "output_type": "execute_result"
    }
   ],
   "source": [
    "lr.groupby(['bin_a', 'bin_b'])['a'].count()"
   ]
  },
  {
   "cell_type": "code",
   "execution_count": 82,
   "metadata": {},
   "outputs": [
    {
     "data": {
      "text/plain": [
       "bin_a        bin_b      \n",
       "[1.0, 5.0)   [1.0, 5.0)     0.692\n",
       "             [5.0, 15.0)    0.771\n",
       "             [15.0, inf)    0.791\n",
       "[5.0, 15.0)  [1.0, 5.0)     0.604\n",
       "             [5.0, 15.0)    0.739\n",
       "             [15.0, inf)    0.829\n",
       "[15.0, inf)  [1.0, 5.0)     0.858\n",
       "             [5.0, 15.0)    0.907\n",
       "             [15.0, inf)    0.916\n",
       "dtype: object"
      ]
     },
     "execution_count": 82,
     "metadata": {},
     "output_type": "execute_result"
    }
   ],
   "source": [
    "score_func = \"lr_alpha_step\"\n",
    "lr.groupby(['bin_a', 'bin_b']).apply(lambda x: calc_auc(x, score_func, 'same-src'))"
   ]
  },
  {
   "cell_type": "code",
   "execution_count": 83,
   "metadata": {},
   "outputs": [
    {
     "data": {
      "text/plain": [
       "bin_a        bin_b      \n",
       "[1.0, 5.0)   [1.0, 5.0)     (0.229, 0.022)\n",
       "             [5.0, 15.0)    (0.365, 0.054)\n",
       "             [15.0, inf)    (0.387, 0.048)\n",
       "[5.0, 15.0)  [1.0, 5.0)     (0.222, 0.049)\n",
       "             [5.0, 15.0)    (0.362, 0.048)\n",
       "             [15.0, inf)    (0.459, 0.042)\n",
       "[15.0, inf)  [1.0, 5.0)     (0.625, 0.042)\n",
       "             [5.0, 15.0)    (0.525, 0.019)\n",
       "             [15.0, inf)    (0.698, 0.010)\n",
       "dtype: object"
      ]
     },
     "execution_count": 83,
     "metadata": {},
     "output_type": "execute_result"
    }
   ],
   "source": [
    "lr.groupby(['bin_a', 'bin_b']).apply(lambda x: perf_measure(x['same-src'], x[score_func] > 0))"
   ]
  },
  {
   "cell_type": "code",
   "execution_count": 84,
   "metadata": {},
   "outputs": [
    {
     "data": {
      "image/png": "[encoded data removed]",
      "text/plain": [
       "<Figure size 1080x720 with 2 Axes>"
      ]
     },
     "metadata": {},
     "output_type": "display_data"
    }
   ],
   "source": [
    "f, axes = plt.subplots(1, 2, figsize=(15,10))\n",
    "sns.boxplot(y=score_func, x=\"bin_a\", data=lr.loc[lr[\"same-src\"] == True], hue=\"bin_b\", ax=axes[0]).set_title(\"Same-Source\")\n",
    "sns.boxplot(y=score_func, x=\"bin_a\", data=lr.loc[lr[\"same-src\"] == False], hue=\"bin_b\", ax=axes[1]).set_title(\"Diff-Source\")\n",
    "plt.show()\n"
   ]
  },
  {
   "cell_type": "markdown",
   "metadata": {},
   "source": [
    "### SLR methods"
   ]
  },
  {
   "cell_type": "code",
   "execution_count": 85,
   "metadata": {},
   "outputs": [],
   "source": [
    "# merge & bin counts\n",
    "slr = pd.merge(slr, cts_a, left_on=\"a\", right_on=\"uid\").drop(columns=\"uid\")\n",
    "slr = pd.merge(slr, cts_b, left_on=\"b\", right_on=\"uid\").drop(columns=\"uid\")\n",
    "\n",
    "slr['bin_a'] = pd.cut(slr.n_a, bins=splits, right=False)\n",
    "slr['bin_b'] = pd.cut(slr.n_b, bins=splits, right=False)"
   ]
  },
  {
   "cell_type": "code",
   "execution_count": 86,
   "metadata": {},
   "outputs": [
    {
     "data": {
      "text/plain": [
       "bin_a        bin_b      \n",
       "[1.0, 5.0)   [1.0, 5.0)     0.815\n",
       "             [5.0, 15.0)    0.853\n",
       "             [15.0, inf)    0.842\n",
       "[5.0, 15.0)  [1.0, 5.0)     0.808\n",
       "             [5.0, 15.0)    0.876\n",
       "             [15.0, inf)    0.928\n",
       "[15.0, inf)  [1.0, 5.0)     0.876\n",
       "             [5.0, 15.0)    0.892\n",
       "             [15.0, inf)    0.923\n",
       "dtype: object"
      ]
     },
     "execution_count": 86,
     "metadata": {},
     "output_type": "execute_result"
    }
   ],
   "source": [
    "score_func = 'emd_wt_user'\n",
    "slr.groupby(['bin_a', 'bin_b']).apply(lambda x: calc_auc(x, score_func, 'same-src'))"
   ]
  },
  {
   "cell_type": "code",
   "execution_count": 87,
   "metadata": {},
   "outputs": [
    {
     "data": {
      "text/plain": [
       "bin_a        bin_b      \n",
       "[1.0, 5.0)   [1.0, 5.0)     (0.704, 0.207)\n",
       "             [5.0, 15.0)    (0.750, 0.210)\n",
       "             [15.0, inf)    (0.774, 0.205)\n",
       "[5.0, 15.0)  [1.0, 5.0)     (0.704, 0.232)\n",
       "             [5.0, 15.0)    (0.783, 0.181)\n",
       "             [15.0, inf)    (0.890, 0.214)\n",
       "[15.0, inf)  [1.0, 5.0)     (0.750, 0.193)\n",
       "             [5.0, 15.0)    (0.875, 0.189)\n",
       "             [15.0, inf)    (0.878, 0.189)\n",
       "dtype: object"
      ]
     },
     "execution_count": 87,
     "metadata": {},
     "output_type": "execute_result"
    }
   ],
   "source": [
    "slr.groupby(['bin_a', 'bin_b']).apply(lambda x: perf_measure(x['same-src'], x[score_func] > 1))"
   ]
  },
  {
   "cell_type": "code",
   "execution_count": 88,
   "metadata": {},
   "outputs": [
    {
     "data": {
      "image/png": "[encoded data removed]",
      "text/plain": [
       "<Figure size 1080x720 with 2 Axes>"
      ]
     },
     "metadata": {},
     "output_type": "display_data"
    }
   ],
   "source": [
    "f, axes = plt.subplots(1, 2, figsize=(15,10))\n",
    "sns.boxplot(y=score_func, x=\"bin_a\", data=slr.loc[slr[\"same-src\"] == True], hue=\"bin_b\", ax=axes[0]).set_title(\"Same-Source\")\n",
    "sns.boxplot(y=score_func, x=\"bin_a\", data=slr.loc[slr[\"same-src\"] == False], hue=\"bin_b\", ax=axes[1]).set_title(\"Diff-Source\")\n",
    "plt.show()"
   ]
  },
  {
   "cell_type": "markdown",
   "metadata": {},
   "source": [
    "### CMP methods"
   ]
  },
  {
   "cell_type": "code",
   "execution_count": 89,
   "metadata": {},
   "outputs": [
    {
     "data": {
      "text/html": [
       "<div>\n",
       "<style scoped>\n",
       "    .dataframe tbody tr th:only-of-type {\n",
       "        vertical-align: middle;\n",
       "    }\n",
       "\n",
       "    .dataframe tbody tr th {\n",
       "        vertical-align: top;\n",
       "    }\n",
       "\n",
       "    .dataframe thead th {\n",
       "        text-align: right;\n",
       "    }\n",
       "</style>\n",
       "<table border=\"1\" class=\"dataframe\">\n",
       "  <thead>\n",
       "    <tr style=\"text-align: right;\">\n",
       "      <th></th>\n",
       "      <th>a</th>\n",
       "      <th>b</th>\n",
       "      <th>ied_med</th>\n",
       "      <th>ied_mn</th>\n",
       "      <th>ied_mn_wt_event</th>\n",
       "      <th>ied_mn_wt_user</th>\n",
       "      <th>emd</th>\n",
       "      <th>emd_wt_event</th>\n",
       "      <th>emd_wt_user</th>\n",
       "      <th>same-src</th>\n",
       "      <th>label</th>\n",
       "      <th>n_a</th>\n",
       "      <th>n_b</th>\n",
       "      <th>bin_a</th>\n",
       "      <th>bin_b</th>\n",
       "    </tr>\n",
       "  </thead>\n",
       "  <tbody>\n",
       "    <tr>\n",
       "      <th>0</th>\n",
       "      <td>2.0</td>\n",
       "      <td>2.0</td>\n",
       "      <td>0.002227</td>\n",
       "      <td>0.003006</td>\n",
       "      <td>0.003674</td>\n",
       "      <td>0.003118</td>\n",
       "      <td>0.015477</td>\n",
       "      <td>0.042312</td>\n",
       "      <td>0.037746</td>\n",
       "      <td>True</td>\n",
       "      <td>False</td>\n",
       "      <td>30</td>\n",
       "      <td>686</td>\n",
       "      <td>[15.0, inf)</td>\n",
       "      <td>[15.0, inf)</td>\n",
       "    </tr>\n",
       "    <tr>\n",
       "      <th>1</th>\n",
       "      <td>37424.0</td>\n",
       "      <td>2.0</td>\n",
       "      <td>0.828116</td>\n",
       "      <td>0.860755</td>\n",
       "      <td>0.835357</td>\n",
       "      <td>0.835134</td>\n",
       "      <td>0.890275</td>\n",
       "      <td>0.869221</td>\n",
       "      <td>0.868776</td>\n",
       "      <td>False</td>\n",
       "      <td>True</td>\n",
       "      <td>6</td>\n",
       "      <td>686</td>\n",
       "      <td>[5.0, 15.0)</td>\n",
       "      <td>[15.0, inf)</td>\n",
       "    </tr>\n",
       "    <tr>\n",
       "      <th>2</th>\n",
       "      <td>38298.0</td>\n",
       "      <td>2.0</td>\n",
       "      <td>0.781431</td>\n",
       "      <td>0.813642</td>\n",
       "      <td>0.874944</td>\n",
       "      <td>0.859786</td>\n",
       "      <td>0.825791</td>\n",
       "      <td>0.908939</td>\n",
       "      <td>0.888431</td>\n",
       "      <td>False</td>\n",
       "      <td>True</td>\n",
       "      <td>3</td>\n",
       "      <td>686</td>\n",
       "      <td>[1.0, 5.0)</td>\n",
       "      <td>[15.0, inf)</td>\n",
       "    </tr>\n",
       "    <tr>\n",
       "      <th>3</th>\n",
       "      <td>41806.0</td>\n",
       "      <td>2.0</td>\n",
       "      <td>0.010819</td>\n",
       "      <td>0.013384</td>\n",
       "      <td>0.024872</td>\n",
       "      <td>0.024091</td>\n",
       "      <td>0.081753</td>\n",
       "      <td>0.184029</td>\n",
       "      <td>0.173545</td>\n",
       "      <td>False</td>\n",
       "      <td>True</td>\n",
       "      <td>25</td>\n",
       "      <td>686</td>\n",
       "      <td>[15.0, inf)</td>\n",
       "      <td>[15.0, inf)</td>\n",
       "    </tr>\n",
       "    <tr>\n",
       "      <th>4</th>\n",
       "      <td>92680.0</td>\n",
       "      <td>2.0</td>\n",
       "      <td>0.417020</td>\n",
       "      <td>0.405309</td>\n",
       "      <td>0.363373</td>\n",
       "      <td>0.385010</td>\n",
       "      <td>0.607629</td>\n",
       "      <td>0.544167</td>\n",
       "      <td>0.555878</td>\n",
       "      <td>False</td>\n",
       "      <td>True</td>\n",
       "      <td>7</td>\n",
       "      <td>686</td>\n",
       "      <td>[5.0, 15.0)</td>\n",
       "      <td>[15.0, inf)</td>\n",
       "    </tr>\n",
       "  </tbody>\n",
       "</table>\n",
       "</div>"
      ],
      "text/plain": [
       "         a    b   ied_med    ied_mn  ied_mn_wt_event  ied_mn_wt_user  \\\n",
       "0      2.0  2.0  0.002227  0.003006         0.003674        0.003118   \n",
       "1  37424.0  2.0  0.828116  0.860755         0.835357        0.835134   \n",
       "2  38298.0  2.0  0.781431  0.813642         0.874944        0.859786   \n",
       "3  41806.0  2.0  0.010819  0.013384         0.024872        0.024091   \n",
       "4  92680.0  2.0  0.417020  0.405309         0.363373        0.385010   \n",
       "\n",
       "        emd  emd_wt_event  emd_wt_user  same-src  label  n_a  n_b  \\\n",
       "0  0.015477      0.042312     0.037746      True  False   30  686   \n",
       "1  0.890275      0.869221     0.868776     False   True    6  686   \n",
       "2  0.825791      0.908939     0.888431     False   True    3  686   \n",
       "3  0.081753      0.184029     0.173545     False   True   25  686   \n",
       "4  0.607629      0.544167     0.555878     False   True    7  686   \n",
       "\n",
       "         bin_a        bin_b  \n",
       "0  [15.0, inf)  [15.0, inf)  \n",
       "1  [5.0, 15.0)  [15.0, inf)  \n",
       "2   [1.0, 5.0)  [15.0, inf)  \n",
       "3  [15.0, inf)  [15.0, inf)  \n",
       "4  [5.0, 15.0)  [15.0, inf)  "
      ]
     },
     "execution_count": 89,
     "metadata": {},
     "output_type": "execute_result"
    }
   ],
   "source": [
    "# merge & bin counts\n",
    "cmp = pd.merge(cmp, cts_a, left_on=\"a\", right_on=\"uid\").drop(columns=\"uid\")\n",
    "cmp = pd.merge(cmp, cts_b, left_on=\"b\", right_on=\"uid\").drop(columns=\"uid\")\n",
    "\n",
    "cmp['bin_a'] = pd.cut(cmp.n_a, bins=splits, right=False)\n",
    "cmp['bin_b'] = pd.cut(cmp.n_b, bins=splits, right=False)\n",
    "\n",
    "cmp.head()"
   ]
  },
  {
   "cell_type": "code",
   "execution_count": 90,
   "metadata": {},
   "outputs": [
    {
     "data": {
      "text/plain": [
       "bin_a        bin_b      \n",
       "[1.0, 5.0)   [1.0, 5.0)     0.818\n",
       "             [5.0, 15.0)    0.855\n",
       "             [15.0, inf)    0.848\n",
       "[5.0, 15.0)  [1.0, 5.0)     0.809\n",
       "             [5.0, 15.0)    0.879\n",
       "             [15.0, inf)    0.929\n",
       "[15.0, inf)  [1.0, 5.0)     0.879\n",
       "             [5.0, 15.0)    0.890\n",
       "             [15.0, inf)    0.926\n",
       "dtype: object"
      ]
     },
     "execution_count": 90,
     "metadata": {},
     "output_type": "execute_result"
    }
   ],
   "source": [
    "score_func = 'emd_wt_user'\n",
    "cmp.groupby(['bin_a', 'bin_b']).apply(lambda x: calc_auc(x, score_func, 'label'))"
   ]
  },
  {
   "cell_type": "code",
   "execution_count": 91,
   "metadata": {},
   "outputs": [
    {
     "data": {
      "text/plain": [
       "bin_a        bin_b      \n",
       "[1.0, 5.0)   [1.0, 5.0)     (0.467, 0.072)\n",
       "             [5.0, 15.0)    (0.484, 0.061)\n",
       "             [15.0, inf)    (0.419, 0.042)\n",
       "[5.0, 15.0)  [1.0, 5.0)     (0.444, 0.058)\n",
       "             [5.0, 15.0)    (0.493, 0.043)\n",
       "             [15.0, inf)    (0.651, 0.048)\n",
       "[15.0, inf)  [1.0, 5.0)     (0.417, 0.045)\n",
       "             [5.0, 15.0)    (0.450, 0.048)\n",
       "             [15.0, inf)    (0.619, 0.034)\n",
       "dtype: object"
      ]
     },
     "execution_count": 91,
     "metadata": {},
     "output_type": "execute_result"
    }
   ],
   "source": [
    "cmp.groupby(['bin_a', 'bin_b']).apply(lambda x: perf_measure(x['same-src'], x[score_func] < 0.05))"
   ]
  },
  {
   "cell_type": "code",
   "execution_count": 92,
   "metadata": {},
   "outputs": [
    {
     "data": {
      "image/png": "[encoded data removed]",
      "text/plain": [
       "<Figure size 1080x720 with 2 Axes>"
      ]
     },
     "metadata": {},
     "output_type": "display_data"
    }
   ],
   "source": [
    "f, axes = plt.subplots(1, 2, figsize=(15,10))\n",
    "sns.boxplot(y=score_func, x=\"bin_a\", data=cmp.loc[cmp[\"same-src\"] == True], hue=\"bin_b\", ax=axes[0]).set_title(\"Same-Source\")\n",
    "sns.boxplot(y=score_func, x=\"bin_a\", data=cmp.loc[cmp[\"same-src\"] == False], hue=\"bin_b\", ax=axes[1]).set_title(\"Diff-Source\")\n",
    "plt.show()"
   ]
  },
  {
   "cell_type": "markdown",
   "metadata": {},
   "source": [
    "# Plot TP & FP rates for the different methods binned by `n_A` & `n_B`\n",
    "\n",
    "### Create the data set"
   ]
  },
  {
   "cell_type": "code",
   "execution_count": 94,
   "metadata": {},
   "outputs": [
    {
     "data": {
      "text/html": [
       "<div>\n",
       "<style scoped>\n",
       "    .dataframe tbody tr th:only-of-type {\n",
       "        vertical-align: middle;\n",
       "    }\n",
       "\n",
       "    .dataframe tbody tr th {\n",
       "        vertical-align: top;\n",
       "    }\n",
       "\n",
       "    .dataframe thead th {\n",
       "        text-align: right;\n",
       "    }\n",
       "</style>\n",
       "<table border=\"1\" class=\"dataframe\">\n",
       "  <thead>\n",
       "    <tr style=\"text-align: right;\">\n",
       "      <th></th>\n",
       "      <th>bin_a</th>\n",
       "      <th>bin_b</th>\n",
       "      <th>score</th>\n",
       "      <th>auc</th>\n",
       "      <th>tp</th>\n",
       "      <th>fp</th>\n",
       "      <th>method</th>\n",
       "    </tr>\n",
       "  </thead>\n",
       "  <tbody>\n",
       "    <tr>\n",
       "      <th>0</th>\n",
       "      <td>[1.0, 5.0)</td>\n",
       "      <td>[1.0, 5.0)</td>\n",
       "      <td>lr_alpha_func</td>\n",
       "      <td>0.692</td>\n",
       "      <td>0.229</td>\n",
       "      <td>0.022</td>\n",
       "      <td>lr</td>\n",
       "    </tr>\n",
       "    <tr>\n",
       "      <th>1</th>\n",
       "      <td>[1.0, 5.0)</td>\n",
       "      <td>[1.0, 5.0)</td>\n",
       "      <td>lr_alpha_step</td>\n",
       "      <td>0.692</td>\n",
       "      <td>0.229</td>\n",
       "      <td>0.022</td>\n",
       "      <td>lr</td>\n",
       "    </tr>\n",
       "    <tr>\n",
       "      <th>2</th>\n",
       "      <td>[1.0, 5.0)</td>\n",
       "      <td>[1.0, 5.0)</td>\n",
       "      <td>lr_alpha_80</td>\n",
       "      <td>0.692</td>\n",
       "      <td>0.179</td>\n",
       "      <td>0.012</td>\n",
       "      <td>lr</td>\n",
       "    </tr>\n",
       "    <tr>\n",
       "      <th>3</th>\n",
       "      <td>[1.0, 5.0)</td>\n",
       "      <td>[5.0, 15.0)</td>\n",
       "      <td>lr_alpha_func</td>\n",
       "      <td>0.771</td>\n",
       "      <td>0.365</td>\n",
       "      <td>0.054</td>\n",
       "      <td>lr</td>\n",
       "    </tr>\n",
       "    <tr>\n",
       "      <th>4</th>\n",
       "      <td>[1.0, 5.0)</td>\n",
       "      <td>[5.0, 15.0)</td>\n",
       "      <td>lr_alpha_step</td>\n",
       "      <td>0.771</td>\n",
       "      <td>0.365</td>\n",
       "      <td>0.054</td>\n",
       "      <td>lr</td>\n",
       "    </tr>\n",
       "  </tbody>\n",
       "</table>\n",
       "</div>"
      ],
      "text/plain": [
       "        bin_a        bin_b          score    auc     tp     fp method\n",
       "0  [1.0, 5.0)   [1.0, 5.0)  lr_alpha_func  0.692  0.229  0.022     lr\n",
       "1  [1.0, 5.0)   [1.0, 5.0)  lr_alpha_step  0.692  0.229  0.022     lr\n",
       "2  [1.0, 5.0)   [1.0, 5.0)    lr_alpha_80  0.692  0.179  0.012     lr\n",
       "3  [1.0, 5.0)  [5.0, 15.0)  lr_alpha_func  0.771  0.365  0.054     lr\n",
       "4  [1.0, 5.0)  [5.0, 15.0)  lr_alpha_step  0.771  0.365  0.054     lr"
      ]
     },
     "execution_count": 94,
     "metadata": {},
     "output_type": "execute_result"
    }
   ],
   "source": [
    "def performance_stats(x, score_func, column, criteria):\n",
    "    out = []\n",
    "    for s in score_func:\n",
    "        d = {}\n",
    "        d['score'] = s\n",
    "        d['auc'] = calc_auc(x, s, column)\n",
    "        d['tp'], d['fp'] = perf_measure(x[column], x[s] > criteria)\n",
    "        out.append(d)\n",
    "    return pd.DataFrame(out)\n",
    "\n",
    "lr_rslt = lr.groupby(['bin_a', 'bin_b']).apply(\n",
    "    lambda x: performance_stats(x, ['lr_alpha_func', 'lr_alpha_step', 'lr_alpha_80'], 'same-src', 0) \n",
    ").reset_index()\n",
    "lr_rslt['method'] = 'lr'\n",
    "lr_rslt.drop(columns='level_2', inplace=True)\n",
    "lr_rslt.head()\n"
   ]
  },
  {
   "cell_type": "code",
   "execution_count": 95,
   "metadata": {},
   "outputs": [
    {
     "data": {
      "text/html": [
       "<div>\n",
       "<style scoped>\n",
       "    .dataframe tbody tr th:only-of-type {\n",
       "        vertical-align: middle;\n",
       "    }\n",
       "\n",
       "    .dataframe tbody tr th {\n",
       "        vertical-align: top;\n",
       "    }\n",
       "\n",
       "    .dataframe thead th {\n",
       "        text-align: right;\n",
       "    }\n",
       "</style>\n",
       "<table border=\"1\" class=\"dataframe\">\n",
       "  <thead>\n",
       "    <tr style=\"text-align: right;\">\n",
       "      <th></th>\n",
       "      <th>bin_a</th>\n",
       "      <th>bin_b</th>\n",
       "      <th>score</th>\n",
       "      <th>auc</th>\n",
       "      <th>tp</th>\n",
       "      <th>fp</th>\n",
       "      <th>method</th>\n",
       "    </tr>\n",
       "  </thead>\n",
       "  <tbody>\n",
       "    <tr>\n",
       "      <th>0</th>\n",
       "      <td>[1.0, 5.0)</td>\n",
       "      <td>[1.0, 5.0)</td>\n",
       "      <td>ied_mn</td>\n",
       "      <td>0.810</td>\n",
       "      <td>0.650</td>\n",
       "      <td>0.174</td>\n",
       "      <td>slr</td>\n",
       "    </tr>\n",
       "    <tr>\n",
       "      <th>1</th>\n",
       "      <td>[1.0, 5.0)</td>\n",
       "      <td>[1.0, 5.0)</td>\n",
       "      <td>ied_mn_wt_event</td>\n",
       "      <td>0.819</td>\n",
       "      <td>0.642</td>\n",
       "      <td>0.175</td>\n",
       "      <td>slr</td>\n",
       "    </tr>\n",
       "    <tr>\n",
       "      <th>2</th>\n",
       "      <td>[1.0, 5.0)</td>\n",
       "      <td>[1.0, 5.0)</td>\n",
       "      <td>ied_mn_wt_user</td>\n",
       "      <td>0.819</td>\n",
       "      <td>0.629</td>\n",
       "      <td>0.163</td>\n",
       "      <td>slr</td>\n",
       "    </tr>\n",
       "    <tr>\n",
       "      <th>3</th>\n",
       "      <td>[1.0, 5.0)</td>\n",
       "      <td>[1.0, 5.0)</td>\n",
       "      <td>emd</td>\n",
       "      <td>0.799</td>\n",
       "      <td>0.704</td>\n",
       "      <td>0.214</td>\n",
       "      <td>slr</td>\n",
       "    </tr>\n",
       "    <tr>\n",
       "      <th>4</th>\n",
       "      <td>[1.0, 5.0)</td>\n",
       "      <td>[1.0, 5.0)</td>\n",
       "      <td>emd_wt_event</td>\n",
       "      <td>0.815</td>\n",
       "      <td>0.729</td>\n",
       "      <td>0.227</td>\n",
       "      <td>slr</td>\n",
       "    </tr>\n",
       "  </tbody>\n",
       "</table>\n",
       "</div>"
      ],
      "text/plain": [
       "        bin_a       bin_b            score    auc     tp     fp method\n",
       "0  [1.0, 5.0)  [1.0, 5.0)           ied_mn  0.810  0.650  0.174    slr\n",
       "1  [1.0, 5.0)  [1.0, 5.0)  ied_mn_wt_event  0.819  0.642  0.175    slr\n",
       "2  [1.0, 5.0)  [1.0, 5.0)   ied_mn_wt_user  0.819  0.629  0.163    slr\n",
       "3  [1.0, 5.0)  [1.0, 5.0)              emd  0.799  0.704  0.214    slr\n",
       "4  [1.0, 5.0)  [1.0, 5.0)     emd_wt_event  0.815  0.729  0.227    slr"
      ]
     },
     "execution_count": 95,
     "metadata": {},
     "output_type": "execute_result"
    }
   ],
   "source": [
    "scores = ['ied_mn', 'ied_mn_wt_event', 'ied_mn_wt_user', 'emd', 'emd_wt_event', 'emd_wt_user']\n",
    "\n",
    "slr_rslt = slr.groupby(['bin_a', 'bin_b']).apply(\n",
    "    lambda x: performance_stats(x, scores, 'same-src', 1) \n",
    ").reset_index()\n",
    "slr_rslt['method'] = 'slr'\n",
    "slr_rslt.drop(columns='level_2', inplace=True)\n",
    "slr_rslt.head()\n"
   ]
  },
  {
   "cell_type": "code",
   "execution_count": 96,
   "metadata": {},
   "outputs": [
    {
     "data": {
      "text/html": [
       "<div>\n",
       "<style scoped>\n",
       "    .dataframe tbody tr th:only-of-type {\n",
       "        vertical-align: middle;\n",
       "    }\n",
       "\n",
       "    .dataframe tbody tr th {\n",
       "        vertical-align: top;\n",
       "    }\n",
       "\n",
       "    .dataframe thead th {\n",
       "        text-align: right;\n",
       "    }\n",
       "</style>\n",
       "<table border=\"1\" class=\"dataframe\">\n",
       "  <thead>\n",
       "    <tr style=\"text-align: right;\">\n",
       "      <th></th>\n",
       "      <th>bin_a</th>\n",
       "      <th>bin_b</th>\n",
       "      <th>score</th>\n",
       "      <th>auc</th>\n",
       "      <th>tp</th>\n",
       "      <th>fp</th>\n",
       "      <th>method</th>\n",
       "    </tr>\n",
       "  </thead>\n",
       "  <tbody>\n",
       "    <tr>\n",
       "      <th>0</th>\n",
       "      <td>[1.0, 5.0)</td>\n",
       "      <td>[1.0, 5.0)</td>\n",
       "      <td>ied_mn</td>\n",
       "      <td>0.812</td>\n",
       "      <td>0.388</td>\n",
       "      <td>0.042</td>\n",
       "      <td>cmp</td>\n",
       "    </tr>\n",
       "    <tr>\n",
       "      <th>1</th>\n",
       "      <td>[1.0, 5.0)</td>\n",
       "      <td>[1.0, 5.0)</td>\n",
       "      <td>ied_mn_wt_event</td>\n",
       "      <td>0.820</td>\n",
       "      <td>0.383</td>\n",
       "      <td>0.040</td>\n",
       "      <td>cmp</td>\n",
       "    </tr>\n",
       "    <tr>\n",
       "      <th>2</th>\n",
       "      <td>[1.0, 5.0)</td>\n",
       "      <td>[1.0, 5.0)</td>\n",
       "      <td>ied_mn_wt_user</td>\n",
       "      <td>0.821</td>\n",
       "      <td>0.396</td>\n",
       "      <td>0.040</td>\n",
       "      <td>cmp</td>\n",
       "    </tr>\n",
       "    <tr>\n",
       "      <th>3</th>\n",
       "      <td>[1.0, 5.0)</td>\n",
       "      <td>[1.0, 5.0)</td>\n",
       "      <td>emd</td>\n",
       "      <td>0.802</td>\n",
       "      <td>0.408</td>\n",
       "      <td>0.075</td>\n",
       "      <td>cmp</td>\n",
       "    </tr>\n",
       "    <tr>\n",
       "      <th>4</th>\n",
       "      <td>[1.0, 5.0)</td>\n",
       "      <td>[1.0, 5.0)</td>\n",
       "      <td>emd_wt_event</td>\n",
       "      <td>0.815</td>\n",
       "      <td>0.454</td>\n",
       "      <td>0.072</td>\n",
       "      <td>cmp</td>\n",
       "    </tr>\n",
       "  </tbody>\n",
       "</table>\n",
       "</div>"
      ],
      "text/plain": [
       "        bin_a       bin_b            score    auc     tp     fp method\n",
       "0  [1.0, 5.0)  [1.0, 5.0)           ied_mn  0.812  0.388  0.042    cmp\n",
       "1  [1.0, 5.0)  [1.0, 5.0)  ied_mn_wt_event  0.820  0.383  0.040    cmp\n",
       "2  [1.0, 5.0)  [1.0, 5.0)   ied_mn_wt_user  0.821  0.396  0.040    cmp\n",
       "3  [1.0, 5.0)  [1.0, 5.0)              emd  0.802  0.408  0.075    cmp\n",
       "4  [1.0, 5.0)  [1.0, 5.0)     emd_wt_event  0.815  0.454  0.072    cmp"
      ]
     },
     "execution_count": 96,
     "metadata": {},
     "output_type": "execute_result"
    }
   ],
   "source": [
    "def cmp_performance_stats(x, score_func, criteria):\n",
    "    out = []\n",
    "    for s in score_func:\n",
    "        d = {}\n",
    "        d['score'] = s\n",
    "        d['auc'] = calc_auc(x, s, 'label')\n",
    "        d['tp'], d['fp'] = perf_measure(x['same-src'], x[s] < criteria)\n",
    "        out.append(d)\n",
    "    return pd.DataFrame(out)\n",
    "\n",
    "cmp_rslt = cmp.groupby(['bin_a', 'bin_b']).apply(\n",
    "    lambda x: cmp_performance_stats(x, scores, 0.05) \n",
    ").reset_index()\n",
    "cmp_rslt['method'] = 'cmp'\n",
    "cmp_rslt.drop(columns='level_2', inplace=True)\n",
    "cmp_rslt.head()\n"
   ]
  },
  {
   "cell_type": "code",
   "execution_count": 97,
   "metadata": {},
   "outputs": [
    {
     "data": {
      "text/html": [
       "<div>\n",
       "<style scoped>\n",
       "    .dataframe tbody tr th:only-of-type {\n",
       "        vertical-align: middle;\n",
       "    }\n",
       "\n",
       "    .dataframe tbody tr th {\n",
       "        vertical-align: top;\n",
       "    }\n",
       "\n",
       "    .dataframe thead th {\n",
       "        text-align: right;\n",
       "    }\n",
       "</style>\n",
       "<table border=\"1\" class=\"dataframe\">\n",
       "  <thead>\n",
       "    <tr style=\"text-align: right;\">\n",
       "      <th></th>\n",
       "      <th>bin_a</th>\n",
       "      <th>bin_b</th>\n",
       "      <th>score</th>\n",
       "      <th>auc</th>\n",
       "      <th>tp</th>\n",
       "      <th>fp</th>\n",
       "      <th>method</th>\n",
       "    </tr>\n",
       "  </thead>\n",
       "  <tbody>\n",
       "    <tr>\n",
       "      <th>84</th>\n",
       "      <td>[1.0, 5.0)</td>\n",
       "      <td>[1.0, 5.0)</td>\n",
       "      <td>emd</td>\n",
       "      <td>0.802</td>\n",
       "      <td>0.408</td>\n",
       "      <td>0.075</td>\n",
       "      <td>cmp</td>\n",
       "    </tr>\n",
       "    <tr>\n",
       "      <th>85</th>\n",
       "      <td>[1.0, 5.0)</td>\n",
       "      <td>[1.0, 5.0)</td>\n",
       "      <td>emd_wt_event</td>\n",
       "      <td>0.815</td>\n",
       "      <td>0.454</td>\n",
       "      <td>0.072</td>\n",
       "      <td>cmp</td>\n",
       "    </tr>\n",
       "    <tr>\n",
       "      <th>86</th>\n",
       "      <td>[1.0, 5.0)</td>\n",
       "      <td>[1.0, 5.0)</td>\n",
       "      <td>emd_wt_user</td>\n",
       "      <td>0.818</td>\n",
       "      <td>0.467</td>\n",
       "      <td>0.072</td>\n",
       "      <td>cmp</td>\n",
       "    </tr>\n",
       "    <tr>\n",
       "      <th>81</th>\n",
       "      <td>[1.0, 5.0)</td>\n",
       "      <td>[1.0, 5.0)</td>\n",
       "      <td>ied_mn</td>\n",
       "      <td>0.812</td>\n",
       "      <td>0.388</td>\n",
       "      <td>0.042</td>\n",
       "      <td>cmp</td>\n",
       "    </tr>\n",
       "    <tr>\n",
       "      <th>82</th>\n",
       "      <td>[1.0, 5.0)</td>\n",
       "      <td>[1.0, 5.0)</td>\n",
       "      <td>ied_mn_wt_event</td>\n",
       "      <td>0.820</td>\n",
       "      <td>0.383</td>\n",
       "      <td>0.040</td>\n",
       "      <td>cmp</td>\n",
       "    </tr>\n",
       "  </tbody>\n",
       "</table>\n",
       "</div>"
      ],
      "text/plain": [
       "         bin_a       bin_b            score    auc     tp     fp method\n",
       "84  [1.0, 5.0)  [1.0, 5.0)              emd  0.802  0.408  0.075    cmp\n",
       "85  [1.0, 5.0)  [1.0, 5.0)     emd_wt_event  0.815  0.454  0.072    cmp\n",
       "86  [1.0, 5.0)  [1.0, 5.0)      emd_wt_user  0.818  0.467  0.072    cmp\n",
       "81  [1.0, 5.0)  [1.0, 5.0)           ied_mn  0.812  0.388  0.042    cmp\n",
       "82  [1.0, 5.0)  [1.0, 5.0)  ied_mn_wt_event  0.820  0.383  0.040    cmp"
      ]
     },
     "execution_count": 97,
     "metadata": {},
     "output_type": "execute_result"
    }
   ],
   "source": [
    "# combine them\n",
    "rslt = pd.concat([lr_rslt, slr_rslt, cmp_rslt], ignore_index=True)\n",
    "rslt = rslt.sort_values(by=['bin_a', 'bin_b', 'method', 'score'])\n",
    "rslt = rslt.astype({'auc': float, 'tp': float, 'fp': float})\n",
    "rslt.head()"
   ]
  },
  {
   "cell_type": "markdown",
   "metadata": {},
   "source": [
    "### Plot it"
   ]
  },
  {
   "cell_type": "code",
   "execution_count": 98,
   "metadata": {},
   "outputs": [
    {
     "data": {
      "image/png": "[encoded data removed]",
      "text/plain": [
       "<Figure size 720x1080 with 3 Axes>"
      ]
     },
     "metadata": {},
     "output_type": "display_data"
    }
   ],
   "source": [
    "import matplotlib.pyplot as plt\n",
    "\n",
    "SMALL_SIZE = 14\n",
    "MEDIUM_SIZE = 16\n",
    "BIGGER_SIZE = 18\n",
    "\n",
    "plt.rc('font', size=SMALL_SIZE)          # controls default text sizes\n",
    "plt.rc('axes', titlesize=SMALL_SIZE)     # fontsize of the axes title\n",
    "plt.rc('axes', labelsize=MEDIUM_SIZE)    # fontsize of the x and y labels\n",
    "plt.rc('xtick', labelsize=SMALL_SIZE)    # fontsize of the tick labels\n",
    "plt.rc('ytick', labelsize=SMALL_SIZE)    # fontsize of the tick labels\n",
    "plt.rc('legend', fontsize=SMALL_SIZE)    # legend fontsize\n",
    "plt.rc('figure', titlesize=BIGGER_SIZE)  # fontsize of the figure title\n",
    "\n",
    "\n",
    "sns.set_palette(\"husl\")\n",
    "xlim = (0,1)\n",
    "ylim = (0,0.55)\n",
    "\n",
    "f, axes = plt.subplots(3, 1, figsize=(10,15))\n",
    "\n",
    "sns.scatterplot(\n",
    "    x='tp', \n",
    "    y='fp', \n",
    "    data=rslt.loc[rslt.method == 'lr'], \n",
    "    hue='bin_a', \n",
    "    style='score', \n",
    "    size='bin_b',\n",
    "    size_order=list(reversed(rslt.bin_b.cat.categories)),\n",
    "    ax=axes[0]\n",
    ").set_title(\"Likelihood Ratio\")\n",
    "axes[0].set_ylim(ylim)\n",
    "axes[0].set_xlim(xlim)\n",
    "axes[0].legend(bbox_to_anchor=(1.05, 1), loc=2, borderaxespad=0.)\n",
    "\n",
    "sns.scatterplot(\n",
    "    x='tp', \n",
    "    y='fp', \n",
    "    data=rslt.loc[rslt.method == 'cmp'], \n",
    "    hue='bin_a', \n",
    "    style='score', \n",
    "    size='bin_b',\n",
    "    size_order=list(reversed(rslt.bin_b.cat.categories)),\n",
    "    ax=axes[1]\n",
    ").set_title(\"Coincidental Match Probability\")\n",
    "axes[1].set_ylim(ylim)\n",
    "axes[1].set_xlim(xlim)\n",
    "axes[1].get_legend().remove()\n",
    "\n",
    "sns.scatterplot(\n",
    "    x='tp', \n",
    "    y='fp',\n",
    "    data=rslt.loc[rslt.method == 'slr'],\n",
    "    hue='bin_a', \n",
    "    style='score', \n",
    "    size='bin_b',\n",
    "    size_order=list(reversed(rslt.bin_b.cat.categories)),\n",
    "    ax=axes[2]\n",
    ").set_title(\"Score-based Likelihood Ratio\")\n",
    "axes[2].set_ylim(ylim)\n",
    "axes[2].set_xlim(xlim)\n",
    "axes[2].get_legend().remove()\n",
    "\n",
    "handles, labels = axes[2].get_legend_handles_labels()\n",
    "plt.legend(handles, labels, bbox_to_anchor=(1.05, 1), loc=2, borderaxespad=0.)\n",
    "plt.tight_layout()\n",
    "plt.show()"
   ]
  },
  {
   "cell_type": "markdown",
   "metadata": {},
   "source": [
    "### DFRWS bar plot reproduction"
   ]
  },
  {
   "cell_type": "code",
   "execution_count": 101,
   "metadata": {},
   "outputs": [
    {
     "data": {
      "text/html": [
       "<div>\n",
       "<style scoped>\n",
       "    .dataframe tbody tr th:only-of-type {\n",
       "        vertical-align: middle;\n",
       "    }\n",
       "\n",
       "    .dataframe tbody tr th {\n",
       "        vertical-align: top;\n",
       "    }\n",
       "\n",
       "    .dataframe thead th {\n",
       "        text-align: right;\n",
       "    }\n",
       "</style>\n",
       "<table border=\"1\" class=\"dataframe\">\n",
       "  <thead>\n",
       "    <tr style=\"text-align: right;\">\n",
       "      <th></th>\n",
       "      <th>bin_a</th>\n",
       "      <th>bin_b</th>\n",
       "      <th>score</th>\n",
       "      <th>auc</th>\n",
       "      <th>tp</th>\n",
       "      <th>fp</th>\n",
       "      <th>method</th>\n",
       "      <th>x</th>\n",
       "    </tr>\n",
       "  </thead>\n",
       "  <tbody>\n",
       "    <tr>\n",
       "      <th>86</th>\n",
       "      <td>[1.0, 5.0)</td>\n",
       "      <td>[1.0, 5.0)</td>\n",
       "      <td>emd_wt_user</td>\n",
       "      <td>0.818</td>\n",
       "      <td>0.467</td>\n",
       "      <td>0.072</td>\n",
       "      <td>cmp</td>\n",
       "      <td>0</td>\n",
       "    </tr>\n",
       "    <tr>\n",
       "      <th>2</th>\n",
       "      <td>[1.0, 5.0)</td>\n",
       "      <td>[1.0, 5.0)</td>\n",
       "      <td>lr_alpha_80</td>\n",
       "      <td>0.692</td>\n",
       "      <td>0.179</td>\n",
       "      <td>0.012</td>\n",
       "      <td>lr</td>\n",
       "      <td>0</td>\n",
       "    </tr>\n",
       "    <tr>\n",
       "      <th>32</th>\n",
       "      <td>[1.0, 5.0)</td>\n",
       "      <td>[1.0, 5.0)</td>\n",
       "      <td>emd_wt_user</td>\n",
       "      <td>0.815</td>\n",
       "      <td>0.704</td>\n",
       "      <td>0.207</td>\n",
       "      <td>slr</td>\n",
       "      <td>0</td>\n",
       "    </tr>\n",
       "    <tr>\n",
       "      <th>110</th>\n",
       "      <td>[5.0, 15.0)</td>\n",
       "      <td>[5.0, 15.0)</td>\n",
       "      <td>emd_wt_user</td>\n",
       "      <td>0.879</td>\n",
       "      <td>0.493</td>\n",
       "      <td>0.043</td>\n",
       "      <td>cmp</td>\n",
       "      <td>1</td>\n",
       "    </tr>\n",
       "    <tr>\n",
       "      <th>14</th>\n",
       "      <td>[5.0, 15.0)</td>\n",
       "      <td>[5.0, 15.0)</td>\n",
       "      <td>lr_alpha_80</td>\n",
       "      <td>0.727</td>\n",
       "      <td>0.197</td>\n",
       "      <td>0.008</td>\n",
       "      <td>lr</td>\n",
       "      <td>1</td>\n",
       "    </tr>\n",
       "    <tr>\n",
       "      <th>56</th>\n",
       "      <td>[5.0, 15.0)</td>\n",
       "      <td>[5.0, 15.0)</td>\n",
       "      <td>emd_wt_user</td>\n",
       "      <td>0.876</td>\n",
       "      <td>0.783</td>\n",
       "      <td>0.181</td>\n",
       "      <td>slr</td>\n",
       "      <td>1</td>\n",
       "    </tr>\n",
       "    <tr>\n",
       "      <th>134</th>\n",
       "      <td>[15.0, inf)</td>\n",
       "      <td>[15.0, inf)</td>\n",
       "      <td>emd_wt_user</td>\n",
       "      <td>0.926</td>\n",
       "      <td>0.619</td>\n",
       "      <td>0.034</td>\n",
       "      <td>cmp</td>\n",
       "      <td>2</td>\n",
       "    </tr>\n",
       "    <tr>\n",
       "      <th>26</th>\n",
       "      <td>[15.0, inf)</td>\n",
       "      <td>[15.0, inf)</td>\n",
       "      <td>lr_alpha_80</td>\n",
       "      <td>0.903</td>\n",
       "      <td>0.576</td>\n",
       "      <td>0.001</td>\n",
       "      <td>lr</td>\n",
       "      <td>2</td>\n",
       "    </tr>\n",
       "    <tr>\n",
       "      <th>80</th>\n",
       "      <td>[15.0, inf)</td>\n",
       "      <td>[15.0, inf)</td>\n",
       "      <td>emd_wt_user</td>\n",
       "      <td>0.923</td>\n",
       "      <td>0.878</td>\n",
       "      <td>0.189</td>\n",
       "      <td>slr</td>\n",
       "      <td>2</td>\n",
       "    </tr>\n",
       "  </tbody>\n",
       "</table>\n",
       "</div>"
      ],
      "text/plain": [
       "           bin_a        bin_b        score    auc     tp     fp method  x\n",
       "86    [1.0, 5.0)   [1.0, 5.0)  emd_wt_user  0.818  0.467  0.072    cmp  0\n",
       "2     [1.0, 5.0)   [1.0, 5.0)  lr_alpha_80  0.692  0.179  0.012     lr  0\n",
       "32    [1.0, 5.0)   [1.0, 5.0)  emd_wt_user  0.815  0.704  0.207    slr  0\n",
       "110  [5.0, 15.0)  [5.0, 15.0)  emd_wt_user  0.879  0.493  0.043    cmp  1\n",
       "14   [5.0, 15.0)  [5.0, 15.0)  lr_alpha_80  0.727  0.197  0.008     lr  1\n",
       "56   [5.0, 15.0)  [5.0, 15.0)  emd_wt_user  0.876  0.783  0.181    slr  1\n",
       "134  [15.0, inf)  [15.0, inf)  emd_wt_user  0.926  0.619  0.034    cmp  2\n",
       "26   [15.0, inf)  [15.0, inf)  lr_alpha_80  0.903  0.576  0.001     lr  2\n",
       "80   [15.0, inf)  [15.0, inf)  emd_wt_user  0.923  0.878  0.189    slr  2"
      ]
     },
     "execution_count": 101,
     "metadata": {},
     "output_type": "execute_result"
    }
   ],
   "source": [
    "sc = ['emd_wt_user', 'lr_alpha_80']\n",
    "simple = rslt.loc[(rslt.bin_a == rslt.bin_b) & \n",
    "                  (rslt.score.isin(sc))]\n",
    "simple['x'] = simple.bin_a.cat.codes\n",
    "simple"
   ]
  },
  {
   "cell_type": "code",
   "execution_count": 105,
   "metadata": {},
   "outputs": [
    {
     "data": {
      "image/png": "[encoded data removed]",
      "text/plain": [
       "<Figure size 432x216 with 1 Axes>"
      ]
     },
     "metadata": {},
     "output_type": "display_data"
    }
   ],
   "source": [
    "import matplotlib\n",
    "\n",
    "def set_style():\n",
    "    plt.style.use(['seaborn-white', 'seaborn-talk'])\n",
    "    matplotlib.rc(\"font\", family=\"Times New Roman\")\n",
    "\n",
    "    \n",
    "def get_colors():\n",
    "    return np.array([\n",
    "        [0.1, 0.1, 0.1],          # black\n",
    "#         [0.4, 0.4, 0.4],          # very dark gray\n",
    "        [0.7, 0.7, 0.7],          # dark gray\n",
    "        [0.9, 0.9, 0.9],          # light gray\n",
    "    ])\n",
    "        \n",
    "        \n",
    "def set_size(fig):\n",
    "    fig.set_size_inches(6, 3)\n",
    "    plt.tight_layout()\n",
    "\n",
    "    \n",
    "# sns.palplot(get_colors())\n",
    "\n",
    "set_style()\n",
    "sns.set_palette(get_colors())\n",
    "\n",
    "f, ax = plt.subplots()\n",
    "\n",
    "sns.barplot(\n",
    "    x='x', \n",
    "    y='fp',\n",
    "    data=simple,\n",
    "    hue='method',\n",
    ")\n",
    "ax.set_xticklabels(['Low', 'Medium', 'High'])\n",
    "ax.set_ylim((0,0.35))\n",
    "\n",
    "legend = plt.legend()\n",
    "# legend.get_texts()[0].set_text('LR')\n",
    "# legend.get_texts()[1].set_text('SLR')\n",
    "# legend.get_texts()[2].set_text('CMP')\n",
    "\n",
    "plt.xticks([0,1,2])\n",
    "plt.xlabel('Amount of Data')\n",
    "plt.ylabel('False Positive Rate')\n",
    "\n",
    "set_size(f)\n",
    "\n",
    "plt.show()"
   ]
  },
  {
   "cell_type": "code",
   "execution_count": null,
   "metadata": {},
   "outputs": [],
   "source": []
  }
 ],
 "metadata": {
  "kernelspec": {
   "display_name": "spatial-assocr",
   "language": "python",
   "name": "spatial-assocr"
  },
  "language_info": {
   "codemirror_mode": {
    "name": "ipython",
    "version": 3
   },
   "file_extension": ".py",
   "mimetype": "text/x-python",
   "name": "python",
   "nbconvert_exporter": "python",
   "pygments_lexer": "ipython3",
   "version": "3.6.6"
  }
 },
 "nbformat": 4,
 "nbformat_minor": 2
}
