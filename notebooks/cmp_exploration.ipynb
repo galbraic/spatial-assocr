{
 "cells": [
  {
   "cell_type": "markdown",
   "metadata": {},
   "source": [
    "# Spatial Coincidental Match Probability Exploration"
   ]
  },
  {
   "cell_type": "code",
   "execution_count": 1,
   "metadata": {},
   "outputs": [],
   "source": [
    "import numpy as np\n",
    "import pandas as pd\n",
    "import os\n",
    "import sys\n",
    "import pickle as pkl\n",
    "import matplotlib.pyplot as plt\n",
    "\n",
    "sys.path.append('/Users/cmg/dev/spatial-assocr/kde')\n",
    "from location_project import kde_2d  # adaptive bw KDE \n",
    "%load_ext autoreload\n",
    "%autoreload 2 # auto reload changes to kde code for faster prototyping\n",
    "\n",
    "%matplotlib inline\n",
    "sys.setrecursionlimit(10000)"
   ]
  },
  {
   "cell_type": "markdown",
   "metadata": {},
   "source": [
    "## Load & format filtered data"
   ]
  },
  {
   "cell_type": "code",
   "execution_count": 2,
   "metadata": {},
   "outputs": [
    {
     "data": {
      "text/html": [
       "<div>\n",
       "<style scoped>\n",
       "    .dataframe tbody tr th:only-of-type {\n",
       "        vertical-align: middle;\n",
       "    }\n",
       "\n",
       "    .dataframe tbody tr th {\n",
       "        vertical-align: top;\n",
       "    }\n",
       "\n",
       "    .dataframe thead th {\n",
       "        text-align: right;\n",
       "    }\n",
       "</style>\n",
       "<table border=\"1\" class=\"dataframe\">\n",
       "  <thead>\n",
       "    <tr style=\"text-align: right;\">\n",
       "      <th></th>\n",
       "      <th>id</th>\n",
       "      <th>m</th>\n",
       "      <th>lon</th>\n",
       "      <th>lat</th>\n",
       "    </tr>\n",
       "  </thead>\n",
       "  <tbody>\n",
       "    <tr>\n",
       "      <th>0</th>\n",
       "      <td>11.0</td>\n",
       "      <td>a</td>\n",
       "      <td>-117.92895</td>\n",
       "      <td>33.61891</td>\n",
       "    </tr>\n",
       "    <tr>\n",
       "      <th>1</th>\n",
       "      <td>11.0</td>\n",
       "      <td>a</td>\n",
       "      <td>-117.67199</td>\n",
       "      <td>33.60002</td>\n",
       "    </tr>\n",
       "    <tr>\n",
       "      <th>2</th>\n",
       "      <td>11.0</td>\n",
       "      <td>a</td>\n",
       "      <td>-117.92895</td>\n",
       "      <td>33.61891</td>\n",
       "    </tr>\n",
       "    <tr>\n",
       "      <th>3</th>\n",
       "      <td>11.0</td>\n",
       "      <td>a</td>\n",
       "      <td>-117.67199</td>\n",
       "      <td>33.60002</td>\n",
       "    </tr>\n",
       "    <tr>\n",
       "      <th>4</th>\n",
       "      <td>11.0</td>\n",
       "      <td>a</td>\n",
       "      <td>-117.67199</td>\n",
       "      <td>33.60002</td>\n",
       "    </tr>\n",
       "  </tbody>\n",
       "</table>\n",
       "</div>"
      ],
      "text/plain": [
       "     id  m        lon       lat\n",
       "0  11.0  a -117.92895  33.61891\n",
       "1  11.0  a -117.67199  33.60002\n",
       "2  11.0  a -117.92895  33.61891\n",
       "3  11.0  a -117.67199  33.60002\n",
       "4  11.0  a -117.67199  33.60002"
      ]
     },
     "execution_count": 2,
     "metadata": {},
     "output_type": "execute_result"
    }
   ],
   "source": [
    "# read in the filtered data\n",
    "filepath = os.path.join(\"..\", \"data\", \"mpp_month0a_month1b_n50.csv\")\n",
    "mpp = pd.read_csv(filepath)\n",
    "mpp.head()"
   ]
  },
  {
   "cell_type": "code",
   "execution_count": 3,
   "metadata": {},
   "outputs": [
    {
     "data": {
      "text/html": [
       "<div>\n",
       "<style scoped>\n",
       "    .dataframe tbody tr th:only-of-type {\n",
       "        vertical-align: middle;\n",
       "    }\n",
       "\n",
       "    .dataframe tbody tr th {\n",
       "        vertical-align: top;\n",
       "    }\n",
       "\n",
       "    .dataframe thead th {\n",
       "        text-align: right;\n",
       "    }\n",
       "</style>\n",
       "<table border=\"1\" class=\"dataframe\">\n",
       "  <thead>\n",
       "    <tr style=\"text-align: right;\">\n",
       "      <th></th>\n",
       "      <th>id</th>\n",
       "      <th>lon</th>\n",
       "      <th>lat</th>\n",
       "    </tr>\n",
       "  </thead>\n",
       "  <tbody>\n",
       "    <tr>\n",
       "      <th>0</th>\n",
       "      <td>11.0</td>\n",
       "      <td>-117.92895</td>\n",
       "      <td>33.61891</td>\n",
       "    </tr>\n",
       "    <tr>\n",
       "      <th>1</th>\n",
       "      <td>11.0</td>\n",
       "      <td>-117.67199</td>\n",
       "      <td>33.60002</td>\n",
       "    </tr>\n",
       "    <tr>\n",
       "      <th>2</th>\n",
       "      <td>11.0</td>\n",
       "      <td>-117.92895</td>\n",
       "      <td>33.61891</td>\n",
       "    </tr>\n",
       "    <tr>\n",
       "      <th>3</th>\n",
       "      <td>11.0</td>\n",
       "      <td>-117.67199</td>\n",
       "      <td>33.60002</td>\n",
       "    </tr>\n",
       "    <tr>\n",
       "      <th>4</th>\n",
       "      <td>11.0</td>\n",
       "      <td>-117.67199</td>\n",
       "      <td>33.60002</td>\n",
       "    </tr>\n",
       "  </tbody>\n",
       "</table>\n",
       "</div>"
      ],
      "text/plain": [
       "     id        lon       lat\n",
       "0  11.0 -117.92895  33.61891\n",
       "1  11.0 -117.67199  33.60002\n",
       "2  11.0 -117.92895  33.61891\n",
       "3  11.0 -117.67199  33.60002\n",
       "4  11.0 -117.67199  33.60002"
      ]
     },
     "execution_count": 3,
     "metadata": {},
     "output_type": "execute_result"
    }
   ],
   "source": [
    "# reorder the columns... kde_2d expects [id, lon, lat]\n",
    "data = mpp[['id', 'lon', 'lat']]\n",
    "data.head()"
   ]
  },
  {
   "cell_type": "code",
   "execution_count": 4,
   "metadata": {},
   "outputs": [
    {
     "data": {
      "text/plain": [
       "array([[ 1.1000000e+01, -1.1792895e+02,  3.3618910e+01],\n",
       "       [ 1.1000000e+01, -1.1767199e+02,  3.3600020e+01],\n",
       "       [ 1.1000000e+01, -1.1792895e+02,  3.3618910e+01],\n",
       "       ...,\n",
       "       [ 1.7282000e+04, -1.1795213e+02,  3.3684750e+01],\n",
       "       [ 1.7282000e+04, -1.1795213e+02,  3.3684750e+01],\n",
       "       [ 1.7282000e+04, -1.1795197e+02,  3.3684750e+01]])"
      ]
     },
     "execution_count": 4,
     "metadata": {},
     "output_type": "execute_result"
    }
   ],
   "source": [
    "# convert the pandas data frame to array of arrays\n",
    "# i.e., <np.array [[user_id, lon, lat], ... ] >\n",
    "df = data.values\n",
    "df"
   ]
  },
  {
   "cell_type": "markdown",
   "metadata": {},
   "source": [
    "## Fit an adaptive bandwidth KDE to the data\n",
    "Do this for the entire sample (i.e., a population model). "
   ]
  },
  {
   "cell_type": "code",
   "execution_count": 5,
   "metadata": {},
   "outputs": [],
   "source": [
    "# learn the bandwidth for each point & save to file (it's expensive)\n",
    "# filepath = os.path.join(\"..\", \"data\", \"bw_pop_k10_month0a_month1b_n50.npy\")\n",
    "filepath = os.path.join(\"..\", \"data\", \"bw_pop_k5_month0a_month1b_n50.npy\")\n",
    "# KM_TO_LON = 0.010615\n",
    "# KM_TO_LAT = 0.008989\n",
    "# bw_pop = kde_2d._learn_nearest_neighbors_bandwidth(\n",
    "#     df[:, 1:3], k=5, lon_to_km=KM_TO_LON, lat_to_km=KM_TO_LAT\n",
    "# )\n",
    "# np.save(filepath, bw_pop)\n",
    "bw_pop = np.load(filepath)"
   ]
  },
  {
   "cell_type": "code",
   "execution_count": 6,
   "metadata": {},
   "outputs": [],
   "source": [
    "# format the data for the KDE class; equally weight points\n",
    "# <np.array [[user_id, lon, lat, bw, weight], ... ] >\n",
    "pop = np.append(df, np.reshape(bw_pop, (len(df), 1)), 1)\n",
    "pop = np.append(pop, np.ones((len(df), 1)), 1)\n",
    "\n",
    "# create the KDE\n",
    "kde_pop = kde_2d.KDE(pop)"
   ]
  },
  {
   "cell_type": "code",
   "execution_count": 7,
   "metadata": {},
   "outputs": [
    {
     "data": {
      "text/plain": [
       "18.806669719280915"
      ]
     },
     "execution_count": 7,
     "metadata": {},
     "output_type": "execute_result"
    }
   ],
   "source": [
    "# compute the log pdf for a given point\n",
    "# < np.array [lon, lat] >\n",
    "kde_pop.log_pdf(df[0][1:])"
   ]
  },
  {
   "cell_type": "code",
   "execution_count": 8,
   "metadata": {},
   "outputs": [
    {
     "data": {
      "text/plain": [
       "[-117.9289435572199, 33.61891474563816]"
      ]
     },
     "execution_count": 8,
     "metadata": {},
     "output_type": "execute_result"
    }
   ],
   "source": [
    "# sample from the KDE\n",
    "# must pass in the data to do so b/c its a nonparametric model\n",
    "kde_pop.sample_from_kde(pop)"
   ]
  },
  {
   "cell_type": "markdown",
   "metadata": {},
   "source": [
    "### Contour plot of the density"
   ]
  },
  {
   "cell_type": "code",
   "execution_count": 9,
   "metadata": {},
   "outputs": [
    {
     "data": {
      "text/html": [
       "<div>\n",
       "<style scoped>\n",
       "    .dataframe tbody tr th:only-of-type {\n",
       "        vertical-align: middle;\n",
       "    }\n",
       "\n",
       "    .dataframe tbody tr th {\n",
       "        vertical-align: top;\n",
       "    }\n",
       "\n",
       "    .dataframe thead th {\n",
       "        text-align: right;\n",
       "    }\n",
       "</style>\n",
       "<table border=\"1\" class=\"dataframe\">\n",
       "  <thead>\n",
       "    <tr style=\"text-align: right;\">\n",
       "      <th></th>\n",
       "      <th>id</th>\n",
       "      <th>lon</th>\n",
       "      <th>lat</th>\n",
       "    </tr>\n",
       "  </thead>\n",
       "  <tbody>\n",
       "    <tr>\n",
       "      <th>count</th>\n",
       "      <td>26294.000000</td>\n",
       "      <td>26294.000000</td>\n",
       "      <td>26294.000000</td>\n",
       "    </tr>\n",
       "    <tr>\n",
       "      <th>mean</th>\n",
       "      <td>1185.620940</td>\n",
       "      <td>-117.878634</td>\n",
       "      <td>33.726549</td>\n",
       "    </tr>\n",
       "    <tr>\n",
       "      <th>std</th>\n",
       "      <td>2266.328306</td>\n",
       "      <td>0.096669</td>\n",
       "      <td>0.105041</td>\n",
       "    </tr>\n",
       "    <tr>\n",
       "      <th>min</th>\n",
       "      <td>11.000000</td>\n",
       "      <td>-118.105640</td>\n",
       "      <td>33.422000</td>\n",
       "    </tr>\n",
       "    <tr>\n",
       "      <th>25%</th>\n",
       "      <td>89.000000</td>\n",
       "      <td>-117.929750</td>\n",
       "      <td>33.623655</td>\n",
       "    </tr>\n",
       "    <tr>\n",
       "      <th>50%</th>\n",
       "      <td>471.000000</td>\n",
       "      <td>-117.898410</td>\n",
       "      <td>33.723160</td>\n",
       "    </tr>\n",
       "    <tr>\n",
       "      <th>75%</th>\n",
       "      <td>1725.000000</td>\n",
       "      <td>-117.833470</td>\n",
       "      <td>33.813097</td>\n",
       "    </tr>\n",
       "    <tr>\n",
       "      <th>max</th>\n",
       "      <td>17282.000000</td>\n",
       "      <td>-117.572240</td>\n",
       "      <td>33.944970</td>\n",
       "    </tr>\n",
       "  </tbody>\n",
       "</table>\n",
       "</div>"
      ],
      "text/plain": [
       "                 id           lon           lat\n",
       "count  26294.000000  26294.000000  26294.000000\n",
       "mean    1185.620940   -117.878634     33.726549\n",
       "std     2266.328306      0.096669      0.105041\n",
       "min       11.000000   -118.105640     33.422000\n",
       "25%       89.000000   -117.929750     33.623655\n",
       "50%      471.000000   -117.898410     33.723160\n",
       "75%     1725.000000   -117.833470     33.813097\n",
       "max    17282.000000   -117.572240     33.944970"
      ]
     },
     "execution_count": 9,
     "metadata": {},
     "output_type": "execute_result"
    }
   ],
   "source": [
    "data.describe()"
   ]
  },
  {
   "cell_type": "code",
   "execution_count": 10,
   "metadata": {},
   "outputs": [],
   "source": [
    "# compute log pdf values over grid\n",
    "delta = 0.01\n",
    "x = np.arange(-118.2, -117.5, delta)  # longitude\n",
    "y = np.arange(33.4, 34, delta)  # latitude\n",
    "X, Y = np.meshgrid(x, y)\n",
    "pts = np.vstack([X.ravel(), Y.ravel()]).T\n",
    "z = np.apply_along_axis(kde_pop.log_pdf, 1, pts).reshape((y.shape[0], x.shape[0])).T\n",
    "\n",
    "# filepath = os.path.join(\"..\", \"data\", \"kde_pop_k10_month0a_month1b_n50.npy\")\n",
    "# filepath = os.path.join(\"..\", \"data\", \"kde_pop_k5_month0a_month1b_n50.npy\")\n",
    "# np.save(filepath, z)\n",
    "# z = np.load(filepath)"
   ]
  },
  {
   "cell_type": "code",
   "execution_count": 11,
   "metadata": {},
   "outputs": [],
   "source": [
    "# save pandas to pickle to debug more later\n",
    "filepath = os.path.join(\"..\", \"data\", \"kde_pop_k5_month0a_month1b_n50.pkl\")\n",
    "# out = pd.DataFrame({'lon': pts[:,0], 'lat': pts[:,1], 'lpdf': z})\n",
    "# out.to_pickle(filepath)\n",
    "out = pd.read_pickle(filepath)"
   ]
  },
  {
   "cell_type": "code",
   "execution_count": 12,
   "metadata": {},
   "outputs": [
    {
     "data": {
      "text/html": [
       "<script type=\"text/javascript\">window.PlotlyConfig = {MathJaxConfig: 'local'};</script><script type=\"text/javascript\">if (window.MathJax) {MathJax.Hub.Config({SVG: {font: \"STIX-Web\"}});}</script><script>requirejs.config({paths: { 'plotly': ['https://cdn.plot.ly/plotly-latest.min']},});if(!window._Plotly) {require(['plotly'],function(plotly) {window._Plotly=plotly;});}</script>"
      ],
      "text/vnd.plotly.v1+html": [
       "<script type=\"text/javascript\">window.PlotlyConfig = {MathJaxConfig: 'local'};</script><script type=\"text/javascript\">if (window.MathJax) {MathJax.Hub.Config({SVG: {font: \"STIX-Web\"}});}</script><script>requirejs.config({paths: { 'plotly': ['https://cdn.plot.ly/plotly-latest.min']},});if(!window._Plotly) {require(['plotly'],function(plotly) {window._Plotly=plotly;});}</script>"
      ]
     },
     "metadata": {},
     "output_type": "display_data"
    },
    {
     "ename": "NameError",
     "evalue": "name 'tmp' is not defined",
     "output_type": "error",
     "traceback": [
      "\u001b[0;31m---------------------------------------------------------------------------\u001b[0m",
      "\u001b[0;31mNameError\u001b[0m                                 Traceback (most recent call last)",
      "\u001b[0;32m<ipython-input-12-b0c7f3cabced>\u001b[0m in \u001b[0;36m<module>\u001b[0;34m\u001b[0m\n\u001b[1;32m      8\u001b[0m heat = [\n\u001b[1;32m      9\u001b[0m     go.Heatmap(\n\u001b[0;32m---> 10\u001b[0;31m         \u001b[0mz\u001b[0m \u001b[0;34m=\u001b[0m \u001b[0mtmp\u001b[0m\u001b[0;34m,\u001b[0m\u001b[0;34m\u001b[0m\u001b[0m\n\u001b[0m\u001b[1;32m     11\u001b[0m         \u001b[0mx\u001b[0m \u001b[0;34m=\u001b[0m \u001b[0mx\u001b[0m\u001b[0;34m,\u001b[0m\u001b[0;34m\u001b[0m\u001b[0m\n\u001b[1;32m     12\u001b[0m         \u001b[0my\u001b[0m \u001b[0;34m=\u001b[0m \u001b[0my\u001b[0m\u001b[0;34m,\u001b[0m\u001b[0;34m\u001b[0m\u001b[0m\n",
      "\u001b[0;31mNameError\u001b[0m: name 'tmp' is not defined"
     ]
    }
   ],
   "source": [
    "import plotly\n",
    "from plotly.offline import download_plotlyjs, init_notebook_mode, plot, iplot\n",
    "import plotly.graph_objs as go\n",
    "from scipy.ndimage import gaussian_filter\n",
    "init_notebook_mode(connected=True)\n",
    "\n",
    "# create the contour plot\n",
    "heat = [\n",
    "    go.Heatmap(\n",
    "        z = tmp,\n",
    "        x = x,\n",
    "        y = y,\n",
    "        colorscale=[\n",
    "            [1.0, 'rgb(165,0,38)'], \n",
    "            [0.8888888888888888, 'rgb(215,48,39)'], \n",
    "            [0.7777777777777778, 'rgb(244,109,67)'], \n",
    "            [0.6666666666666666, 'rgb(253,174,97)'], \n",
    "            [0.5555555555555556, 'rgb(254,224,144)'], \n",
    "            [0.4444444444444444, 'rgb(224,243,248)'], \n",
    "            [0.3333333333333333, 'rgb(171,217,233)'], \n",
    "            [0.2222222222222222, 'rgb(116,173,209)'], \n",
    "            [0.1111111111111111, 'rgb(69,117,180)'], \n",
    "            [0.0, 'rgb(49,54,149)']\n",
    "        ]\n",
    "    )\n",
    "]\n",
    "\n",
    "layout = go.Layout()\n",
    "\n",
    "fig = go.Figure(data=heat, layout=layout)\n",
    "iplot(fig, show_link=False)"
   ]
  },
  {
   "cell_type": "code",
   "execution_count": null,
   "metadata": {},
   "outputs": [],
   "source": []
  }
 ],
 "metadata": {
  "kernelspec": {
   "display_name": "spatial-assocr",
   "language": "python",
   "name": "spatial-assocr"
  },
  "language_info": {
   "codemirror_mode": {
    "name": "ipython",
    "version": 3
   },
   "file_extension": ".py",
   "mimetype": "text/x-python",
   "name": "python",
   "nbconvert_exporter": "python",
   "pygments_lexer": "ipython3",
   "version": "3.6.6"
  }
 },
 "nbformat": 4,
 "nbformat_minor": 2
}
