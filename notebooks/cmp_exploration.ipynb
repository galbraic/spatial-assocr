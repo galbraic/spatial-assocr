{
 "cells": [
  {
   "cell_type": "markdown",
   "metadata": {},
   "source": [
    "# Spatial Coincidental Match Probability Exploration"
   ]
  },
  {
   "cell_type": "code",
   "execution_count": 1,
   "metadata": {
    "scrolled": true
   },
   "outputs": [
    {
     "data": {
      "text/html": [
       "<script type=\"text/javascript\">window.PlotlyConfig = {MathJaxConfig: 'local'};</script><script type=\"text/javascript\">if (window.MathJax) {MathJax.Hub.Config({SVG: {font: \"STIX-Web\"}});}</script><script>requirejs.config({paths: { 'plotly': ['https://cdn.plot.ly/plotly-latest.min']},});if(!window._Plotly) {require(['plotly'],function(plotly) {window._Plotly=plotly;});}</script>"
      ],
      "text/vnd.plotly.v1+html": [
       "<script type=\"text/javascript\">window.PlotlyConfig = {MathJaxConfig: 'local'};</script><script type=\"text/javascript\">if (window.MathJax) {MathJax.Hub.Config({SVG: {font: \"STIX-Web\"}});}</script><script>requirejs.config({paths: { 'plotly': ['https://cdn.plot.ly/plotly-latest.min']},});if(!window._Plotly) {require(['plotly'],function(plotly) {window._Plotly=plotly;});}</script>"
      ]
     },
     "metadata": {},
     "output_type": "display_data"
    }
   ],
   "source": [
    "import numpy as np\n",
    "import pandas as pd\n",
    "import os\n",
    "import sys\n",
    "import pickle as pkl\n",
    "import matplotlib.pyplot as plt\n",
    "import plotly\n",
    "from plotly.offline import download_plotlyjs, init_notebook_mode, plot, iplot\n",
    "import plotly.graph_objs as go\n",
    "init_notebook_mode(connected=True)\n",
    "\n",
    "sys.path.append('/Users/cmg/dev/spatial-assocr/kde')\n",
    "# from location_project import kde_2d  # adaptive bw KDE \n",
    "%load_ext autoreload\n",
    "%autoreload 2 # auto reload changes to kde code for faster prototyping\n",
    "\n",
    "%matplotlib inline\n",
    "sys.setrecursionlimit(10000)"
   ]
  },
  {
   "cell_type": "markdown",
   "metadata": {},
   "source": [
    "## Load & format filtered data"
   ]
  },
  {
   "cell_type": "code",
   "execution_count": 2,
   "metadata": {
    "scrolled": true
   },
   "outputs": [
    {
     "data": {
      "text/html": [
       "<div>\n",
       "<style scoped>\n",
       "    .dataframe tbody tr th:only-of-type {\n",
       "        vertical-align: middle;\n",
       "    }\n",
       "\n",
       "    .dataframe tbody tr th {\n",
       "        vertical-align: top;\n",
       "    }\n",
       "\n",
       "    .dataframe thead th {\n",
       "        text-align: right;\n",
       "    }\n",
       "</style>\n",
       "<table border=\"1\" class=\"dataframe\">\n",
       "  <thead>\n",
       "    <tr style=\"text-align: right;\">\n",
       "      <th></th>\n",
       "      <th>id</th>\n",
       "      <th>m</th>\n",
       "      <th>lon</th>\n",
       "      <th>lat</th>\n",
       "    </tr>\n",
       "  </thead>\n",
       "  <tbody>\n",
       "    <tr>\n",
       "      <th>0</th>\n",
       "      <td>11.0</td>\n",
       "      <td>a</td>\n",
       "      <td>-117.92895</td>\n",
       "      <td>33.61891</td>\n",
       "    </tr>\n",
       "    <tr>\n",
       "      <th>1</th>\n",
       "      <td>11.0</td>\n",
       "      <td>a</td>\n",
       "      <td>-117.67199</td>\n",
       "      <td>33.60002</td>\n",
       "    </tr>\n",
       "    <tr>\n",
       "      <th>2</th>\n",
       "      <td>11.0</td>\n",
       "      <td>a</td>\n",
       "      <td>-117.92895</td>\n",
       "      <td>33.61891</td>\n",
       "    </tr>\n",
       "    <tr>\n",
       "      <th>3</th>\n",
       "      <td>11.0</td>\n",
       "      <td>a</td>\n",
       "      <td>-117.67199</td>\n",
       "      <td>33.60002</td>\n",
       "    </tr>\n",
       "    <tr>\n",
       "      <th>4</th>\n",
       "      <td>11.0</td>\n",
       "      <td>a</td>\n",
       "      <td>-117.67199</td>\n",
       "      <td>33.60002</td>\n",
       "    </tr>\n",
       "  </tbody>\n",
       "</table>\n",
       "</div>"
      ],
      "text/plain": [
       "     id  m        lon       lat\n",
       "0  11.0  a -117.92895  33.61891\n",
       "1  11.0  a -117.67199  33.60002\n",
       "2  11.0  a -117.92895  33.61891\n",
       "3  11.0  a -117.67199  33.60002\n",
       "4  11.0  a -117.67199  33.60002"
      ]
     },
     "execution_count": 2,
     "metadata": {},
     "output_type": "execute_result"
    }
   ],
   "source": [
    "# read in the filtered data\n",
    "filepath = os.path.join(\"..\", \"data\", \"mpp_month0a_month1b_n50.csv\")\n",
    "mpp = pd.read_csv(filepath)\n",
    "mpp.head()"
   ]
  },
  {
   "cell_type": "code",
   "execution_count": 3,
   "metadata": {
    "scrolled": true
   },
   "outputs": [
    {
     "data": {
      "text/html": [
       "<div>\n",
       "<style scoped>\n",
       "    .dataframe tbody tr th:only-of-type {\n",
       "        vertical-align: middle;\n",
       "    }\n",
       "\n",
       "    .dataframe tbody tr th {\n",
       "        vertical-align: top;\n",
       "    }\n",
       "\n",
       "    .dataframe thead th {\n",
       "        text-align: right;\n",
       "    }\n",
       "</style>\n",
       "<table border=\"1\" class=\"dataframe\">\n",
       "  <thead>\n",
       "    <tr style=\"text-align: right;\">\n",
       "      <th></th>\n",
       "      <th>id</th>\n",
       "      <th>lon</th>\n",
       "      <th>lat</th>\n",
       "    </tr>\n",
       "  </thead>\n",
       "  <tbody>\n",
       "    <tr>\n",
       "      <th>0</th>\n",
       "      <td>11.0</td>\n",
       "      <td>-117.92895</td>\n",
       "      <td>33.61891</td>\n",
       "    </tr>\n",
       "    <tr>\n",
       "      <th>1</th>\n",
       "      <td>11.0</td>\n",
       "      <td>-117.67199</td>\n",
       "      <td>33.60002</td>\n",
       "    </tr>\n",
       "    <tr>\n",
       "      <th>2</th>\n",
       "      <td>11.0</td>\n",
       "      <td>-117.92895</td>\n",
       "      <td>33.61891</td>\n",
       "    </tr>\n",
       "    <tr>\n",
       "      <th>3</th>\n",
       "      <td>11.0</td>\n",
       "      <td>-117.67199</td>\n",
       "      <td>33.60002</td>\n",
       "    </tr>\n",
       "    <tr>\n",
       "      <th>4</th>\n",
       "      <td>11.0</td>\n",
       "      <td>-117.67199</td>\n",
       "      <td>33.60002</td>\n",
       "    </tr>\n",
       "  </tbody>\n",
       "</table>\n",
       "</div>"
      ],
      "text/plain": [
       "     id        lon       lat\n",
       "0  11.0 -117.92895  33.61891\n",
       "1  11.0 -117.67199  33.60002\n",
       "2  11.0 -117.92895  33.61891\n",
       "3  11.0 -117.67199  33.60002\n",
       "4  11.0 -117.67199  33.60002"
      ]
     },
     "execution_count": 3,
     "metadata": {},
     "output_type": "execute_result"
    }
   ],
   "source": [
    "# reorder the columns... kde_2d expects [id, lon, lat]\n",
    "data = mpp[['id', 'lon', 'lat']]\n",
    "data.head()"
   ]
  },
  {
   "cell_type": "code",
   "execution_count": 4,
   "metadata": {
    "scrolled": true
   },
   "outputs": [
    {
     "data": {
      "text/plain": [
       "array([[ 1.1000000e+01, -1.1792895e+02,  3.3618910e+01],\n",
       "       [ 1.1000000e+01, -1.1767199e+02,  3.3600020e+01],\n",
       "       [ 1.1000000e+01, -1.1792895e+02,  3.3618910e+01],\n",
       "       ...,\n",
       "       [ 1.7282000e+04, -1.1795213e+02,  3.3684750e+01],\n",
       "       [ 1.7282000e+04, -1.1795213e+02,  3.3684750e+01],\n",
       "       [ 1.7282000e+04, -1.1795197e+02,  3.3684750e+01]])"
      ]
     },
     "execution_count": 4,
     "metadata": {},
     "output_type": "execute_result"
    }
   ],
   "source": [
    "# convert the pandas data frame to array of arrays\n",
    "# i.e., <np.array [[user_id, lon, lat], ... ] >\n",
    "df = data.values\n",
    "df"
   ]
  },
  {
   "cell_type": "markdown",
   "metadata": {},
   "source": [
    "## New code for adaptive bw kde"
   ]
  },
  {
   "cell_type": "code",
   "execution_count": 5,
   "metadata": {},
   "outputs": [],
   "source": [
    "from scipy.special import logsumexp\n",
    "from scipy.spatial import KDTree\n",
    "from scipy.stats import norm\n",
    "\n",
    "KM_TO_LON = 0.010615\n",
    "KM_TO_LAT = 0.008989\n",
    "\n",
    "def learn_nearest_neighbors_bandwidth(\n",
    "        sample_points, k=5, lon_to_km=KM_TO_LON, lat_to_km=KM_TO_LAT, min_bw=0.01\n",
    "    ):\n",
    "    \"\"\"\n",
    "    Learning the bandwidth\n",
    "    :param data:\n",
    "    :param k:\n",
    "    :return:\n",
    "    \"\"\"\n",
    "    k = np.min([k, sample_points.shape[0] - 1])\n",
    "\n",
    "    bandwidths = []\n",
    "\n",
    "    anchor_point = np.amin(sample_points, 0)\n",
    "    dists = sample_points - anchor_point\n",
    "    \n",
    "    dists[:, 0] /= lon_to_km\n",
    "    dists[:, 1] /= lat_to_km\n",
    "\n",
    "    dists +=  np.random.random(dists.shape) * 0.0000001\n",
    "    \n",
    "    # Building the k-d tree\n",
    "    tree = KDTree(dists, leafsize=500)\n",
    "\n",
    "    for i in range(dists.shape[0]):\n",
    "        (neighbors_dists, neighbors_indexes) = tree.query(dists[i, :], k + 1)\n",
    "\n",
    "        if neighbors_dists[-1] <= min_bw:\n",
    "            bandwidths.append(min_bw)  # bandwidth can't be less than 1 meter\n",
    "        else:\n",
    "            bandwidths.append(neighbors_dists[-1])\n",
    "\n",
    "    print('Done training bandwidths')\n",
    "    return np.array(bandwidths)\n",
    "\n",
    "\n",
    "def log_pdf(query_point, kde_data):\n",
    "    \"\"\"\n",
    "     INPUT:\n",
    "    -------\n",
    "        :param query_point:\n",
    "        :param sample_point:\n",
    "\n",
    "     OUTPUT:\n",
    "    --------\n",
    "        1. log_pdf: <float> The log pdf value\n",
    "    \"\"\"\n",
    "\n",
    "    x_dist = query_point[0] - kde_data[:, 0]\n",
    "    y_dist = query_point[1] - kde_data[:, 1]\n",
    "    log_pdf_x = norm.logpdf(x_dist, loc=0, scale=kde_data[:, 2]*KM_TO_LON)\n",
    "    log_pdf_y = norm.logpdf(y_dist, loc=0, scale=kde_data[:, 2]*KM_TO_LAT)\n",
    "    \n",
    "    return logsumexp(log_pdf_x + log_pdf_y) #- np.log( kde_data.shape[0] )\n",
    "\n",
    "\n",
    "##### USAGE - from Moshe\n",
    "# points = mpp.loc[:, ['lon', 'lat']].values\n",
    "# bw_pop = learn_nearest_neighbors_bandwidth(points)\n",
    "# kde_data = np.hstack([points, np.atleast_2d(bw_pop).T])\n",
    "# delta = 0.01\n",
    "# x = np.arange(mpp.lon.min(), mpp.lon.max(), delta)\n",
    "# y = np.arange(mpp.lat.min(), mpp.lat.max(), delta)\n",
    "\n",
    "# m = np.zeros([y.shape[0], x.shape[0]])\n",
    "# for i, lon in enumerate(x):\n",
    "#   for j, lat in enumerate(y):\n",
    "#       m[j, i] = log_pdf([lon, lat], kde_data)"
   ]
  },
  {
   "cell_type": "markdown",
   "metadata": {},
   "source": [
    "## Fit an adaptive bandwidth KDE to the data\n",
    "Do this for the entire sample (i.e., a population model). "
   ]
  },
  {
   "cell_type": "code",
   "execution_count": 6,
   "metadata": {
    "scrolled": true
   },
   "outputs": [
    {
     "name": "stdout",
     "output_type": "stream",
     "text": [
      "Done training bandwidths\n"
     ]
    },
    {
     "data": {
      "text/plain": [
       "array([[-1.1792895e+02,  3.3618910e+01,  1.0000000e-02],\n",
       "       [-1.1767199e+02,  3.3600020e+01,  1.0000000e-02],\n",
       "       [-1.1792895e+02,  3.3618910e+01,  1.0000000e-02],\n",
       "       ...,\n",
       "       [-1.1795213e+02,  3.3684750e+01,  1.0000000e-02],\n",
       "       [-1.1795213e+02,  3.3684750e+01,  1.0000000e-02],\n",
       "       [-1.1795197e+02,  3.3684750e+01,  1.0000000e-02]])"
      ]
     },
     "execution_count": 6,
     "metadata": {},
     "output_type": "execute_result"
    }
   ],
   "source": [
    "# learn the bandwidth for each point & save to file (it's expensive)\n",
    "# filepath = os.path.join(\"..\", \"data\", \"bw_pop_k10_month0a_month1b_n50.npy\")\n",
    "filepath = os.path.join(\"..\", \"data\", \"bw_pop_k5_month0a_month1b_n50.npy\")\n",
    "bw_pop = learn_nearest_neighbors_bandwidth(df[:, 1:3], k=5, min_bw=0.01)\n",
    "np.save(filepath, bw_pop)\n",
    "bw_pop = np.load(filepath)\n",
    "\n",
    "\n",
    "kde_data = np.hstack([df[:, 1:3], np.atleast_2d(bw_pop).T])\n",
    "kde_data"
   ]
  },
  {
   "cell_type": "code",
   "execution_count": 7,
   "metadata": {
    "scrolled": true
   },
   "outputs": [],
   "source": [
    "# format the data for the KDE class; equally weight points\n",
    "# <np.array [[user_id, lon, lat, bw, weight], ... ] >\n",
    "# pop = np.append(df, np.reshape(bw_pop, (len(df), 1)), 1)\n",
    "# pop = np.append(pop, np.ones((len(df), 1)), 1)\n",
    "\n",
    "# # create the KDE\n",
    "# kde_pop = kde_2d.KDE(pop)"
   ]
  },
  {
   "cell_type": "code",
   "execution_count": 8,
   "metadata": {
    "scrolled": true
   },
   "outputs": [],
   "source": [
    "# compute the log pdf for a given point\n",
    "# < np.array [lon, lat] >\n",
    "# kde_pop.log_pdf(df[0][1:])"
   ]
  },
  {
   "cell_type": "code",
   "execution_count": null,
   "metadata": {
    "scrolled": true
   },
   "outputs": [],
   "source": [
    "# sample from the KDE\n",
    "# must pass in the data to do so b/c its a nonparametric model\n",
    "# kde_pop.sample_from_kde(pop)"
   ]
  },
  {
   "cell_type": "markdown",
   "metadata": {},
   "source": [
    "### Contour plot of the density"
   ]
  },
  {
   "cell_type": "code",
   "execution_count": null,
   "metadata": {
    "scrolled": true
   },
   "outputs": [],
   "source": [
    "# compute log pdf values over grid\n",
    "delta = 0.01\n",
    "x = np.arange(-118.2, -117.5, delta)  # longitude\n",
    "y = np.arange(33.4, 34, delta)  # latitude\n",
    "X, Y = np.meshgrid(x, y)\n",
    "pts = np.vstack([X.ravel(), Y.ravel()]).T\n",
    "z = np.apply_along_axis(log_pdf, 1, pts, kde_data=kde_data)\n",
    "\n",
    "# filepath = os.path.join(\"..\", \"data\", \"kde_pop_k10_month0a_month1b_n50.npy\")\n",
    "# filepath = os.path.join(\"..\", \"data\", \"kde_pop_k5_month0a_month1b_n50.npy\")\n",
    "# np.save(filepath, z)\n",
    "# z = np.load(filepath)"
   ]
  },
  {
   "cell_type": "code",
   "execution_count": null,
   "metadata": {
    "scrolled": true
   },
   "outputs": [],
   "source": [
    "# save pandas to pickle to debug more later\n",
    "filepath = os.path.join(\"..\", \"data\", \"kde_pop_k5_month0a_month1b_n50.pkl\")\n",
    "out = pd.DataFrame({'lon': pts[:,0], 'lat': pts[:,1], 'lpdf': z})\n",
    "# out.to_pickle(filepath)\n",
    "# out = pd.read_pickle(filepath)\n",
    "out.head()"
   ]
  },
  {
   "cell_type": "code",
   "execution_count": null,
   "metadata": {
    "scrolled": false
   },
   "outputs": [],
   "source": [
    "# create the contour plot\n",
    "heat = [\n",
    "    go.Heatmap(\n",
    "        z = out.lpdf,\n",
    "        x = out.lon,\n",
    "        y = out.lat,\n",
    "        colorscale=[\n",
    "            [1.0, 'rgb(165,0,38)'], \n",
    "            [0.8888888888888888, 'rgb(215,48,39)'], \n",
    "            [0.7777777777777778, 'rgb(244,109,67)'], \n",
    "            [0.6666666666666666, 'rgb(253,174,97)'], \n",
    "            [0.5555555555555556, 'rgb(254,224,144)'], \n",
    "            [0.4444444444444444, 'rgb(224,243,248)'], \n",
    "            [0.3333333333333333, 'rgb(171,217,233)'], \n",
    "            [0.2222222222222222, 'rgb(116,173,209)'], \n",
    "            [0.1111111111111111, 'rgb(69,117,180)'], \n",
    "            [0.0, 'rgb(49,54,149)']\n",
    "        ]\n",
    "    )\n",
    "]\n",
    "\n",
    "layout = go.Layout()\n",
    "\n",
    "fig = go.Figure(data=heat, layout=layout)\n",
    "iplot(fig, show_link=False)"
   ]
  }
 ],
 "metadata": {
  "kernelspec": {
   "display_name": "spatial-assocr",
   "language": "python",
   "name": "spatial-assocr"
  },
  "language_info": {
   "codemirror_mode": {
    "name": "ipython",
    "version": 3
   },
   "file_extension": ".py",
   "mimetype": "text/x-python",
   "name": "python",
   "nbconvert_exporter": "python",
   "pygments_lexer": "ipython3",
   "version": "3.6.6"
  }
 },
 "nbformat": 4,
 "nbformat_minor": 2
}
